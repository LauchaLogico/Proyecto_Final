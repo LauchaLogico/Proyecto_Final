{
 "cells": [
  {
   "cell_type": "code",
   "execution_count": 1,
   "metadata": {},
   "outputs": [],
   "source": [
    "import pandas as pd"
   ]
  },
  {
   "cell_type": "code",
   "execution_count": 2,
   "metadata": {},
   "outputs": [],
   "source": [
    "df_review = pd.read_csv(r'C:\\GitHub\\Bases\\Grupal_Henry\\ETL\\etl_review.csv', encoding='utf-8')"
   ]
  },
  {
   "cell_type": "code",
   "execution_count": 3,
   "metadata": {},
   "outputs": [
    {
     "data": {
      "application/vnd.microsoft.datawrangler.viewer.v0+json": {
       "columns": [
        {
         "name": "index",
         "rawType": "int64",
         "type": "integer"
        },
        {
         "name": "user_id",
         "rawType": "object",
         "type": "string"
        },
        {
         "name": "business_id",
         "rawType": "object",
         "type": "string"
        },
        {
         "name": "stars",
         "rawType": "float64",
         "type": "float"
        },
        {
         "name": "text",
         "rawType": "object",
         "type": "string"
        },
        {
         "name": "año",
         "rawType": "int64",
         "type": "integer"
        },
        {
         "name": "mes",
         "rawType": "int64",
         "type": "integer"
        }
       ],
       "conversionMethod": "pd.DataFrame",
       "ref": "52bcd524-7ece-4c05-a9aa-f0d169263232",
       "rows": [
        [
         "0",
         "mh_-eMZ6K5RLWhZyISBhwA",
         "XQfwVwDr-v0ZS3_CbbE5Xw",
         "3.0",
         "If you decide to eat here, just be aware it is going to take about 2 hours from beginning to end. We have tried it multiple times, because I want to like it! I have been to it's other locations in NJ and never had a bad experience. \n\nThe food is good, but it takes a very long time to come out. The waitstaff is very young, but usually pleasant. We have just had too many experiences where we spent way too long waiting. We usually opt for another diner or restaurant on the weekends, in order to be done quicker.",
         "2018",
         "7"
        ],
        [
         "1",
         "OyoGAe7OKpv6SyGZT5g77Q",
         "7ATYjTIgM3jUlt4UM3IypQ",
         "5.0",
         "I've taken a lot of spin classes over the years, and nothing compares to the classes at Body Cycle. From the nice, clean space and amazing bikes, to the welcoming and motivating instructors, every class is a top notch work out.\n\nFor anyone who struggles to fit workouts in, the online scheduling system makes it easy to plan ahead (and there's no need to line up way in advanced like many gyms make you do).\n\nThere is no way I can write this review without giving Russell, the owner of Body Cycle, a shout out. Russell's passion for fitness and cycling is so evident, as is his desire for all of his clients to succeed. He is always dropping in to classes to check in/provide encouragement, and is open to ideas and recommendations from anyone. Russell always wears a smile on his face, even when he's kicking your butt in class!",
         "2012",
         "1"
        ],
        [
         "2",
         "8g_iMtfSiwikVnbP2etR0A",
         "YjUWPpI6HXG530lwP-fb2A",
         "3.0",
         "Family diner. Had the buffet. Eclectic assortment: a large chicken leg, fried jalape√±o, tamale, two rolled grape leaves, fresh melon. All good. Lots of Mexican choices there. Also has a menu with breakfast served all day long. Friendly, attentive staff. Good place for a casual relaxed meal with no expectations. Next to the Clarion Hotel.",
         "2014",
         "2"
        ],
        [
         "3",
         "_7bHUi9Uuf5__HHc_Q8guQ",
         "kxX2SOes4o-D3ZQBkiMRfA",
         "5.0",
         "Wow!  Yummy, different,  delicious.   Our favorite is the lamb curry and korma.  With 10 different kinds of naan!!!  Don't let the outside deter you (because we almost changed our minds)...go in and try something new!   You'll be glad you did!",
         "2015",
         "1"
        ],
        [
         "4",
         "bcjbaE6dDog4jkNY91ncLQ",
         "e4Vwtrqf-wpJfwesgvdgxQ",
         "4.0",
         "Cute interior and owner (?) gave us tour of upcoming patio/rooftop area which will be great on beautiful days like today. Cheese curds were very good and very filling. Really like that sandwiches come w salad, esp after eating too many curds! Had the onion, gruyere, tomato sandwich. Wasn't too much cheese which I liked. Needed something else...pepper jelly maybe. Would like to see more menu options added such as salads w fun cheeses. Lots of beer and wine as well as limited cocktails. Next time I will try one of the draft wines.",
         "2017",
         "1"
        ],
        [
         "5",
         "eUta8W_HdHMXPzLBBZhL1A",
         "04UD14gamNjLY0IDYVhHJg",
         "1.0",
         "I am a long term frequent customer of this establishment. I just went in to order take out (3 apps) and was told they're too busy to do it. Really? The place is maybe half full at best. Does your dick reach your ass? Yes? Go fuck yourself! I'm a frequent customer AND great tipper. Glad that Kanella just opened. NEVER going back to dmitris!",
         "2015",
         "9"
        ],
        [
         "6",
         "r3zeYsv1XFBRA4dJpL78cw",
         "gmjsEdUsKpj9Xxu6pdjH0g",
         "5.0",
         "Loved this tour! I grabbed a groupon and the price was great. It was the perfect way to explore New Orleans for someone who'd never been there before and didn't know a lot about the history of the city. Our tour guide had tons of interesting tidbits about the city, and I really enjoyed the experience. Highly recommended tour. I actually thought we were just going to tour through the cemetery, but she took us around the French Quarter for the first hour, and the cemetery for the second half of the tour. You'll meet up in front of a grocery store (seems strange at first, but it's not terribly hard to find, and it'll give you a chance to get some water), and you'll stop at a visitor center part way through the tour for a bathroom break if needed. This tour was one of my favorite parts of my trip!",
         "2015",
         "1"
        ],
        [
         "7",
         "yfFzsLmaWF2d4Sr0UNbBgg",
         "LHSTtnW3YHCeUkRDGyJOyw",
         "5.0",
         "Amazingly amazing wings and homemade bleu cheese. Had the ribeye: tender, perfectly prepared, delicious. Nice selection of craft beers. Would DEFINITELY recommend checking out this hidden gem.",
         "2015",
         "8"
        ],
        [
         "8",
         "wSTuiTk-sKNdcFyprzZAjg",
         "B5XSoSG3SfvQGtKEGQ1tSQ",
         "3.0",
         "This easter instead of going to Lopez Lake we went to Los Padres National Forest which is really pretty but if you go to white rock the staff needs to cut down all the dead grass that invades the rock and the water. I would wish the staff would also clean or get rid of the dead grass that's also living by the water. The water is really green and dirty. Los padres national forest staff need to work hard to maintain this forest looking pretty and not like a dumpster. Even Cachuma lake looks like they put a bit more effort.",
         "2016",
         "3"
        ],
        [
         "9",
         "59MxRhNVhU9MYndMkz0wtw",
         "gebiRewfieSdtt17PTW6Zg",
         "3.0",
         "Had a party of 6 here for hibachi. Our waitress brought our separate sushi orders on one plate so we couldn't really tell who's was who's and forgot several items on an order. I understand making mistakes but the restaraunt was really quiet so we were kind of surprised. Usually hibachi is a fun lively experience and our  cook  said maybe three words, but he cooked very well his name was Francisco. Service was fishy, food was pretty good, and im hoping it was just an off night here. But for the money I wouldn't go back.",
         "2016",
         "7"
        ],
        [
         "10",
         "1WHRWwQmZOZDAhp2Qyny4g",
         "uMvVYRgGNXf5boolA9HXTw",
         "5.0",
         "My experience with Shalimar was nothing but wonderful. \nI wanted to get my engagement ring sized and was told over the phone that it could probably be done within the day. \nWhen I brought it by, the team confirmed that the jeweler would be able to accommodate my same-day request and that it would be around $40 (simple band, decrease by three full sizes).\nI checked my size one more time, confirmed, and left to let them do their thing.\nWhen I came to pick up later that afternoon, the ring was too small. It's very important to note that Shalimar sized the ring perfectly, but that I made a mistake and should've gone up a half-size.\nThe Shalimar group were completely understanding and accommodating, even resizing my ring back up and getting it back to me within an hour at no charge! Even though it was my mistake!\nThe associates' attitudes in dealing with what was a pretty embarrassing situation instantly earned my satisfaction and loyalty as a customer. Very grateful for such a wonderful experience.",
         "2015",
         "6"
        ],
        [
         "11",
         "ZbqSHbgCjzVAqaa7NKWn5A",
         "EQ-TZ2eeD_E0BHuvoaeG5Q",
         "4.0",
         "Locals recommended Milktooth, and it's an amazing jewel of Indianapolis. I'm glade I had the chance to experience this.",
         "2015",
         "8"
        ],
        [
         "12",
         "9OAtfnWag-ajVxRbUTGIyg",
         "lj-E32x9_FA7GmUrBGBEWg",
         "4.0",
         "Love going here for happy hour or dinner!  Great patio with fans to beat the StL heat!   Also...very accomodating at this location.  I like the Veal Milanese but with mixed greens instead of pasta!  they'll modify the menu to suit your taste!",
         "2014",
         "6"
        ],
        [
         "13",
         "smOvOajNG0lS4Pq7d8g4JQ",
         "RZtGWDLCAtuipwaZ-UfjmQ",
         "4.0",
         "Good food--loved the gnocchi with marinara\nthe baked eggplant appetizer was very good too\n\nThe service was very slow, but despite this, I'd go back, the food is just that good",
         "2009",
         "10"
        ],
        [
         "14",
         "4Uh27DgGzsp6PqrH913giQ",
         "otQS34_MymijPTdNBoBdCw",
         "4.0",
         "The bun makes the Sonoran Dog. It's like a snuggie for the pup. A first, it seems ridiculous and almost like it's going to be too much, exactly like everyone's favorite blanket with sleeves. Too much softness, too much smush, too indulgent.  Wrong. It's warm, soft, chewy, fragrant, and it succeeds where other famed Sonoran Dogs fail. \n\nThe hot dog itself is flavorful, but I would prefer that it or the bacon have a little more bite or snap to better hold their own against the dominant mustard and onions. \n\nI'm with the masses on the carne asada caramelo. Excellent tortilla, salty, melty cheese, and great carne. \n\nSuper cheap and you can drive through.",
         "2011",
         "10"
        ],
        [
         "15",
         "1C2lxzUo1Hyye4RFIXly3g",
         "BVndHaLihEYbr76Z0CMEGw",
         "5.0",
         "Great place for breakfast! I had the waffle, which was fluffy and perfect, and home fries which were nice and smashed and crunchy. Friendly waitstaff. Will definitely be back!",
         "2014",
         "10"
        ],
        [
         "16",
         "Dd1jQj7S-BFGqRbApFzCFw",
         "YtSqYv1Q_pOltsVPSx54SA",
         "5.0",
         "Tremendous service (Big shout out to Douglas) that complemented the delicious food. Pretty expensive establishment (40-50$ avg for your main course), but its definitely backs that up with an atmosphere that's comparable with any of the top tier restaurants across the country.",
         "2013",
         "6"
        ],
        [
         "17",
         "j2wlzrntrbKwyOcOiB3l3w",
         "rBdG_23USc7DletfZ11xGA",
         "4.0",
         "The hubby and I have been here on multiple occasions and we have loved every part of the meal, every single time. Everyone from the servers to the bartender is very knowledgable about the menu and was able to immediately recommend items I could eat as-is, substitute or delete to make something safe for this Celiac girl to eat. The wine and cocktail menus are spot on. The food divine.  My only wish is that they would have a gluten-free dessert, we've always had to go elsewhere for something sweet. But that is not a big deal and I still want to go here time and time again.",
         "2014",
         "8"
        ],
        [
         "18",
         "NDZvyYHTUWWu-kqgQzzDGQ",
         "CLEWowfkj-wKYJlQDqT1aw",
         "5.0",
         "I go to blow bar to get my brows done by natalie (brow specialist) which i highly recommend she is great does a great job on my eyebrows! But then i got a blow by victoria!! Wow i was impress i have thin, straight, dead hair and she left me with the biggest volume ive ever had!!! Tried another girl but didnt like it as much so victoria will be my girl for ever; very beautiful clean place!!!",
         "2016",
         "3"
        ],
        [
         "19",
         "IQsF3Rc6IgCzjVV9DE8KXg",
         "eFvzHawVJofxSnD7TgbZtg",
         "5.0",
         "My absolute favorite cafe in the city. Their black and white latte is probably the best I've ever had (not too sweet and just the right amount of foam), soups are always really good (even for non-soup people) and there's just a lot of space to do work. The noise level is perfect, the music is at a perfect level, and I always enjoy when patrons bring their dogs. I'll keep giving them my business for as long as I can.",
         "2014",
         "11"
        ],
        [
         "20",
         "Ohhrhu1RkqfVciIVx_W5HQ",
         "nRKndeZLQ3eDL10UMwS2rQ",
         "5.0",
         "HOLY SMOKES!\n\nactual pumpkin pie mixed in with the frozen custard......are you kidding me? Why hasn't this become a huge sweep the nation treat. \n\nThe best part was the chunks of pie crust. Like finding a diamond inside another diamond. Super yummy.",
         "2009",
         "10"
        ],
        [
         "21",
         "WBpQDAZymU0dhIqXcACGNw",
         "ut6fi2W2YaipNOqvi7e0jw",
         "3.0",
         "Upland is a brewery based out of Bloomington, Indiana that has become popular enough to open up a couple additional locations in central Indiana.  All of their beers are very good, and I am also a fan of their burgers and tenderloins.  Therefore, I was excited to try their pizza, but I don't think it ended up being on par with these other items.  My margherita pizza had a cracker-like crust and was pretty light overall.  The cheese was good, but none of the other toppings added much flavor.  There was no red sauce as is typical for a true margherita pizza.  My opinion is that Upland's pizza might serve as a nice appetizer for a group, but I'll be sticking with their burgers or tenderloins as my meal of choice on future visits.",
         "2014",
         "11"
        ],
        [
         "22",
         "vrKkXsozqqecF3CW4cGaVQ",
         "rjuWz_AD3WfXJc03AhIO_w",
         "5.0",
         "I thoroughly enjoyed the show.  Chill way to spend a Friday night.",
         "2012",
         "12"
        ],
        [
         "23",
         "OhECKhQEexFypOMY6kypRw",
         "vC2qm1y3Au5czBtbhc-DNw",
         "4.0",
         "Yes, this is the only sushi place in town. However, it is great when you're craving sushi and don't have time to go somewhere else. The salmon is probably the best fish they have, so we always order salmon. We also love their spicy edamame, tempura, ocean salad, and cabbage salad. Service has always been friendly and quick!",
         "2013",
         "9"
        ],
        [
         "24",
         "RreNy--tOmXMl1en0wiBOg",
         "cPepkJeRMtHapc_b2Oe_dw",
         "4.0",
         "I was really between 3 and 4 stars for this one. I LOVE the 96th street Naked Tchopstix so I was very excited to see this one which is closer to my house.\nThe vibe is totally different as this is geared more to take out although they do have a decent size dining area. You order at the counter and they deliver it.\nMy daughter and I tried the sushi bowl. You pick up a piece of paper and  select from a choice of proteins, vegetables, rice and toppings. I like the fact that it is on paper and you don't have to guess what things are or have to shout over the counter to tell the server what you want. The sushi bowl was good but not wonderful. The choices particularly of the vegetables seemed a little too limiting and I felt I had more rice than other food items. The sauces were tasty. My husband ordered the Maui roll which is my favorite roll at the 96th street location and this just was not up that standard. It was good but the quality and consistently was not as good as at 96th street. I would go back though and I think a lot of people would be happy with the sushi bowls. I do want to make a comment about the low reviews that people have given the place because of service. People - it is a sushi place - it isn't McDonalds- so it will be a bit slower. You are not going to order and get out of there in five minutes even though it is called express. As a healthy alternative to fast food in the area, it is worth the wait. Oh and try the bubble tea. I had the strawberry and it was quite yummy. Next time I am going to try the vanilla chai.",
         "2018",
         "7"
        ],
        [
         "25",
         "zoBajEyVA0z4IjbFsMJksg",
         "c-IgS6Pk6vMyax7Rbr38eA",
         "4.0",
         "Went for lunch. Beef brisket sandwich was awesome.   So juicy and tender.    Pulled pork was was just as good!",
         "2015",
         "6"
        ],
        [
         "26",
         "clWLI5OZP2ad25ugMVI8gg",
         "x4XdNhp0Xn8lOivzc77J-g",
         "5.0",
         "Best thai food in the area.  Everything was authentic and delicious.  Will definitely be back again and again.",
         "2013",
         "8"
        ],
        [
         "27",
         "xVKE_HJ2pwUtTdLbL3pnCg",
         "S2Ho8yLxhKAa26pBAm6rxA",
         "3.0",
         "Service was crappy, and food was mediocre.  I wish I would have picked some other place for my last dinner in town.",
         "2016",
         "11"
        ],
        [
         "28",
         "mNsVyC9tQVYtzLOCbh2Piw",
         "MWmXGQ98KbRo3vsS5nZhMA",
         "5.0",
         "I recently had dinner here with my wife over the weekend and could not have been more pleased! \n\nOur meal was excellent! My wife and I were astounded by how quickly our food came out! Everything tasted fresh and homemade which we both appreciated. \n\nThe only problem was trying to pick something from the menu as there were too many delicious sounding items to choose from. We will definitely be returning to try more items! Can't wait to see what the next chef specials will be!",
         "2014",
         "10"
        ],
        [
         "29",
         "-sryo4gDYxbZ1T5Bz4l5Bw",
         "ltBBYdNzkeKdCNPDAsxwAA",
         "2.0",
         "I at least have to give this restaurant two stars due to the decent food. But while on a dinner meeting and after spending $100 on entr√©es and appetizers, I had to flag down the assistant cook, (the guy in bright red baggy pants watching TV), to see if I could get more avocado for my tuna entr√©e.  He made it very apparent and direct that he could not help me with that situation and I would have to flag down my  waitress so she could bill me for the four dollar avocado.",
         "2015",
         "2"
        ],
        [
         "30",
         "Jha0USGDMefGFRLik_xFQg",
         "bMratNjTG5ZFEA6hVyr-xQ",
         "5.0",
         "First time there and it was excellent!!! It feels like your are entering someone's home. The waiters there funny and nice. The food come out very quickly and it is phenomenal!!! Definitely will be going back to this place.",
         "2017",
         "2"
        ],
        [
         "31",
         "4hBhtCSgoxkrFgHa4YAD-w",
         "bbEXAEFr4RYHLlZ-HFssTA",
         "5.0",
         "Great burgers,fries and salad!  Burgers have a hint of salt and pepper flavor.\n\nThis location is very quaint. They only have outdoor seating\n\nFriendly staff.\n\nStreet parking as well as parking lot in the back.",
         "2017",
         "1"
        ],
        [
         "32",
         "QzCEzH3R7Z6erOGLr3t55Q",
         "0pMj5xUAecW9o1P35B0AMw",
         "5.0",
         "Great staff always helps and always nice. Always clean and huge store size. Stays stocked with everything you need. The staff always helps make my custom breakfast bagel",
         "2017",
         "5"
        ],
        [
         "33",
         "yFuE8SPF-d1GXJUWYgKtzg",
         "X8lfGPagfLzfOsx0k08NRQ",
         "5.0",
         "Took my vehicle here for some work a few years ago for a manufacturer recall. Problem went away and then started hearing another noise which I thought was related, but turned out was a completely different issue. Kevin and his mechanic lifted my car right up and fixed the issue FREE OF CHARGE even though I told them I'd pay. Outstanding individuals for doing that. Highly recommend!",
         "2017",
         "5"
        ],
        [
         "34",
         "3MpDvy5gEdsbZh9-p92dHg",
         "8QnuWGVNBhzyYXGSeRdi4g",
         "4.0",
         "After my ROTD  yesterday of a different Sweet CeCe's location, I realized that I had never reviewed my local source!  Anyway, I love the product.  Love love love.  And I usually like their selection of toppings - good mix between healthy and not-so-healthy.  Sometimes the girls working there aren't really paying attention or are nowhere to be found.  Sometimes you have to remind them of their deals (like $5 Friday).  But I can't give it less than 4 stars because I just love it so much.",
         "2013",
         "10"
        ],
        [
         "35",
         "bFPdtzu11Oi0f92EAcjqmg",
         "IDtLPgUrqorrpqSLdfMhZQ",
         "5.0",
         "What a great addition to the Funk Zone!  Grab a bite, grab some tastings, life is good. Right next door to the Santa Barbara Wine Collective, in fact it actually shares the same tables.  We had a fabulous savory croissant.",
         "2016",
         "10"
        ],
        [
         "36",
         "wA7V8Ijgbv-16rmnwW-hjA",
         "LfYUOclwLs_SPrNAdKMjsw",
         "5.0",
         "Nice relaxing place to get a massage! Same day appointments are easy to come by! I have never been disappointed with any therapist I have had at the Center!",
         "2013",
         "11"
        ],
        [
         "37",
         "qEEk0PuoH1dVa619t8fgpw",
         "PY9GRfzr4nTZeINf346QOw",
         "4.0",
         "We checked in around 2:30 pm.  Check-in was quick and easy with complimentary valet parking (always appreciated).  The Peppermill is huge and reminded us of the Caesars Palace in Las Vegas.  They have around eight restaurants on site offering almost any type of food you could want.  The casino area is huge, rivaling almost anything you could find in Las Vegas.  One thing we noticed is that many of the slot machines were noted as being penny machines, but when you actually started to play them you realized they had minimum bets of anywhere from 30 cents to $5.  Talk about false advertising!  We were in the Tuscany Tower on the 12th floor.  Our room had a nice view of the huge pool area.  Our room was large and featured free WiFi (likewise always appreciated), a huge bathroom area with large shower (with two shower heads), TV, a large jetted bathtub and a phone next to the commode.  There were dual sinks and lots of counter space.  Plenty of towels were supplied.  The roomy main area had a king bed with night stands, closet, TV, mini fridge, dresser with two drawers, a safe, table for computer or writing, complimentary bottles of water, and three nicely upholstered chairs and table.  The thermostat did a good job controlling the temperature and keeping it comfortable.  Staff were all courteous and helpful.  A very nice place and we enjoyed our stay.",
         "2017",
         "9"
        ],
        [
         "38",
         "aFa96pz67TwOFu4Weq5Agg",
         "kq5Ghhh14r-eCxlVmlyd8w",
         "5.0",
         "My boyfriend and I tried this deli for the first time today. I had a turkey, avocado & bacon panini and he ha a buffalo chicken wrap. We will definitely be returning. The wait for food wasn't too long, which is always appreciated during lunch hour. There was SO much to choose from. They have salads, soup, macaroni, sandwiches and hot food. I love a deli that has many options to choose from!",
         "2018",
         "8"
        ],
        [
         "39",
         "iYY5Ii1LGpZCpXFkHlMefw",
         "Zx7n8mdt8OzLRXVzolXNhQ",
         "5.0",
         "Amazing biscuits and (fill in the blank). Great cocktails too. Highly recommended. A bit busy though.",
         "2018",
         "4"
        ],
        [
         "40",
         "yobeeTUBfaTBcnk26mXNuA",
         "hKameFsaXh9g8WQbv593UA",
         "4.0",
         "Food was good- atmosphere/decor is like a fishing lodge- menu is someplace between outback & bonefish. Went on a Groupon & all 3 of our meals & calamari appetizer that we ordered were cooked perfectly- we will def be back.",
         "2015",
         "4"
        ],
        [
         "41",
         "EZjT2qJN0mOXypMAqZdSrQ",
         "A2q7d-CBM2-81tVkmS4JMw",
         "2.0",
         "Straight to the point, it's cheap, it tastes and feels cheap\n\nThe good: price, location, dessert (edible food items are: baked chicken, fried chicken, mashed potatoes, Salad bar lol, meat and cheese bar, ravioli, pizza) also our waitress was bomb af\n\nThe meh: behind counter meat slicing station, shrimp (not even deveined), Mexican station\n\nThe bad: breakfast -worst eggs ever, actually worst, eggs. Le Benedict can't even cut through ham or English muffin (tried on all 3 occasions), steak, shrimp again, hell breaded items can't even, don't even. Decor it's the 1970 nightmare you can imagine\n\nTried 3 times and failed",
         "2017",
         "7"
        ],
        [
         "42",
         "G0DHgkSsDozqUPWtlxVEMw",
         "oBhJuukGRqPVvYBfTkhuZA",
         "4.0",
         "The only reason I didn't give this restaurant a 5 star rating, is because of one single pretentious waiter. As a 4 night guest at Hotel Palomar, the location of the restaurant is an obvious plus. The first night of my stay, I met a coworker in the restaurant for a cocktail. When we arrived, the host staff were busy and not available, so we just walked in. The restaurant was not too busy, so we just looked at a small table next to the bar and proceeded to take a seat. A waiter came by and I quickly asked if we could have a seat, before sitting down and told him we'd only be having cocktails. He stumbled on his reply, and in an irritated/in-convinced tone, told me \"I guess it would be fine\" and basically just kept walking mid sentence. My guest and I brushed it off, and started having a conversation while looking at the drink menu. To make a long story short, he was distant and we both got the \"couldn't be bothered\" vibe from him. When it came to the bill, we asked if it could be split due to company transaction policies, and you would have thought asked him for some inconceivable task. We basically spent the rest of our night and elevator ride to our room in shock of the rudeness we had just experienced. \n\nAlthough that situation left a bad taste in our mouth, and the night before we decided to avoid the restaurant, we decided to grab another cocktail and give this place one more try. After looking around and ensuring \"last nights waiter\" wasn't on shift, we walked over to the bar and started looking over the menu. Instantly, the bartender greeted us with pleasant small talk and made us feel 100% welcome. He asked about our day, recommended cocktails and was a completely genuine person. This guy (I think his name was Ben) is an absolute star! He gave us lessons on Whiskey, described how to make classic cocktails, and was 100% invested in our experience. This is exactly what a bartender at a 4/5 star establishment should be - actually he exceeds that. He was kind, funny, friendly and completely redeemed this restaurant/bar from our terrible experience the night before. \nI also ordered room service last night from this restaurant, and it was amazing. The bacon wrapped dates and chocolate cake are to die for! Great restaurant and amazing bartender(s). Too bad one bad egg could have spoiled this experience.",
         "2015",
         "3"
        ],
        [
         "43",
         "RRTQpg8hutdimzAYuP_Hbw",
         "eaJCpC6IhYphj7bwCDHTwQ",
         "5.0",
         "Stopped by after a Sunday morning walk in the park - great food, coffee customer service - love the vibe in here",
         "2015",
         "8"
        ],
        [
         "44",
         "EBa-0-6AKoy6jziNexDJtg",
         "W4ZEKkva9HpAdZG88juwyQ",
         "3.0",
         "In a word... \"OVERRATED!\".  The food took forever to come out.  The burger was WAY overcooked (Especially when I ordered it Medium Rare) and the Seafood Jumbalaya was Decent.  Not worth the price.  There are better places to eat in the french quarter.  It was not horrible, but for everything that we had heard about this place, I would have expected much better.",
         "2013",
         "12"
        ],
        [
         "45",
         "l_izt6hn7oTxalU06mSyqg",
         "jTI5Xjk27An8ceJ6VwpXiQ",
         "4.0",
         "Comfortable bed, good breakfast, fast internet, great location, and low price. Overall I was really impressed with this place. However, if you stay on the top floors you may be waiting up to 15 minutes for an elevator in the morning.",
         "2013",
         "8"
        ],
        [
         "46",
         "Z2cOL3n9V8NoguJ-uU_Nvw",
         "j8JOZvfeHEfUWq3gEz6ABQ",
         "2.0",
         "NEVER AGAIN. This is a so called restaurant that does nothing that a restaurant should other than prepare food, because the rest is done by the patron. Want water? Get up and go across the yard to get it. Want a drink, walk up a flight of stairs and pay cash. Want to sit in a dirty yard in dirty lawn chairs, enjoy yourself. The wait staff is mildy helpful in that they bring you your food after you go to the window and pay cash for it...kind of like New Orleans Hamburger and Seafood, but dirty and with live music (which is nice). It's a one in a lifetime experience for me...just once.",
         "2014",
         "6"
        ],
        [
         "47",
         "OuatwND396ZQxm2zK8WlUQ",
         "jNL5KUPz2-tHUJM__ysSaw",
         "1.0",
         "If you want to pay for everything a la carte this is the place for you.  \nFood wasn't terrible not impressive.\nThey brought a basket of chips and some tomato sauce which I asked politely for something spicier and some pico de gallo.  She brought them happily to me and the salsa was much better.  When asked what we would like to drink I asked for a coke and she brought out a bottle which I stated I wanted the fountain drink.  She said \"oh that's only Pepsi\".  Never mentioned that they only had bottle drinks for coke.  \nWe ordered our food which was reasonably priced, asked for sour cream and also to put cheese on the taco.  She let us know cheese was extra.  \nIt was $2.50 extra for another basket of chips.  \nWhen I received the bill we paid more for the condiments then the actual food.  Side of sour cream 2.00, pico de gallo 2.50, salsa 2.00, chips 2.50, cheese 1.00 and the bottled coke that we didn't want 5.00.  \nJust a suggestion...when you order anything make sure to ask if there is an extra charge.",
         "2014",
         "8"
        ],
        [
         "48",
         "S7bjj-L07JuRr-tpX1UZLw",
         "I6L0Zxi5Ww0zEWSAVgngeQ",
         "4.0",
         "The cafe was extremely cute. We came at 8am and they even had a jazz band playing at that time. I got the breakfast sandwich and it was delicious. I loved how they rolled the egg and put the bacon pieces inside. Great price for a filling breakfast!",
         "2018",
         "7"
        ],
        [
         "49",
         "ZGjgfSvjQK886kiTzLwfLQ",
         "EtKSTHV5Qx_Q7Aur9o4kQQ",
         "5.0",
         "On a scale of one to things that are awesome, this place is the bomb. \n\nI was drawn in by the promise of the duckfat frenchfries. Took the boy for his birthday and put our name in, had a drink around the corner while we waited and were given seats at the bar after about 45 minutes. \n\nWe were waited on by Keith, the bartender, who was congenial, knowledgeable about his whiskeys and an all-around cool guy. We started with 3 cape may salts (two for me, one for the boy) and tater tots, both of which made me happy.\n\nFor dinner, I got Kentucky Fried Quail (stellar, though the succotash was not as exciting as I wanted it to be) and the boy got the 24$ Fois Gras burger, which was incredible. Worth every penny. The duckfat fries were pretty yummy, but not even the best part of the meal. I could've done without the cheese sauce, but as it was on the side I wasn't deterred.\n\nI look forward to coming back here, with everyone I know.",
         "2009",
         "10"
        ]
       ],
       "shape": {
        "columns": 6,
        "rows": 6986504
       }
      },
      "text/html": [
       "<div>\n",
       "<style scoped>\n",
       "    .dataframe tbody tr th:only-of-type {\n",
       "        vertical-align: middle;\n",
       "    }\n",
       "\n",
       "    .dataframe tbody tr th {\n",
       "        vertical-align: top;\n",
       "    }\n",
       "\n",
       "    .dataframe thead th {\n",
       "        text-align: right;\n",
       "    }\n",
       "</style>\n",
       "<table border=\"1\" class=\"dataframe\">\n",
       "  <thead>\n",
       "    <tr style=\"text-align: right;\">\n",
       "      <th></th>\n",
       "      <th>user_id</th>\n",
       "      <th>business_id</th>\n",
       "      <th>stars</th>\n",
       "      <th>text</th>\n",
       "      <th>año</th>\n",
       "      <th>mes</th>\n",
       "    </tr>\n",
       "  </thead>\n",
       "  <tbody>\n",
       "    <tr>\n",
       "      <th>0</th>\n",
       "      <td>mh_-eMZ6K5RLWhZyISBhwA</td>\n",
       "      <td>XQfwVwDr-v0ZS3_CbbE5Xw</td>\n",
       "      <td>3.0</td>\n",
       "      <td>If you decide to eat here, just be aware it is...</td>\n",
       "      <td>2018</td>\n",
       "      <td>7</td>\n",
       "    </tr>\n",
       "    <tr>\n",
       "      <th>1</th>\n",
       "      <td>OyoGAe7OKpv6SyGZT5g77Q</td>\n",
       "      <td>7ATYjTIgM3jUlt4UM3IypQ</td>\n",
       "      <td>5.0</td>\n",
       "      <td>I've taken a lot of spin classes over the year...</td>\n",
       "      <td>2012</td>\n",
       "      <td>1</td>\n",
       "    </tr>\n",
       "    <tr>\n",
       "      <th>2</th>\n",
       "      <td>8g_iMtfSiwikVnbP2etR0A</td>\n",
       "      <td>YjUWPpI6HXG530lwP-fb2A</td>\n",
       "      <td>3.0</td>\n",
       "      <td>Family diner. Had the buffet. Eclectic assortm...</td>\n",
       "      <td>2014</td>\n",
       "      <td>2</td>\n",
       "    </tr>\n",
       "    <tr>\n",
       "      <th>3</th>\n",
       "      <td>_7bHUi9Uuf5__HHc_Q8guQ</td>\n",
       "      <td>kxX2SOes4o-D3ZQBkiMRfA</td>\n",
       "      <td>5.0</td>\n",
       "      <td>Wow!  Yummy, different,  delicious.   Our favo...</td>\n",
       "      <td>2015</td>\n",
       "      <td>1</td>\n",
       "    </tr>\n",
       "    <tr>\n",
       "      <th>4</th>\n",
       "      <td>bcjbaE6dDog4jkNY91ncLQ</td>\n",
       "      <td>e4Vwtrqf-wpJfwesgvdgxQ</td>\n",
       "      <td>4.0</td>\n",
       "      <td>Cute interior and owner (?) gave us tour of up...</td>\n",
       "      <td>2017</td>\n",
       "      <td>1</td>\n",
       "    </tr>\n",
       "    <tr>\n",
       "      <th>...</th>\n",
       "      <td>...</td>\n",
       "      <td>...</td>\n",
       "      <td>...</td>\n",
       "      <td>...</td>\n",
       "      <td>...</td>\n",
       "      <td>...</td>\n",
       "    </tr>\n",
       "    <tr>\n",
       "      <th>6986499</th>\n",
       "      <td>qskILQ3k0I_qcCMI-k6_QQ</td>\n",
       "      <td>jals67o91gcrD4DC81Vk6w</td>\n",
       "      <td>5.0</td>\n",
       "      <td>Latest addition to services from ICCU is Apple...</td>\n",
       "      <td>2014</td>\n",
       "      <td>12</td>\n",
       "    </tr>\n",
       "    <tr>\n",
       "      <th>6986500</th>\n",
       "      <td>Zo0th2m8Ez4gLSbHftiQvg</td>\n",
       "      <td>2vLksaMmSEcGbjI5gywpZA</td>\n",
       "      <td>5.0</td>\n",
       "      <td>This spot offers a great, affordable east week...</td>\n",
       "      <td>2021</td>\n",
       "      <td>3</td>\n",
       "    </tr>\n",
       "    <tr>\n",
       "      <th>6986501</th>\n",
       "      <td>mm6E4FbCMwJmb7kPDZ5v2Q</td>\n",
       "      <td>R1khUUxidqfaJmcpmGd4aw</td>\n",
       "      <td>4.0</td>\n",
       "      <td>This Home Depot won me over when I needed to g...</td>\n",
       "      <td>2019</td>\n",
       "      <td>12</td>\n",
       "    </tr>\n",
       "    <tr>\n",
       "      <th>6986502</th>\n",
       "      <td>YwAMC-jvZ1fvEUum6QkEkw</td>\n",
       "      <td>Rr9kKArrMhSLVE9a53q-aA</td>\n",
       "      <td>5.0</td>\n",
       "      <td>For when I'm feeling like ignoring my calorie-...</td>\n",
       "      <td>2022</td>\n",
       "      <td>1</td>\n",
       "    </tr>\n",
       "    <tr>\n",
       "      <th>6986503</th>\n",
       "      <td>6JehEvdoCvZPJ_XIxnzIIw</td>\n",
       "      <td>VAeEXLbEcI9Emt9KGYq9aA</td>\n",
       "      <td>3.0</td>\n",
       "      <td>Located in the 'Walking District' in Nashville...</td>\n",
       "      <td>2018</td>\n",
       "      <td>1</td>\n",
       "    </tr>\n",
       "  </tbody>\n",
       "</table>\n",
       "<p>6986504 rows × 6 columns</p>\n",
       "</div>"
      ],
      "text/plain": [
       "                        user_id             business_id  stars  \\\n",
       "0        mh_-eMZ6K5RLWhZyISBhwA  XQfwVwDr-v0ZS3_CbbE5Xw    3.0   \n",
       "1        OyoGAe7OKpv6SyGZT5g77Q  7ATYjTIgM3jUlt4UM3IypQ    5.0   \n",
       "2        8g_iMtfSiwikVnbP2etR0A  YjUWPpI6HXG530lwP-fb2A    3.0   \n",
       "3        _7bHUi9Uuf5__HHc_Q8guQ  kxX2SOes4o-D3ZQBkiMRfA    5.0   \n",
       "4        bcjbaE6dDog4jkNY91ncLQ  e4Vwtrqf-wpJfwesgvdgxQ    4.0   \n",
       "...                         ...                     ...    ...   \n",
       "6986499  qskILQ3k0I_qcCMI-k6_QQ  jals67o91gcrD4DC81Vk6w    5.0   \n",
       "6986500  Zo0th2m8Ez4gLSbHftiQvg  2vLksaMmSEcGbjI5gywpZA    5.0   \n",
       "6986501  mm6E4FbCMwJmb7kPDZ5v2Q  R1khUUxidqfaJmcpmGd4aw    4.0   \n",
       "6986502  YwAMC-jvZ1fvEUum6QkEkw  Rr9kKArrMhSLVE9a53q-aA    5.0   \n",
       "6986503  6JehEvdoCvZPJ_XIxnzIIw  VAeEXLbEcI9Emt9KGYq9aA    3.0   \n",
       "\n",
       "                                                      text   año  mes  \n",
       "0        If you decide to eat here, just be aware it is...  2018    7  \n",
       "1        I've taken a lot of spin classes over the year...  2012    1  \n",
       "2        Family diner. Had the buffet. Eclectic assortm...  2014    2  \n",
       "3        Wow!  Yummy, different,  delicious.   Our favo...  2015    1  \n",
       "4        Cute interior and owner (?) gave us tour of up...  2017    1  \n",
       "...                                                    ...   ...  ...  \n",
       "6986499  Latest addition to services from ICCU is Apple...  2014   12  \n",
       "6986500  This spot offers a great, affordable east week...  2021    3  \n",
       "6986501  This Home Depot won me over when I needed to g...  2019   12  \n",
       "6986502  For when I'm feeling like ignoring my calorie-...  2022    1  \n",
       "6986503  Located in the 'Walking District' in Nashville...  2018    1  \n",
       "\n",
       "[6986504 rows x 6 columns]"
      ]
     },
     "execution_count": 3,
     "metadata": {},
     "output_type": "execute_result"
    }
   ],
   "source": [
    "df_review"
   ]
  },
  {
   "cell_type": "code",
   "execution_count": 4,
   "metadata": {},
   "outputs": [],
   "source": [
    "df_categories = pd.read_csv(r'C:\\Users\\anavi\\OneDrive\\Escritorio\\Grupal\\Proyecto_Final\\ELT\\etl_categories.csv')"
   ]
  },
  {
   "cell_type": "code",
   "execution_count": 6,
   "metadata": {},
   "outputs": [],
   "source": [
    "df_categories = df_categories.drop(columns=['category']).drop_duplicates()"
   ]
  },
  {
   "cell_type": "code",
   "execution_count": 35,
   "metadata": {},
   "outputs": [],
   "source": [
    "#df_categories = df_categories[df_categories['subcategory'].str.strip() == 'Hotels, restaurants and tourism']"
   ]
  },
  {
   "cell_type": "code",
   "execution_count": 7,
   "metadata": {},
   "outputs": [
    {
     "data": {
      "application/vnd.microsoft.datawrangler.viewer.v0+json": {
       "columns": [
        {
         "name": "index",
         "rawType": "int64",
         "type": "integer"
        },
        {
         "name": "business_id",
         "rawType": "object",
         "type": "string"
        },
        {
         "name": "subcategory",
         "rawType": "object",
         "type": "string"
        }
       ],
       "conversionMethod": "pd.DataFrame",
       "ref": "90e4bc8f-bfdc-4aba-b683-a528b9984cf0",
       "rows": [
        [
         "0",
         "Pns2l4eNsfO8kk83dixA6A",
         "Other categories"
        ],
        [
         "4",
         "mpf3x-BjTdTEA3yCZrAYPw",
         "Other categories"
        ],
        [
         "5",
         "tUFrWirKiKi_TAnsVWINQQ",
         "Other categories"
        ],
        [
         "8",
         "MTSW4McQd7CbVtyjqoe9mw",
         "Hotels, restaurants and tourism"
        ],
        [
         "10",
         "MTSW4McQd7CbVtyjqoe9mw",
         "Other categories"
        ],
        [
         "11",
         "mWMc6_wTdE0EUBKIGXDVfA",
         "Hotels, restaurants and tourism"
        ],
        [
         "14",
         "CF33F8-E6oudUQ46HnavjQ",
         "Hotels, restaurants and tourism"
        ],
        [
         "18",
         "n_0UpQx1hsNbnPUSlodU8w",
         "Other categories"
        ],
        [
         "21",
         "qkRM_2X51Yqxk3btlwAQIg",
         "Other categories"
        ],
        [
         "22",
         "k0hlBqXX-Bt0vf1op7Jr1w",
         "Hotels, restaurants and tourism"
        ],
        [
         "27",
         "k0hlBqXX-Bt0vf1op7Jr1w",
         "Other categories"
        ],
        [
         "28",
         "bBDDEgkFA1Otx9Lfe7BZUQ",
         "Hotels, restaurants and tourism"
        ],
        [
         "31",
         "UJsufbvfyfONHeWdvAHKjA",
         "Other categories"
        ],
        [
         "33",
         "eEOYSgkmpB90uNA7lDOMRA",
         "Other categories"
        ],
        [
         "34",
         "eEOYSgkmpB90uNA7lDOMRA",
         "Hotels, restaurants and tourism"
        ],
        [
         "36",
         "il_Ro8jwPlHresjw9EGmBg",
         "Hotels, restaurants and tourism"
        ],
        [
         "38",
         "jaxMSoInw8Poo3XeMJt8lQ",
         "Other categories"
        ],
        [
         "39",
         "0bPLkL0QhhPO5kt1_EXmNQ",
         "Hotels, restaurants and tourism"
        ],
        [
         "42",
         "0bPLkL0QhhPO5kt1_EXmNQ",
         "Other categories"
        ],
        [
         "44",
         "MUTTqe8uqyMdBl186RmNeA",
         "Hotels, restaurants and tourism"
        ],
        [
         "46",
         "rBmpy_Y1UbBx8ggHlyb7hA",
         "Other categories"
        ],
        [
         "47",
         "M0XSSHqrASOnhgbWDJIpQA",
         "Other categories"
        ],
        [
         "48",
         "8wGISYjYkE2tSqn3cDMu8A",
         "Other categories"
        ],
        [
         "49",
         "ROeacJQwBeh05Rqg7F6TCg",
         "Hotels, restaurants and tourism"
        ],
        [
         "51",
         "WKMJwqnfZKsAae75RMP6jA",
         "Hotels, restaurants and tourism"
        ],
        [
         "56",
         "qhDdDeI3K4jy2KyzwFN53w",
         "Other categories"
        ],
        [
         "60",
         "kfNv-JZpuN6TVNSO6hHdkw",
         "Hotels, restaurants and tourism"
        ],
        [
         "62",
         "9OG5YkX1g2GReZM0AskizA",
         "Hotels, restaurants and tourism"
        ],
        [
         "64",
         "4iRzR7OaS-QaSXuvYxEGKA",
         "Hotels, restaurants and tourism"
        ],
        [
         "65",
         "PSo_C1Sfa13JHjzVNW6ziQ",
         "Other categories"
        ],
        [
         "67",
         "noByYNtDLQAra9ccqxdfDw",
         "Other categories"
        ],
        [
         "71",
         "tMkwHmWFUEXrC9ZduonpTg",
         "Hotels, restaurants and tourism"
        ],
        [
         "74",
         "QdN72BWoyFypdGJhhI5r7g",
         "Hotels, restaurants and tourism"
        ],
        [
         "78",
         "sqSqqLy0sN8n2IZrAbzidQ",
         "Hotels, restaurants and tourism"
        ],
        [
         "81",
         "Mjboz24M9NlBeiOJKLEd_Q",
         "Hotels, restaurants and tourism"
        ],
        [
         "85",
         "8sshLb4UU7emeUDvtJWnpA",
         "Other categories"
        ],
        [
         "87",
         "kV_Q1oqis8Qli8dUoGpTyQ",
         "Hotels, restaurants and tourism"
        ],
        [
         "89",
         "w_AMNoI1iG9eay7ncmc67w",
         "Hotels, restaurants and tourism"
        ],
        [
         "90",
         "aPNXGTDkf-4bjhyMBQxqpQ",
         "Other categories"
        ],
        [
         "91",
         "aPNXGTDkf-4bjhyMBQxqpQ",
         "Hotels, restaurants and tourism"
        ],
        [
         "96",
         "2xVsWBNFwZOxIOdd9Mwnww",
         "Hotels, restaurants and tourism"
        ],
        [
         "98",
         "mGFsPRHdE6SMV1gYQ6GzgQ",
         "Other categories"
        ],
        [
         "101",
         "LcAozWCMLGjwRbokaJAKMg",
         "Other categories"
        ],
        [
         "104",
         "fSCNwMtNNQY9QT69Cj9fiA",
         "Other categories"
        ],
        [
         "107",
         "fSCNwMtNNQY9QT69Cj9fiA",
         "Hotels, restaurants and tourism"
        ],
        [
         "108",
         "x1mhq4IpWctQOBM06dU8vg",
         "Other categories"
        ],
        [
         "110",
         "ljxNT9p0y7YMPx0fcNBGig",
         "Hotels, restaurants and tourism"
        ],
        [
         "115",
         "lwItZ1Ck3KtpCgG4CPFmpQ",
         "Other categories"
        ],
        [
         "116",
         "Kq51_lGAgAigqmENITTr-A",
         "Other categories"
        ],
        [
         "118",
         "mglME3E7esPSpIF5bias8w",
         "Other categories"
        ]
       ],
       "shape": {
        "columns": 2,
        "rows": 158606
       }
      },
      "text/html": [
       "<div>\n",
       "<style scoped>\n",
       "    .dataframe tbody tr th:only-of-type {\n",
       "        vertical-align: middle;\n",
       "    }\n",
       "\n",
       "    .dataframe tbody tr th {\n",
       "        vertical-align: top;\n",
       "    }\n",
       "\n",
       "    .dataframe thead th {\n",
       "        text-align: right;\n",
       "    }\n",
       "</style>\n",
       "<table border=\"1\" class=\"dataframe\">\n",
       "  <thead>\n",
       "    <tr style=\"text-align: right;\">\n",
       "      <th></th>\n",
       "      <th>business_id</th>\n",
       "      <th>subcategory</th>\n",
       "    </tr>\n",
       "  </thead>\n",
       "  <tbody>\n",
       "    <tr>\n",
       "      <th>0</th>\n",
       "      <td>Pns2l4eNsfO8kk83dixA6A</td>\n",
       "      <td>Other categories</td>\n",
       "    </tr>\n",
       "    <tr>\n",
       "      <th>4</th>\n",
       "      <td>mpf3x-BjTdTEA3yCZrAYPw</td>\n",
       "      <td>Other categories</td>\n",
       "    </tr>\n",
       "    <tr>\n",
       "      <th>5</th>\n",
       "      <td>tUFrWirKiKi_TAnsVWINQQ</td>\n",
       "      <td>Other categories</td>\n",
       "    </tr>\n",
       "    <tr>\n",
       "      <th>8</th>\n",
       "      <td>MTSW4McQd7CbVtyjqoe9mw</td>\n",
       "      <td>Hotels, restaurants and tourism</td>\n",
       "    </tr>\n",
       "    <tr>\n",
       "      <th>10</th>\n",
       "      <td>MTSW4McQd7CbVtyjqoe9mw</td>\n",
       "      <td>Other categories</td>\n",
       "    </tr>\n",
       "    <tr>\n",
       "      <th>...</th>\n",
       "      <td>...</td>\n",
       "      <td>...</td>\n",
       "    </tr>\n",
       "    <tr>\n",
       "      <th>321981</th>\n",
       "      <td>hn9Toz3s-Ei3uZPt7esExA</td>\n",
       "      <td>Hotels, restaurants and tourism</td>\n",
       "    </tr>\n",
       "    <tr>\n",
       "      <th>321982</th>\n",
       "      <td>c8GjPIOTGVmIemT7j5_SyQ</td>\n",
       "      <td>Other categories</td>\n",
       "    </tr>\n",
       "    <tr>\n",
       "      <th>321984</th>\n",
       "      <td>_QAMST-NrQobXduilWEqSw</td>\n",
       "      <td>Other categories</td>\n",
       "    </tr>\n",
       "    <tr>\n",
       "      <th>321989</th>\n",
       "      <td>mtGm22y5c2UHNXDFAjaPNw</td>\n",
       "      <td>Other categories</td>\n",
       "    </tr>\n",
       "    <tr>\n",
       "      <th>321991</th>\n",
       "      <td>jV_XOycEzSlTx-65W906pg</td>\n",
       "      <td>Other categories</td>\n",
       "    </tr>\n",
       "  </tbody>\n",
       "</table>\n",
       "<p>158606 rows × 2 columns</p>\n",
       "</div>"
      ],
      "text/plain": [
       "                   business_id                      subcategory\n",
       "0       Pns2l4eNsfO8kk83dixA6A                 Other categories\n",
       "4       mpf3x-BjTdTEA3yCZrAYPw                 Other categories\n",
       "5       tUFrWirKiKi_TAnsVWINQQ                 Other categories\n",
       "8       MTSW4McQd7CbVtyjqoe9mw  Hotels, restaurants and tourism\n",
       "10      MTSW4McQd7CbVtyjqoe9mw                 Other categories\n",
       "...                        ...                              ...\n",
       "321981  hn9Toz3s-Ei3uZPt7esExA  Hotels, restaurants and tourism\n",
       "321982  c8GjPIOTGVmIemT7j5_SyQ                 Other categories\n",
       "321984  _QAMST-NrQobXduilWEqSw                 Other categories\n",
       "321989  mtGm22y5c2UHNXDFAjaPNw                 Other categories\n",
       "321991  jV_XOycEzSlTx-65W906pg                 Other categories\n",
       "\n",
       "[158606 rows x 2 columns]"
      ]
     },
     "execution_count": 7,
     "metadata": {},
     "output_type": "execute_result"
    }
   ],
   "source": [
    "df_categories"
   ]
  },
  {
   "cell_type": "code",
   "execution_count": 10,
   "metadata": {},
   "outputs": [],
   "source": [
    "df_categories = df_categories.drop_duplicates(subset=['business_id'], keep='first')"
   ]
  },
  {
   "cell_type": "code",
   "execution_count": 11,
   "metadata": {},
   "outputs": [],
   "source": [
    "df_categories = df_categories.groupby('business_id')['subcategory'].apply(lambda x: ', '.join(x)).reset_index()"
   ]
  },
  {
   "cell_type": "code",
   "execution_count": 12,
   "metadata": {},
   "outputs": [],
   "source": [
    "df_merged = df_review.merge(df_categories, on='business_id', how='left')"
   ]
  },
  {
   "cell_type": "code",
   "execution_count": 13,
   "metadata": {},
   "outputs": [
    {
     "data": {
      "application/vnd.microsoft.datawrangler.viewer.v0+json": {
       "columns": [
        {
         "name": "index",
         "rawType": "int64",
         "type": "integer"
        },
        {
         "name": "user_id",
         "rawType": "object",
         "type": "string"
        },
        {
         "name": "business_id",
         "rawType": "object",
         "type": "string"
        },
        {
         "name": "stars",
         "rawType": "float64",
         "type": "float"
        },
        {
         "name": "text",
         "rawType": "object",
         "type": "string"
        },
        {
         "name": "año",
         "rawType": "int64",
         "type": "integer"
        },
        {
         "name": "mes",
         "rawType": "int64",
         "type": "integer"
        },
        {
         "name": "subcategory",
         "rawType": "object",
         "type": "unknown"
        }
       ],
       "conversionMethod": "pd.DataFrame",
       "ref": "ef88a25a-48ac-4f79-919c-c4883416af6a",
       "rows": [
        [
         "0",
         "mh_-eMZ6K5RLWhZyISBhwA",
         "XQfwVwDr-v0ZS3_CbbE5Xw",
         "3.0",
         "If you decide to eat here, just be aware it is going to take about 2 hours from beginning to end. We have tried it multiple times, because I want to like it! I have been to it's other locations in NJ and never had a bad experience. \n\nThe food is good, but it takes a very long time to come out. The waitstaff is very young, but usually pleasant. We have just had too many experiences where we spent way too long waiting. We usually opt for another diner or restaurant on the weekends, in order to be done quicker.",
         "2018",
         "7",
         "Hotels, restaurants and tourism"
        ],
        [
         "1",
         "OyoGAe7OKpv6SyGZT5g77Q",
         "7ATYjTIgM3jUlt4UM3IypQ",
         "5.0",
         "I've taken a lot of spin classes over the years, and nothing compares to the classes at Body Cycle. From the nice, clean space and amazing bikes, to the welcoming and motivating instructors, every class is a top notch work out.\n\nFor anyone who struggles to fit workouts in, the online scheduling system makes it easy to plan ahead (and there's no need to line up way in advanced like many gyms make you do).\n\nThere is no way I can write this review without giving Russell, the owner of Body Cycle, a shout out. Russell's passion for fitness and cycling is so evident, as is his desire for all of his clients to succeed. He is always dropping in to classes to check in/provide encouragement, and is open to ideas and recommendations from anyone. Russell always wears a smile on his face, even when he's kicking your butt in class!",
         "2012",
         "1",
         "Other categories"
        ],
        [
         "2",
         "8g_iMtfSiwikVnbP2etR0A",
         "YjUWPpI6HXG530lwP-fb2A",
         "3.0",
         "Family diner. Had the buffet. Eclectic assortment: a large chicken leg, fried jalape√±o, tamale, two rolled grape leaves, fresh melon. All good. Lots of Mexican choices there. Also has a menu with breakfast served all day long. Friendly, attentive staff. Good place for a casual relaxed meal with no expectations. Next to the Clarion Hotel.",
         "2014",
         "2",
         "Hotels, restaurants and tourism"
        ],
        [
         "3",
         "_7bHUi9Uuf5__HHc_Q8guQ",
         "kxX2SOes4o-D3ZQBkiMRfA",
         "5.0",
         "Wow!  Yummy, different,  delicious.   Our favorite is the lamb curry and korma.  With 10 different kinds of naan!!!  Don't let the outside deter you (because we almost changed our minds)...go in and try something new!   You'll be glad you did!",
         "2015",
         "1",
         "Other categories"
        ],
        [
         "4",
         "bcjbaE6dDog4jkNY91ncLQ",
         "e4Vwtrqf-wpJfwesgvdgxQ",
         "4.0",
         "Cute interior and owner (?) gave us tour of upcoming patio/rooftop area which will be great on beautiful days like today. Cheese curds were very good and very filling. Really like that sandwiches come w salad, esp after eating too many curds! Had the onion, gruyere, tomato sandwich. Wasn't too much cheese which I liked. Needed something else...pepper jelly maybe. Would like to see more menu options added such as salads w fun cheeses. Lots of beer and wine as well as limited cocktails. Next time I will try one of the draft wines.",
         "2017",
         "1",
         "Hotels, restaurants and tourism"
        ],
        [
         "5",
         "eUta8W_HdHMXPzLBBZhL1A",
         "04UD14gamNjLY0IDYVhHJg",
         "1.0",
         "I am a long term frequent customer of this establishment. I just went in to order take out (3 apps) and was told they're too busy to do it. Really? The place is maybe half full at best. Does your dick reach your ass? Yes? Go fuck yourself! I'm a frequent customer AND great tipper. Glad that Kanella just opened. NEVER going back to dmitris!",
         "2015",
         "9",
         "Other categories"
        ],
        [
         "6",
         "r3zeYsv1XFBRA4dJpL78cw",
         "gmjsEdUsKpj9Xxu6pdjH0g",
         "5.0",
         "Loved this tour! I grabbed a groupon and the price was great. It was the perfect way to explore New Orleans for someone who'd never been there before and didn't know a lot about the history of the city. Our tour guide had tons of interesting tidbits about the city, and I really enjoyed the experience. Highly recommended tour. I actually thought we were just going to tour through the cemetery, but she took us around the French Quarter for the first hour, and the cemetery for the second half of the tour. You'll meet up in front of a grocery store (seems strange at first, but it's not terribly hard to find, and it'll give you a chance to get some water), and you'll stop at a visitor center part way through the tour for a bathroom break if needed. This tour was one of my favorite parts of my trip!",
         "2015",
         "1",
         "Other categories"
        ],
        [
         "7",
         "yfFzsLmaWF2d4Sr0UNbBgg",
         "LHSTtnW3YHCeUkRDGyJOyw",
         "5.0",
         "Amazingly amazing wings and homemade bleu cheese. Had the ribeye: tender, perfectly prepared, delicious. Nice selection of craft beers. Would DEFINITELY recommend checking out this hidden gem.",
         "2015",
         "8",
         "Hotels, restaurants and tourism"
        ],
        [
         "8",
         "wSTuiTk-sKNdcFyprzZAjg",
         "B5XSoSG3SfvQGtKEGQ1tSQ",
         "3.0",
         "This easter instead of going to Lopez Lake we went to Los Padres National Forest which is really pretty but if you go to white rock the staff needs to cut down all the dead grass that invades the rock and the water. I would wish the staff would also clean or get rid of the dead grass that's also living by the water. The water is really green and dirty. Los padres national forest staff need to work hard to maintain this forest looking pretty and not like a dumpster. Even Cachuma lake looks like they put a bit more effort.",
         "2016",
         "3",
         "Other categories"
        ],
        [
         "9",
         "59MxRhNVhU9MYndMkz0wtw",
         "gebiRewfieSdtt17PTW6Zg",
         "3.0",
         "Had a party of 6 here for hibachi. Our waitress brought our separate sushi orders on one plate so we couldn't really tell who's was who's and forgot several items on an order. I understand making mistakes but the restaraunt was really quiet so we were kind of surprised. Usually hibachi is a fun lively experience and our  cook  said maybe three words, but he cooked very well his name was Francisco. Service was fishy, food was pretty good, and im hoping it was just an off night here. But for the money I wouldn't go back.",
         "2016",
         "7",
         "Hotels, restaurants and tourism"
        ],
        [
         "10",
         "1WHRWwQmZOZDAhp2Qyny4g",
         "uMvVYRgGNXf5boolA9HXTw",
         "5.0",
         "My experience with Shalimar was nothing but wonderful. \nI wanted to get my engagement ring sized and was told over the phone that it could probably be done within the day. \nWhen I brought it by, the team confirmed that the jeweler would be able to accommodate my same-day request and that it would be around $40 (simple band, decrease by three full sizes).\nI checked my size one more time, confirmed, and left to let them do their thing.\nWhen I came to pick up later that afternoon, the ring was too small. It's very important to note that Shalimar sized the ring perfectly, but that I made a mistake and should've gone up a half-size.\nThe Shalimar group were completely understanding and accommodating, even resizing my ring back up and getting it back to me within an hour at no charge! Even though it was my mistake!\nThe associates' attitudes in dealing with what was a pretty embarrassing situation instantly earned my satisfaction and loyalty as a customer. Very grateful for such a wonderful experience.",
         "2015",
         "6",
         "Other categories"
        ],
        [
         "11",
         "ZbqSHbgCjzVAqaa7NKWn5A",
         "EQ-TZ2eeD_E0BHuvoaeG5Q",
         "4.0",
         "Locals recommended Milktooth, and it's an amazing jewel of Indianapolis. I'm glade I had the chance to experience this.",
         "2015",
         "8",
         "Hotels, restaurants and tourism"
        ],
        [
         "12",
         "9OAtfnWag-ajVxRbUTGIyg",
         "lj-E32x9_FA7GmUrBGBEWg",
         "4.0",
         "Love going here for happy hour or dinner!  Great patio with fans to beat the StL heat!   Also...very accomodating at this location.  I like the Veal Milanese but with mixed greens instead of pasta!  they'll modify the menu to suit your taste!",
         "2014",
         "6",
         "Hotels, restaurants and tourism"
        ],
        [
         "13",
         "smOvOajNG0lS4Pq7d8g4JQ",
         "RZtGWDLCAtuipwaZ-UfjmQ",
         "4.0",
         "Good food--loved the gnocchi with marinara\nthe baked eggplant appetizer was very good too\n\nThe service was very slow, but despite this, I'd go back, the food is just that good",
         "2009",
         "10",
         "Hotels, restaurants and tourism"
        ],
        [
         "14",
         "4Uh27DgGzsp6PqrH913giQ",
         "otQS34_MymijPTdNBoBdCw",
         "4.0",
         "The bun makes the Sonoran Dog. It's like a snuggie for the pup. A first, it seems ridiculous and almost like it's going to be too much, exactly like everyone's favorite blanket with sleeves. Too much softness, too much smush, too indulgent.  Wrong. It's warm, soft, chewy, fragrant, and it succeeds where other famed Sonoran Dogs fail. \n\nThe hot dog itself is flavorful, but I would prefer that it or the bacon have a little more bite or snap to better hold their own against the dominant mustard and onions. \n\nI'm with the masses on the carne asada caramelo. Excellent tortilla, salty, melty cheese, and great carne. \n\nSuper cheap and you can drive through.",
         "2011",
         "10",
         "Hotels, restaurants and tourism"
        ],
        [
         "15",
         "1C2lxzUo1Hyye4RFIXly3g",
         "BVndHaLihEYbr76Z0CMEGw",
         "5.0",
         "Great place for breakfast! I had the waffle, which was fluffy and perfect, and home fries which were nice and smashed and crunchy. Friendly waitstaff. Will definitely be back!",
         "2014",
         "10",
         "Hotels, restaurants and tourism"
        ],
        [
         "16",
         "Dd1jQj7S-BFGqRbApFzCFw",
         "YtSqYv1Q_pOltsVPSx54SA",
         "5.0",
         "Tremendous service (Big shout out to Douglas) that complemented the delicious food. Pretty expensive establishment (40-50$ avg for your main course), but its definitely backs that up with an atmosphere that's comparable with any of the top tier restaurants across the country.",
         "2013",
         "6",
         "Hotels, restaurants and tourism"
        ],
        [
         "17",
         "j2wlzrntrbKwyOcOiB3l3w",
         "rBdG_23USc7DletfZ11xGA",
         "4.0",
         "The hubby and I have been here on multiple occasions and we have loved every part of the meal, every single time. Everyone from the servers to the bartender is very knowledgable about the menu and was able to immediately recommend items I could eat as-is, substitute or delete to make something safe for this Celiac girl to eat. The wine and cocktail menus are spot on. The food divine.  My only wish is that they would have a gluten-free dessert, we've always had to go elsewhere for something sweet. But that is not a big deal and I still want to go here time and time again.",
         "2014",
         "8",
         "Hotels, restaurants and tourism"
        ],
        [
         "18",
         "NDZvyYHTUWWu-kqgQzzDGQ",
         "CLEWowfkj-wKYJlQDqT1aw",
         "5.0",
         "I go to blow bar to get my brows done by natalie (brow specialist) which i highly recommend she is great does a great job on my eyebrows! But then i got a blow by victoria!! Wow i was impress i have thin, straight, dead hair and she left me with the biggest volume ive ever had!!! Tried another girl but didnt like it as much so victoria will be my girl for ever; very beautiful clean place!!!",
         "2016",
         "3",
         null
        ],
        [
         "19",
         "IQsF3Rc6IgCzjVV9DE8KXg",
         "eFvzHawVJofxSnD7TgbZtg",
         "5.0",
         "My absolute favorite cafe in the city. Their black and white latte is probably the best I've ever had (not too sweet and just the right amount of foam), soups are always really good (even for non-soup people) and there's just a lot of space to do work. The noise level is perfect, the music is at a perfect level, and I always enjoy when patrons bring their dogs. I'll keep giving them my business for as long as I can.",
         "2014",
         "11",
         "Hotels, restaurants and tourism"
        ],
        [
         "20",
         "Ohhrhu1RkqfVciIVx_W5HQ",
         "nRKndeZLQ3eDL10UMwS2rQ",
         "5.0",
         "HOLY SMOKES!\n\nactual pumpkin pie mixed in with the frozen custard......are you kidding me? Why hasn't this become a huge sweep the nation treat. \n\nThe best part was the chunks of pie crust. Like finding a diamond inside another diamond. Super yummy.",
         "2009",
         "10",
         "Hotels, restaurants and tourism"
        ],
        [
         "21",
         "WBpQDAZymU0dhIqXcACGNw",
         "ut6fi2W2YaipNOqvi7e0jw",
         "3.0",
         "Upland is a brewery based out of Bloomington, Indiana that has become popular enough to open up a couple additional locations in central Indiana.  All of their beers are very good, and I am also a fan of their burgers and tenderloins.  Therefore, I was excited to try their pizza, but I don't think it ended up being on par with these other items.  My margherita pizza had a cracker-like crust and was pretty light overall.  The cheese was good, but none of the other toppings added much flavor.  There was no red sauce as is typical for a true margherita pizza.  My opinion is that Upland's pizza might serve as a nice appetizer for a group, but I'll be sticking with their burgers or tenderloins as my meal of choice on future visits.",
         "2014",
         "11",
         "Hotels, restaurants and tourism"
        ],
        [
         "22",
         "vrKkXsozqqecF3CW4cGaVQ",
         "rjuWz_AD3WfXJc03AhIO_w",
         "5.0",
         "I thoroughly enjoyed the show.  Chill way to spend a Friday night.",
         "2012",
         "12",
         "Hotels, restaurants and tourism"
        ],
        [
         "23",
         "OhECKhQEexFypOMY6kypRw",
         "vC2qm1y3Au5czBtbhc-DNw",
         "4.0",
         "Yes, this is the only sushi place in town. However, it is great when you're craving sushi and don't have time to go somewhere else. The salmon is probably the best fish they have, so we always order salmon. We also love their spicy edamame, tempura, ocean salad, and cabbage salad. Service has always been friendly and quick!",
         "2013",
         "9",
         "Hotels, restaurants and tourism"
        ],
        [
         "24",
         "RreNy--tOmXMl1en0wiBOg",
         "cPepkJeRMtHapc_b2Oe_dw",
         "4.0",
         "I was really between 3 and 4 stars for this one. I LOVE the 96th street Naked Tchopstix so I was very excited to see this one which is closer to my house.\nThe vibe is totally different as this is geared more to take out although they do have a decent size dining area. You order at the counter and they deliver it.\nMy daughter and I tried the sushi bowl. You pick up a piece of paper and  select from a choice of proteins, vegetables, rice and toppings. I like the fact that it is on paper and you don't have to guess what things are or have to shout over the counter to tell the server what you want. The sushi bowl was good but not wonderful. The choices particularly of the vegetables seemed a little too limiting and I felt I had more rice than other food items. The sauces were tasty. My husband ordered the Maui roll which is my favorite roll at the 96th street location and this just was not up that standard. It was good but the quality and consistently was not as good as at 96th street. I would go back though and I think a lot of people would be happy with the sushi bowls. I do want to make a comment about the low reviews that people have given the place because of service. People - it is a sushi place - it isn't McDonalds- so it will be a bit slower. You are not going to order and get out of there in five minutes even though it is called express. As a healthy alternative to fast food in the area, it is worth the wait. Oh and try the bubble tea. I had the strawberry and it was quite yummy. Next time I am going to try the vanilla chai.",
         "2018",
         "7",
         "Hotels, restaurants and tourism"
        ],
        [
         "25",
         "zoBajEyVA0z4IjbFsMJksg",
         "c-IgS6Pk6vMyax7Rbr38eA",
         "4.0",
         "Went for lunch. Beef brisket sandwich was awesome.   So juicy and tender.    Pulled pork was was just as good!",
         "2015",
         "6",
         "Hotels, restaurants and tourism"
        ],
        [
         "26",
         "clWLI5OZP2ad25ugMVI8gg",
         "x4XdNhp0Xn8lOivzc77J-g",
         "5.0",
         "Best thai food in the area.  Everything was authentic and delicious.  Will definitely be back again and again.",
         "2013",
         "8",
         "Other categories"
        ],
        [
         "27",
         "xVKE_HJ2pwUtTdLbL3pnCg",
         "S2Ho8yLxhKAa26pBAm6rxA",
         "3.0",
         "Service was crappy, and food was mediocre.  I wish I would have picked some other place for my last dinner in town.",
         "2016",
         "11",
         "Other categories"
        ],
        [
         "28",
         "mNsVyC9tQVYtzLOCbh2Piw",
         "MWmXGQ98KbRo3vsS5nZhMA",
         "5.0",
         "I recently had dinner here with my wife over the weekend and could not have been more pleased! \n\nOur meal was excellent! My wife and I were astounded by how quickly our food came out! Everything tasted fresh and homemade which we both appreciated. \n\nThe only problem was trying to pick something from the menu as there were too many delicious sounding items to choose from. We will definitely be returning to try more items! Can't wait to see what the next chef specials will be!",
         "2014",
         "10",
         "Hotels, restaurants and tourism"
        ],
        [
         "29",
         "-sryo4gDYxbZ1T5Bz4l5Bw",
         "ltBBYdNzkeKdCNPDAsxwAA",
         "2.0",
         "I at least have to give this restaurant two stars due to the decent food. But while on a dinner meeting and after spending $100 on entr√©es and appetizers, I had to flag down the assistant cook, (the guy in bright red baggy pants watching TV), to see if I could get more avocado for my tuna entr√©e.  He made it very apparent and direct that he could not help me with that situation and I would have to flag down my  waitress so she could bill me for the four dollar avocado.",
         "2015",
         "2",
         "Hotels, restaurants and tourism"
        ],
        [
         "30",
         "Jha0USGDMefGFRLik_xFQg",
         "bMratNjTG5ZFEA6hVyr-xQ",
         "5.0",
         "First time there and it was excellent!!! It feels like your are entering someone's home. The waiters there funny and nice. The food come out very quickly and it is phenomenal!!! Definitely will be going back to this place.",
         "2017",
         "2",
         "Hotels, restaurants and tourism"
        ],
        [
         "31",
         "4hBhtCSgoxkrFgHa4YAD-w",
         "bbEXAEFr4RYHLlZ-HFssTA",
         "5.0",
         "Great burgers,fries and salad!  Burgers have a hint of salt and pepper flavor.\n\nThis location is very quaint. They only have outdoor seating\n\nFriendly staff.\n\nStreet parking as well as parking lot in the back.",
         "2017",
         "1",
         "Hotels, restaurants and tourism"
        ],
        [
         "32",
         "QzCEzH3R7Z6erOGLr3t55Q",
         "0pMj5xUAecW9o1P35B0AMw",
         "5.0",
         "Great staff always helps and always nice. Always clean and huge store size. Stays stocked with everything you need. The staff always helps make my custom breakfast bagel",
         "2017",
         "5",
         "Hotels, restaurants and tourism"
        ],
        [
         "33",
         "yFuE8SPF-d1GXJUWYgKtzg",
         "X8lfGPagfLzfOsx0k08NRQ",
         "5.0",
         "Took my vehicle here for some work a few years ago for a manufacturer recall. Problem went away and then started hearing another noise which I thought was related, but turned out was a completely different issue. Kevin and his mechanic lifted my car right up and fixed the issue FREE OF CHARGE even though I told them I'd pay. Outstanding individuals for doing that. Highly recommend!",
         "2017",
         "5",
         "Other categories"
        ],
        [
         "34",
         "3MpDvy5gEdsbZh9-p92dHg",
         "8QnuWGVNBhzyYXGSeRdi4g",
         "4.0",
         "After my ROTD  yesterday of a different Sweet CeCe's location, I realized that I had never reviewed my local source!  Anyway, I love the product.  Love love love.  And I usually like their selection of toppings - good mix between healthy and not-so-healthy.  Sometimes the girls working there aren't really paying attention or are nowhere to be found.  Sometimes you have to remind them of their deals (like $5 Friday).  But I can't give it less than 4 stars because I just love it so much.",
         "2013",
         "10",
         "Hotels, restaurants and tourism"
        ],
        [
         "35",
         "bFPdtzu11Oi0f92EAcjqmg",
         "IDtLPgUrqorrpqSLdfMhZQ",
         "5.0",
         "What a great addition to the Funk Zone!  Grab a bite, grab some tastings, life is good. Right next door to the Santa Barbara Wine Collective, in fact it actually shares the same tables.  We had a fabulous savory croissant.",
         "2016",
         "10",
         "Hotels, restaurants and tourism"
        ],
        [
         "36",
         "wA7V8Ijgbv-16rmnwW-hjA",
         "LfYUOclwLs_SPrNAdKMjsw",
         "5.0",
         "Nice relaxing place to get a massage! Same day appointments are easy to come by! I have never been disappointed with any therapist I have had at the Center!",
         "2013",
         "11",
         "Other categories"
        ],
        [
         "37",
         "qEEk0PuoH1dVa619t8fgpw",
         "PY9GRfzr4nTZeINf346QOw",
         "4.0",
         "We checked in around 2:30 pm.  Check-in was quick and easy with complimentary valet parking (always appreciated).  The Peppermill is huge and reminded us of the Caesars Palace in Las Vegas.  They have around eight restaurants on site offering almost any type of food you could want.  The casino area is huge, rivaling almost anything you could find in Las Vegas.  One thing we noticed is that many of the slot machines were noted as being penny machines, but when you actually started to play them you realized they had minimum bets of anywhere from 30 cents to $5.  Talk about false advertising!  We were in the Tuscany Tower on the 12th floor.  Our room had a nice view of the huge pool area.  Our room was large and featured free WiFi (likewise always appreciated), a huge bathroom area with large shower (with two shower heads), TV, a large jetted bathtub and a phone next to the commode.  There were dual sinks and lots of counter space.  Plenty of towels were supplied.  The roomy main area had a king bed with night stands, closet, TV, mini fridge, dresser with two drawers, a safe, table for computer or writing, complimentary bottles of water, and three nicely upholstered chairs and table.  The thermostat did a good job controlling the temperature and keeping it comfortable.  Staff were all courteous and helpful.  A very nice place and we enjoyed our stay.",
         "2017",
         "9",
         "Other categories"
        ],
        [
         "38",
         "aFa96pz67TwOFu4Weq5Agg",
         "kq5Ghhh14r-eCxlVmlyd8w",
         "5.0",
         "My boyfriend and I tried this deli for the first time today. I had a turkey, avocado & bacon panini and he ha a buffalo chicken wrap. We will definitely be returning. The wait for food wasn't too long, which is always appreciated during lunch hour. There was SO much to choose from. They have salads, soup, macaroni, sandwiches and hot food. I love a deli that has many options to choose from!",
         "2018",
         "8",
         "Hotels, restaurants and tourism"
        ],
        [
         "39",
         "iYY5Ii1LGpZCpXFkHlMefw",
         "Zx7n8mdt8OzLRXVzolXNhQ",
         "5.0",
         "Amazing biscuits and (fill in the blank). Great cocktails too. Highly recommended. A bit busy though.",
         "2018",
         "4",
         "Hotels, restaurants and tourism"
        ],
        [
         "40",
         "yobeeTUBfaTBcnk26mXNuA",
         "hKameFsaXh9g8WQbv593UA",
         "4.0",
         "Food was good- atmosphere/decor is like a fishing lodge- menu is someplace between outback & bonefish. Went on a Groupon & all 3 of our meals & calamari appetizer that we ordered were cooked perfectly- we will def be back.",
         "2015",
         "4",
         "Hotels, restaurants and tourism"
        ],
        [
         "41",
         "EZjT2qJN0mOXypMAqZdSrQ",
         "A2q7d-CBM2-81tVkmS4JMw",
         "2.0",
         "Straight to the point, it's cheap, it tastes and feels cheap\n\nThe good: price, location, dessert (edible food items are: baked chicken, fried chicken, mashed potatoes, Salad bar lol, meat and cheese bar, ravioli, pizza) also our waitress was bomb af\n\nThe meh: behind counter meat slicing station, shrimp (not even deveined), Mexican station\n\nThe bad: breakfast -worst eggs ever, actually worst, eggs. Le Benedict can't even cut through ham or English muffin (tried on all 3 occasions), steak, shrimp again, hell breaded items can't even, don't even. Decor it's the 1970 nightmare you can imagine\n\nTried 3 times and failed",
         "2017",
         "7",
         "Hotels, restaurants and tourism"
        ],
        [
         "42",
         "G0DHgkSsDozqUPWtlxVEMw",
         "oBhJuukGRqPVvYBfTkhuZA",
         "4.0",
         "The only reason I didn't give this restaurant a 5 star rating, is because of one single pretentious waiter. As a 4 night guest at Hotel Palomar, the location of the restaurant is an obvious plus. The first night of my stay, I met a coworker in the restaurant for a cocktail. When we arrived, the host staff were busy and not available, so we just walked in. The restaurant was not too busy, so we just looked at a small table next to the bar and proceeded to take a seat. A waiter came by and I quickly asked if we could have a seat, before sitting down and told him we'd only be having cocktails. He stumbled on his reply, and in an irritated/in-convinced tone, told me \"I guess it would be fine\" and basically just kept walking mid sentence. My guest and I brushed it off, and started having a conversation while looking at the drink menu. To make a long story short, he was distant and we both got the \"couldn't be bothered\" vibe from him. When it came to the bill, we asked if it could be split due to company transaction policies, and you would have thought asked him for some inconceivable task. We basically spent the rest of our night and elevator ride to our room in shock of the rudeness we had just experienced. \n\nAlthough that situation left a bad taste in our mouth, and the night before we decided to avoid the restaurant, we decided to grab another cocktail and give this place one more try. After looking around and ensuring \"last nights waiter\" wasn't on shift, we walked over to the bar and started looking over the menu. Instantly, the bartender greeted us with pleasant small talk and made us feel 100% welcome. He asked about our day, recommended cocktails and was a completely genuine person. This guy (I think his name was Ben) is an absolute star! He gave us lessons on Whiskey, described how to make classic cocktails, and was 100% invested in our experience. This is exactly what a bartender at a 4/5 star establishment should be - actually he exceeds that. He was kind, funny, friendly and completely redeemed this restaurant/bar from our terrible experience the night before. \nI also ordered room service last night from this restaurant, and it was amazing. The bacon wrapped dates and chocolate cake are to die for! Great restaurant and amazing bartender(s). Too bad one bad egg could have spoiled this experience.",
         "2015",
         "3",
         "Hotels, restaurants and tourism"
        ],
        [
         "43",
         "RRTQpg8hutdimzAYuP_Hbw",
         "eaJCpC6IhYphj7bwCDHTwQ",
         "5.0",
         "Stopped by after a Sunday morning walk in the park - great food, coffee customer service - love the vibe in here",
         "2015",
         "8",
         "Hotels, restaurants and tourism"
        ],
        [
         "44",
         "EBa-0-6AKoy6jziNexDJtg",
         "W4ZEKkva9HpAdZG88juwyQ",
         "3.0",
         "In a word... \"OVERRATED!\".  The food took forever to come out.  The burger was WAY overcooked (Especially when I ordered it Medium Rare) and the Seafood Jumbalaya was Decent.  Not worth the price.  There are better places to eat in the french quarter.  It was not horrible, but for everything that we had heard about this place, I would have expected much better.",
         "2013",
         "12",
         "Hotels, restaurants and tourism"
        ],
        [
         "45",
         "l_izt6hn7oTxalU06mSyqg",
         "jTI5Xjk27An8ceJ6VwpXiQ",
         "4.0",
         "Comfortable bed, good breakfast, fast internet, great location, and low price. Overall I was really impressed with this place. However, if you stay on the top floors you may be waiting up to 15 minutes for an elevator in the morning.",
         "2013",
         "8",
         "Hotels, restaurants and tourism"
        ],
        [
         "46",
         "Z2cOL3n9V8NoguJ-uU_Nvw",
         "j8JOZvfeHEfUWq3gEz6ABQ",
         "2.0",
         "NEVER AGAIN. This is a so called restaurant that does nothing that a restaurant should other than prepare food, because the rest is done by the patron. Want water? Get up and go across the yard to get it. Want a drink, walk up a flight of stairs and pay cash. Want to sit in a dirty yard in dirty lawn chairs, enjoy yourself. The wait staff is mildy helpful in that they bring you your food after you go to the window and pay cash for it...kind of like New Orleans Hamburger and Seafood, but dirty and with live music (which is nice). It's a one in a lifetime experience for me...just once.",
         "2014",
         "6",
         "Hotels, restaurants and tourism"
        ],
        [
         "47",
         "OuatwND396ZQxm2zK8WlUQ",
         "jNL5KUPz2-tHUJM__ysSaw",
         "1.0",
         "If you want to pay for everything a la carte this is the place for you.  \nFood wasn't terrible not impressive.\nThey brought a basket of chips and some tomato sauce which I asked politely for something spicier and some pico de gallo.  She brought them happily to me and the salsa was much better.  When asked what we would like to drink I asked for a coke and she brought out a bottle which I stated I wanted the fountain drink.  She said \"oh that's only Pepsi\".  Never mentioned that they only had bottle drinks for coke.  \nWe ordered our food which was reasonably priced, asked for sour cream and also to put cheese on the taco.  She let us know cheese was extra.  \nIt was $2.50 extra for another basket of chips.  \nWhen I received the bill we paid more for the condiments then the actual food.  Side of sour cream 2.00, pico de gallo 2.50, salsa 2.00, chips 2.50, cheese 1.00 and the bottled coke that we didn't want 5.00.  \nJust a suggestion...when you order anything make sure to ask if there is an extra charge.",
         "2014",
         "8",
         "Hotels, restaurants and tourism"
        ],
        [
         "48",
         "S7bjj-L07JuRr-tpX1UZLw",
         "I6L0Zxi5Ww0zEWSAVgngeQ",
         "4.0",
         "The cafe was extremely cute. We came at 8am and they even had a jazz band playing at that time. I got the breakfast sandwich and it was delicious. I loved how they rolled the egg and put the bacon pieces inside. Great price for a filling breakfast!",
         "2018",
         "7",
         "Hotels, restaurants and tourism"
        ],
        [
         "49",
         "ZGjgfSvjQK886kiTzLwfLQ",
         "EtKSTHV5Qx_Q7Aur9o4kQQ",
         "5.0",
         "On a scale of one to things that are awesome, this place is the bomb. \n\nI was drawn in by the promise of the duckfat frenchfries. Took the boy for his birthday and put our name in, had a drink around the corner while we waited and were given seats at the bar after about 45 minutes. \n\nWe were waited on by Keith, the bartender, who was congenial, knowledgeable about his whiskeys and an all-around cool guy. We started with 3 cape may salts (two for me, one for the boy) and tater tots, both of which made me happy.\n\nFor dinner, I got Kentucky Fried Quail (stellar, though the succotash was not as exciting as I wanted it to be) and the boy got the 24$ Fois Gras burger, which was incredible. Worth every penny. The duckfat fries were pretty yummy, but not even the best part of the meal. I could've done without the cheese sauce, but as it was on the side I wasn't deterred.\n\nI look forward to coming back here, with everyone I know.",
         "2009",
         "10",
         "Hotels, restaurants and tourism"
        ]
       ],
       "shape": {
        "columns": 7,
        "rows": 6986504
       }
      },
      "text/html": [
       "<div>\n",
       "<style scoped>\n",
       "    .dataframe tbody tr th:only-of-type {\n",
       "        vertical-align: middle;\n",
       "    }\n",
       "\n",
       "    .dataframe tbody tr th {\n",
       "        vertical-align: top;\n",
       "    }\n",
       "\n",
       "    .dataframe thead th {\n",
       "        text-align: right;\n",
       "    }\n",
       "</style>\n",
       "<table border=\"1\" class=\"dataframe\">\n",
       "  <thead>\n",
       "    <tr style=\"text-align: right;\">\n",
       "      <th></th>\n",
       "      <th>user_id</th>\n",
       "      <th>business_id</th>\n",
       "      <th>stars</th>\n",
       "      <th>text</th>\n",
       "      <th>año</th>\n",
       "      <th>mes</th>\n",
       "      <th>subcategory</th>\n",
       "    </tr>\n",
       "  </thead>\n",
       "  <tbody>\n",
       "    <tr>\n",
       "      <th>0</th>\n",
       "      <td>mh_-eMZ6K5RLWhZyISBhwA</td>\n",
       "      <td>XQfwVwDr-v0ZS3_CbbE5Xw</td>\n",
       "      <td>3.0</td>\n",
       "      <td>If you decide to eat here, just be aware it is...</td>\n",
       "      <td>2018</td>\n",
       "      <td>7</td>\n",
       "      <td>Hotels, restaurants and tourism</td>\n",
       "    </tr>\n",
       "    <tr>\n",
       "      <th>1</th>\n",
       "      <td>OyoGAe7OKpv6SyGZT5g77Q</td>\n",
       "      <td>7ATYjTIgM3jUlt4UM3IypQ</td>\n",
       "      <td>5.0</td>\n",
       "      <td>I've taken a lot of spin classes over the year...</td>\n",
       "      <td>2012</td>\n",
       "      <td>1</td>\n",
       "      <td>Other categories</td>\n",
       "    </tr>\n",
       "    <tr>\n",
       "      <th>2</th>\n",
       "      <td>8g_iMtfSiwikVnbP2etR0A</td>\n",
       "      <td>YjUWPpI6HXG530lwP-fb2A</td>\n",
       "      <td>3.0</td>\n",
       "      <td>Family diner. Had the buffet. Eclectic assortm...</td>\n",
       "      <td>2014</td>\n",
       "      <td>2</td>\n",
       "      <td>Hotels, restaurants and tourism</td>\n",
       "    </tr>\n",
       "    <tr>\n",
       "      <th>3</th>\n",
       "      <td>_7bHUi9Uuf5__HHc_Q8guQ</td>\n",
       "      <td>kxX2SOes4o-D3ZQBkiMRfA</td>\n",
       "      <td>5.0</td>\n",
       "      <td>Wow!  Yummy, different,  delicious.   Our favo...</td>\n",
       "      <td>2015</td>\n",
       "      <td>1</td>\n",
       "      <td>Other categories</td>\n",
       "    </tr>\n",
       "    <tr>\n",
       "      <th>4</th>\n",
       "      <td>bcjbaE6dDog4jkNY91ncLQ</td>\n",
       "      <td>e4Vwtrqf-wpJfwesgvdgxQ</td>\n",
       "      <td>4.0</td>\n",
       "      <td>Cute interior and owner (?) gave us tour of up...</td>\n",
       "      <td>2017</td>\n",
       "      <td>1</td>\n",
       "      <td>Hotels, restaurants and tourism</td>\n",
       "    </tr>\n",
       "    <tr>\n",
       "      <th>...</th>\n",
       "      <td>...</td>\n",
       "      <td>...</td>\n",
       "      <td>...</td>\n",
       "      <td>...</td>\n",
       "      <td>...</td>\n",
       "      <td>...</td>\n",
       "      <td>...</td>\n",
       "    </tr>\n",
       "    <tr>\n",
       "      <th>6986499</th>\n",
       "      <td>qskILQ3k0I_qcCMI-k6_QQ</td>\n",
       "      <td>jals67o91gcrD4DC81Vk6w</td>\n",
       "      <td>5.0</td>\n",
       "      <td>Latest addition to services from ICCU is Apple...</td>\n",
       "      <td>2014</td>\n",
       "      <td>12</td>\n",
       "      <td>NaN</td>\n",
       "    </tr>\n",
       "    <tr>\n",
       "      <th>6986500</th>\n",
       "      <td>Zo0th2m8Ez4gLSbHftiQvg</td>\n",
       "      <td>2vLksaMmSEcGbjI5gywpZA</td>\n",
       "      <td>5.0</td>\n",
       "      <td>This spot offers a great, affordable east week...</td>\n",
       "      <td>2021</td>\n",
       "      <td>3</td>\n",
       "      <td>Other categories</td>\n",
       "    </tr>\n",
       "    <tr>\n",
       "      <th>6986501</th>\n",
       "      <td>mm6E4FbCMwJmb7kPDZ5v2Q</td>\n",
       "      <td>R1khUUxidqfaJmcpmGd4aw</td>\n",
       "      <td>4.0</td>\n",
       "      <td>This Home Depot won me over when I needed to g...</td>\n",
       "      <td>2019</td>\n",
       "      <td>12</td>\n",
       "      <td>Other categories</td>\n",
       "    </tr>\n",
       "    <tr>\n",
       "      <th>6986502</th>\n",
       "      <td>YwAMC-jvZ1fvEUum6QkEkw</td>\n",
       "      <td>Rr9kKArrMhSLVE9a53q-aA</td>\n",
       "      <td>5.0</td>\n",
       "      <td>For when I'm feeling like ignoring my calorie-...</td>\n",
       "      <td>2022</td>\n",
       "      <td>1</td>\n",
       "      <td>Other categories</td>\n",
       "    </tr>\n",
       "    <tr>\n",
       "      <th>6986503</th>\n",
       "      <td>6JehEvdoCvZPJ_XIxnzIIw</td>\n",
       "      <td>VAeEXLbEcI9Emt9KGYq9aA</td>\n",
       "      <td>3.0</td>\n",
       "      <td>Located in the 'Walking District' in Nashville...</td>\n",
       "      <td>2018</td>\n",
       "      <td>1</td>\n",
       "      <td>Hotels, restaurants and tourism</td>\n",
       "    </tr>\n",
       "  </tbody>\n",
       "</table>\n",
       "<p>6986504 rows × 7 columns</p>\n",
       "</div>"
      ],
      "text/plain": [
       "                        user_id             business_id  stars  \\\n",
       "0        mh_-eMZ6K5RLWhZyISBhwA  XQfwVwDr-v0ZS3_CbbE5Xw    3.0   \n",
       "1        OyoGAe7OKpv6SyGZT5g77Q  7ATYjTIgM3jUlt4UM3IypQ    5.0   \n",
       "2        8g_iMtfSiwikVnbP2etR0A  YjUWPpI6HXG530lwP-fb2A    3.0   \n",
       "3        _7bHUi9Uuf5__HHc_Q8guQ  kxX2SOes4o-D3ZQBkiMRfA    5.0   \n",
       "4        bcjbaE6dDog4jkNY91ncLQ  e4Vwtrqf-wpJfwesgvdgxQ    4.0   \n",
       "...                         ...                     ...    ...   \n",
       "6986499  qskILQ3k0I_qcCMI-k6_QQ  jals67o91gcrD4DC81Vk6w    5.0   \n",
       "6986500  Zo0th2m8Ez4gLSbHftiQvg  2vLksaMmSEcGbjI5gywpZA    5.0   \n",
       "6986501  mm6E4FbCMwJmb7kPDZ5v2Q  R1khUUxidqfaJmcpmGd4aw    4.0   \n",
       "6986502  YwAMC-jvZ1fvEUum6QkEkw  Rr9kKArrMhSLVE9a53q-aA    5.0   \n",
       "6986503  6JehEvdoCvZPJ_XIxnzIIw  VAeEXLbEcI9Emt9KGYq9aA    3.0   \n",
       "\n",
       "                                                      text   año  mes  \\\n",
       "0        If you decide to eat here, just be aware it is...  2018    7   \n",
       "1        I've taken a lot of spin classes over the year...  2012    1   \n",
       "2        Family diner. Had the buffet. Eclectic assortm...  2014    2   \n",
       "3        Wow!  Yummy, different,  delicious.   Our favo...  2015    1   \n",
       "4        Cute interior and owner (?) gave us tour of up...  2017    1   \n",
       "...                                                    ...   ...  ...   \n",
       "6986499  Latest addition to services from ICCU is Apple...  2014   12   \n",
       "6986500  This spot offers a great, affordable east week...  2021    3   \n",
       "6986501  This Home Depot won me over when I needed to g...  2019   12   \n",
       "6986502  For when I'm feeling like ignoring my calorie-...  2022    1   \n",
       "6986503  Located in the 'Walking District' in Nashville...  2018    1   \n",
       "\n",
       "                             subcategory  \n",
       "0        Hotels, restaurants and tourism  \n",
       "1                       Other categories  \n",
       "2        Hotels, restaurants and tourism  \n",
       "3                       Other categories  \n",
       "4        Hotels, restaurants and tourism  \n",
       "...                                  ...  \n",
       "6986499                              NaN  \n",
       "6986500                 Other categories  \n",
       "6986501                 Other categories  \n",
       "6986502                 Other categories  \n",
       "6986503  Hotels, restaurants and tourism  \n",
       "\n",
       "[6986504 rows x 7 columns]"
      ]
     },
     "execution_count": 13,
     "metadata": {},
     "output_type": "execute_result"
    }
   ],
   "source": [
    "df_merged"
   ]
  },
  {
   "cell_type": "code",
   "execution_count": 14,
   "metadata": {},
   "outputs": [],
   "source": [
    "df_merged = df_merged[df_merged['subcategory'].str.strip() == 'Hotels, restaurants and tourism']"
   ]
  },
  {
   "cell_type": "code",
   "execution_count": 15,
   "metadata": {},
   "outputs": [
    {
     "data": {
      "application/vnd.microsoft.datawrangler.viewer.v0+json": {
       "columns": [
        {
         "name": "index",
         "rawType": "int64",
         "type": "integer"
        },
        {
         "name": "user_id",
         "rawType": "object",
         "type": "string"
        },
        {
         "name": "business_id",
         "rawType": "object",
         "type": "string"
        },
        {
         "name": "stars",
         "rawType": "float64",
         "type": "float"
        },
        {
         "name": "text",
         "rawType": "object",
         "type": "string"
        },
        {
         "name": "año",
         "rawType": "int64",
         "type": "integer"
        },
        {
         "name": "mes",
         "rawType": "int64",
         "type": "integer"
        },
        {
         "name": "subcategory",
         "rawType": "object",
         "type": "string"
        }
       ],
       "conversionMethod": "pd.DataFrame",
       "ref": "3f807b64-fe21-4962-8e19-84f7187bb6c1",
       "rows": [
        [
         "0",
         "mh_-eMZ6K5RLWhZyISBhwA",
         "XQfwVwDr-v0ZS3_CbbE5Xw",
         "3.0",
         "If you decide to eat here, just be aware it is going to take about 2 hours from beginning to end. We have tried it multiple times, because I want to like it! I have been to it's other locations in NJ and never had a bad experience. \n\nThe food is good, but it takes a very long time to come out. The waitstaff is very young, but usually pleasant. We have just had too many experiences where we spent way too long waiting. We usually opt for another diner or restaurant on the weekends, in order to be done quicker.",
         "2018",
         "7",
         "Hotels, restaurants and tourism"
        ],
        [
         "2",
         "8g_iMtfSiwikVnbP2etR0A",
         "YjUWPpI6HXG530lwP-fb2A",
         "3.0",
         "Family diner. Had the buffet. Eclectic assortment: a large chicken leg, fried jalape√±o, tamale, two rolled grape leaves, fresh melon. All good. Lots of Mexican choices there. Also has a menu with breakfast served all day long. Friendly, attentive staff. Good place for a casual relaxed meal with no expectations. Next to the Clarion Hotel.",
         "2014",
         "2",
         "Hotels, restaurants and tourism"
        ],
        [
         "4",
         "bcjbaE6dDog4jkNY91ncLQ",
         "e4Vwtrqf-wpJfwesgvdgxQ",
         "4.0",
         "Cute interior and owner (?) gave us tour of upcoming patio/rooftop area which will be great on beautiful days like today. Cheese curds were very good and very filling. Really like that sandwiches come w salad, esp after eating too many curds! Had the onion, gruyere, tomato sandwich. Wasn't too much cheese which I liked. Needed something else...pepper jelly maybe. Would like to see more menu options added such as salads w fun cheeses. Lots of beer and wine as well as limited cocktails. Next time I will try one of the draft wines.",
         "2017",
         "1",
         "Hotels, restaurants and tourism"
        ],
        [
         "7",
         "yfFzsLmaWF2d4Sr0UNbBgg",
         "LHSTtnW3YHCeUkRDGyJOyw",
         "5.0",
         "Amazingly amazing wings and homemade bleu cheese. Had the ribeye: tender, perfectly prepared, delicious. Nice selection of craft beers. Would DEFINITELY recommend checking out this hidden gem.",
         "2015",
         "8",
         "Hotels, restaurants and tourism"
        ],
        [
         "9",
         "59MxRhNVhU9MYndMkz0wtw",
         "gebiRewfieSdtt17PTW6Zg",
         "3.0",
         "Had a party of 6 here for hibachi. Our waitress brought our separate sushi orders on one plate so we couldn't really tell who's was who's and forgot several items on an order. I understand making mistakes but the restaraunt was really quiet so we were kind of surprised. Usually hibachi is a fun lively experience and our  cook  said maybe three words, but he cooked very well his name was Francisco. Service was fishy, food was pretty good, and im hoping it was just an off night here. But for the money I wouldn't go back.",
         "2016",
         "7",
         "Hotels, restaurants and tourism"
        ],
        [
         "11",
         "ZbqSHbgCjzVAqaa7NKWn5A",
         "EQ-TZ2eeD_E0BHuvoaeG5Q",
         "4.0",
         "Locals recommended Milktooth, and it's an amazing jewel of Indianapolis. I'm glade I had the chance to experience this.",
         "2015",
         "8",
         "Hotels, restaurants and tourism"
        ],
        [
         "12",
         "9OAtfnWag-ajVxRbUTGIyg",
         "lj-E32x9_FA7GmUrBGBEWg",
         "4.0",
         "Love going here for happy hour or dinner!  Great patio with fans to beat the StL heat!   Also...very accomodating at this location.  I like the Veal Milanese but with mixed greens instead of pasta!  they'll modify the menu to suit your taste!",
         "2014",
         "6",
         "Hotels, restaurants and tourism"
        ],
        [
         "13",
         "smOvOajNG0lS4Pq7d8g4JQ",
         "RZtGWDLCAtuipwaZ-UfjmQ",
         "4.0",
         "Good food--loved the gnocchi with marinara\nthe baked eggplant appetizer was very good too\n\nThe service was very slow, but despite this, I'd go back, the food is just that good",
         "2009",
         "10",
         "Hotels, restaurants and tourism"
        ],
        [
         "14",
         "4Uh27DgGzsp6PqrH913giQ",
         "otQS34_MymijPTdNBoBdCw",
         "4.0",
         "The bun makes the Sonoran Dog. It's like a snuggie for the pup. A first, it seems ridiculous and almost like it's going to be too much, exactly like everyone's favorite blanket with sleeves. Too much softness, too much smush, too indulgent.  Wrong. It's warm, soft, chewy, fragrant, and it succeeds where other famed Sonoran Dogs fail. \n\nThe hot dog itself is flavorful, but I would prefer that it or the bacon have a little more bite or snap to better hold their own against the dominant mustard and onions. \n\nI'm with the masses on the carne asada caramelo. Excellent tortilla, salty, melty cheese, and great carne. \n\nSuper cheap and you can drive through.",
         "2011",
         "10",
         "Hotels, restaurants and tourism"
        ],
        [
         "15",
         "1C2lxzUo1Hyye4RFIXly3g",
         "BVndHaLihEYbr76Z0CMEGw",
         "5.0",
         "Great place for breakfast! I had the waffle, which was fluffy and perfect, and home fries which were nice and smashed and crunchy. Friendly waitstaff. Will definitely be back!",
         "2014",
         "10",
         "Hotels, restaurants and tourism"
        ],
        [
         "16",
         "Dd1jQj7S-BFGqRbApFzCFw",
         "YtSqYv1Q_pOltsVPSx54SA",
         "5.0",
         "Tremendous service (Big shout out to Douglas) that complemented the delicious food. Pretty expensive establishment (40-50$ avg for your main course), but its definitely backs that up with an atmosphere that's comparable with any of the top tier restaurants across the country.",
         "2013",
         "6",
         "Hotels, restaurants and tourism"
        ],
        [
         "17",
         "j2wlzrntrbKwyOcOiB3l3w",
         "rBdG_23USc7DletfZ11xGA",
         "4.0",
         "The hubby and I have been here on multiple occasions and we have loved every part of the meal, every single time. Everyone from the servers to the bartender is very knowledgable about the menu and was able to immediately recommend items I could eat as-is, substitute or delete to make something safe for this Celiac girl to eat. The wine and cocktail menus are spot on. The food divine.  My only wish is that they would have a gluten-free dessert, we've always had to go elsewhere for something sweet. But that is not a big deal and I still want to go here time and time again.",
         "2014",
         "8",
         "Hotels, restaurants and tourism"
        ],
        [
         "19",
         "IQsF3Rc6IgCzjVV9DE8KXg",
         "eFvzHawVJofxSnD7TgbZtg",
         "5.0",
         "My absolute favorite cafe in the city. Their black and white latte is probably the best I've ever had (not too sweet and just the right amount of foam), soups are always really good (even for non-soup people) and there's just a lot of space to do work. The noise level is perfect, the music is at a perfect level, and I always enjoy when patrons bring their dogs. I'll keep giving them my business for as long as I can.",
         "2014",
         "11",
         "Hotels, restaurants and tourism"
        ],
        [
         "20",
         "Ohhrhu1RkqfVciIVx_W5HQ",
         "nRKndeZLQ3eDL10UMwS2rQ",
         "5.0",
         "HOLY SMOKES!\n\nactual pumpkin pie mixed in with the frozen custard......are you kidding me? Why hasn't this become a huge sweep the nation treat. \n\nThe best part was the chunks of pie crust. Like finding a diamond inside another diamond. Super yummy.",
         "2009",
         "10",
         "Hotels, restaurants and tourism"
        ],
        [
         "21",
         "WBpQDAZymU0dhIqXcACGNw",
         "ut6fi2W2YaipNOqvi7e0jw",
         "3.0",
         "Upland is a brewery based out of Bloomington, Indiana that has become popular enough to open up a couple additional locations in central Indiana.  All of their beers are very good, and I am also a fan of their burgers and tenderloins.  Therefore, I was excited to try their pizza, but I don't think it ended up being on par with these other items.  My margherita pizza had a cracker-like crust and was pretty light overall.  The cheese was good, but none of the other toppings added much flavor.  There was no red sauce as is typical for a true margherita pizza.  My opinion is that Upland's pizza might serve as a nice appetizer for a group, but I'll be sticking with their burgers or tenderloins as my meal of choice on future visits.",
         "2014",
         "11",
         "Hotels, restaurants and tourism"
        ],
        [
         "22",
         "vrKkXsozqqecF3CW4cGaVQ",
         "rjuWz_AD3WfXJc03AhIO_w",
         "5.0",
         "I thoroughly enjoyed the show.  Chill way to spend a Friday night.",
         "2012",
         "12",
         "Hotels, restaurants and tourism"
        ],
        [
         "23",
         "OhECKhQEexFypOMY6kypRw",
         "vC2qm1y3Au5czBtbhc-DNw",
         "4.0",
         "Yes, this is the only sushi place in town. However, it is great when you're craving sushi and don't have time to go somewhere else. The salmon is probably the best fish they have, so we always order salmon. We also love their spicy edamame, tempura, ocean salad, and cabbage salad. Service has always been friendly and quick!",
         "2013",
         "9",
         "Hotels, restaurants and tourism"
        ],
        [
         "24",
         "RreNy--tOmXMl1en0wiBOg",
         "cPepkJeRMtHapc_b2Oe_dw",
         "4.0",
         "I was really between 3 and 4 stars for this one. I LOVE the 96th street Naked Tchopstix so I was very excited to see this one which is closer to my house.\nThe vibe is totally different as this is geared more to take out although they do have a decent size dining area. You order at the counter and they deliver it.\nMy daughter and I tried the sushi bowl. You pick up a piece of paper and  select from a choice of proteins, vegetables, rice and toppings. I like the fact that it is on paper and you don't have to guess what things are or have to shout over the counter to tell the server what you want. The sushi bowl was good but not wonderful. The choices particularly of the vegetables seemed a little too limiting and I felt I had more rice than other food items. The sauces were tasty. My husband ordered the Maui roll which is my favorite roll at the 96th street location and this just was not up that standard. It was good but the quality and consistently was not as good as at 96th street. I would go back though and I think a lot of people would be happy with the sushi bowls. I do want to make a comment about the low reviews that people have given the place because of service. People - it is a sushi place - it isn't McDonalds- so it will be a bit slower. You are not going to order and get out of there in five minutes even though it is called express. As a healthy alternative to fast food in the area, it is worth the wait. Oh and try the bubble tea. I had the strawberry and it was quite yummy. Next time I am going to try the vanilla chai.",
         "2018",
         "7",
         "Hotels, restaurants and tourism"
        ],
        [
         "25",
         "zoBajEyVA0z4IjbFsMJksg",
         "c-IgS6Pk6vMyax7Rbr38eA",
         "4.0",
         "Went for lunch. Beef brisket sandwich was awesome.   So juicy and tender.    Pulled pork was was just as good!",
         "2015",
         "6",
         "Hotels, restaurants and tourism"
        ],
        [
         "28",
         "mNsVyC9tQVYtzLOCbh2Piw",
         "MWmXGQ98KbRo3vsS5nZhMA",
         "5.0",
         "I recently had dinner here with my wife over the weekend and could not have been more pleased! \n\nOur meal was excellent! My wife and I were astounded by how quickly our food came out! Everything tasted fresh and homemade which we both appreciated. \n\nThe only problem was trying to pick something from the menu as there were too many delicious sounding items to choose from. We will definitely be returning to try more items! Can't wait to see what the next chef specials will be!",
         "2014",
         "10",
         "Hotels, restaurants and tourism"
        ],
        [
         "29",
         "-sryo4gDYxbZ1T5Bz4l5Bw",
         "ltBBYdNzkeKdCNPDAsxwAA",
         "2.0",
         "I at least have to give this restaurant two stars due to the decent food. But while on a dinner meeting and after spending $100 on entr√©es and appetizers, I had to flag down the assistant cook, (the guy in bright red baggy pants watching TV), to see if I could get more avocado for my tuna entr√©e.  He made it very apparent and direct that he could not help me with that situation and I would have to flag down my  waitress so she could bill me for the four dollar avocado.",
         "2015",
         "2",
         "Hotels, restaurants and tourism"
        ],
        [
         "30",
         "Jha0USGDMefGFRLik_xFQg",
         "bMratNjTG5ZFEA6hVyr-xQ",
         "5.0",
         "First time there and it was excellent!!! It feels like your are entering someone's home. The waiters there funny and nice. The food come out very quickly and it is phenomenal!!! Definitely will be going back to this place.",
         "2017",
         "2",
         "Hotels, restaurants and tourism"
        ],
        [
         "31",
         "4hBhtCSgoxkrFgHa4YAD-w",
         "bbEXAEFr4RYHLlZ-HFssTA",
         "5.0",
         "Great burgers,fries and salad!  Burgers have a hint of salt and pepper flavor.\n\nThis location is very quaint. They only have outdoor seating\n\nFriendly staff.\n\nStreet parking as well as parking lot in the back.",
         "2017",
         "1",
         "Hotels, restaurants and tourism"
        ],
        [
         "32",
         "QzCEzH3R7Z6erOGLr3t55Q",
         "0pMj5xUAecW9o1P35B0AMw",
         "5.0",
         "Great staff always helps and always nice. Always clean and huge store size. Stays stocked with everything you need. The staff always helps make my custom breakfast bagel",
         "2017",
         "5",
         "Hotels, restaurants and tourism"
        ],
        [
         "34",
         "3MpDvy5gEdsbZh9-p92dHg",
         "8QnuWGVNBhzyYXGSeRdi4g",
         "4.0",
         "After my ROTD  yesterday of a different Sweet CeCe's location, I realized that I had never reviewed my local source!  Anyway, I love the product.  Love love love.  And I usually like their selection of toppings - good mix between healthy and not-so-healthy.  Sometimes the girls working there aren't really paying attention or are nowhere to be found.  Sometimes you have to remind them of their deals (like $5 Friday).  But I can't give it less than 4 stars because I just love it so much.",
         "2013",
         "10",
         "Hotels, restaurants and tourism"
        ],
        [
         "35",
         "bFPdtzu11Oi0f92EAcjqmg",
         "IDtLPgUrqorrpqSLdfMhZQ",
         "5.0",
         "What a great addition to the Funk Zone!  Grab a bite, grab some tastings, life is good. Right next door to the Santa Barbara Wine Collective, in fact it actually shares the same tables.  We had a fabulous savory croissant.",
         "2016",
         "10",
         "Hotels, restaurants and tourism"
        ],
        [
         "38",
         "aFa96pz67TwOFu4Weq5Agg",
         "kq5Ghhh14r-eCxlVmlyd8w",
         "5.0",
         "My boyfriend and I tried this deli for the first time today. I had a turkey, avocado & bacon panini and he ha a buffalo chicken wrap. We will definitely be returning. The wait for food wasn't too long, which is always appreciated during lunch hour. There was SO much to choose from. They have salads, soup, macaroni, sandwiches and hot food. I love a deli that has many options to choose from!",
         "2018",
         "8",
         "Hotels, restaurants and tourism"
        ],
        [
         "39",
         "iYY5Ii1LGpZCpXFkHlMefw",
         "Zx7n8mdt8OzLRXVzolXNhQ",
         "5.0",
         "Amazing biscuits and (fill in the blank). Great cocktails too. Highly recommended. A bit busy though.",
         "2018",
         "4",
         "Hotels, restaurants and tourism"
        ],
        [
         "40",
         "yobeeTUBfaTBcnk26mXNuA",
         "hKameFsaXh9g8WQbv593UA",
         "4.0",
         "Food was good- atmosphere/decor is like a fishing lodge- menu is someplace between outback & bonefish. Went on a Groupon & all 3 of our meals & calamari appetizer that we ordered were cooked perfectly- we will def be back.",
         "2015",
         "4",
         "Hotels, restaurants and tourism"
        ],
        [
         "41",
         "EZjT2qJN0mOXypMAqZdSrQ",
         "A2q7d-CBM2-81tVkmS4JMw",
         "2.0",
         "Straight to the point, it's cheap, it tastes and feels cheap\n\nThe good: price, location, dessert (edible food items are: baked chicken, fried chicken, mashed potatoes, Salad bar lol, meat and cheese bar, ravioli, pizza) also our waitress was bomb af\n\nThe meh: behind counter meat slicing station, shrimp (not even deveined), Mexican station\n\nThe bad: breakfast -worst eggs ever, actually worst, eggs. Le Benedict can't even cut through ham or English muffin (tried on all 3 occasions), steak, shrimp again, hell breaded items can't even, don't even. Decor it's the 1970 nightmare you can imagine\n\nTried 3 times and failed",
         "2017",
         "7",
         "Hotels, restaurants and tourism"
        ],
        [
         "42",
         "G0DHgkSsDozqUPWtlxVEMw",
         "oBhJuukGRqPVvYBfTkhuZA",
         "4.0",
         "The only reason I didn't give this restaurant a 5 star rating, is because of one single pretentious waiter. As a 4 night guest at Hotel Palomar, the location of the restaurant is an obvious plus. The first night of my stay, I met a coworker in the restaurant for a cocktail. When we arrived, the host staff were busy and not available, so we just walked in. The restaurant was not too busy, so we just looked at a small table next to the bar and proceeded to take a seat. A waiter came by and I quickly asked if we could have a seat, before sitting down and told him we'd only be having cocktails. He stumbled on his reply, and in an irritated/in-convinced tone, told me \"I guess it would be fine\" and basically just kept walking mid sentence. My guest and I brushed it off, and started having a conversation while looking at the drink menu. To make a long story short, he was distant and we both got the \"couldn't be bothered\" vibe from him. When it came to the bill, we asked if it could be split due to company transaction policies, and you would have thought asked him for some inconceivable task. We basically spent the rest of our night and elevator ride to our room in shock of the rudeness we had just experienced. \n\nAlthough that situation left a bad taste in our mouth, and the night before we decided to avoid the restaurant, we decided to grab another cocktail and give this place one more try. After looking around and ensuring \"last nights waiter\" wasn't on shift, we walked over to the bar and started looking over the menu. Instantly, the bartender greeted us with pleasant small talk and made us feel 100% welcome. He asked about our day, recommended cocktails and was a completely genuine person. This guy (I think his name was Ben) is an absolute star! He gave us lessons on Whiskey, described how to make classic cocktails, and was 100% invested in our experience. This is exactly what a bartender at a 4/5 star establishment should be - actually he exceeds that. He was kind, funny, friendly and completely redeemed this restaurant/bar from our terrible experience the night before. \nI also ordered room service last night from this restaurant, and it was amazing. The bacon wrapped dates and chocolate cake are to die for! Great restaurant and amazing bartender(s). Too bad one bad egg could have spoiled this experience.",
         "2015",
         "3",
         "Hotels, restaurants and tourism"
        ],
        [
         "43",
         "RRTQpg8hutdimzAYuP_Hbw",
         "eaJCpC6IhYphj7bwCDHTwQ",
         "5.0",
         "Stopped by after a Sunday morning walk in the park - great food, coffee customer service - love the vibe in here",
         "2015",
         "8",
         "Hotels, restaurants and tourism"
        ],
        [
         "44",
         "EBa-0-6AKoy6jziNexDJtg",
         "W4ZEKkva9HpAdZG88juwyQ",
         "3.0",
         "In a word... \"OVERRATED!\".  The food took forever to come out.  The burger was WAY overcooked (Especially when I ordered it Medium Rare) and the Seafood Jumbalaya was Decent.  Not worth the price.  There are better places to eat in the french quarter.  It was not horrible, but for everything that we had heard about this place, I would have expected much better.",
         "2013",
         "12",
         "Hotels, restaurants and tourism"
        ],
        [
         "45",
         "l_izt6hn7oTxalU06mSyqg",
         "jTI5Xjk27An8ceJ6VwpXiQ",
         "4.0",
         "Comfortable bed, good breakfast, fast internet, great location, and low price. Overall I was really impressed with this place. However, if you stay on the top floors you may be waiting up to 15 minutes for an elevator in the morning.",
         "2013",
         "8",
         "Hotels, restaurants and tourism"
        ],
        [
         "46",
         "Z2cOL3n9V8NoguJ-uU_Nvw",
         "j8JOZvfeHEfUWq3gEz6ABQ",
         "2.0",
         "NEVER AGAIN. This is a so called restaurant that does nothing that a restaurant should other than prepare food, because the rest is done by the patron. Want water? Get up and go across the yard to get it. Want a drink, walk up a flight of stairs and pay cash. Want to sit in a dirty yard in dirty lawn chairs, enjoy yourself. The wait staff is mildy helpful in that they bring you your food after you go to the window and pay cash for it...kind of like New Orleans Hamburger and Seafood, but dirty and with live music (which is nice). It's a one in a lifetime experience for me...just once.",
         "2014",
         "6",
         "Hotels, restaurants and tourism"
        ],
        [
         "47",
         "OuatwND396ZQxm2zK8WlUQ",
         "jNL5KUPz2-tHUJM__ysSaw",
         "1.0",
         "If you want to pay for everything a la carte this is the place for you.  \nFood wasn't terrible not impressive.\nThey brought a basket of chips and some tomato sauce which I asked politely for something spicier and some pico de gallo.  She brought them happily to me and the salsa was much better.  When asked what we would like to drink I asked for a coke and she brought out a bottle which I stated I wanted the fountain drink.  She said \"oh that's only Pepsi\".  Never mentioned that they only had bottle drinks for coke.  \nWe ordered our food which was reasonably priced, asked for sour cream and also to put cheese on the taco.  She let us know cheese was extra.  \nIt was $2.50 extra for another basket of chips.  \nWhen I received the bill we paid more for the condiments then the actual food.  Side of sour cream 2.00, pico de gallo 2.50, salsa 2.00, chips 2.50, cheese 1.00 and the bottled coke that we didn't want 5.00.  \nJust a suggestion...when you order anything make sure to ask if there is an extra charge.",
         "2014",
         "8",
         "Hotels, restaurants and tourism"
        ],
        [
         "48",
         "S7bjj-L07JuRr-tpX1UZLw",
         "I6L0Zxi5Ww0zEWSAVgngeQ",
         "4.0",
         "The cafe was extremely cute. We came at 8am and they even had a jazz band playing at that time. I got the breakfast sandwich and it was delicious. I loved how they rolled the egg and put the bacon pieces inside. Great price for a filling breakfast!",
         "2018",
         "7",
         "Hotels, restaurants and tourism"
        ],
        [
         "49",
         "ZGjgfSvjQK886kiTzLwfLQ",
         "EtKSTHV5Qx_Q7Aur9o4kQQ",
         "5.0",
         "On a scale of one to things that are awesome, this place is the bomb. \n\nI was drawn in by the promise of the duckfat frenchfries. Took the boy for his birthday and put our name in, had a drink around the corner while we waited and were given seats at the bar after about 45 minutes. \n\nWe were waited on by Keith, the bartender, who was congenial, knowledgeable about his whiskeys and an all-around cool guy. We started with 3 cape may salts (two for me, one for the boy) and tater tots, both of which made me happy.\n\nFor dinner, I got Kentucky Fried Quail (stellar, though the succotash was not as exciting as I wanted it to be) and the boy got the 24$ Fois Gras burger, which was incredible. Worth every penny. The duckfat fries were pretty yummy, but not even the best part of the meal. I could've done without the cheese sauce, but as it was on the side I wasn't deterred.\n\nI look forward to coming back here, with everyone I know.",
         "2009",
         "10",
         "Hotels, restaurants and tourism"
        ],
        [
         "50",
         "bHSoye7R5cL-LVWLxtaxMg",
         "SSZDGl2J-CEyIzuIbEiYNQ",
         "2.0",
         "We started with the artichoke dip, big mistake. It was cold and the chips were stale. Mentioned to our waitress, but nothing came of it.  We ordered a large pizza, thin crust which after adding toppings it was a bit pricey for pizza.  Pizza was ok, not great. Except for not being our advocate our server was good.  I have been here before for Cardinals game, it was better then. Will try another venue next time.",
         "2017",
         "9",
         "Hotels, restaurants and tourism"
        ],
        [
         "51",
         "IKbjLnfBQtEyVzEu8CuOLg",
         "VJEzpfLs_Jnzgqh5A_FVTg",
         "4.0",
         "It was my fiance's birthday and he decided he wanted a good, laid back Thai restaurant for dinner. Yelp steered us in the Jasmine Rice direction, and it was definitely a good decision. We wanted the summer rolls, which were on the menu, but apparently will not be available until summer, so we settled on the pan-fried dumplings. The flavor was good, but I don't think we'd order them again. We got the green curry fried rice with duck and chicken pad thai. Both of those dishes were great, but the duck stole the show. That was some the of tastiest duck I've ever had. The pad thai was a bit sweet for us, so I think we'd try a different noodle dish when we return. But it was still very good, especially with some chili sauce mixed in. Our service was good, but other people had issues. One table was rushing to get to a show at the Kimmel Center and waited quite a while for their meal (and were going to be late). Another person who got take-out was missing one of their items (but the owner realized it and called him and walked the dish to his house, which was very nice). Overall, good quality Thai! We would definitely go back.",
         "2014",
         "4",
         "Hotels, restaurants and tourism"
        ],
        [
         "55",
         "DBYhpb5hrAYgQjQaMhNYyQ",
         "oJ4ik-4PZe6gexxW-tSmsw",
         "4.0",
         "I love the Brewpub for their variety of dishes.  Nachos, pizza and sandwiches.  Variety of beers to choose from crafted right on sight.  \n\nEvery time we go, the service is slow.  I think it's just the pace of the restaurant.  It's never a quick beer and a bite of food.  Instead, enjoy the patio and friends, savor that time.  \n\nKid and dog friendly environment.  Also great for your vegetarian and vegan friends.  \n\nMy go to is a half order of the nachos or fish & chips.  \n\nTried their Pumpkin Seasonal Beer and it's on par with some of my favorite pumpkins.",
         "2016",
         "10",
         "Hotels, restaurants and tourism"
        ],
        [
         "57",
         "mNITUu6B2wUKBOa4NmUHJg",
         "NQSnr4RPUScss607oxOaqw",
         "5.0",
         "My brother came to visit and we wanted to pick up a six pack of good beers for a night in. Ended up staying and having a few while playing their Nintendo 64 (Super Smash Brothers, which the owner said was donated by fellow patrons). It's a great place with good food and genuinely nice people. Should be a staple in the Northeast.",
         "2016",
         "5",
         "Hotels, restaurants and tourism"
        ],
        [
         "59",
         "GtqEcbHF-WTfKlms9250ZQ",
         "7wQEzj-0yOpLiANNLuUflQ",
         "4.0",
         "Excellent service! Great diner food and breakfast is served all day. Came here for lunch- they were busy but very friendly and hospitable. Easy to get to off the 295.",
         "2016",
         "10",
         "Hotels, restaurants and tourism"
        ],
        [
         "60",
         "aWlojpSpzEICTza3RgGJgg",
         "SIoCIxjn4jLt2O-4DajWJw",
         "4.0",
         "My go-to spot on a Saturday night! I was real bummed that lucys closed, but was pleasantly surprised by this bar just across the street!\nTheir food is better than expected. I always get wings and fries. (be careful of the wtf sauce though) Sometimes it takes a real long time to get the bartenders attention, but the place is usually packed. And if you're lucky the always sunny crew will pop in!",
         "2015",
         "11",
         "Hotels, restaurants and tourism"
        ],
        [
         "61",
         "JYYYKt6TdVA4ng9lLcXt_g",
         "SZU9c8V2GuREDN5KgyHFJw",
         "5.0",
         "We were a bit weary about trying the Shellfish Company on the Wharf as more often than not, many places like these (see Cannery Row, Monterey) feast on a captive audience and provide sub-standard fare at high prices.\n\nHowever, emboldened by the perennial good reviews on Yelp, we suppressed our initial observations and went ahead with the trying it out. The place is small, so definitely plan ahead. You will have to wait, so either you know, just do so, or perhaps try to visit outside of peak hours. Luckily, our wait was only about 20 minutes as the dinner rush was just leveling off.\n\nThe special was the local rock crab - $25 for 3 lbs of California Rock Crab, salad, and your choice of soup/chowder. After taking a look at a few trays of rock crab being served out, the wife and I both opted for it, as it looked awesome.  \n\nThe salad/chowder combo was great as you actually received hearty portions of each, so it was a good start. As much as I liked the chowder however, the Shrimp Bisque the wife ordered was amazing, so I would recommend that going forward. \n\nBut enough of prattling on about side dishes: the rock crab tasted just as glorious as it looked. Juicy, buttery chunks of white crab meat await you, just a few cracks away. While the rock crab shells are pretty thick, once cracked, they splinter and separate easily, a good sign they are cooked to perfection. The rock crabs provided a great amount of meat for what I felt to be the least amount of work you're going to do for crab, King or otherwise. \n\nWe were thoroughly satisfied with our meal and along with the special being an overall great value, devouring the Rock Crab at SBSC turned out to be one of the favorite meals on the trip. I think ordering crab here is a safe proposition indeed.",
         "2016",
         "5",
         "Hotels, restaurants and tourism"
        ],
        [
         "63",
         "8YSxVaD203mE_9FR4nCEVA",
         "oQ5CPRt0R3AzFvcjNOqB1w",
         "3.0",
         "Honestly the food doesn't knock my socks off but other people seem to love this place. I go because my husband likes it as for me I'd rather go to a different BBQ spot. I guess it also depends on what you order.",
         "2016",
         "1",
         "Hotels, restaurants and tourism"
        ],
        [
         "65",
         "NGTzj_44YDnPDmsD45HWeg",
         "O8BBn8lry8lLoIFmChceGg",
         "5.0",
         "I stopped here because it was by the hotel I was staying in. The guys working at the shop were super nice and friendly. I really like the buy one get one deal they do. I also ordered some hot wings and they were pretty good. They had a ton of sauce on them which is awesome. Next time I come back to town I will be sure to stop here for some more pizza!",
         "2014",
         "8",
         "Hotels, restaurants and tourism"
        ],
        [
         "66",
         "Z5j9Xw_G0c7M2b1-iS67wg",
         "HTqXI5S2XcSlh_ylx9sE6g",
         "5.0",
         "I've only had the cannolis here but they are awesome! They're freshly filled when ordered and the filling is phenomenal. Not too sweet, it's perfect. If you like cannoli, if you don't think you like cannoli, you should definitely get one from Termini Bros.",
         "2018",
         "3",
         "Hotels, restaurants and tourism"
        ],
        [
         "67",
         "LWTvg7RlyNLXIf482tXBPw",
         "WCVFqK84i2H5EClSoow7ZA",
         "5.0",
         "Traveling through in our RV, stopped over in Granite City. Found this little gem of a cafe. Upon entering, the staff was very sweet and friendly. This is like home cooking. We ate here twice and all our food choices were fresh, delicious and like we would fix at home. Yum.",
         "2016",
         "7",
         "Hotels, restaurants and tourism"
        ],
        [
         "69",
         "bCla27ma_6i_QFrGkILKrQ",
         "sLgnx_WFCjEoPsS6NwU70Q",
         "5.0",
         "Our family returned for breakfast again this weekend and the food and service was again impeccable ... Highly recommend",
         "2014",
         "10",
         "Hotels, restaurants and tourism"
        ]
       ],
       "shape": {
        "columns": 7,
        "rows": 4623556
       }
      },
      "text/html": [
       "<div>\n",
       "<style scoped>\n",
       "    .dataframe tbody tr th:only-of-type {\n",
       "        vertical-align: middle;\n",
       "    }\n",
       "\n",
       "    .dataframe tbody tr th {\n",
       "        vertical-align: top;\n",
       "    }\n",
       "\n",
       "    .dataframe thead th {\n",
       "        text-align: right;\n",
       "    }\n",
       "</style>\n",
       "<table border=\"1\" class=\"dataframe\">\n",
       "  <thead>\n",
       "    <tr style=\"text-align: right;\">\n",
       "      <th></th>\n",
       "      <th>user_id</th>\n",
       "      <th>business_id</th>\n",
       "      <th>stars</th>\n",
       "      <th>text</th>\n",
       "      <th>año</th>\n",
       "      <th>mes</th>\n",
       "      <th>subcategory</th>\n",
       "    </tr>\n",
       "  </thead>\n",
       "  <tbody>\n",
       "    <tr>\n",
       "      <th>0</th>\n",
       "      <td>mh_-eMZ6K5RLWhZyISBhwA</td>\n",
       "      <td>XQfwVwDr-v0ZS3_CbbE5Xw</td>\n",
       "      <td>3.0</td>\n",
       "      <td>If you decide to eat here, just be aware it is...</td>\n",
       "      <td>2018</td>\n",
       "      <td>7</td>\n",
       "      <td>Hotels, restaurants and tourism</td>\n",
       "    </tr>\n",
       "    <tr>\n",
       "      <th>2</th>\n",
       "      <td>8g_iMtfSiwikVnbP2etR0A</td>\n",
       "      <td>YjUWPpI6HXG530lwP-fb2A</td>\n",
       "      <td>3.0</td>\n",
       "      <td>Family diner. Had the buffet. Eclectic assortm...</td>\n",
       "      <td>2014</td>\n",
       "      <td>2</td>\n",
       "      <td>Hotels, restaurants and tourism</td>\n",
       "    </tr>\n",
       "    <tr>\n",
       "      <th>4</th>\n",
       "      <td>bcjbaE6dDog4jkNY91ncLQ</td>\n",
       "      <td>e4Vwtrqf-wpJfwesgvdgxQ</td>\n",
       "      <td>4.0</td>\n",
       "      <td>Cute interior and owner (?) gave us tour of up...</td>\n",
       "      <td>2017</td>\n",
       "      <td>1</td>\n",
       "      <td>Hotels, restaurants and tourism</td>\n",
       "    </tr>\n",
       "    <tr>\n",
       "      <th>7</th>\n",
       "      <td>yfFzsLmaWF2d4Sr0UNbBgg</td>\n",
       "      <td>LHSTtnW3YHCeUkRDGyJOyw</td>\n",
       "      <td>5.0</td>\n",
       "      <td>Amazingly amazing wings and homemade bleu chee...</td>\n",
       "      <td>2015</td>\n",
       "      <td>8</td>\n",
       "      <td>Hotels, restaurants and tourism</td>\n",
       "    </tr>\n",
       "    <tr>\n",
       "      <th>9</th>\n",
       "      <td>59MxRhNVhU9MYndMkz0wtw</td>\n",
       "      <td>gebiRewfieSdtt17PTW6Zg</td>\n",
       "      <td>3.0</td>\n",
       "      <td>Had a party of 6 here for hibachi. Our waitres...</td>\n",
       "      <td>2016</td>\n",
       "      <td>7</td>\n",
       "      <td>Hotels, restaurants and tourism</td>\n",
       "    </tr>\n",
       "    <tr>\n",
       "      <th>...</th>\n",
       "      <td>...</td>\n",
       "      <td>...</td>\n",
       "      <td>...</td>\n",
       "      <td>...</td>\n",
       "      <td>...</td>\n",
       "      <td>...</td>\n",
       "      <td>...</td>\n",
       "    </tr>\n",
       "    <tr>\n",
       "      <th>6986490</th>\n",
       "      <td>cTozFTTWjlFYc3yusdbZmA</td>\n",
       "      <td>uMVOtr16r1ELu46pWr4HCQ</td>\n",
       "      <td>1.0</td>\n",
       "      <td>Just average Thai food tonight. Bangkok has al...</td>\n",
       "      <td>2022</td>\n",
       "      <td>1</td>\n",
       "      <td>Hotels, restaurants and tourism</td>\n",
       "    </tr>\n",
       "    <tr>\n",
       "      <th>6986493</th>\n",
       "      <td>MCzlzlOw7IGbRAKVjJBPtg</td>\n",
       "      <td>fcGexL5VH5G2Xw0tRj9uOQ</td>\n",
       "      <td>3.0</td>\n",
       "      <td>This is a good pizza option - they deliver thr...</td>\n",
       "      <td>2018</td>\n",
       "      <td>3</td>\n",
       "      <td>Hotels, restaurants and tourism</td>\n",
       "    </tr>\n",
       "    <tr>\n",
       "      <th>6986494</th>\n",
       "      <td>x1QLCwZGFAjxRRw4EHc3-g</td>\n",
       "      <td>1_BVWDzi5cVqWxNe9bOMMQ</td>\n",
       "      <td>5.0</td>\n",
       "      <td>Don't misinterpret my 5-star review....I don't...</td>\n",
       "      <td>2016</td>\n",
       "      <td>4</td>\n",
       "      <td>Hotels, restaurants and tourism</td>\n",
       "    </tr>\n",
       "    <tr>\n",
       "      <th>6986496</th>\n",
       "      <td>7L7GL5Pi2cf8mbm2Dpw4zw</td>\n",
       "      <td>e_E-jq9mwm7wk75k7Yi-Xw</td>\n",
       "      <td>5.0</td>\n",
       "      <td>It is very rare for a restaurant to be this go...</td>\n",
       "      <td>2022</td>\n",
       "      <td>1</td>\n",
       "      <td>Hotels, restaurants and tourism</td>\n",
       "    </tr>\n",
       "    <tr>\n",
       "      <th>6986503</th>\n",
       "      <td>6JehEvdoCvZPJ_XIxnzIIw</td>\n",
       "      <td>VAeEXLbEcI9Emt9KGYq9aA</td>\n",
       "      <td>3.0</td>\n",
       "      <td>Located in the 'Walking District' in Nashville...</td>\n",
       "      <td>2018</td>\n",
       "      <td>1</td>\n",
       "      <td>Hotels, restaurants and tourism</td>\n",
       "    </tr>\n",
       "  </tbody>\n",
       "</table>\n",
       "<p>4623556 rows × 7 columns</p>\n",
       "</div>"
      ],
      "text/plain": [
       "                        user_id             business_id  stars  \\\n",
       "0        mh_-eMZ6K5RLWhZyISBhwA  XQfwVwDr-v0ZS3_CbbE5Xw    3.0   \n",
       "2        8g_iMtfSiwikVnbP2etR0A  YjUWPpI6HXG530lwP-fb2A    3.0   \n",
       "4        bcjbaE6dDog4jkNY91ncLQ  e4Vwtrqf-wpJfwesgvdgxQ    4.0   \n",
       "7        yfFzsLmaWF2d4Sr0UNbBgg  LHSTtnW3YHCeUkRDGyJOyw    5.0   \n",
       "9        59MxRhNVhU9MYndMkz0wtw  gebiRewfieSdtt17PTW6Zg    3.0   \n",
       "...                         ...                     ...    ...   \n",
       "6986490  cTozFTTWjlFYc3yusdbZmA  uMVOtr16r1ELu46pWr4HCQ    1.0   \n",
       "6986493  MCzlzlOw7IGbRAKVjJBPtg  fcGexL5VH5G2Xw0tRj9uOQ    3.0   \n",
       "6986494  x1QLCwZGFAjxRRw4EHc3-g  1_BVWDzi5cVqWxNe9bOMMQ    5.0   \n",
       "6986496  7L7GL5Pi2cf8mbm2Dpw4zw  e_E-jq9mwm7wk75k7Yi-Xw    5.0   \n",
       "6986503  6JehEvdoCvZPJ_XIxnzIIw  VAeEXLbEcI9Emt9KGYq9aA    3.0   \n",
       "\n",
       "                                                      text   año  mes  \\\n",
       "0        If you decide to eat here, just be aware it is...  2018    7   \n",
       "2        Family diner. Had the buffet. Eclectic assortm...  2014    2   \n",
       "4        Cute interior and owner (?) gave us tour of up...  2017    1   \n",
       "7        Amazingly amazing wings and homemade bleu chee...  2015    8   \n",
       "9        Had a party of 6 here for hibachi. Our waitres...  2016    7   \n",
       "...                                                    ...   ...  ...   \n",
       "6986490  Just average Thai food tonight. Bangkok has al...  2022    1   \n",
       "6986493  This is a good pizza option - they deliver thr...  2018    3   \n",
       "6986494  Don't misinterpret my 5-star review....I don't...  2016    4   \n",
       "6986496  It is very rare for a restaurant to be this go...  2022    1   \n",
       "6986503  Located in the 'Walking District' in Nashville...  2018    1   \n",
       "\n",
       "                             subcategory  \n",
       "0        Hotels, restaurants and tourism  \n",
       "2        Hotels, restaurants and tourism  \n",
       "4        Hotels, restaurants and tourism  \n",
       "7        Hotels, restaurants and tourism  \n",
       "9        Hotels, restaurants and tourism  \n",
       "...                                  ...  \n",
       "6986490  Hotels, restaurants and tourism  \n",
       "6986493  Hotels, restaurants and tourism  \n",
       "6986494  Hotels, restaurants and tourism  \n",
       "6986496  Hotels, restaurants and tourism  \n",
       "6986503  Hotels, restaurants and tourism  \n",
       "\n",
       "[4623556 rows x 7 columns]"
      ]
     },
     "execution_count": 15,
     "metadata": {},
     "output_type": "execute_result"
    }
   ],
   "source": [
    "df_merged"
   ]
  },
  {
   "cell_type": "code",
   "execution_count": 16,
   "metadata": {},
   "outputs": [],
   "source": [
    "df_merged.to_csv(r'C:\\Users\\anavi\\OneDrive\\Escritorio\\Grupal\\Proyecto_Final\\ELT\\etl_review.csv', index=False, encoding='utf-8')"
   ]
  }
 ],
 "metadata": {
  "kernelspec": {
   "display_name": "Python 3",
   "language": "python",
   "name": "python3"
  },
  "language_info": {
   "codemirror_mode": {
    "name": "ipython",
    "version": 3
   },
   "file_extension": ".py",
   "mimetype": "text/x-python",
   "name": "python",
   "nbconvert_exporter": "python",
   "pygments_lexer": "ipython3",
   "version": "3.11.9"
  }
 },
 "nbformat": 4,
 "nbformat_minor": 2
}
