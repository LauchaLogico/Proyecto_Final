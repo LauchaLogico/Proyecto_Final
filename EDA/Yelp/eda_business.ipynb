{
 "cells": [
  {
   "cell_type": "code",
   "execution_count": 1,
   "metadata": {},
   "outputs": [],
   "source": [
    "import pandas as pd\n",
    "import datetime\n",
    "import matplotlib.pyplot as plt\n",
    "import seaborn as sns\n",
    "from collections import Counter\n",
    "import nltk\n",
    "from nltk.corpus import stopwords"
   ]
  },
  {
   "cell_type": "markdown",
   "metadata": {},
   "source": [
    "# EDA DATASET BUSINESS"
   ]
  },
  {
   "cell_type": "markdown",
   "metadata": {},
   "source": [
    "## Inicial"
   ]
  },
  {
   "cell_type": "markdown",
   "metadata": {},
   "source": [
    "A continuación se procede a extraer la base de datos \"Business\" para verificar su contendio y poder iniciar el exploratorio."
   ]
  },
  {
   "cell_type": "code",
   "execution_count": 2,
   "metadata": {},
   "outputs": [],
   "source": [
    "df_business = pd.read_pickle(r'C:\\GitHub\\Bases\\Grupal_Henry\\Yelp\\Yelp-20250213T170414Z-003\\Yelp\\business.pkl')"
   ]
  },
  {
   "cell_type": "code",
   "execution_count": 3,
   "metadata": {},
   "outputs": [
    {
     "data": {
      "text/plain": [
       "(150346, 28)"
      ]
     },
     "execution_count": 3,
     "metadata": {},
     "output_type": "execute_result"
    }
   ],
   "source": [
    "df_business.shape # Para verificar las dimensiones. El dataset contiene 28 columnas y 150.346 filas. "
   ]
  },
  {
   "cell_type": "code",
   "execution_count": 4,
   "metadata": {},
   "outputs": [
    {
     "data": {
      "text/plain": [
       "Index(['business_id', 'name', 'address', 'city', 'state', 'postal_code',\n",
       "       'latitude', 'longitude', 'stars', 'review_count', 'is_open',\n",
       "       'attributes', 'categories', 'hours', 'business_id', 'name', 'address',\n",
       "       'city', 'state', 'postal_code', 'latitude', 'longitude', 'stars',\n",
       "       'review_count', 'is_open', 'attributes', 'categories', 'hours'],\n",
       "      dtype='object')"
      ]
     },
     "execution_count": 4,
     "metadata": {},
     "output_type": "execute_result"
    }
   ],
   "source": [
    "df_business.columns # Para  verificar las columnas que tiene. "
   ]
  },
  {
   "cell_type": "markdown",
   "metadata": {},
   "source": [
    "El primer hallazgo es que el dataset tiene las columnas duplicadas. Las primeras 14 son iguales a las siguientes 14. Vamos a verificar el contenido de las columnas. "
   ]
  },
  {
   "cell_type": "code",
   "execution_count": 5,
   "metadata": {},
   "outputs": [
    {
     "data": {
      "application/vnd.microsoft.datawrangler.viewer.v0+json": {
       "columns": [
        {
         "name": "index",
         "rawType": "int64",
         "type": "integer"
        },
        {
         "name": "business_id",
         "rawType": "object",
         "type": "string"
        },
        {
         "name": "name",
         "rawType": "object",
         "type": "string"
        },
        {
         "name": "address",
         "rawType": "object",
         "type": "string"
        },
        {
         "name": "city",
         "rawType": "object",
         "type": "string"
        },
        {
         "name": "state",
         "rawType": "object",
         "type": "unknown"
        },
        {
         "name": "postal_code",
         "rawType": "object",
         "type": "string"
        },
        {
         "name": "latitude",
         "rawType": "object",
         "type": "unknown"
        },
        {
         "name": "longitude",
         "rawType": "object",
         "type": "unknown"
        },
        {
         "name": "stars",
         "rawType": "object",
         "type": "unknown"
        },
        {
         "name": "review_count",
         "rawType": "object",
         "type": "unknown"
        },
        {
         "name": "is_open",
         "rawType": "object",
         "type": "unknown"
        },
        {
         "name": "attributes",
         "rawType": "object",
         "type": "unknown"
        },
        {
         "name": "categories",
         "rawType": "object",
         "type": "string"
        },
        {
         "name": "hours",
         "rawType": "object",
         "type": "unknown"
        },
        {
         "name": "business_id",
         "rawType": "object",
         "type": "unknown"
        },
        {
         "name": "name",
         "rawType": "object",
         "type": "unknown"
        },
        {
         "name": "address",
         "rawType": "object",
         "type": "unknown"
        },
        {
         "name": "city",
         "rawType": "object",
         "type": "unknown"
        },
        {
         "name": "state",
         "rawType": "object",
         "type": "unknown"
        },
        {
         "name": "postal_code",
         "rawType": "object",
         "type": "unknown"
        },
        {
         "name": "latitude",
         "rawType": "object",
         "type": "unknown"
        },
        {
         "name": "longitude",
         "rawType": "object",
         "type": "unknown"
        },
        {
         "name": "stars",
         "rawType": "object",
         "type": "unknown"
        },
        {
         "name": "review_count",
         "rawType": "object",
         "type": "unknown"
        },
        {
         "name": "is_open",
         "rawType": "object",
         "type": "unknown"
        },
        {
         "name": "attributes",
         "rawType": "object",
         "type": "unknown"
        },
        {
         "name": "categories",
         "rawType": "object",
         "type": "unknown"
        },
        {
         "name": "hours",
         "rawType": "object",
         "type": "unknown"
        }
       ],
       "conversionMethod": "pd.DataFrame",
       "ref": "839e37c0-0273-4d0b-b983-6a02ed985667",
       "rows": [
        [
         "0",
         "Pns2l4eNsfO8kk83dixA6A",
         "Abby Rappoport, LAC, CMQ",
         "1616 Chapala St, Ste 2",
         "Santa Barbara",
         null,
         "93101",
         "34.4266787",
         "-119.7111968",
         "5.0",
         "7",
         "0",
         "{'ByAppointmentOnly': 'True'}",
         "Doctors, Traditional Chinese Medicine, Naturopathic/Holistic, Acupuncture, Health & Medical, Nutritionists",
         null,
         null,
         null,
         null,
         null,
         null,
         null,
         null,
         null,
         null,
         null,
         null,
         null,
         null,
         null
        ],
        [
         "1",
         "mpf3x-BjTdTEA3yCZrAYPw",
         "The UPS Store",
         "87 Grasso Plaza Shopping Center",
         "Affton",
         null,
         "63123",
         "38.551126",
         "-90.335695",
         "3.0",
         "15",
         "1",
         "{'BusinessAcceptsCreditCards': 'True'}",
         "Shipping Centers, Local Services, Notaries, Mailbox Centers, Printing Services",
         "{'Monday': '0:0-0:0', 'Tuesday': '8:0-18:30', 'Wednesday': '8:0-18:30', 'Thursday': '8:0-18:30', 'Friday': '8:0-18:30', 'Saturday': '8:0-14:0'}",
         null,
         null,
         null,
         null,
         null,
         null,
         null,
         null,
         null,
         null,
         null,
         null,
         null,
         null
        ]
       ],
       "shape": {
        "columns": 28,
        "rows": 2
       }
      },
      "text/html": [
       "<div>\n",
       "<style scoped>\n",
       "    .dataframe tbody tr th:only-of-type {\n",
       "        vertical-align: middle;\n",
       "    }\n",
       "\n",
       "    .dataframe tbody tr th {\n",
       "        vertical-align: top;\n",
       "    }\n",
       "\n",
       "    .dataframe thead th {\n",
       "        text-align: right;\n",
       "    }\n",
       "</style>\n",
       "<table border=\"1\" class=\"dataframe\">\n",
       "  <thead>\n",
       "    <tr style=\"text-align: right;\">\n",
       "      <th></th>\n",
       "      <th>business_id</th>\n",
       "      <th>name</th>\n",
       "      <th>address</th>\n",
       "      <th>city</th>\n",
       "      <th>state</th>\n",
       "      <th>postal_code</th>\n",
       "      <th>latitude</th>\n",
       "      <th>longitude</th>\n",
       "      <th>stars</th>\n",
       "      <th>review_count</th>\n",
       "      <th>...</th>\n",
       "      <th>state</th>\n",
       "      <th>postal_code</th>\n",
       "      <th>latitude</th>\n",
       "      <th>longitude</th>\n",
       "      <th>stars</th>\n",
       "      <th>review_count</th>\n",
       "      <th>is_open</th>\n",
       "      <th>attributes</th>\n",
       "      <th>categories</th>\n",
       "      <th>hours</th>\n",
       "    </tr>\n",
       "  </thead>\n",
       "  <tbody>\n",
       "    <tr>\n",
       "      <th>0</th>\n",
       "      <td>Pns2l4eNsfO8kk83dixA6A</td>\n",
       "      <td>Abby Rappoport, LAC, CMQ</td>\n",
       "      <td>1616 Chapala St, Ste 2</td>\n",
       "      <td>Santa Barbara</td>\n",
       "      <td>NaN</td>\n",
       "      <td>93101</td>\n",
       "      <td>34.426679</td>\n",
       "      <td>-119.711197</td>\n",
       "      <td>5.0</td>\n",
       "      <td>7</td>\n",
       "      <td>...</td>\n",
       "      <td>NaN</td>\n",
       "      <td>NaN</td>\n",
       "      <td>NaN</td>\n",
       "      <td>NaN</td>\n",
       "      <td>NaN</td>\n",
       "      <td>NaN</td>\n",
       "      <td>NaN</td>\n",
       "      <td>NaN</td>\n",
       "      <td>NaN</td>\n",
       "      <td>NaN</td>\n",
       "    </tr>\n",
       "    <tr>\n",
       "      <th>1</th>\n",
       "      <td>mpf3x-BjTdTEA3yCZrAYPw</td>\n",
       "      <td>The UPS Store</td>\n",
       "      <td>87 Grasso Plaza Shopping Center</td>\n",
       "      <td>Affton</td>\n",
       "      <td>NaN</td>\n",
       "      <td>63123</td>\n",
       "      <td>38.551126</td>\n",
       "      <td>-90.335695</td>\n",
       "      <td>3.0</td>\n",
       "      <td>15</td>\n",
       "      <td>...</td>\n",
       "      <td>NaN</td>\n",
       "      <td>NaN</td>\n",
       "      <td>NaN</td>\n",
       "      <td>NaN</td>\n",
       "      <td>NaN</td>\n",
       "      <td>NaN</td>\n",
       "      <td>NaN</td>\n",
       "      <td>NaN</td>\n",
       "      <td>NaN</td>\n",
       "      <td>NaN</td>\n",
       "    </tr>\n",
       "  </tbody>\n",
       "</table>\n",
       "<p>2 rows × 28 columns</p>\n",
       "</div>"
      ],
      "text/plain": [
       "              business_id                      name  \\\n",
       "0  Pns2l4eNsfO8kk83dixA6A  Abby Rappoport, LAC, CMQ   \n",
       "1  mpf3x-BjTdTEA3yCZrAYPw             The UPS Store   \n",
       "\n",
       "                           address           city state postal_code  \\\n",
       "0           1616 Chapala St, Ste 2  Santa Barbara   NaN       93101   \n",
       "1  87 Grasso Plaza Shopping Center         Affton   NaN       63123   \n",
       "\n",
       "    latitude   longitude stars review_count  ... state postal_code latitude  \\\n",
       "0  34.426679 -119.711197   5.0            7  ...   NaN         NaN      NaN   \n",
       "1  38.551126  -90.335695   3.0           15  ...   NaN         NaN      NaN   \n",
       "\n",
       "  longitude stars review_count is_open attributes categories hours  \n",
       "0       NaN   NaN          NaN     NaN        NaN        NaN   NaN  \n",
       "1       NaN   NaN          NaN     NaN        NaN        NaN   NaN  \n",
       "\n",
       "[2 rows x 28 columns]"
      ]
     },
     "execution_count": 5,
     "metadata": {},
     "output_type": "execute_result"
    }
   ],
   "source": [
    "df_business.head(2) # Para verificar el contenido."
   ]
  },
  {
   "cell_type": "code",
   "execution_count": 6,
   "metadata": {},
   "outputs": [
    {
     "name": "stdout",
     "output_type": "stream",
     "text": [
      "<class 'pandas.core.frame.DataFrame'>\n",
      "Index: 150346 entries, 0 to 150345\n",
      "Data columns (total 28 columns):\n",
      " #   Column        Non-Null Count   Dtype \n",
      "---  ------        --------------   ----- \n",
      " 0   business_id   150346 non-null  object\n",
      " 1   name          150346 non-null  object\n",
      " 2   address       150346 non-null  object\n",
      " 3   city          150346 non-null  object\n",
      " 4   state         150343 non-null  object\n",
      " 5   postal_code   150346 non-null  object\n",
      " 6   latitude      150346 non-null  object\n",
      " 7   longitude     150346 non-null  object\n",
      " 8   stars         150346 non-null  object\n",
      " 9   review_count  150346 non-null  object\n",
      " 10  is_open       150346 non-null  object\n",
      " 11  attributes    136602 non-null  object\n",
      " 12  categories    150243 non-null  object\n",
      " 13  hours         127123 non-null  object\n",
      " 14  business_id   5 non-null       object\n",
      " 15  name          5 non-null       object\n",
      " 16  address       5 non-null       object\n",
      " 17  city          5 non-null       object\n",
      " 18  state         5 non-null       object\n",
      " 19  postal_code   5 non-null       object\n",
      " 20  latitude      5 non-null       object\n",
      " 21  longitude     5 non-null       object\n",
      " 22  stars         5 non-null       object\n",
      " 23  review_count  5 non-null       object\n",
      " 24  is_open       5 non-null       object\n",
      " 25  attributes    5 non-null       object\n",
      " 26  categories    5 non-null       object\n",
      " 27  hours         5 non-null       object\n",
      "dtypes: object(28)\n",
      "memory usage: 33.3+ MB\n"
     ]
    }
   ],
   "source": [
    "df_business.info() # Para detallar con profundidad la información alojada en cada columna. "
   ]
  },
  {
   "cell_type": "markdown",
   "metadata": {},
   "source": [
    "El primer conjunto de columnas contiene 150,346 valores no nulos, excepto en ‘state’, ‘attributes’, ‘categories’ y ‘hours’, que tienen algunos valores faltantes. Esto sugiere que estos datos corresponden al conjunto principal.\n",
    "\n",
    "El Segundo conjunto de columnas solo contiene 5 valores no nulos en cada columna. Esto indica que probablemente se añadieron accidentalmente algunos datos adicionales al final, lo que genera la duplicación de nombres de columnas.\n",
    "\n",
    "Todas las columnas son de tipo object, lo que significa que los valores están siendo tratados como texto, incluso aquellos que deberían ser numéricos (como ‘stars’ y ‘review_count’)."
   ]
  },
  {
   "cell_type": "code",
   "execution_count": 7,
   "metadata": {},
   "outputs": [],
   "source": [
    "#df_business.describe()  #No se puede correr este comando porque todas las variables se muestran como categoricas; \n",
    "# el error tambien puede deberse a que existen dos columnas con el mismo nombre para las 14 columnas del dataset"
   ]
  },
  {
   "cell_type": "code",
   "execution_count": 8,
   "metadata": {},
   "outputs": [
    {
     "data": {
      "application/vnd.microsoft.datawrangler.viewer.v0+json": {
       "columns": [
        {
         "name": "index",
         "rawType": "object",
         "type": "string"
        },
        {
         "name": "address",
         "rawType": "object",
         "type": "unknown"
        },
        {
         "name": "address",
         "rawType": "object",
         "type": "unknown"
        }
       ],
       "conversionMethod": "pd.DataFrame",
       "ref": "7f806017-f405-45b8-a1d7-e420c3bad14d",
       "rows": [
        [
         "count",
         "150346",
         "5"
        ],
        [
         "unique",
         "122844",
         "5"
        ],
        [
         "top",
         "",
         "8602 Hillsborough Ave"
        ],
        [
         "freq",
         "5127",
         "1"
        ]
       ],
       "shape": {
        "columns": 2,
        "rows": 4
       }
      },
      "text/html": [
       "<div>\n",
       "<style scoped>\n",
       "    .dataframe tbody tr th:only-of-type {\n",
       "        vertical-align: middle;\n",
       "    }\n",
       "\n",
       "    .dataframe tbody tr th {\n",
       "        vertical-align: top;\n",
       "    }\n",
       "\n",
       "    .dataframe thead th {\n",
       "        text-align: right;\n",
       "    }\n",
       "</style>\n",
       "<table border=\"1\" class=\"dataframe\">\n",
       "  <thead>\n",
       "    <tr style=\"text-align: right;\">\n",
       "      <th></th>\n",
       "      <th>address</th>\n",
       "      <th>address</th>\n",
       "    </tr>\n",
       "  </thead>\n",
       "  <tbody>\n",
       "    <tr>\n",
       "      <th>count</th>\n",
       "      <td>150346</td>\n",
       "      <td>5</td>\n",
       "    </tr>\n",
       "    <tr>\n",
       "      <th>unique</th>\n",
       "      <td>122844</td>\n",
       "      <td>5</td>\n",
       "    </tr>\n",
       "    <tr>\n",
       "      <th>top</th>\n",
       "      <td></td>\n",
       "      <td>8602 Hillsborough Ave</td>\n",
       "    </tr>\n",
       "    <tr>\n",
       "      <th>freq</th>\n",
       "      <td>5127</td>\n",
       "      <td>1</td>\n",
       "    </tr>\n",
       "  </tbody>\n",
       "</table>\n",
       "</div>"
      ],
      "text/plain": [
       "       address                address\n",
       "count   150346                      5\n",
       "unique  122844                      5\n",
       "top             8602 Hillsborough Ave\n",
       "freq      5127                      1"
      ]
     },
     "execution_count": 8,
     "metadata": {},
     "output_type": "execute_result"
    }
   ],
   "source": [
    "df_business[\"address\"].describe() # Para visualizar si tomando columnas especificas el dataset funciona. "
   ]
  },
  {
   "cell_type": "code",
   "execution_count": 9,
   "metadata": {},
   "outputs": [
    {
     "data": {
      "application/vnd.microsoft.datawrangler.viewer.v0+json": {
       "columns": [
        {
         "name": "index",
         "rawType": "object",
         "type": "string"
        },
        {
         "name": "state",
         "rawType": "object",
         "type": "unknown"
        },
        {
         "name": "state",
         "rawType": "object",
         "type": "unknown"
        }
       ],
       "conversionMethod": "pd.DataFrame",
       "ref": "b10d6594-afec-45b3-a4f9-c1fbc7d8ae3e",
       "rows": [
        [
         "count",
         "150343",
         "5"
        ],
        [
         "unique",
         "27",
         "5"
        ],
        [
         "top",
         "PA",
         "LA"
        ],
        [
         "freq",
         "34039",
         "1"
        ]
       ],
       "shape": {
        "columns": 2,
        "rows": 4
       }
      },
      "text/html": [
       "<div>\n",
       "<style scoped>\n",
       "    .dataframe tbody tr th:only-of-type {\n",
       "        vertical-align: middle;\n",
       "    }\n",
       "\n",
       "    .dataframe tbody tr th {\n",
       "        vertical-align: top;\n",
       "    }\n",
       "\n",
       "    .dataframe thead th {\n",
       "        text-align: right;\n",
       "    }\n",
       "</style>\n",
       "<table border=\"1\" class=\"dataframe\">\n",
       "  <thead>\n",
       "    <tr style=\"text-align: right;\">\n",
       "      <th></th>\n",
       "      <th>state</th>\n",
       "      <th>state</th>\n",
       "    </tr>\n",
       "  </thead>\n",
       "  <tbody>\n",
       "    <tr>\n",
       "      <th>count</th>\n",
       "      <td>150343</td>\n",
       "      <td>5</td>\n",
       "    </tr>\n",
       "    <tr>\n",
       "      <th>unique</th>\n",
       "      <td>27</td>\n",
       "      <td>5</td>\n",
       "    </tr>\n",
       "    <tr>\n",
       "      <th>top</th>\n",
       "      <td>PA</td>\n",
       "      <td>LA</td>\n",
       "    </tr>\n",
       "    <tr>\n",
       "      <th>freq</th>\n",
       "      <td>34039</td>\n",
       "      <td>1</td>\n",
       "    </tr>\n",
       "  </tbody>\n",
       "</table>\n",
       "</div>"
      ],
      "text/plain": [
       "         state state\n",
       "count   150343     5\n",
       "unique      27     5\n",
       "top         PA    LA\n",
       "freq     34039     1"
      ]
     },
     "execution_count": 9,
     "metadata": {},
     "output_type": "execute_result"
    }
   ],
   "source": [
    "df_business[\"state\"].describe() # Para visualizar si tomando columnas especificas el dataset funciona. "
   ]
  },
  {
   "cell_type": "code",
   "execution_count": 10,
   "metadata": {},
   "outputs": [
    {
     "name": "stdout",
     "output_type": "stream",
     "text": [
      "<class 'pandas.core.frame.DataFrame'>\n",
      "Index: 150346 entries, 0 to 150345\n",
      "Data columns (total 2 columns):\n",
      " #   Column  Non-Null Count   Dtype \n",
      "---  ------  --------------   ----- \n",
      " 0   state   150343 non-null  object\n",
      " 1   state   5 non-null       object\n",
      "dtypes: object(2)\n",
      "memory usage: 3.4+ MB\n"
     ]
    }
   ],
   "source": [
    "df_business[\"state\"].info()"
   ]
  },
  {
   "cell_type": "code",
   "execution_count": 11,
   "metadata": {},
   "outputs": [
    {
     "data": {
      "application/vnd.microsoft.datawrangler.viewer.v0+json": {
       "columns": [
        {
         "name": "index",
         "rawType": "int64",
         "type": "integer"
        },
        {
         "name": "state",
         "rawType": "object",
         "type": "unknown"
        },
        {
         "name": "state",
         "rawType": "object",
         "type": "unknown"
        }
       ],
       "conversionMethod": "pd.DataFrame",
       "ref": "8f739a05-9744-4ebc-81e6-0eff2c1131af",
       "rows": [
        [
         "0",
         null,
         null
        ],
        [
         "1",
         null,
         null
        ],
        [
         "2",
         null,
         null
        ],
        [
         "3",
         "CA",
         null
        ],
        [
         "4",
         "MO",
         null
        ]
       ],
       "shape": {
        "columns": 2,
        "rows": 5
       }
      },
      "text/html": [
       "<div>\n",
       "<style scoped>\n",
       "    .dataframe tbody tr th:only-of-type {\n",
       "        vertical-align: middle;\n",
       "    }\n",
       "\n",
       "    .dataframe tbody tr th {\n",
       "        vertical-align: top;\n",
       "    }\n",
       "\n",
       "    .dataframe thead th {\n",
       "        text-align: right;\n",
       "    }\n",
       "</style>\n",
       "<table border=\"1\" class=\"dataframe\">\n",
       "  <thead>\n",
       "    <tr style=\"text-align: right;\">\n",
       "      <th></th>\n",
       "      <th>state</th>\n",
       "      <th>state</th>\n",
       "    </tr>\n",
       "  </thead>\n",
       "  <tbody>\n",
       "    <tr>\n",
       "      <th>0</th>\n",
       "      <td>NaN</td>\n",
       "      <td>NaN</td>\n",
       "    </tr>\n",
       "    <tr>\n",
       "      <th>1</th>\n",
       "      <td>NaN</td>\n",
       "      <td>NaN</td>\n",
       "    </tr>\n",
       "    <tr>\n",
       "      <th>2</th>\n",
       "      <td>NaN</td>\n",
       "      <td>NaN</td>\n",
       "    </tr>\n",
       "    <tr>\n",
       "      <th>3</th>\n",
       "      <td>CA</td>\n",
       "      <td>NaN</td>\n",
       "    </tr>\n",
       "    <tr>\n",
       "      <th>4</th>\n",
       "      <td>MO</td>\n",
       "      <td>NaN</td>\n",
       "    </tr>\n",
       "  </tbody>\n",
       "</table>\n",
       "</div>"
      ],
      "text/plain": [
       "  state state\n",
       "0   NaN   NaN\n",
       "1   NaN   NaN\n",
       "2   NaN   NaN\n",
       "3    CA   NaN\n",
       "4    MO   NaN"
      ]
     },
     "execution_count": 11,
     "metadata": {},
     "output_type": "execute_result"
    }
   ],
   "source": [
    "df_business[\"state\"].head()"
   ]
  },
  {
   "cell_type": "markdown",
   "metadata": {},
   "source": [
    "Debido a que el DataFrame `df_business` tiene columnas duplicadas, donde la primera mitad contiene 14 columnas con datos completos y la segunda mitad repite los mismos nombres pero con solo 5 valores no nulos en cada una, para analizar el problema, se divide el DataFrame en dos partes: `df_business1`, que contiene la primera mitad de columnas, y `df_business2`, que contiene la segunda mitad. Esto permite identificar la duplicación y verificar cuál de las dos partes contiene la información correcta."
   ]
  },
  {
   "cell_type": "code",
   "execution_count": 12,
   "metadata": {},
   "outputs": [],
   "source": [
    "mitad = len(df_business.columns) // 2\n",
    "\n",
    "df_business1 = df_business.iloc[:, :mitad]   # Primera mitad de columnas\n",
    "df_business2 = df_business.iloc[:, mitad:]   # Segunda mitad de columnas"
   ]
  },
  {
   "cell_type": "code",
   "execution_count": 114,
   "metadata": {},
   "outputs": [
    {
     "data": {
      "application/vnd.microsoft.datawrangler.viewer.v0+json": {
       "columns": [
        {
         "name": "index",
         "rawType": "int64",
         "type": "integer"
        },
        {
         "name": "business_id",
         "rawType": "object",
         "type": "string"
        },
        {
         "name": "name",
         "rawType": "object",
         "type": "string"
        },
        {
         "name": "address",
         "rawType": "object",
         "type": "string"
        },
        {
         "name": "city",
         "rawType": "object",
         "type": "string"
        },
        {
         "name": "state",
         "rawType": "object",
         "type": "unknown"
        },
        {
         "name": "postal_code",
         "rawType": "object",
         "type": "string"
        },
        {
         "name": "latitude",
         "rawType": "float64",
         "type": "float"
        },
        {
         "name": "longitude",
         "rawType": "float64",
         "type": "float"
        },
        {
         "name": "stars",
         "rawType": "object",
         "type": "unknown"
        },
        {
         "name": "review_count",
         "rawType": "int32",
         "type": "integer"
        },
        {
         "name": "is_open",
         "rawType": "object",
         "type": "unknown"
        },
        {
         "name": "attributes",
         "rawType": "object",
         "type": "unknown"
        },
        {
         "name": "categories",
         "rawType": "object",
         "type": "string"
        },
        {
         "name": "hours",
         "rawType": "object",
         "type": "unknown"
        }
       ],
       "conversionMethod": "pd.DataFrame",
       "ref": "767b70b1-efb0-4d13-b461-8429a2ea5d27",
       "rows": [
        [
         "0",
         "Pns2l4eNsfO8kk83dixA6A",
         "Abby Rappoport, LAC, CMQ",
         "1616 Chapala St, Ste 2",
         "Santa Barbara",
         null,
         "93101",
         "34.4266787",
         "-119.7111968",
         "5.0",
         "7",
         "0",
         "{'ByAppointmentOnly': 'True'}",
         "Doctors;Traditional_Chinese_Medicine;Naturopathic/Holistic;Acupuncture;Health_&_Medical;Nutritionists",
         null
        ],
        [
         "1",
         "mpf3x-BjTdTEA3yCZrAYPw",
         "The UPS Store",
         "87 Grasso Plaza Shopping Center",
         "Affton",
         null,
         "63123",
         "38.551126",
         "-90.335695",
         "3.0",
         "15",
         "1",
         "{'BusinessAcceptsCreditCards': 'True'}",
         "Shipping_Centers;Local_Services;Notaries;Mailbox_Centers;Printing_Services",
         "{'Monday': '0:0-0:0', 'Tuesday': '8:0-18:30', 'Wednesday': '8:0-18:30', 'Thursday': '8:0-18:30', 'Friday': '8:0-18:30', 'Saturday': '8:0-14:0'}"
        ]
       ],
       "shape": {
        "columns": 14,
        "rows": 2
       }
      },
      "text/html": [
       "<div>\n",
       "<style scoped>\n",
       "    .dataframe tbody tr th:only-of-type {\n",
       "        vertical-align: middle;\n",
       "    }\n",
       "\n",
       "    .dataframe tbody tr th {\n",
       "        vertical-align: top;\n",
       "    }\n",
       "\n",
       "    .dataframe thead th {\n",
       "        text-align: right;\n",
       "    }\n",
       "</style>\n",
       "<table border=\"1\" class=\"dataframe\">\n",
       "  <thead>\n",
       "    <tr style=\"text-align: right;\">\n",
       "      <th></th>\n",
       "      <th>business_id</th>\n",
       "      <th>name</th>\n",
       "      <th>address</th>\n",
       "      <th>city</th>\n",
       "      <th>state</th>\n",
       "      <th>postal_code</th>\n",
       "      <th>latitude</th>\n",
       "      <th>longitude</th>\n",
       "      <th>stars</th>\n",
       "      <th>review_count</th>\n",
       "      <th>is_open</th>\n",
       "      <th>attributes</th>\n",
       "      <th>categories</th>\n",
       "      <th>hours</th>\n",
       "    </tr>\n",
       "  </thead>\n",
       "  <tbody>\n",
       "    <tr>\n",
       "      <th>0</th>\n",
       "      <td>Pns2l4eNsfO8kk83dixA6A</td>\n",
       "      <td>Abby Rappoport, LAC, CMQ</td>\n",
       "      <td>1616 Chapala St, Ste 2</td>\n",
       "      <td>Santa Barbara</td>\n",
       "      <td>NaN</td>\n",
       "      <td>93101</td>\n",
       "      <td>34.426679</td>\n",
       "      <td>-119.711197</td>\n",
       "      <td>5.0</td>\n",
       "      <td>7</td>\n",
       "      <td>0</td>\n",
       "      <td>{'ByAppointmentOnly': 'True'}</td>\n",
       "      <td>Doctors;Traditional_Chinese_Medicine;Naturopat...</td>\n",
       "      <td>None</td>\n",
       "    </tr>\n",
       "    <tr>\n",
       "      <th>1</th>\n",
       "      <td>mpf3x-BjTdTEA3yCZrAYPw</td>\n",
       "      <td>The UPS Store</td>\n",
       "      <td>87 Grasso Plaza Shopping Center</td>\n",
       "      <td>Affton</td>\n",
       "      <td>NaN</td>\n",
       "      <td>63123</td>\n",
       "      <td>38.551126</td>\n",
       "      <td>-90.335695</td>\n",
       "      <td>3.0</td>\n",
       "      <td>15</td>\n",
       "      <td>1</td>\n",
       "      <td>{'BusinessAcceptsCreditCards': 'True'}</td>\n",
       "      <td>Shipping_Centers;Local_Services;Notaries;Mailb...</td>\n",
       "      <td>{'Monday': '0:0-0:0', 'Tuesday': '8:0-18:30', ...</td>\n",
       "    </tr>\n",
       "  </tbody>\n",
       "</table>\n",
       "</div>"
      ],
      "text/plain": [
       "              business_id                      name  \\\n",
       "0  Pns2l4eNsfO8kk83dixA6A  Abby Rappoport, LAC, CMQ   \n",
       "1  mpf3x-BjTdTEA3yCZrAYPw             The UPS Store   \n",
       "\n",
       "                           address           city state postal_code  \\\n",
       "0           1616 Chapala St, Ste 2  Santa Barbara   NaN       93101   \n",
       "1  87 Grasso Plaza Shopping Center         Affton   NaN       63123   \n",
       "\n",
       "    latitude   longitude stars  review_count is_open  \\\n",
       "0  34.426679 -119.711197   5.0             7       0   \n",
       "1  38.551126  -90.335695   3.0            15       1   \n",
       "\n",
       "                               attributes  \\\n",
       "0           {'ByAppointmentOnly': 'True'}   \n",
       "1  {'BusinessAcceptsCreditCards': 'True'}   \n",
       "\n",
       "                                          categories  \\\n",
       "0  Doctors;Traditional_Chinese_Medicine;Naturopat...   \n",
       "1  Shipping_Centers;Local_Services;Notaries;Mailb...   \n",
       "\n",
       "                                               hours  \n",
       "0                                               None  \n",
       "1  {'Monday': '0:0-0:0', 'Tuesday': '8:0-18:30', ...  "
      ]
     },
     "execution_count": 114,
     "metadata": {},
     "output_type": "execute_result"
    }
   ],
   "source": [
    "df_business1.head(2) # Para visualizar la primera mitad. "
   ]
  },
  {
   "cell_type": "code",
   "execution_count": 14,
   "metadata": {},
   "outputs": [
    {
     "data": {
      "text/plain": [
       "(150346, 14)"
      ]
     },
     "execution_count": 14,
     "metadata": {},
     "output_type": "execute_result"
    }
   ],
   "source": [
    "df_business1.shape # Para verificar el tamaño de la primera mitad"
   ]
  },
  {
   "cell_type": "code",
   "execution_count": 15,
   "metadata": {},
   "outputs": [
    {
     "name": "stdout",
     "output_type": "stream",
     "text": [
      "<class 'pandas.core.frame.DataFrame'>\n",
      "Index: 150346 entries, 0 to 150345\n",
      "Data columns (total 14 columns):\n",
      " #   Column        Non-Null Count   Dtype \n",
      "---  ------        --------------   ----- \n",
      " 0   business_id   150346 non-null  object\n",
      " 1   name          150346 non-null  object\n",
      " 2   address       150346 non-null  object\n",
      " 3   city          150346 non-null  object\n",
      " 4   state         150343 non-null  object\n",
      " 5   postal_code   150346 non-null  object\n",
      " 6   latitude      150346 non-null  object\n",
      " 7   longitude     150346 non-null  object\n",
      " 8   stars         150346 non-null  object\n",
      " 9   review_count  150346 non-null  object\n",
      " 10  is_open       150346 non-null  object\n",
      " 11  attributes    136602 non-null  object\n",
      " 12  categories    150243 non-null  object\n",
      " 13  hours         127123 non-null  object\n",
      "dtypes: object(14)\n",
      "memory usage: 17.2+ MB\n"
     ]
    }
   ],
   "source": [
    "df_business1.info() # Para identificar la cantidad de no nulos y el tipo de elementos en la primera mitad."
   ]
  },
  {
   "cell_type": "code",
   "execution_count": 16,
   "metadata": {},
   "outputs": [
    {
     "data": {
      "text/plain": [
       "(150346, 14)"
      ]
     },
     "execution_count": 16,
     "metadata": {},
     "output_type": "execute_result"
    }
   ],
   "source": [
    "df_business2.shape # Para verificar el tamaño de la segunda mitad"
   ]
  },
  {
   "cell_type": "code",
   "execution_count": 17,
   "metadata": {},
   "outputs": [
    {
     "name": "stdout",
     "output_type": "stream",
     "text": [
      "<class 'pandas.core.frame.DataFrame'>\n",
      "Index: 150346 entries, 0 to 150345\n",
      "Data columns (total 14 columns):\n",
      " #   Column        Non-Null Count  Dtype \n",
      "---  ------        --------------  ----- \n",
      " 0   business_id   5 non-null      object\n",
      " 1   name          5 non-null      object\n",
      " 2   address       5 non-null      object\n",
      " 3   city          5 non-null      object\n",
      " 4   state         5 non-null      object\n",
      " 5   postal_code   5 non-null      object\n",
      " 6   latitude      5 non-null      object\n",
      " 7   longitude     5 non-null      object\n",
      " 8   stars         5 non-null      object\n",
      " 9   review_count  5 non-null      object\n",
      " 10  is_open       5 non-null      object\n",
      " 11  attributes    5 non-null      object\n",
      " 12  categories    5 non-null      object\n",
      " 13  hours         5 non-null      object\n",
      "dtypes: object(14)\n",
      "memory usage: 17.2+ MB\n"
     ]
    }
   ],
   "source": [
    "df_business2.info() # Para identificar la cantidad de no nulos y el tipo de elementos en la segunda mitad."
   ]
  },
  {
   "cell_type": "markdown",
   "metadata": {},
   "source": [
    "Se observa que solo 5 filas tienen información y el resto son valores nulos."
   ]
  },
  {
   "cell_type": "code",
   "execution_count": 18,
   "metadata": {},
   "outputs": [],
   "source": [
    "df_nonulos = df_business2.dropna() # Se crea un nuevo dataset que solo tenga los valores no nulos del df_business2"
   ]
  },
  {
   "cell_type": "code",
   "execution_count": 19,
   "metadata": {},
   "outputs": [
    {
     "data": {
      "application/vnd.microsoft.datawrangler.viewer.v0+json": {
       "columns": [
        {
         "name": "index",
         "rawType": "int64",
         "type": "integer"
        },
        {
         "name": "business_id",
         "rawType": "object",
         "type": "string"
        },
        {
         "name": "name",
         "rawType": "object",
         "type": "string"
        },
        {
         "name": "address",
         "rawType": "object",
         "type": "string"
        },
        {
         "name": "city",
         "rawType": "object",
         "type": "string"
        },
        {
         "name": "state",
         "rawType": "object",
         "type": "string"
        },
        {
         "name": "postal_code",
         "rawType": "object",
         "type": "string"
        },
        {
         "name": "latitude",
         "rawType": "object",
         "type": "unknown"
        },
        {
         "name": "longitude",
         "rawType": "object",
         "type": "unknown"
        },
        {
         "name": "stars",
         "rawType": "object",
         "type": "unknown"
        },
        {
         "name": "review_count",
         "rawType": "object",
         "type": "unknown"
        },
        {
         "name": "is_open",
         "rawType": "object",
         "type": "unknown"
        },
        {
         "name": "attributes",
         "rawType": "object",
         "type": "unknown"
        },
        {
         "name": "categories",
         "rawType": "object",
         "type": "string"
        },
        {
         "name": "hours",
         "rawType": "object",
         "type": "unknown"
        }
       ],
       "conversionMethod": "pd.DataFrame",
       "ref": "4650ced8-a585-48b7-9ca5-04038f475d79",
       "rows": [
        [
         "590",
         "6_Zf2QsRHCH1RhbzA9inyw",
         "STarbucks",
         "8602 Hillsborough Ave",
         "Tampa",
         "LA",
         "33615",
         "27.9963703",
         "-82.580954",
         "3.0",
         "56",
         "1",
         "{'BikeParking': 'True', 'BusinessAcceptsCreditCards': 'True', 'OutdoorSeating': 'True', 'WiFi': \"u'free'\", 'BusinessParking': \"{'garage': False, 'street': False, 'validated': False, 'lot': True, 'valet': False}\", 'RestaurantsTakeOut': 'True', 'RestaurantsPriceRange2': '2', 'Caters': 'False'}",
         "Coffee & Tea, Food",
         "{'Monday': '5:30-21:0', 'Tuesday': '5:30-21:0', 'Wednesday': '5:30-21:0', 'Thursday': '5:30-21:0', 'Friday': '5:30-21:0', 'Saturday': '6:30-21:0', 'Sunday': '6:30-21:0'}"
        ],
        [
         "613",
         "Iipfa9Kaac9XH5Vo8GQwvg",
         "STarbucks",
         "5956 153 Avenue",
         "Edmonton",
         "PA",
         "T5Y 2W1",
         "53.6161467",
         "-113.4324244",
         "3.5",
         "10",
         "1",
         "{'BusinessParking': \"{'garage': False, 'street': False, 'validated': False, 'lot': True, 'valet': False}\", 'OutdoorSeating': 'True', 'WiFi': \"u'free'\", 'BikeParking': 'True', 'DriveThru': 'True', 'Caters': 'False', 'RestaurantsPriceRange2': '2', 'RestaurantsDelivery': 'True', 'RestaurantsTakeOut': 'True'}",
         "Coffee & Tea, Food",
         "{'Monday': '5:30-22:0', 'Tuesday': '5:30-22:0', 'Wednesday': '5:30-22:0', 'Thursday': '5:30-22:0', 'Friday': '5:30-22:0', 'Saturday': '7:0-21:30', 'Sunday': '7:0-21:30'}"
        ],
        [
         "978",
         "oY6osC4Ch3PvguA7D1hh_w",
         "STarbucks",
         "1251 Route 130 S",
         "Cinnaminson",
         "AZ",
         "08077",
         "40.000157",
         "-74.9873134",
         "4.5",
         "7",
         "1",
         "{'WiFi': \"u'free'\", 'BusinessParking': \"{'garage': False, 'street': False, 'validated': False, 'lot': False, 'valet': False}\"}",
         "Coffee & Tea, Food",
         "{'Monday': '5:30-20:0', 'Tuesday': '5:30-20:0', 'Wednesday': '5:30-20:0', 'Thursday': '5:30-20:0', 'Friday': '5:30-20:0', 'Saturday': '5:30-20:0', 'Sunday': '6:0-20:0'}"
        ],
        [
         "1296",
         "pxuMxh5oC7W-PDN9wwvozg",
         "STarbucks",
         "219 N Center St",
         "Reno",
         "FL",
         "89501",
         "39.527772",
         "-119.812518",
         "3.0",
         "44",
         "0",
         "{'BikeParking': 'False', 'Caters': 'False', 'OutdoorSeating': 'False', 'BusinessAcceptsCreditCards': 'True', 'WiFi': \"'free'\", 'RestaurantsPriceRange2': '2', 'RestaurantsTakeOut': 'True', 'BusinessParking': \"{'garage': True, 'street': None, 'validated': None, 'lot': None, 'valet': False}\"}",
         "Coffee & Tea, Food",
         "{'Monday': '5:30-19:0', 'Tuesday': '5:30-19:0', 'Wednesday': '5:30-19:0', 'Thursday': '5:30-19:0', 'Friday': '5:30-20:0', 'Saturday': '5:30-20:0', 'Sunday': '5:30-19:0'}"
        ],
        [
         "1543",
         "lo2VbA7Lwzu3i23pQpmzlw",
         "STarbucks",
         "1125 S Black Horse Pike, Space 575",
         "Gloucester Township",
         "NJ",
         "08012",
         "39.78403",
         "-75.05207",
         "3.0",
         "15",
         "1",
         "{'BikeParking': 'True', 'RestaurantsPriceRange2': '1', 'BusinessAcceptsCreditCards': 'True', 'WiFi': \"'free'\", 'RestaurantsTakeOut': 'True', 'BusinessParking': \"{'garage': False, 'street': None, 'validated': False, 'lot': None, 'valet': False}\", 'OutdoorSeating': 'True'}",
         "Food, Coffee & Tea",
         "{'Monday': '0:0-0:0', 'Tuesday': '10:30-20:0', 'Wednesday': '10:30-20:0', 'Thursday': '10:30-20:0', 'Friday': '9:30-20:0', 'Saturday': '9:30-20:0', 'Sunday': '12:0-18:0'}"
        ]
       ],
       "shape": {
        "columns": 14,
        "rows": 5
       }
      },
      "text/html": [
       "<div>\n",
       "<style scoped>\n",
       "    .dataframe tbody tr th:only-of-type {\n",
       "        vertical-align: middle;\n",
       "    }\n",
       "\n",
       "    .dataframe tbody tr th {\n",
       "        vertical-align: top;\n",
       "    }\n",
       "\n",
       "    .dataframe thead th {\n",
       "        text-align: right;\n",
       "    }\n",
       "</style>\n",
       "<table border=\"1\" class=\"dataframe\">\n",
       "  <thead>\n",
       "    <tr style=\"text-align: right;\">\n",
       "      <th></th>\n",
       "      <th>business_id</th>\n",
       "      <th>name</th>\n",
       "      <th>address</th>\n",
       "      <th>city</th>\n",
       "      <th>state</th>\n",
       "      <th>postal_code</th>\n",
       "      <th>latitude</th>\n",
       "      <th>longitude</th>\n",
       "      <th>stars</th>\n",
       "      <th>review_count</th>\n",
       "      <th>is_open</th>\n",
       "      <th>attributes</th>\n",
       "      <th>categories</th>\n",
       "      <th>hours</th>\n",
       "    </tr>\n",
       "  </thead>\n",
       "  <tbody>\n",
       "    <tr>\n",
       "      <th>590</th>\n",
       "      <td>6_Zf2QsRHCH1RhbzA9inyw</td>\n",
       "      <td>STarbucks</td>\n",
       "      <td>8602 Hillsborough Ave</td>\n",
       "      <td>Tampa</td>\n",
       "      <td>LA</td>\n",
       "      <td>33615</td>\n",
       "      <td>27.99637</td>\n",
       "      <td>-82.580954</td>\n",
       "      <td>3.0</td>\n",
       "      <td>56</td>\n",
       "      <td>1</td>\n",
       "      <td>{'BikeParking': 'True', 'BusinessAcceptsCredit...</td>\n",
       "      <td>Coffee &amp; Tea, Food</td>\n",
       "      <td>{'Monday': '5:30-21:0', 'Tuesday': '5:30-21:0'...</td>\n",
       "    </tr>\n",
       "    <tr>\n",
       "      <th>613</th>\n",
       "      <td>Iipfa9Kaac9XH5Vo8GQwvg</td>\n",
       "      <td>STarbucks</td>\n",
       "      <td>5956 153 Avenue</td>\n",
       "      <td>Edmonton</td>\n",
       "      <td>PA</td>\n",
       "      <td>T5Y 2W1</td>\n",
       "      <td>53.616147</td>\n",
       "      <td>-113.432424</td>\n",
       "      <td>3.5</td>\n",
       "      <td>10</td>\n",
       "      <td>1</td>\n",
       "      <td>{'BusinessParking': '{'garage': False, 'street...</td>\n",
       "      <td>Coffee &amp; Tea, Food</td>\n",
       "      <td>{'Monday': '5:30-22:0', 'Tuesday': '5:30-22:0'...</td>\n",
       "    </tr>\n",
       "    <tr>\n",
       "      <th>978</th>\n",
       "      <td>oY6osC4Ch3PvguA7D1hh_w</td>\n",
       "      <td>STarbucks</td>\n",
       "      <td>1251 Route 130 S</td>\n",
       "      <td>Cinnaminson</td>\n",
       "      <td>AZ</td>\n",
       "      <td>08077</td>\n",
       "      <td>40.000157</td>\n",
       "      <td>-74.987313</td>\n",
       "      <td>4.5</td>\n",
       "      <td>7</td>\n",
       "      <td>1</td>\n",
       "      <td>{'WiFi': 'u'free'', 'BusinessParking': '{'gara...</td>\n",
       "      <td>Coffee &amp; Tea, Food</td>\n",
       "      <td>{'Monday': '5:30-20:0', 'Tuesday': '5:30-20:0'...</td>\n",
       "    </tr>\n",
       "    <tr>\n",
       "      <th>1296</th>\n",
       "      <td>pxuMxh5oC7W-PDN9wwvozg</td>\n",
       "      <td>STarbucks</td>\n",
       "      <td>219 N Center St</td>\n",
       "      <td>Reno</td>\n",
       "      <td>FL</td>\n",
       "      <td>89501</td>\n",
       "      <td>39.527772</td>\n",
       "      <td>-119.812518</td>\n",
       "      <td>3.0</td>\n",
       "      <td>44</td>\n",
       "      <td>0</td>\n",
       "      <td>{'BikeParking': 'False', 'Caters': 'False', 'O...</td>\n",
       "      <td>Coffee &amp; Tea, Food</td>\n",
       "      <td>{'Monday': '5:30-19:0', 'Tuesday': '5:30-19:0'...</td>\n",
       "    </tr>\n",
       "    <tr>\n",
       "      <th>1543</th>\n",
       "      <td>lo2VbA7Lwzu3i23pQpmzlw</td>\n",
       "      <td>STarbucks</td>\n",
       "      <td>1125 S Black Horse Pike, Space 575</td>\n",
       "      <td>Gloucester Township</td>\n",
       "      <td>NJ</td>\n",
       "      <td>08012</td>\n",
       "      <td>39.78403</td>\n",
       "      <td>-75.05207</td>\n",
       "      <td>3.0</td>\n",
       "      <td>15</td>\n",
       "      <td>1</td>\n",
       "      <td>{'BikeParking': 'True', 'RestaurantsPriceRange...</td>\n",
       "      <td>Food, Coffee &amp; Tea</td>\n",
       "      <td>{'Monday': '0:0-0:0', 'Tuesday': '10:30-20:0',...</td>\n",
       "    </tr>\n",
       "  </tbody>\n",
       "</table>\n",
       "</div>"
      ],
      "text/plain": [
       "                 business_id       name                             address  \\\n",
       "590   6_Zf2QsRHCH1RhbzA9inyw  STarbucks               8602 Hillsborough Ave   \n",
       "613   Iipfa9Kaac9XH5Vo8GQwvg  STarbucks                     5956 153 Avenue   \n",
       "978   oY6osC4Ch3PvguA7D1hh_w  STarbucks                    1251 Route 130 S   \n",
       "1296  pxuMxh5oC7W-PDN9wwvozg  STarbucks                     219 N Center St   \n",
       "1543  lo2VbA7Lwzu3i23pQpmzlw  STarbucks  1125 S Black Horse Pike, Space 575   \n",
       "\n",
       "                     city state postal_code   latitude   longitude stars  \\\n",
       "590                 Tampa    LA       33615   27.99637  -82.580954   3.0   \n",
       "613              Edmonton    PA     T5Y 2W1  53.616147 -113.432424   3.5   \n",
       "978           Cinnaminson    AZ       08077  40.000157  -74.987313   4.5   \n",
       "1296                 Reno    FL       89501  39.527772 -119.812518   3.0   \n",
       "1543  Gloucester Township    NJ       08012   39.78403   -75.05207   3.0   \n",
       "\n",
       "     review_count is_open                                         attributes  \\\n",
       "590            56       1  {'BikeParking': 'True', 'BusinessAcceptsCredit...   \n",
       "613            10       1  {'BusinessParking': '{'garage': False, 'street...   \n",
       "978             7       1  {'WiFi': 'u'free'', 'BusinessParking': '{'gara...   \n",
       "1296           44       0  {'BikeParking': 'False', 'Caters': 'False', 'O...   \n",
       "1543           15       1  {'BikeParking': 'True', 'RestaurantsPriceRange...   \n",
       "\n",
       "              categories                                              hours  \n",
       "590   Coffee & Tea, Food  {'Monday': '5:30-21:0', 'Tuesday': '5:30-21:0'...  \n",
       "613   Coffee & Tea, Food  {'Monday': '5:30-22:0', 'Tuesday': '5:30-22:0'...  \n",
       "978   Coffee & Tea, Food  {'Monday': '5:30-20:0', 'Tuesday': '5:30-20:0'...  \n",
       "1296  Coffee & Tea, Food  {'Monday': '5:30-19:0', 'Tuesday': '5:30-19:0'...  \n",
       "1543  Food, Coffee & Tea  {'Monday': '0:0-0:0', 'Tuesday': '10:30-20:0',...  "
      ]
     },
     "execution_count": 19,
     "metadata": {},
     "output_type": "execute_result"
    }
   ],
   "source": [
    "df_nonulos # para mostrar cuales son las 5 filas que tienen información en todo el dataset. "
   ]
  },
  {
   "cell_type": "code",
   "execution_count": 20,
   "metadata": {},
   "outputs": [
    {
     "data": {
      "text/plain": [
       "business_id                                6_Zf2QsRHCH1RhbzA9inyw\n",
       "name                                                    Starbucks\n",
       "address                                     8602 Hillsborough Ave\n",
       "city                                                        Tampa\n",
       "state                                                          LA\n",
       "postal_code                                                 33615\n",
       "latitude                                                 27.99637\n",
       "longitude                                              -82.580954\n",
       "stars                                                         3.0\n",
       "review_count                                                   56\n",
       "is_open                                                         1\n",
       "attributes      {'BikeParking': 'True', 'BusinessAcceptsCredit...\n",
       "categories                                     Coffee & Tea, Food\n",
       "hours           {'Monday': '5:30-21:0', 'Tuesday': '5:30-21:0'...\n",
       "business_id                                6_Zf2QsRHCH1RhbzA9inyw\n",
       "name                                                    STarbucks\n",
       "address                                     8602 Hillsborough Ave\n",
       "city                                                        Tampa\n",
       "state                                                          LA\n",
       "postal_code                                                 33615\n",
       "latitude                                                 27.99637\n",
       "longitude                                              -82.580954\n",
       "stars                                                         3.0\n",
       "review_count                                                   56\n",
       "is_open                                                         1\n",
       "attributes      {'BikeParking': 'True', 'BusinessAcceptsCredit...\n",
       "categories                                     Coffee & Tea, Food\n",
       "hours           {'Monday': '5:30-21:0', 'Tuesday': '5:30-21:0'...\n",
       "Name: 590, dtype: object"
      ]
     },
     "execution_count": 20,
     "metadata": {},
     "output_type": "execute_result"
    }
   ],
   "source": [
    "df_business.iloc[590] # Vetificarmos el contenido de la información contenida en la fila 590"
   ]
  },
  {
   "cell_type": "code",
   "execution_count": 21,
   "metadata": {},
   "outputs": [
    {
     "data": {
      "text/plain": [
       "business_id                                Iipfa9Kaac9XH5Vo8GQwvg\n",
       "name                                                    Starbucks\n",
       "address                                           5956 153 Avenue\n",
       "city                                                     Edmonton\n",
       "state                                                          PA\n",
       "postal_code                                               T5Y 2W1\n",
       "latitude                                                53.616147\n",
       "longitude                                             -113.432424\n",
       "stars                                                         3.5\n",
       "review_count                                                   10\n",
       "is_open                                                         1\n",
       "attributes      {'BusinessParking': '{'garage': False, 'street...\n",
       "categories                                     Coffee & Tea, Food\n",
       "hours           {'Monday': '5:30-22:0', 'Tuesday': '5:30-22:0'...\n",
       "business_id                                Iipfa9Kaac9XH5Vo8GQwvg\n",
       "name                                                    STarbucks\n",
       "address                                           5956 153 Avenue\n",
       "city                                                     Edmonton\n",
       "state                                                          PA\n",
       "postal_code                                               T5Y 2W1\n",
       "latitude                                                53.616147\n",
       "longitude                                             -113.432424\n",
       "stars                                                         3.5\n",
       "review_count                                                   10\n",
       "is_open                                                         1\n",
       "attributes      {'BusinessParking': '{'garage': False, 'street...\n",
       "categories                                     Coffee & Tea, Food\n",
       "hours           {'Monday': '5:30-22:0', 'Tuesday': '5:30-22:0'...\n",
       "Name: 613, dtype: object"
      ]
     },
     "execution_count": 21,
     "metadata": {},
     "output_type": "execute_result"
    }
   ],
   "source": [
    "df_business.iloc[613] # Vetificarmos el contenido de la información contenida en la fila 613"
   ]
  },
  {
   "cell_type": "code",
   "execution_count": 22,
   "metadata": {},
   "outputs": [
    {
     "data": {
      "text/plain": [
       "business_id                                oY6osC4Ch3PvguA7D1hh_w\n",
       "name                                                    Starbucks\n",
       "address                                          1251 Route 130 S\n",
       "city                                                  Cinnaminson\n",
       "state                                                          AZ\n",
       "postal_code                                                 08077\n",
       "latitude                                                40.000157\n",
       "longitude                                              -74.987313\n",
       "stars                                                         4.5\n",
       "review_count                                                    7\n",
       "is_open                                                         1\n",
       "attributes      {'WiFi': 'u'free'', 'BusinessParking': '{'gara...\n",
       "categories                                     Coffee & Tea, Food\n",
       "hours           {'Monday': '5:30-20:0', 'Tuesday': '5:30-20:0'...\n",
       "business_id                                oY6osC4Ch3PvguA7D1hh_w\n",
       "name                                                    STarbucks\n",
       "address                                          1251 Route 130 S\n",
       "city                                                  Cinnaminson\n",
       "state                                                          AZ\n",
       "postal_code                                                 08077\n",
       "latitude                                                40.000157\n",
       "longitude                                              -74.987313\n",
       "stars                                                         4.5\n",
       "review_count                                                    7\n",
       "is_open                                                         1\n",
       "attributes      {'WiFi': 'u'free'', 'BusinessParking': '{'gara...\n",
       "categories                                     Coffee & Tea, Food\n",
       "hours           {'Monday': '5:30-20:0', 'Tuesday': '5:30-20:0'...\n",
       "Name: 978, dtype: object"
      ]
     },
     "execution_count": 22,
     "metadata": {},
     "output_type": "execute_result"
    }
   ],
   "source": [
    "df_business.iloc[978] # Vetificarmos el contenido de la información contenida en la fila 978"
   ]
  },
  {
   "cell_type": "code",
   "execution_count": 23,
   "metadata": {},
   "outputs": [
    {
     "data": {
      "text/plain": [
       "business_id                                pxuMxh5oC7W-PDN9wwvozg\n",
       "name                                                    Starbucks\n",
       "address                                           219 N Center St\n",
       "city                                                         Reno\n",
       "state                                                          FL\n",
       "postal_code                                                 89501\n",
       "latitude                                                39.527772\n",
       "longitude                                             -119.812518\n",
       "stars                                                         3.0\n",
       "review_count                                                   44\n",
       "is_open                                                         0\n",
       "attributes      {'BikeParking': 'False', 'Caters': 'False', 'O...\n",
       "categories                                     Coffee & Tea, Food\n",
       "hours           {'Monday': '5:30-19:0', 'Tuesday': '5:30-19:0'...\n",
       "business_id                                pxuMxh5oC7W-PDN9wwvozg\n",
       "name                                                    STarbucks\n",
       "address                                           219 N Center St\n",
       "city                                                         Reno\n",
       "state                                                          FL\n",
       "postal_code                                                 89501\n",
       "latitude                                                39.527772\n",
       "longitude                                             -119.812518\n",
       "stars                                                         3.0\n",
       "review_count                                                   44\n",
       "is_open                                                         0\n",
       "attributes      {'BikeParking': 'False', 'Caters': 'False', 'O...\n",
       "categories                                     Coffee & Tea, Food\n",
       "hours           {'Monday': '5:30-19:0', 'Tuesday': '5:30-19:0'...\n",
       "Name: 1296, dtype: object"
      ]
     },
     "execution_count": 23,
     "metadata": {},
     "output_type": "execute_result"
    }
   ],
   "source": [
    "df_business.iloc[1296] # Vetificarmos el contenido de la información contenida en la fila 1296"
   ]
  },
  {
   "cell_type": "code",
   "execution_count": 24,
   "metadata": {},
   "outputs": [
    {
     "data": {
      "text/plain": [
       "business_id                                lo2VbA7Lwzu3i23pQpmzlw\n",
       "name                                                    Starbucks\n",
       "address                        1125 S Black Horse Pike, Space 575\n",
       "city                                          Gloucester Township\n",
       "state                                                          NJ\n",
       "postal_code                                                 08012\n",
       "latitude                                                 39.78403\n",
       "longitude                                               -75.05207\n",
       "stars                                                         3.0\n",
       "review_count                                                   15\n",
       "is_open                                                         1\n",
       "attributes      {'BikeParking': 'True', 'RestaurantsPriceRange...\n",
       "categories                                     Food, Coffee & Tea\n",
       "hours           {'Monday': '0:0-0:0', 'Tuesday': '10:30-20:0',...\n",
       "business_id                                lo2VbA7Lwzu3i23pQpmzlw\n",
       "name                                                    STarbucks\n",
       "address                        1125 S Black Horse Pike, Space 575\n",
       "city                                          Gloucester Township\n",
       "state                                                          NJ\n",
       "postal_code                                                 08012\n",
       "latitude                                                 39.78403\n",
       "longitude                                               -75.05207\n",
       "stars                                                         3.0\n",
       "review_count                                                   15\n",
       "is_open                                                         1\n",
       "attributes      {'BikeParking': 'True', 'RestaurantsPriceRange...\n",
       "categories                                     Food, Coffee & Tea\n",
       "hours           {'Monday': '0:0-0:0', 'Tuesday': '10:30-20:0',...\n",
       "Name: 1543, dtype: object"
      ]
     },
     "execution_count": 24,
     "metadata": {},
     "output_type": "execute_result"
    }
   ],
   "source": [
    "df_business.iloc[1543] # Vetificarmos el contenido de la información contenida en la fila 1543"
   ]
  },
  {
   "cell_type": "markdown",
   "metadata": {},
   "source": [
    "Al dividir el dataset en dos partes iguales (`df_business1` y `df_business2`), identificamos que solo 5 establecimientos en `df_business2` (filas 590, 613, 978, 1296 y 1543) contenían información, pero esta era idéntica a la de `df_business1`. Por ello, decidimos trabajar únicamente con `df_business1`."
   ]
  },
  {
   "cell_type": "code",
   "execution_count": 25,
   "metadata": {},
   "outputs": [],
   "source": [
    "#df_business1.describe() # Confirmo que este codigo no corre porque todas las variables son categoricas. No era porque más de una tenia duplicados. "
   ]
  },
  {
   "cell_type": "code",
   "execution_count": 26,
   "metadata": {},
   "outputs": [
    {
     "name": "stderr",
     "output_type": "stream",
     "text": [
      "C:\\Users\\anavi\\AppData\\Local\\Temp\\ipykernel_12392\\3206702665.py:1: SettingWithCopyWarning: \n",
      "A value is trying to be set on a copy of a slice from a DataFrame.\n",
      "Try using .loc[row_indexer,col_indexer] = value instead\n",
      "\n",
      "See the caveats in the documentation: https://pandas.pydata.org/pandas-docs/stable/user_guide/indexing.html#returning-a-view-versus-a-copy\n",
      "  df_business1['review_count'] = df_business1['review_count'].astype(int) # Cambio el tipo de la columna \"Review Count\"\n"
     ]
    }
   ],
   "source": [
    "df_business1['review_count'] = df_business1['review_count'].astype(int) # Cambio el tipo de la columna \"Review Count\""
   ]
  },
  {
   "cell_type": "code",
   "execution_count": 27,
   "metadata": {},
   "outputs": [
    {
     "name": "stdout",
     "output_type": "stream",
     "text": [
      "<class 'pandas.core.frame.DataFrame'>\n",
      "Index: 150346 entries, 0 to 150345\n",
      "Data columns (total 14 columns):\n",
      " #   Column        Non-Null Count   Dtype \n",
      "---  ------        --------------   ----- \n",
      " 0   business_id   150346 non-null  object\n",
      " 1   name          150346 non-null  object\n",
      " 2   address       150346 non-null  object\n",
      " 3   city          150346 non-null  object\n",
      " 4   state         150343 non-null  object\n",
      " 5   postal_code   150346 non-null  object\n",
      " 6   latitude      150346 non-null  object\n",
      " 7   longitude     150346 non-null  object\n",
      " 8   stars         150346 non-null  object\n",
      " 9   review_count  150346 non-null  int32 \n",
      " 10  is_open       150346 non-null  object\n",
      " 11  attributes    136602 non-null  object\n",
      " 12  categories    150243 non-null  object\n",
      " 13  hours         127123 non-null  object\n",
      "dtypes: int32(1), object(13)\n",
      "memory usage: 16.6+ MB\n"
     ]
    }
   ],
   "source": [
    "df_business1.info() # Para observar ya el tipo de dato y la cantidad en cada columna de la mitad seleccionada, y confirmar que se hizo el \n",
    "#cambio en la columna \"Review Count\"."
   ]
  },
  {
   "cell_type": "code",
   "execution_count": 28,
   "metadata": {},
   "outputs": [
    {
     "data": {
      "application/vnd.microsoft.datawrangler.viewer.v0+json": {
       "columns": [
        {
         "name": "index",
         "rawType": "object",
         "type": "string"
        },
        {
         "name": "review_count",
         "rawType": "float64",
         "type": "float"
        }
       ],
       "conversionMethod": "pd.DataFrame",
       "ref": "4f5fccc0-88a9-4fdb-8364-f95fb5e28e06",
       "rows": [
        [
         "count",
         "150346.0"
        ],
        [
         "mean",
         "44.86656113232144"
        ],
        [
         "std",
         "121.12013570117078"
        ],
        [
         "min",
         "5.0"
        ],
        [
         "25%",
         "8.0"
        ],
        [
         "50%",
         "15.0"
        ],
        [
         "75%",
         "37.0"
        ],
        [
         "max",
         "7568.0"
        ]
       ],
       "shape": {
        "columns": 1,
        "rows": 8
       }
      },
      "text/html": [
       "<div>\n",
       "<style scoped>\n",
       "    .dataframe tbody tr th:only-of-type {\n",
       "        vertical-align: middle;\n",
       "    }\n",
       "\n",
       "    .dataframe tbody tr th {\n",
       "        vertical-align: top;\n",
       "    }\n",
       "\n",
       "    .dataframe thead th {\n",
       "        text-align: right;\n",
       "    }\n",
       "</style>\n",
       "<table border=\"1\" class=\"dataframe\">\n",
       "  <thead>\n",
       "    <tr style=\"text-align: right;\">\n",
       "      <th></th>\n",
       "      <th>review_count</th>\n",
       "    </tr>\n",
       "  </thead>\n",
       "  <tbody>\n",
       "    <tr>\n",
       "      <th>count</th>\n",
       "      <td>150346.000000</td>\n",
       "    </tr>\n",
       "    <tr>\n",
       "      <th>mean</th>\n",
       "      <td>44.866561</td>\n",
       "    </tr>\n",
       "    <tr>\n",
       "      <th>std</th>\n",
       "      <td>121.120136</td>\n",
       "    </tr>\n",
       "    <tr>\n",
       "      <th>min</th>\n",
       "      <td>5.000000</td>\n",
       "    </tr>\n",
       "    <tr>\n",
       "      <th>25%</th>\n",
       "      <td>8.000000</td>\n",
       "    </tr>\n",
       "    <tr>\n",
       "      <th>50%</th>\n",
       "      <td>15.000000</td>\n",
       "    </tr>\n",
       "    <tr>\n",
       "      <th>75%</th>\n",
       "      <td>37.000000</td>\n",
       "    </tr>\n",
       "    <tr>\n",
       "      <th>max</th>\n",
       "      <td>7568.000000</td>\n",
       "    </tr>\n",
       "  </tbody>\n",
       "</table>\n",
       "</div>"
      ],
      "text/plain": [
       "        review_count\n",
       "count  150346.000000\n",
       "mean       44.866561\n",
       "std       121.120136\n",
       "min         5.000000\n",
       "25%         8.000000\n",
       "50%        15.000000\n",
       "75%        37.000000\n",
       "max      7568.000000"
      ]
     },
     "execution_count": 28,
     "metadata": {},
     "output_type": "execute_result"
    }
   ],
   "source": [
    "df_business1.describe() #El comando ya funciona"
   ]
  },
  {
   "cell_type": "code",
   "execution_count": 29,
   "metadata": {},
   "outputs": [],
   "source": [
    "# df_bs100 = df_business1[df_business1[\"review_count\"] >= 100] \n",
    "\n",
    "# Se crea un dataset con los negocios que tienen más de 100 comentarios para trabajarlo más adelante. "
   ]
  },
  {
   "cell_type": "code",
   "execution_count": 30,
   "metadata": {},
   "outputs": [
    {
     "name": "stderr",
     "output_type": "stream",
     "text": [
      "C:\\Users\\anavi\\AppData\\Local\\Temp\\ipykernel_12392\\3723569373.py:2: SettingWithCopyWarning: \n",
      "A value is trying to be set on a copy of a slice from a DataFrame.\n",
      "Try using .loc[row_indexer,col_indexer] = value instead\n",
      "\n",
      "See the caveats in the documentation: https://pandas.pydata.org/pandas-docs/stable/user_guide/indexing.html#returning-a-view-versus-a-copy\n",
      "  df_business1['latitude'] = df_business1['latitude'].astype(float)\n",
      "C:\\Users\\anavi\\AppData\\Local\\Temp\\ipykernel_12392\\3723569373.py:3: SettingWithCopyWarning: \n",
      "A value is trying to be set on a copy of a slice from a DataFrame.\n",
      "Try using .loc[row_indexer,col_indexer] = value instead\n",
      "\n",
      "See the caveats in the documentation: https://pandas.pydata.org/pandas-docs/stable/user_guide/indexing.html#returning-a-view-versus-a-copy\n",
      "  df_business1['longitude'] = df_business1['longitude'].astype(float)\n"
     ]
    }
   ],
   "source": [
    "# Convertir las columnas latitude y longitude a tipo float\n",
    "df_business1['latitude'] = df_business1['latitude'].astype(float)\n",
    "df_business1['longitude'] = df_business1['longitude'].astype(float)"
   ]
  },
  {
   "cell_type": "code",
   "execution_count": 31,
   "metadata": {},
   "outputs": [
    {
     "name": "stdout",
     "output_type": "stream",
     "text": [
      "<class 'pandas.core.frame.DataFrame'>\n",
      "Index: 150346 entries, 0 to 150345\n",
      "Data columns (total 14 columns):\n",
      " #   Column        Non-Null Count   Dtype  \n",
      "---  ------        --------------   -----  \n",
      " 0   business_id   150346 non-null  object \n",
      " 1   name          150346 non-null  object \n",
      " 2   address       150346 non-null  object \n",
      " 3   city          150346 non-null  object \n",
      " 4   state         150343 non-null  object \n",
      " 5   postal_code   150346 non-null  object \n",
      " 6   latitude      150346 non-null  float64\n",
      " 7   longitude     150346 non-null  float64\n",
      " 8   stars         150346 non-null  object \n",
      " 9   review_count  150346 non-null  int32  \n",
      " 10  is_open       150346 non-null  object \n",
      " 11  attributes    136602 non-null  object \n",
      " 12  categories    150243 non-null  object \n",
      " 13  hours         127123 non-null  object \n",
      "dtypes: float64(2), int32(1), object(11)\n",
      "memory usage: 16.6+ MB\n"
     ]
    }
   ],
   "source": [
    "df_business1.info() # Para confirmar los cambios realizados "
   ]
  },
  {
   "cell_type": "markdown",
   "metadata": {},
   "source": [
    "## Graficos de dispersión"
   ]
  },
  {
   "cell_type": "code",
   "execution_count": 32,
   "metadata": {},
   "outputs": [
    {
     "data": {
      "image/png": "[encoded data removed]",
      "text/plain": [
       "<Figure size 1000x600 with 1 Axes>"
      ]
     },
     "metadata": {},
     "output_type": "display_data"
    }
   ],
   "source": [
    "# Boxplot de la columna stars, para mostrar cual es la distribución de las calificaciones.\n",
    "\n",
    "plt.figure(figsize=(10, 6))\n",
    "sns.boxplot(x=df_business1['stars'])\n",
    "plt.title('Boxplot de Stars')\n",
    "plt.xlabel('Stars')\n",
    "plt.show()"
   ]
  },
  {
   "cell_type": "markdown",
   "metadata": {},
   "source": [
    "La gráfica es un **boxplot** que muestra la distribución de la variable `stars` en `df_business1`:  \n",
    "\n",
    "- **Mediana (~3.5):** Representa el valor central de las calificaciones.  \n",
    "- **Rango intercuartílico (IQR):** La caja va desde aproximadamente 3.0 hasta 4.5, lo que indica que el 50% de los establecimientos tienen calificaciones en este rango.  \n",
    "- **Bigotes:** Se extienden desde **1.0 hasta 5.0**, lo que indica que las calificaciones abarcan todo el espectro posible sin valores atípicos visibles.  \n",
    "- **Simetría:** La distribución parece bastante equilibrada, con la mediana cerca del centro de la caja.  \n",
    "\n",
    "Esto sugiere que la mayoría de los negocios tienen calificaciones entre **3 y 4.5 estrellas**, con pocos en los extremos de 1 y 5 estrellas."
   ]
  },
  {
   "cell_type": "code",
   "execution_count": 33,
   "metadata": {},
   "outputs": [
    {
     "data": {
      "image/png": "[encoded data removed]",
      "text/plain": [
       "<Figure size 1000x600 with 1 Axes>"
      ]
     },
     "metadata": {},
     "output_type": "display_data"
    }
   ],
   "source": [
    "# Diagrama de dispersión entre review_count y stars para representar cómo se relacionan el número de reseñas (review_count) con la calificación (stars).\n",
    "plt.figure(figsize=(10, 6))\n",
    "sns.scatterplot(x=df_business1['review_count'], y=df_business1['stars'])\n",
    "plt.title('Diagrama de Dispersión entre Review Count y Stars')\n",
    "plt.xlabel('Review Count')\n",
    "plt.ylabel('Stars')\n",
    "plt.show()"
   ]
  },
  {
   "cell_type": "markdown",
   "metadata": {},
   "source": [
    "La gráfica es un **diagrama de dispersión** que muestra la relación entre la cantidad de reseñas (**review_count**) y la calificación (**stars**) de los negocios en `df_business1`:  \n",
    "\n",
    "- **Distribución discreta:** Las calificaciones (`stars`) solo toman valores específicos (1, 1.5, 2, etc.), lo que forma líneas horizontales en la gráfica.  \n",
    "- **Tendencia:** No parece haber una correlación clara entre la cantidad de reseñas y la calificación, ya que los puntos están distribuidos de manera bastante uniforme.  \n",
    "- **Acumulación de datos:** La mayoría de los negocios tienen menos de 1000 reseñas, pero algunos alcanzan más de 7000.  \n",
    "- **Calificaciones más altas:** Negocios con muchas reseñas tienden a tener calificaciones entre 4 y 5 estrellas, aunque también hay casos con menor puntaje.  \n",
    "\n",
    "En general, la cantidad de reseñas no garantiza una mejor calificación, pero los negocios con muchas reseñas suelen tener valores más altos de `stars`."
   ]
  },
  {
   "cell_type": "code",
   "execution_count": 34,
   "metadata": {},
   "outputs": [
    {
     "data": {
      "text/plain": [
       "(150346, 14)"
      ]
     },
     "execution_count": 34,
     "metadata": {},
     "output_type": "execute_result"
    }
   ],
   "source": [
    "df_business1.shape"
   ]
  },
  {
   "cell_type": "code",
   "execution_count": 35,
   "metadata": {},
   "outputs": [
    {
     "data": {
      "text/plain": [
       "(49214, 14)"
      ]
     },
     "execution_count": 35,
     "metadata": {},
     "output_type": "execute_result"
    }
   ],
   "source": [
    "df_business1[df_business1[\"stars\"] <= 3].shape # Contar cuántos negocios tienen una calificación de 3 estrellas o menos en el DataFrame."
   ]
  },
  {
   "cell_type": "markdown",
   "metadata": {},
   "source": [
    "El tamaño original de df_business1 es (150,346, 15), lo que significa que tiene 150,346 filas y 15 columnas.\n",
    "\n",
    "El resultado (49,214, 14) indica que 49,214 negocios (32.7% del total) tienen una calificación de 3 estrellas o menos.\n",
    "\n",
    "Esto sugiere que casi un tercio de los negocios tienen una calificación baja o regular, mientras que el 67.3% restante tiene más de 3 estrellas, lo que podría indicar una tendencia general hacia buenas calificaciones en el dataset."
   ]
  },
  {
   "cell_type": "markdown",
   "metadata": {},
   "source": [
    "## ANALISIS DE LAS CATEGORIAS"
   ]
  },
  {
   "cell_type": "code",
   "execution_count": 36,
   "metadata": {},
   "outputs": [
    {
     "data": {
      "text/plain": [
       "0    Doctors, Traditional Chinese Medicine, Naturop...\n",
       "1    Shipping Centers, Local Services, Notaries, Ma...\n",
       "2    Department Stores, Shopping, Fashion, Home & G...\n",
       "3    Restaurants, Food, Bubble Tea, Coffee & Tea, B...\n",
       "4                            Brewpubs, Breweries, Food\n",
       "Name: categories, dtype: object"
      ]
     },
     "execution_count": 36,
     "metadata": {},
     "output_type": "execute_result"
    }
   ],
   "source": [
    "df_business1['categories'].head() # Para visualizar el contenido de las categorias, se observa que estan anidadas. "
   ]
  },
  {
   "cell_type": "code",
   "execution_count": 37,
   "metadata": {},
   "outputs": [
    {
     "data": {
      "application/vnd.microsoft.datawrangler.viewer.v0+json": {
       "columns": [
        {
         "name": "index",
         "rawType": "int64",
         "type": "integer"
        },
        {
         "name": "business_id",
         "rawType": "object",
         "type": "string"
        },
        {
         "name": "name",
         "rawType": "object",
         "type": "string"
        },
        {
         "name": "address",
         "rawType": "object",
         "type": "string"
        },
        {
         "name": "city",
         "rawType": "object",
         "type": "string"
        },
        {
         "name": "state",
         "rawType": "object",
         "type": "string"
        },
        {
         "name": "postal_code",
         "rawType": "object",
         "type": "string"
        },
        {
         "name": "latitude",
         "rawType": "float64",
         "type": "float"
        },
        {
         "name": "longitude",
         "rawType": "float64",
         "type": "float"
        },
        {
         "name": "stars",
         "rawType": "object",
         "type": "unknown"
        },
        {
         "name": "review_count",
         "rawType": "int32",
         "type": "integer"
        },
        {
         "name": "is_open",
         "rawType": "object",
         "type": "unknown"
        },
        {
         "name": "attributes",
         "rawType": "object",
         "type": "unknown"
        },
        {
         "name": "categories",
         "rawType": "object",
         "type": "string"
        },
        {
         "name": "hours",
         "rawType": "object",
         "type": "unknown"
        }
       ],
       "conversionMethod": "pd.DataFrame",
       "ref": "43331613-3708-4476-aae5-f928ff985bc4",
       "rows": [
        [
         "3655",
         "x2J-YIFeGZ-nsezzooVA9g",
         "Twenty 21",
         "2005 Market St",
         "Philadelphia",
         "NV",
         "19103",
         "39.9541083",
         "-75.1746706",
         "3.0",
         "8",
         "0",
         "{'BusinessAcceptsCreditCards': 'True', 'RestaurantsDelivery': 'False', 'RestaurantsTakeOut': 'False', 'RestaurantsGoodForGroups': 'True', 'GoodForKids': 'False', 'RestaurantsPriceRange2': '3', 'RestaurantsAttire': \"'casual'\", 'BusinessParking': \"{'garage': False, 'street': True, 'validated': False, 'lot': False, 'valet': False}\", 'Alcohol': \"u'full_bar'\", 'RestaurantsReservations': 'True', 'OutdoorSeating': 'True'}",
         "Restaurants",
         null
        ],
        [
         "5873",
         "VlrSuulqTFeQfV2PToJGvg",
         "Fung Garden",
         "5118 Gall Blvd",
         "Zephyrhills",
         "FL",
         "33542",
         "28.232059",
         "-82.180394",
         "3.5",
         "8",
         "0",
         "{'RestaurantsTakeOut': 'True', 'HasTV': 'False', 'BusinessAcceptsCreditCards': 'True', 'RestaurantsGoodForGroups': 'True', 'Alcohol': \"u'none'\", 'NoiseLevel': \"u'average'\", 'RestaurantsDelivery': 'False', 'RestaurantsAttire': \"'casual'\", 'RestaurantsReservations': 'False', 'BusinessParking': \"{'garage': False, 'street': False, 'validated': False, 'lot': True, 'valet': False}\", 'Caters': 'True', 'RestaurantsPriceRange2': '1', 'Ambience': \"{'romantic': False, 'intimate': False, 'touristy': False, 'hipster': False, 'divey': False, 'classy': False, 'trendy': False, 'upscale': False, 'casual': False}\", 'OutdoorSeating': 'False', 'GoodForKids': 'True'}",
         "Restaurants",
         "{'Monday': '10:0-21:0', 'Tuesday': '10:0-21:0', 'Wednesday': '10:0-21:0', 'Thursday': '10:0-21:0', 'Friday': '10:0-21:0', 'Saturday': '10:0-21:0', 'Sunday': '10:0-21:0'}"
        ],
        [
         "6856",
         "mFE9V6LPpsDRUQLEBsBRRA",
         "Pearl of East",
         "2049 W Oregon Ave",
         "Philadelphia",
         "IN",
         "19145",
         "39.9186353",
         "-75.1824221",
         "3.0",
         "17",
         "1",
         "{'RestaurantsGoodForGroups': 'False', 'BusinessAcceptsCreditCards': 'False', 'OutdoorSeating': 'False', 'RestaurantsTakeOut': 'True', 'GoodForKids': 'False', 'RestaurantsReservations': 'True', 'Alcohol': \"u'none'\", 'BusinessParking': \"{'garage': False, 'street': False, 'validated': False, 'lot': False, 'valet': False}\", 'RestaurantsPriceRange2': '2', 'RestaurantsDelivery': 'True', 'Ambience': \"{'romantic': False, 'intimate': False, 'touristy': False, 'hipster': False, 'divey': False, 'classy': False, 'trendy': False, 'upscale': False, 'casual': False}\", 'HasTV': 'True', 'Caters': 'False'}",
         "Restaurants",
         "{'Monday': '10:30-22:30', 'Tuesday': '10:30-22:30', 'Wednesday': '10:30-22:30', 'Thursday': '10:30-22:30', 'Friday': '10:30-23:30', 'Saturday': '11:0-23:30', 'Sunday': '12:0-22:30'}"
        ],
        [
         "9801",
         "BXUqeFDqvTK2uL6sQd5YnQ",
         "Crazy D’s Hot Chicken",
         "101 University Ter",
         "Reno",
         "FL",
         "89503",
         "39.5362876",
         "-119.818231",
         "3.5",
         "37",
         "1",
         "{'RestaurantsTakeOut': 'True', 'RestaurantsDelivery': 'True', 'BusinessParking': \"{u'valet': False, u'garage': False, u'street': False, u'lot': True, u'validated': False}\", 'RestaurantsPriceRange2': '2'}",
         "Restaurants",
         null
        ],
        [
         "11413",
         "Bf1cdbdHXi8Omlkc7KShkg",
         "Siam Cafe",
         "435 Esplanade Ave",
         "New Orleans",
         "TN",
         "70116",
         "29.9619675",
         "-90.0573559",
         "4.0",
         "9",
         "0",
         "{'RestaurantsGoodForGroups': 'True', 'RestaurantsPriceRange2': '1', 'BusinessParking': \"{'garage': False, 'street': False, 'validated': False, 'lot': False, 'valet': False}\", 'RestaurantsAttire': \"'casual'\", 'GoodForKids': 'False', 'OutdoorSeating': 'True'}",
         "Restaurants",
         null
        ],
        [
         "11603",
         "h5WHp4sVy7v1ezQ95Q5Aqg",
         "Grace Manor Restaurant",
         "1801 N Main St",
         "Edwardsville",
         "PA",
         "62025",
         "38.8222051",
         "-89.9679834",
         "3.0",
         "11",
         "0",
         "{'WiFi': \"u'no'\", 'RestaurantsAttire': \"u'casual'\", 'NoiseLevel': \"u'quiet'\", 'BusinessAcceptsCreditCards': 'True', 'RestaurantsDelivery': 'False', 'GoodForKids': 'True', 'BusinessParking': \"{'garage': False, 'street': False, 'validated': False, 'lot': True, 'valet': False}\", 'RestaurantsReservations': 'True', 'RestaurantsGoodForGroups': 'True', 'OutdoorSeating': 'True', 'RestaurantsPriceRange2': '3', 'Alcohol': \"u'full_bar'\", 'Ambience': \"{'romantic': False, 'intimate': False, 'touristy': False, 'hipster': False, 'divey': False, 'classy': False, 'trendy': False, 'upscale': False, 'casual': False}\", 'RestaurantsTakeOut': 'True'}",
         "Restaurants",
         "{'Tuesday': '11:0-15:0', 'Wednesday': '11:0-20:0', 'Thursday': '11:0-20:0', 'Friday': '11:0-20:0', 'Saturday': '11:0-20:0', 'Sunday': '10:0-14:0'}"
        ],
        [
         "13844",
         "WMGc5a7s6K5xX9JPTiRppQ",
         "Curry In A Hurry",
         "612 Olive St",
         "Saint Louis",
         "AB",
         "63101",
         "38.628037",
         "-90.190875",
         "2.5",
         "5",
         "0",
         "{'RestaurantsGoodForGroups': 'True', 'BusinessAcceptsCreditCards': 'True', 'RestaurantsTakeOut': 'True', 'GoodForKids': 'True', 'OutdoorSeating': 'False', 'RestaurantsAttire': \"'casual'\", 'RestaurantsReservations': 'False', 'RestaurantsPriceRange2': '1'}",
         "Restaurants",
         null
        ],
        [
         "14327",
         "TCdNYh5tdjoNmA1WMx3ZPg",
         "Roselena's",
         "1623 E Passyunk Ave",
         "Philadelphia",
         "FL",
         "19148",
         "39.929374",
         "-75.1638426",
         "4.0",
         "10",
         "0",
         "{'RestaurantsGoodForGroups': 'True', 'Alcohol': \"'none'\", 'BusinessParking': \"{'garage': False, 'street': True, 'validated': False, 'lot': False, 'valet': False}\", 'OutdoorSeating': 'True', 'RestaurantsPriceRange2': '1', 'RestaurantsAttire': \"'casual'\", 'BusinessAcceptsCreditCards': 'True', 'BYOBCorkage': \"'yes_free'\", 'GoodForKids': 'False'}",
         "Restaurants",
         null
        ],
        [
         "18026",
         "IAQZu_JHv76rsgcHgZGbMA",
         "Joe Sepie's",
         "4402 Jefferson Hwy",
         "New Orleans",
         "AB",
         "70121",
         "29.959323",
         "-90.1720183",
         "3.0",
         "5",
         "0",
         "{'WiFi': \"u'no'\", 'BusinessAcceptsCreditCards': 'True', 'GoodForKids': 'True', 'NoiseLevel': \"u'quiet'\", 'RestaurantsPriceRange2': '2', 'Alcohol': \"u'none'\", 'OutdoorSeating': 'False', 'BusinessParking': \"{'garage': False, 'street': False, 'validated': False, 'lot': False, 'valet': False}\", 'RestaurantsReservations': 'False', 'RestaurantsDelivery': 'False', 'RestaurantsTakeOut': 'True', 'RestaurantsAttire': \"u'casual'\", 'Ambience': \"{'romantic': False, 'intimate': False, 'touristy': False, 'hipster': False, 'divey': False, 'classy': False, 'trendy': False, 'upscale': False, 'casual': False}\", 'HasTV': 'True'}",
         "Restaurants",
         null
        ],
        [
         "18487",
         "vb9VqzcTk3pUWuyWwTV0tg",
         "Pyramids Cafe",
         "1000 Rivergate Pkwy",
         "Goodlettsville",
         "PA",
         "37072",
         "36.303462",
         "-86.696914",
         "4.0",
         "8",
         "1",
         "{'NoiseLevel': \"u'loud'\", 'BusinessAcceptsCreditCards': 'True', 'OutdoorSeating': 'False', 'RestaurantsReservations': 'False', 'BusinessParking': \"{'garage': False, 'street': False, 'validated': False, 'lot': False, 'valet': False}\", 'RestaurantsAttire': \"u'casual'\", 'RestaurantsPriceRange2': '1', 'RestaurantsTakeOut': 'True', 'Alcohol': \"u'none'\", 'HasTV': 'True', 'Ambience': \"{'touristy': False, 'hipster': False, 'romantic': False, 'divey': False, 'intimate': False, 'trendy': False, 'upscale': False, 'classy': False, 'casual': False}\", 'GoodForMeal': \"{'dessert': False, 'latenight': False, 'lunch': False, 'dinner': False, 'brunch': False, 'breakfast': False}\", 'RestaurantsDelivery': 'False'}",
         "Restaurants",
         null
        ],
        [
         "23896",
         "MjBfqjOH8tTZ3dBTpbMVmQ",
         "Vfw Post 3944",
         "10817 Midland Blvd",
         "Saint Louis",
         "PA",
         "63114",
         "38.703965",
         "-90.398387",
         "5.0",
         "8",
         "1",
         "{'RestaurantsGoodForGroups': 'True', 'RestaurantsReservations': 'False', 'BusinessAcceptsCreditCards': 'True', 'RestaurantsDelivery': 'False', 'OutdoorSeating': 'False', 'GoodForKids': 'False', 'RestaurantsAttire': \"'casual'\", 'RestaurantsPriceRange2': '1', 'RestaurantsTakeOut': 'True'}",
         "Restaurants",
         null
        ],
        [
         "24813",
         "dOwN9-8QD4xwErNEMU_dMA",
         "Waterside Cafe",
         "4925 Independence Pkwy, Ste 130",
         "Tampa",
         "IL",
         "33634",
         "27.9784761",
         "-82.5499481",
         "2.5",
         "5",
         "1",
         "{'Ambience': \"{'romantic': False, 'intimate': False, 'classy': False, 'hipster': False, 'divey': False, 'touristy': False, 'trendy': False, 'upscale': False, 'casual': False}\", 'Caters': 'False', 'NoiseLevel': \"'loud'\", 'RestaurantsPriceRange2': '1', 'Alcohol': \"'none'\", 'BikeParking': 'True', 'RestaurantsDelivery': 'False', 'RestaurantsReservations': 'False', 'RestaurantsTakeOut': 'True', 'BusinessAcceptsCreditCards': 'True', 'HasTV': 'True', 'RestaurantsAttire': \"'casual'\", 'OutdoorSeating': 'True', 'RestaurantsGoodForGroups': 'True', 'GoodForKids': 'False', 'BusinessParking': \"{'garage': True, 'street': False, 'validated': False, 'lot': True, 'valet': False}\"}",
         "Restaurants",
         "{'Friday': '6:30-11:0', 'Saturday': '6:30-11:0', 'Sunday': '6:30-11:0'}"
        ],
        [
         "25351",
         "x2xQUz1YfOzy5A9FRuCpMw",
         "Passage To India",
         "1320 Walnut St",
         "Philadelphia",
         "PA",
         "19107",
         "39.9489511",
         "-75.1630431",
         "3.0",
         "23",
         "0",
         "{'OutdoorSeating': 'False', 'RestaurantsPriceRange2': '1', 'BusinessAcceptsCreditCards': 'True', 'RestaurantsDelivery': 'True', 'Alcohol': \"'beer_and_wine'\", 'RestaurantsTakeOut': 'True', 'RestaurantsAttire': \"'casual'\", 'RestaurantsGoodForGroups': 'True', 'GoodForKids': 'True', 'BusinessParking': \"{'garage': False, 'street': True, 'validated': False, 'lot': False, 'valet': False}\"}",
         "Restaurants",
         null
        ],
        [
         "26061",
         "fLZ8IpBPsDjFzl7zuXRZ9w",
         "Zachs Famous Donair",
         "7609 38 Ave NW",
         "Edmonton",
         "FL",
         "T6K 3L6",
         "53.4722697",
         "-113.4504354",
         "4.5",
         "7",
         "1",
         "{'RestaurantsAttire': \"u'casual'\", 'RestaurantsGoodForGroups': 'True', 'Alcohol': \"u'none'\", 'RestaurantsTakeOut': 'True', 'OutdoorSeating': 'False', 'NoiseLevel': \"u'average'\", 'RestaurantsPriceRange2': '1', 'RestaurantsReservations': 'False', 'GoodForKids': 'True', 'HasTV': 'True', 'RestaurantsDelivery': 'False'}",
         "Restaurants",
         null
        ],
        [
         "26265",
         "TsohTE3w1br2m0Nb-tDRDA",
         "Dairyland",
         "501 S Main St",
         "Dupo",
         "PA",
         "62239",
         "38.514134",
         "-90.209721",
         "5.0",
         "10",
         "1",
         "{'Alcohol': \"u'none'\", 'GoodForKids': 'True', 'RestaurantsGoodForGroups': 'True', 'OutdoorSeating': 'True', 'Caters': 'False', 'RestaurantsPriceRange2': '1', 'BusinessParking': \"{'garage': False, 'street': True, 'validated': False, 'lot': False, 'valet': False}\", 'RestaurantsTakeOut': 'True', 'RestaurantsAttire': \"u'casual'\", 'HasTV': 'True', 'Ambience': \"{'touristy': False, 'hipster': False, 'romantic': False, 'divey': False, 'intimate': False, 'trendy': False, 'upscale': False, 'classy': False, 'casual': False}\"}",
         "Restaurants",
         null
        ],
        [
         "26673",
         "fLCEZNLO9CFDZd9ItF3sig",
         "Arelis Restaurant",
         "2198 River Ave",
         "Camden",
         "FL",
         "08105",
         "39.9528591",
         "-75.0966681",
         "2.5",
         "7",
         "1",
         "{'BusinessAcceptsCreditCards': 'True', 'GoodForKids': 'True', 'RestaurantsPriceRange2': '1', 'RestaurantsReservations': 'False', 'RestaurantsTakeOut': 'True', 'Alcohol': \"u'none'\", 'RestaurantsGoodForGroups': 'False', 'RestaurantsAttire': \"'casual'\", 'HasTV': 'True', 'OutdoorSeating': 'False', 'Ambience': \"{'touristy': False, 'hipster': False, 'romantic': False, 'divey': False, 'intimate': False, 'trendy': False, 'upscale': False, 'classy': False, 'casual': False}\", 'RestaurantsDelivery': 'True'}",
         "Restaurants",
         null
        ],
        [
         "26856",
         "4qie_VdA-vTitNFl36F9Pw",
         "Kelly's For Just About Anything",
         "319 Main",
         "Clearwater",
         "AZ",
         "33755",
         "28.0116750414",
         "-82.7883693274",
         "4.0",
         "12",
         "0",
         "{'BusinessAcceptsCreditCards': 'True', 'OutdoorSeating': 'True', 'RestaurantsGoodForGroups': 'True', 'RestaurantsAttire': \"'casual'\", 'RestaurantsReservations': 'True', 'GoodForKids': 'True', 'Alcohol': \"u'full_bar'\", 'NoiseLevel': \"u'loud'\", 'HasTV': 'False', 'RestaurantsDelivery': 'False', 'WiFi': \"u'no'\", 'BusinessParking': \"{'garage': False, 'street': True, 'validated': False, 'lot': False, 'valet': False}\", 'RestaurantsPriceRange2': '2', 'Ambience': \"{'romantic': False, 'intimate': False, 'touristy': False, 'hipster': True, 'divey': False, 'classy': False, 'trendy': False, 'upscale': False, 'casual': True}\"}",
         "Restaurants",
         null
        ],
        [
         "27641",
         "yHtS6dj20tl3ht32w6K6Qw",
         "Stateside Restaurant & Lounge",
         "1114 State St",
         "Santa Barbara",
         "AZ",
         "93190",
         "34.423044",
         "-119.703208",
         "2.5",
         "10",
         "0",
         "{'BusinessParking': \"{'garage': False, 'street': True, 'validated': False, 'lot': False, 'valet': False}\", 'RestaurantsReservations': 'True', 'RestaurantsGoodForGroups': 'True', 'Alcohol': \"u'full_bar'\", 'BYOBCorkage': \"'no'\", 'RestaurantsPriceRange2': '2', 'RestaurantsAttire': \"u'casual'\", 'OutdoorSeating': 'True', 'GoodForKids': 'False', 'BusinessAcceptsCreditCards': 'True', 'HappyHour': 'True', 'RestaurantsDelivery': 'False'}",
         "Restaurants",
         null
        ],
        [
         "28179",
         "3tTVN74KJAN0z1DJ_dsE6w",
         "Susie's Family Restaurant",
         "6476 Ridge Rd",
         "Port Richey",
         "PA",
         "34668",
         "28.2792732",
         "-82.7076932",
         "4.5",
         "13",
         "1",
         "{'BusinessAcceptsCreditCards': 'True', 'RestaurantsDelivery': 'False', 'RestaurantsTakeOut': 'True', 'RestaurantsGoodForGroups': 'True', 'Caters': 'False', 'RestaurantsReservations': 'False', 'RestaurantsAttire': \"u'casual'\", 'NoiseLevel': \"u'average'\", 'RestaurantsPriceRange2': '1', 'WiFi': \"u'no'\", 'OutdoorSeating': 'False', 'GoodForKids': 'True', 'GoodForMeal': \"{u'breakfast': True, u'brunch': None, u'lunch': None, u'dinner': None, u'latenight': None, u'dessert': None}\", 'BikeParking': 'False', 'Alcohol': \"'none'\", 'HasTV': 'True', 'Ambience': \"{u'divey': None, u'hipster': None, u'casual': True, u'touristy': None, u'trendy': None, u'intimate': None, u'romantic': None, u'classy': None, u'upscale': False}\", 'BusinessParking': \"{u'valet': False, u'garage': None, u'street': False, u'lot': True, u'validated': None}\"}",
         "Restaurants",
         null
        ],
        [
         "31329",
         "9dsBxz6xlVTjpNZXFQ7xuw",
         "Jay's Crab House",
         "701 E Baltimore Ave",
         "Lansdowne",
         "MO",
         "19050",
         "39.9407892",
         "-75.2596751",
         "2.5",
         "6",
         "1",
         null,
         "Restaurants",
         null
        ],
        [
         "31928",
         "cUi8TwIH_dt91b_KfPRdTg",
         "Bing Lau Chop Suey",
         "3101 N Grand Blvd",
         "Saint Louis",
         "LA",
         "63107",
         "38.6587132",
         "-90.2188773",
         "4.5",
         "6",
         "1",
         "{'Ambience': \"{'touristy': False, 'hipster': False, 'romantic': False, 'divey': False, 'intimate': False, 'trendy': False, 'upscale': False, 'classy': False, 'casual': False}\", 'RestaurantsTakeOut': 'True', 'RestaurantsPriceRange2': '1', 'RestaurantsAttire': \"u'casual'\", 'BusinessParking': \"{'garage': False, 'street': False, 'validated': False, 'lot': False, 'valet': False}\", 'Alcohol': \"u'none'\", 'HasTV': 'True', 'NoiseLevel': \"u'average'\", 'WiFi': \"u'no'\"}",
         "Restaurants",
         null
        ],
        [
         "32994",
         "HdV1pzSFK7kpgd60AKUHyQ",
         "Buca Di Beppo",
         "2301 Rt 38",
         "Cherry Hill",
         "FL",
         "08002",
         "39.9394262",
         "-75.0131112",
         "3.0",
         "10",
         "0",
         "{'RestaurantsPriceRange2': '2', 'BusinessAcceptsCreditCards': 'True', 'OutdoorSeating': 'False', 'RestaurantsDelivery': 'False', 'RestaurantsReservations': 'False', 'GoodForKids': 'True', 'RestaurantsAttire': \"u'casual'\", 'Alcohol': \"u'full_bar'\", 'RestaurantsGoodForGroups': 'True', 'BusinessParking': \"{'garage': False, 'street': False, 'validated': False, 'lot': False, 'valet': False}\"}",
         "Restaurants",
         null
        ],
        [
         "35073",
         "gRHfRxTqaf_oUapIB9MMUA",
         "Cosi",
         "3828 Kennett Pike Ste A",
         "Greenville",
         "PA",
         "19807",
         "39.7752937",
         "-75.5972641",
         "3.0",
         "8",
         "0",
         null,
         "Restaurants",
         null
        ],
        [
         "39979",
         "q7mT2AVq7uG_1kmph-NYXw",
         "Seaside Inn Restaurant & Lounge",
         "5330 Treadway Dr",
         "Port Richey",
         "PA",
         "34668",
         "28.2733478",
         "-82.7264741",
         "3.0",
         "16",
         "1",
         "{'RestaurantsTakeOut': 'True', 'HasTV': 'True', 'NoiseLevel': \"u'average'\", 'RestaurantsPriceRange2': '2', 'Ambience': \"{'romantic': False, 'intimate': False, 'touristy': False, 'hipster': False, 'divey': False, 'classy': False, 'trendy': False, 'upscale': False, 'casual': False}\", 'BusinessParking': \"{'garage': False, 'street': False, 'validated': False, 'lot': True, 'valet': False}\", 'RestaurantsDelivery': 'False', 'BusinessAcceptsCreditCards': 'True', 'RestaurantsAttire': \"u'casual'\", 'RestaurantsGoodForGroups': 'True', 'Alcohol': \"u'full_bar'\", 'OutdoorSeating': 'True', 'GoodForKids': 'True', 'WiFi': \"'free'\", 'BikeParking': 'True', 'RestaurantsReservations': 'False'}",
         "Restaurants",
         null
        ],
        [
         "40722",
         "qaPADjsU6c0Ufho0zdL6Yw",
         "Azure",
         "931 N 2nd St",
         "Philadelphia",
         "TN",
         "19123",
         "39.9648195",
         "-75.1402322",
         "3.5",
         "22",
         "0",
         "{'RestaurantsGoodForGroups': 'True', 'RestaurantsReservations': 'True', 'RestaurantsTakeOut': 'True', 'BusinessAcceptsCreditCards': 'True', 'BusinessParking': \"{'garage': False, 'street': True, 'validated': False, 'lot': False, 'valet': False}\", 'BYOBCorkage': \"'no'\", 'RestaurantsAttire': \"'casual'\", 'GoodForKids': 'True', 'OutdoorSeating': 'True', 'Alcohol': \"'full_bar'\", 'RestaurantsPriceRange2': '2'}",
         "Restaurants",
         null
        ],
        [
         "43395",
         "Y16H2fSdBeriQgDD_A-aFw",
         "Margaritaville Store",
         "1 French Market Pl",
         "New Orleans",
         "IL",
         "70116",
         "29.9597761",
         "-90.0597181",
         "3.5",
         "6",
         "0",
         "{'HasTV': 'False'}",
         "Restaurants",
         null
        ],
        [
         "43440",
         "Bzsh379eU98B4IRDogy8Wg",
         "Micron Cafeteria",
         "8000 S Federal Way",
         "Boise",
         "AB",
         "83716",
         "43.503081",
         "-116.116968",
         "4.0",
         "7",
         "1",
         "{'NoiseLevel': \"u'loud'\", 'BusinessParking': 'None', 'RestaurantsTakeOut': 'True', 'Alcohol': \"u'none'\", 'GoodForKids': 'False', 'RestaurantsGoodForGroups': 'True', 'Caters': 'False', 'RestaurantsAttire': \"u'casual'\", 'RestaurantsReservations': 'False', 'RestaurantsPriceRange2': '1', 'BusinessAcceptsCreditCards': 'True', 'RestaurantsDelivery': 'False', 'OutdoorSeating': 'True', 'HasTV': 'True'}",
         "Restaurants",
         null
        ],
        [
         "44318",
         "PG1L06w6sonKGsTJEbCZIQ",
         "Kebab Gyros",
         "3416 Nolensville Pike",
         "Nashville",
         "AB",
         "37211",
         "36.0989706",
         "-86.7387889",
         "4.5",
         "10",
         "1",
         "{'RestaurantsTakeOut': 'True', 'GoodForKids': 'True', 'BusinessAcceptsCreditCards': 'True', 'WiFi': \"u'no'\", 'NoiseLevel': \"u'quiet'\", 'RestaurantsPriceRange2': '1', 'RestaurantsReservations': 'False', 'RestaurantsAttire': \"u'casual'\", 'RestaurantsGoodForGroups': 'True', 'Alcohol': \"u'none'\", 'BusinessParking': \"{'garage': False, 'street': False, 'validated': False, 'lot': True, 'valet': False}\", 'Ambience': \"{'romantic': False, 'intimate': False, 'classy': False, 'hipster': False, 'divey': False, 'touristy': False, 'trendy': False, 'upscale': False, 'casual': False}\", 'OutdoorSeating': 'False', 'HasTV': 'True', 'BikeParking': 'True', 'RestaurantsDelivery': 'None'}",
         "Restaurants",
         null
        ],
        [
         "47799",
         "7RSsRMQCO2l0GpGjlvEFfA",
         "Ale Yard & Tap Grill",
         "13310 - 137 Avenue NW",
         "Edmonton",
         "PA",
         "T5L 4Z6",
         "53.6002702",
         "-113.5513966",
         "2.0",
         "23",
         "0",
         "{'RestaurantsPriceRange2': '2', 'GoodForKids': 'True', 'NoiseLevel': \"u'average'\", 'RestaurantsTakeOut': 'True', 'Alcohol': \"u'full_bar'\", 'Caters': 'False', 'Ambience': \"{'romantic': False, 'intimate': False, 'classy': False, 'hipster': False, 'divey': False, 'touristy': False, 'trendy': False, 'upscale': False, 'casual': True}\", 'RestaurantsDelivery': 'False', 'RestaurantsReservations': 'True', 'HasTV': 'True', 'OutdoorSeating': 'True', 'RestaurantsAttire': \"u'casual'\", 'RestaurantsGoodForGroups': 'True', 'BusinessParking': \"{'garage': False, 'street': False, 'validated': False, 'lot': True, 'valet': False}\", 'WiFi': \"u'free'\"}",
         "Restaurants",
         null
        ],
        [
         "48688",
         "vBxlK7iOH9klZsg-z2dUzA",
         "Moore's Restaurant",
         "7309 Old Saint Louis Rd",
         "Belleville",
         "PA",
         "62223",
         "38.546817",
         "-90.053495",
         "3.5",
         "22",
         "1",
         "{'RestaurantsReservations': 'False', 'RestaurantsGoodForGroups': 'False', 'RestaurantsTakeOut': 'True', 'RestaurantsDelivery': 'False', 'RestaurantsPriceRange2': '1', 'RestaurantsAttire': \"u'casual'\", 'BusinessAcceptsCreditCards': 'True', 'OutdoorSeating': 'False', 'Alcohol': \"u'none'\", 'GoodForKids': 'True', 'Ambience': \"{'touristy': False, 'hipster': False, 'romantic': False, 'divey': False, 'intimate': False, 'trendy': False, 'upscale': False, 'classy': False, 'casual': False}\", 'BusinessParking': \"{'garage': False, 'street': False, 'validated': False, 'lot': True, 'valet': False}\", 'HasTV': 'True'}",
         "Restaurants",
         null
        ],
        [
         "49387",
         "hvPn075YLp6uy8tDC_ic3Q",
         "Authentic Nashville",
         "8 Hangar Ln",
         "Nashville",
         "AZ",
         "37214",
         "36.1202640736",
         "-86.6737144524",
         "1.5",
         "9",
         "1",
         "{'HasTV': 'True', 'Ambience': \"{'touristy': False, 'hipster': False, 'romantic': False, 'divey': False, 'intimate': False, 'trendy': False, 'upscale': False, 'classy': False, 'casual': False}\"}",
         "Restaurants",
         null
        ],
        [
         "49413",
         "WAQJdnmEZqlBmYu-mlXFPA",
         "Adam's Shawarma and Donair",
         "12556-132 Avenue",
         "Edmonton",
         "IN",
         "T5L 3P9",
         "53.5922338",
         "-113.5388205",
         "3.0",
         "5",
         "0",
         null,
         "Restaurants",
         null
        ],
        [
         "50529",
         "OAs42PSxiaPS25sO8Vtfiw",
         "Lets Wok",
         "6258 N Broad St",
         "Philadelphia",
         "FL",
         "19141",
         "40.0494003",
         "-75.143",
         "4.0",
         "5",
         "1",
         "{'RestaurantsPriceRange2': '1', 'Alcohol': \"u'none'\", 'RestaurantsTakeOut': 'True', 'Ambience': \"{'romantic': False, 'intimate': False, 'classy': False, 'hipster': False, 'divey': False, 'touristy': False, 'trendy': False, 'upscale': False, 'casual': False}\", 'BusinessParking': \"{'garage': False, 'street': False, 'validated': False, 'lot': False, 'valet': False}\", 'RestaurantsAttire': \"u'casual'\", 'NoiseLevel': \"u'average'\", 'OutdoorSeating': 'False', 'BusinessAcceptsCreditCards': 'False', 'RestaurantsDelivery': 'True', 'Caters': 'False', 'WiFi': \"'no'\", 'GoodForKids': 'False', 'RestaurantsReservations': 'False', 'RestaurantsGoodForGroups': 'False', 'BikeParking': 'True', 'HasTV': 'True'}",
         "Restaurants",
         null
        ],
        [
         "50835",
         "iLT6EshGvA9yMdLTqeIE_Q",
         "Michael's Diner Restaurant",
         "719 S Broadway",
         "Pennsville",
         "ID",
         "08070",
         "39.61127",
         "-75.501917",
         "2.5",
         "5",
         "0",
         "{'Ambience': \"{'romantic': False, 'intimate': False, 'touristy': False, 'hipster': False, 'divey': False, 'classy': False, 'trendy': False, 'upscale': False, 'casual': False}\", 'BusinessAcceptsCreditCards': 'True', 'BusinessParking': \"{'garage': False, 'street': False, 'validated': False, 'lot': True, 'valet': False}\", 'RestaurantsAttire': \"u'casual'\", 'NoiseLevel': \"u'average'\", 'RestaurantsTakeOut': 'True', 'RestaurantsGoodForGroups': 'True', 'RestaurantsReservations': 'True', 'Caters': 'True', 'WiFi': \"u'no'\", 'RestaurantsPriceRange2': '2', 'RestaurantsDelivery': 'False', 'HasTV': 'True', 'Alcohol': \"u'none'\", 'OutdoorSeating': 'False', 'GoodForKids': 'True'}",
         "Restaurants",
         "{'Monday': '6:0-22:0', 'Tuesday': '6:0-22:0', 'Wednesday': '6:0-22:0', 'Thursday': '6:0-22:0', 'Friday': '6:0-22:0', 'Saturday': '6:0-22:0', 'Sunday': '6:0-22:0'}"
        ],
        [
         "51864",
         "_odbPl91mJbD1a9ws74mnQ",
         "Mias Eatery",
         "18 W Airline Hwy",
         "Kenner",
         "NV",
         "70062",
         "29.9812383",
         "-90.2748674",
         "4.5",
         "7",
         "1",
         "{'BusinessParking': \"{'garage': False, 'street': False, 'validated': False, 'lot': False, 'valet': False}\", 'GoodForMeal': \"{'dessert': False, 'latenight': False, 'lunch': False, 'dinner': False, 'brunch': False, 'breakfast': False}\", 'Ambience': \"{'touristy': False, 'hipster': False, 'romantic': False, 'divey': False, 'intimate': False, 'trendy': False, 'upscale': False, 'classy': False, 'casual': False}\"}",
         "Restaurants",
         null
        ],
        [
         "52380",
         "rUqWq9jO9xtiRlDWItCdkg",
         "Bistro Juliana",
         "2723 E Cumberland St",
         "Philadelphia",
         "PA",
         "19125",
         "39.975071",
         "-75.118352",
         "4.0",
         "14",
         "0",
         "{'OutdoorSeating': 'True', 'RestaurantsDelivery': 'False', 'BusinessParking': \"{'garage': False, 'street': True, 'validated': False, 'lot': False, 'valet': False}\", 'RestaurantsAttire': \"u'casual'\", 'RestaurantsGoodForGroups': 'True', 'BusinessAcceptsCreditCards': 'True', 'Alcohol': \"'none'\", 'RestaurantsTakeOut': 'True', 'RestaurantsPriceRange2': '2', 'RestaurantsReservations': 'False', 'GoodForKids': 'True'}",
         "Restaurants",
         null
        ],
        [
         "53252",
         "mfPb0TXKnhfjjvhbHBB-zw",
         "Cannon's Restaurants",
         "4141 Saint Charles Ave",
         "New Orleans",
         "FL",
         "70115",
         "29.926972",
         "-90.0995949",
         "3.5",
         "8",
         "0",
         "{'RestaurantsGoodForGroups': 'True', 'RestaurantsDelivery': 'False', 'OutdoorSeating': 'False', 'BusinessAcceptsCreditCards': 'True', 'GoodForKids': 'True', 'BusinessParking': \"{'garage': False, 'street': False, 'validated': False, 'lot': True, 'valet': False}\", 'RestaurantsAttire': \"u'casual'\", 'RestaurantsReservations': 'True', 'RestaurantsPriceRange2': '3', 'Alcohol': \"u'full_bar'\"}",
         "Restaurants",
         null
        ],
        [
         "53814",
         "ULAfzCa_T3IeaUAhhASJMw",
         "A & A Steaks",
         "6301 Haverford Ave",
         "Philadelphia",
         "CA",
         "19151",
         "39.9720589",
         "-75.2451829",
         "3.5",
         "5",
         "1",
         "{'RestaurantsPriceRange2': '1', 'RestaurantsGoodForGroups': 'True', 'RestaurantsTakeOut': 'True', 'WiFi': \"u'no'\", 'BusinessAcceptsCreditCards': 'False', 'BikeParking': 'True', 'Alcohol': \"u'none'\", 'OutdoorSeating': 'False', 'GoodForKids': 'True', 'RestaurantsDelivery': 'False', 'BusinessParking': \"{'garage': False, 'street': False, 'validated': False, 'lot': False, 'valet': False}\", 'RestaurantsReservations': 'False', 'NoiseLevel': \"u'average'\", 'RestaurantsAttire': \"u'casual'\", 'Caters': 'False', 'Ambience': \"{u'divey': None, u'hipster': None, u'casual': None, u'touristy': False, u'trendy': None, u'intimate': None, u'romantic': None, u'classy': None, u'upscale': None}\", 'HasTV': 'True'}",
         "Restaurants",
         null
        ],
        [
         "54547",
         "GGrs0XI9zOcvxSRQFZQxxg",
         "B J's Family Restaurant",
         "2522 Highway 49 E",
         "Pleasant View",
         "LA",
         "37146",
         "36.3952084",
         "-87.0347666",
         "3.0",
         "21",
         "0",
         "{'WiFi': \"u'no'\", 'Ambience': \"{'romantic': False, 'intimate': False, 'touristy': False, 'hipster': False, 'divey': False, 'classy': False, 'trendy': False, 'upscale': False, 'casual': False}\", 'NoiseLevel': \"u'quiet'\", 'GoodForKids': 'True', 'OutdoorSeating': 'False', 'RestaurantsReservations': 'False', 'HasTV': 'False', 'RestaurantsGoodForGroups': 'True', 'BusinessAcceptsCreditCards': 'False', 'Alcohol': \"u'none'\", 'BusinessParking': \"{'garage': False, 'street': False, 'validated': False, 'lot': True, 'valet': False}\", 'BikeParking': 'True', 'RestaurantsDelivery': 'False', 'RestaurantsPriceRange2': '1', 'Caters': 'False', 'RestaurantsAttire': \"u'casual'\", 'RestaurantsTakeOut': 'True'}",
         "Restaurants",
         null
        ],
        [
         "56644",
         "oWmOaNeTRQ_mblz5lIVyAQ",
         "Ninety Nine Restaurant",
         "675 Shannondell Blvd",
         "Audubon",
         "FL",
         "19403",
         "40.128055",
         "-75.406589",
         "2.5",
         "7",
         "0",
         "{'BusinessParking': \"{'garage': False, 'street': False, 'validated': False, 'lot': True, 'valet': False}\", 'OutdoorSeating': 'False', 'GoodForKids': 'True', 'Alcohol': \"'full_bar'\", 'RestaurantsReservations': 'False', 'RestaurantsTakeOut': 'False', 'RestaurantsAttire': \"'casual'\", 'RestaurantsGoodForGroups': 'True', 'RestaurantsDelivery': 'False', 'RestaurantsPriceRange2': '2', 'BusinessAcceptsCreditCards': 'True'}",
         "Restaurants",
         "{'Monday': '11:30-23:0', 'Tuesday': '11:30-23:0', 'Wednesday': '11:30-23:0', 'Thursday': '11:30-0:0', 'Friday': '11:30-0:0', 'Saturday': '11:30-0:0'}"
        ],
        [
         "57080",
         "N6voFZCDOutPeOgbx8LI_w",
         "Bob Evans Restaurant",
         "2180 N US Highway 67",
         "Florissant",
         "FL",
         "63033",
         "38.8020712",
         "-90.3121024",
         "2.5",
         "7",
         "0",
         "{'BikeParking': 'False', 'RestaurantsDelivery': 'False', 'RestaurantsPriceRange2': '1', 'RestaurantsTakeOut': 'True', 'GoodForKids': 'True', 'RestaurantsAttire': \"u'casual'\", 'HasTV': 'False', 'OutdoorSeating': 'False', 'BusinessAcceptsCreditCards': 'True', 'Ambience': \"{'romantic': False, 'intimate': False, 'classy': False, 'hipster': False, 'divey': False, 'touristy': False, 'trendy': False, 'upscale': False, 'casual': False}\", 'RestaurantsReservations': 'False', 'RestaurantsGoodForGroups': 'True'}",
         "Restaurants",
         null
        ],
        [
         "57417",
         "2lzcB7p5YlBimh4vfr6Fpw",
         "Chaucer's Tabard Inn",
         "1946 Lombard St",
         "Philadelphia",
         "ID",
         "19146",
         "39.9456566",
         "-75.1747555",
         "3.5",
         "8",
         "0",
         "{'RestaurantsReservations': 'False', 'Alcohol': \"u'full_bar'\", 'BusinessAcceptsCreditCards': 'True', 'RestaurantsPriceRange2': '2', 'RestaurantsAttire': \"'casual'\", 'RestaurantsGoodForGroups': 'True', 'OutdoorSeating': 'False', 'BusinessParking': \"{'garage': False, 'street': False, 'validated': False, 'lot': False, 'valet': False}\", 'GoodForKids': 'False', 'BYOBCorkage': \"'no'\"}",
         "Restaurants",
         null
        ],
        [
         "57443",
         "S9_PXayTpJB7264emkYwDw",
         "Master Wok",
         "2500 W Moreland Rd, Ste 3054",
         "Willow Grove",
         "NV",
         "19090",
         "40.1401265",
         "-75.1234566",
         "4.0",
         "11",
         "1",
         "{'BusinessAcceptsCreditCards': 'True', 'RestaurantsGoodForGroups': 'True', 'GoodForKids': 'True', 'RestaurantsAttire': \"'casual'\", 'GoodForMeal': \"{'dessert': False, 'latenight': False, 'lunch': False, 'dinner': False, 'brunch': False, 'breakfast': False}\", 'Ambience': \"{'touristy': False, 'hipster': False, 'romantic': False, 'divey': False, 'intimate': False, 'trendy': False, 'upscale': False, 'classy': False, 'casual': False}\", 'RestaurantsPriceRange2': '1', 'RestaurantsTakeOut': 'True', 'RestaurantsDelivery': 'False', 'RestaurantsReservations': 'False', 'HasTV': 'True'}",
         "Restaurants",
         null
        ],
        [
         "57632",
         "ioOw0m7uBsDpUTAHOrKAnQ",
         "Piccadilly Cafeteria",
         "11810 N Dale Mabry Hwy",
         "Tampa",
         "FL",
         "33618",
         "28.056895",
         "-82.505311",
         "3.5",
         "6",
         "0",
         "{'Ambience': \"{'romantic': False, 'intimate': False, 'classy': False, 'hipster': False, 'divey': False, 'touristy': False, 'trendy': False, 'upscale': False, 'casual': False}\", 'Alcohol': \"u'none'\", 'RestaurantsAttire': \"u'casual'\", 'OutdoorSeating': 'False', 'BusinessAcceptsCreditCards': 'True', 'RestaurantsReservations': 'False', 'RestaurantsGoodForGroups': 'True', 'HasTV': 'False', 'NoiseLevel': \"u'quiet'\", 'RestaurantsPriceRange2': '1', 'GoodForKids': 'True', 'RestaurantsDelivery': 'False', 'RestaurantsTakeOut': 'True', 'BusinessParking': \"{'garage': False, 'street': False, 'validated': False, 'lot': False, 'valet': False}\"}",
         "Restaurants",
         null
        ],
        [
         "57734",
         "GQue4Nouo2Mg5R2GotVS7w",
         "Big Yellow House",
         "108 Pierpont Rd",
         "Summerland",
         "FL",
         "93067",
         "34.421675",
         "-119.602687",
         "4.5",
         "10",
         "0",
         "{'RestaurantsAttire': \"'casual'\", 'OutdoorSeating': 'True'}",
         "Restaurants",
         null
        ],
        [
         "57813",
         "T3Mi0mrqTFZi9jSmKVxr4A",
         "Bistro Americana",
         "690 Haddon Ave",
         "Collingswood",
         "AB",
         "08108",
         "39.9163332",
         "-75.069373",
         "2.0",
         "7",
         "0",
         "{'Alcohol': \"u'none'\", 'RestaurantsPriceRange2': '2', 'OutdoorSeating': 'False', 'RestaurantsReservations': 'True', 'BusinessAcceptsCreditCards': 'True', 'GoodForKids': 'False', 'RestaurantsAttire': \"u'casual'\", 'BusinessParking': \"{'garage': False, 'street': False, 'validated': False, 'lot': False, 'valet': False}\"}",
         "Restaurants",
         null
        ],
        [
         "58976",
         "QNpFZ8OKF5VQl2jit7sTlQ",
         "Penn Steak & Fries",
         "Coventry Mall",
         "Pottstown",
         "MO",
         "19464",
         "40.234382",
         "-75.666722",
         "5.0",
         "11",
         "1",
         "{'RestaurantsTakeOut': 'True', 'RestaurantsDelivery': 'False', 'RestaurantsReservations': 'False', 'GoodForKids': 'True', 'BusinessAcceptsCreditCards': 'False'}",
         "Restaurants",
         null
        ],
        [
         "59780",
         "awPjFtkoQN2rixTv1J04Pg",
         "Baladas Bistro",
         "200 N 9th St",
         "Saint Louis",
         "IN",
         "63101",
         "38.6281007",
         "-90.1938168",
         "3.5",
         "8",
         "0",
         "{'RestaurantsGoodForGroups': 'False', 'Alcohol': \"u'none'\", 'OutdoorSeating': 'True', 'RestaurantsAttire': \"u'casual'\", 'BusinessParking': \"{'garage': False, 'street': False, 'validated': False, 'lot': False, 'valet': False}\", 'RestaurantsReservations': 'False', 'RestaurantsPriceRange2': '1', 'RestaurantsDelivery': 'True', 'BusinessAcceptsCreditCards': 'True', 'RestaurantsTakeOut': 'True'}",
         "Restaurants",
         null
        ],
        [
         "64061",
         "IFDSkUDx2Ta39ktw4-Lg2A",
         "Calgary Trail Noodle House Restaurant",
         "5730 104 Street NW",
         "Edmonton",
         "AB",
         "T6H 2K2",
         "53.494891",
         "-113.4980976",
         "4.0",
         "12",
         "1",
         "{'BusinessParking': \"{'garage': False, 'street': False, 'validated': False, 'lot': False, 'valet': False}\"}",
         "Restaurants",
         null
        ],
        [
         "64310",
         "UcThXwCOpIgYL60qDIMT-g",
         "Kebab Gyros",
         "212 4th Ave N",
         "Nashville",
         "PA",
         "37219",
         "36.1643272",
         "-86.7788884",
         "3.0",
         "10",
         "1",
         "{'RestaurantsDelivery': 'False', 'GoodForKids': 'True', 'BusinessAcceptsCreditCards': 'True', 'Alcohol': \"u'none'\", 'WiFi': \"'no'\", 'Ambience': \"{'romantic': False, 'intimate': False, 'touristy': False, 'hipster': False, 'divey': False, 'classy': False, 'trendy': False, 'upscale': False, 'casual': False}\", 'BusinessParking': \"{'garage': False, 'street': False, 'validated': False, 'lot': False, 'valet': False}\", 'RestaurantsPriceRange2': '1', 'HasTV': 'True', 'RestaurantsTakeOut': 'True', 'RestaurantsGoodForGroups': 'True', 'NoiseLevel': \"u'quiet'\", 'OutdoorSeating': 'False', 'RestaurantsAttire': \"u'casual'\", 'RestaurantsReservations': 'False'}",
         "Restaurants",
         null
        ]
       ],
       "shape": {
        "columns": 14,
        "rows": 114
       }
      },
      "text/html": [
       "<div>\n",
       "<style scoped>\n",
       "    .dataframe tbody tr th:only-of-type {\n",
       "        vertical-align: middle;\n",
       "    }\n",
       "\n",
       "    .dataframe tbody tr th {\n",
       "        vertical-align: top;\n",
       "    }\n",
       "\n",
       "    .dataframe thead th {\n",
       "        text-align: right;\n",
       "    }\n",
       "</style>\n",
       "<table border=\"1\" class=\"dataframe\">\n",
       "  <thead>\n",
       "    <tr style=\"text-align: right;\">\n",
       "      <th></th>\n",
       "      <th>business_id</th>\n",
       "      <th>name</th>\n",
       "      <th>address</th>\n",
       "      <th>city</th>\n",
       "      <th>state</th>\n",
       "      <th>postal_code</th>\n",
       "      <th>latitude</th>\n",
       "      <th>longitude</th>\n",
       "      <th>stars</th>\n",
       "      <th>review_count</th>\n",
       "      <th>is_open</th>\n",
       "      <th>attributes</th>\n",
       "      <th>categories</th>\n",
       "      <th>hours</th>\n",
       "    </tr>\n",
       "  </thead>\n",
       "  <tbody>\n",
       "    <tr>\n",
       "      <th>3655</th>\n",
       "      <td>x2J-YIFeGZ-nsezzooVA9g</td>\n",
       "      <td>Twenty 21</td>\n",
       "      <td>2005 Market St</td>\n",
       "      <td>Philadelphia</td>\n",
       "      <td>NV</td>\n",
       "      <td>19103</td>\n",
       "      <td>39.954108</td>\n",
       "      <td>-75.174671</td>\n",
       "      <td>3.0</td>\n",
       "      <td>8</td>\n",
       "      <td>0</td>\n",
       "      <td>{'BusinessAcceptsCreditCards': 'True', 'Restau...</td>\n",
       "      <td>Restaurants</td>\n",
       "      <td>None</td>\n",
       "    </tr>\n",
       "    <tr>\n",
       "      <th>5873</th>\n",
       "      <td>VlrSuulqTFeQfV2PToJGvg</td>\n",
       "      <td>Fung Garden</td>\n",
       "      <td>5118 Gall Blvd</td>\n",
       "      <td>Zephyrhills</td>\n",
       "      <td>FL</td>\n",
       "      <td>33542</td>\n",
       "      <td>28.232059</td>\n",
       "      <td>-82.180394</td>\n",
       "      <td>3.5</td>\n",
       "      <td>8</td>\n",
       "      <td>0</td>\n",
       "      <td>{'RestaurantsTakeOut': 'True', 'HasTV': 'False...</td>\n",
       "      <td>Restaurants</td>\n",
       "      <td>{'Monday': '10:0-21:0', 'Tuesday': '10:0-21:0'...</td>\n",
       "    </tr>\n",
       "    <tr>\n",
       "      <th>6856</th>\n",
       "      <td>mFE9V6LPpsDRUQLEBsBRRA</td>\n",
       "      <td>Pearl of East</td>\n",
       "      <td>2049 W Oregon Ave</td>\n",
       "      <td>Philadelphia</td>\n",
       "      <td>IN</td>\n",
       "      <td>19145</td>\n",
       "      <td>39.918635</td>\n",
       "      <td>-75.182422</td>\n",
       "      <td>3.0</td>\n",
       "      <td>17</td>\n",
       "      <td>1</td>\n",
       "      <td>{'RestaurantsGoodForGroups': 'False', 'Busines...</td>\n",
       "      <td>Restaurants</td>\n",
       "      <td>{'Monday': '10:30-22:30', 'Tuesday': '10:30-22...</td>\n",
       "    </tr>\n",
       "    <tr>\n",
       "      <th>9801</th>\n",
       "      <td>BXUqeFDqvTK2uL6sQd5YnQ</td>\n",
       "      <td>Crazy D’s Hot Chicken</td>\n",
       "      <td>101 University Ter</td>\n",
       "      <td>Reno</td>\n",
       "      <td>FL</td>\n",
       "      <td>89503</td>\n",
       "      <td>39.536288</td>\n",
       "      <td>-119.818231</td>\n",
       "      <td>3.5</td>\n",
       "      <td>37</td>\n",
       "      <td>1</td>\n",
       "      <td>{'RestaurantsTakeOut': 'True', 'RestaurantsDel...</td>\n",
       "      <td>Restaurants</td>\n",
       "      <td>None</td>\n",
       "    </tr>\n",
       "    <tr>\n",
       "      <th>11413</th>\n",
       "      <td>Bf1cdbdHXi8Omlkc7KShkg</td>\n",
       "      <td>Siam Cafe</td>\n",
       "      <td>435 Esplanade Ave</td>\n",
       "      <td>New Orleans</td>\n",
       "      <td>TN</td>\n",
       "      <td>70116</td>\n",
       "      <td>29.961968</td>\n",
       "      <td>-90.057356</td>\n",
       "      <td>4.0</td>\n",
       "      <td>9</td>\n",
       "      <td>0</td>\n",
       "      <td>{'RestaurantsGoodForGroups': 'True', 'Restaura...</td>\n",
       "      <td>Restaurants</td>\n",
       "      <td>None</td>\n",
       "    </tr>\n",
       "    <tr>\n",
       "      <th>...</th>\n",
       "      <td>...</td>\n",
       "      <td>...</td>\n",
       "      <td>...</td>\n",
       "      <td>...</td>\n",
       "      <td>...</td>\n",
       "      <td>...</td>\n",
       "      <td>...</td>\n",
       "      <td>...</td>\n",
       "      <td>...</td>\n",
       "      <td>...</td>\n",
       "      <td>...</td>\n",
       "      <td>...</td>\n",
       "      <td>...</td>\n",
       "      <td>...</td>\n",
       "    </tr>\n",
       "    <tr>\n",
       "      <th>138060</th>\n",
       "      <td>QNoFrASBpqW8dzdAEIYjNQ</td>\n",
       "      <td>The Brown Pelican</td>\n",
       "      <td>2981 Cliff Dr</td>\n",
       "      <td>Santa Barbara</td>\n",
       "      <td>AZ</td>\n",
       "      <td>93109</td>\n",
       "      <td>34.403821</td>\n",
       "      <td>-119.743656</td>\n",
       "      <td>4.0</td>\n",
       "      <td>11</td>\n",
       "      <td>0</td>\n",
       "      <td>{'BusinessParking': '{'garage': False, 'street...</td>\n",
       "      <td>Restaurants</td>\n",
       "      <td>None</td>\n",
       "    </tr>\n",
       "    <tr>\n",
       "      <th>140119</th>\n",
       "      <td>4IvQU16RBKuLtpgx8yLqmQ</td>\n",
       "      <td>Hunan Palace</td>\n",
       "      <td>6118 Lancaster Ave</td>\n",
       "      <td>Philadelphia</td>\n",
       "      <td>FL</td>\n",
       "      <td>19151</td>\n",
       "      <td>39.983388</td>\n",
       "      <td>-75.244222</td>\n",
       "      <td>4.5</td>\n",
       "      <td>7</td>\n",
       "      <td>1</td>\n",
       "      <td>{'RestaurantsGoodForGroups': 'True', 'Restaura...</td>\n",
       "      <td>Restaurants</td>\n",
       "      <td>None</td>\n",
       "    </tr>\n",
       "    <tr>\n",
       "      <th>142167</th>\n",
       "      <td>rdk3Q_YyWYVKo9vfOp0bkw</td>\n",
       "      <td>Jester Mardi Gras Cafe</td>\n",
       "      <td>730 Saint Peter St</td>\n",
       "      <td>New Orleans</td>\n",
       "      <td>IN</td>\n",
       "      <td>70116</td>\n",
       "      <td>29.958251</td>\n",
       "      <td>-90.065566</td>\n",
       "      <td>1.5</td>\n",
       "      <td>6</td>\n",
       "      <td>1</td>\n",
       "      <td>None</td>\n",
       "      <td>Restaurants</td>\n",
       "      <td>None</td>\n",
       "    </tr>\n",
       "    <tr>\n",
       "      <th>144032</th>\n",
       "      <td>YmvS3dxutT01_p7thyD8wg</td>\n",
       "      <td>Buca Di Beppo</td>\n",
       "      <td>11511 N Dale Mabry Hwy</td>\n",
       "      <td>Tampa</td>\n",
       "      <td>MO</td>\n",
       "      <td>33618</td>\n",
       "      <td>28.053802</td>\n",
       "      <td>-82.503277</td>\n",
       "      <td>4.0</td>\n",
       "      <td>5</td>\n",
       "      <td>0</td>\n",
       "      <td>{'RestaurantsGoodForGroups': 'True', 'Restaura...</td>\n",
       "      <td>Restaurants</td>\n",
       "      <td>None</td>\n",
       "    </tr>\n",
       "    <tr>\n",
       "      <th>147109</th>\n",
       "      <td>Thv8LL0eq7ztsGw7F95Lww</td>\n",
       "      <td>Firkin &amp; Friar</td>\n",
       "      <td>6958 E Tanque Verde Rd</td>\n",
       "      <td>Tucson</td>\n",
       "      <td>MO</td>\n",
       "      <td>85715</td>\n",
       "      <td>32.250225</td>\n",
       "      <td>-110.843269</td>\n",
       "      <td>4.0</td>\n",
       "      <td>7</td>\n",
       "      <td>0</td>\n",
       "      <td>{'RestaurantsGoodForGroups': 'True', 'Restaura...</td>\n",
       "      <td>Restaurants</td>\n",
       "      <td>None</td>\n",
       "    </tr>\n",
       "  </tbody>\n",
       "</table>\n",
       "<p>114 rows × 14 columns</p>\n",
       "</div>"
      ],
      "text/plain": [
       "                   business_id                    name  \\\n",
       "3655    x2J-YIFeGZ-nsezzooVA9g               Twenty 21   \n",
       "5873    VlrSuulqTFeQfV2PToJGvg             Fung Garden   \n",
       "6856    mFE9V6LPpsDRUQLEBsBRRA           Pearl of East   \n",
       "9801    BXUqeFDqvTK2uL6sQd5YnQ   Crazy D’s Hot Chicken   \n",
       "11413   Bf1cdbdHXi8Omlkc7KShkg               Siam Cafe   \n",
       "...                        ...                     ...   \n",
       "138060  QNoFrASBpqW8dzdAEIYjNQ       The Brown Pelican   \n",
       "140119  4IvQU16RBKuLtpgx8yLqmQ            Hunan Palace   \n",
       "142167  rdk3Q_YyWYVKo9vfOp0bkw  Jester Mardi Gras Cafe   \n",
       "144032  YmvS3dxutT01_p7thyD8wg           Buca Di Beppo   \n",
       "147109  Thv8LL0eq7ztsGw7F95Lww          Firkin & Friar   \n",
       "\n",
       "                       address           city state postal_code   latitude  \\\n",
       "3655            2005 Market St   Philadelphia    NV       19103  39.954108   \n",
       "5873            5118 Gall Blvd    Zephyrhills    FL       33542  28.232059   \n",
       "6856         2049 W Oregon Ave   Philadelphia    IN       19145  39.918635   \n",
       "9801        101 University Ter           Reno    FL       89503  39.536288   \n",
       "11413        435 Esplanade Ave    New Orleans    TN       70116  29.961968   \n",
       "...                        ...            ...   ...         ...        ...   \n",
       "138060           2981 Cliff Dr  Santa Barbara    AZ       93109  34.403821   \n",
       "140119      6118 Lancaster Ave   Philadelphia    FL       19151  39.983388   \n",
       "142167      730 Saint Peter St    New Orleans    IN       70116  29.958251   \n",
       "144032  11511 N Dale Mabry Hwy          Tampa    MO       33618  28.053802   \n",
       "147109  6958 E Tanque Verde Rd         Tucson    MO       85715  32.250225   \n",
       "\n",
       "         longitude stars  review_count is_open  \\\n",
       "3655    -75.174671   3.0             8       0   \n",
       "5873    -82.180394   3.5             8       0   \n",
       "6856    -75.182422   3.0            17       1   \n",
       "9801   -119.818231   3.5            37       1   \n",
       "11413   -90.057356   4.0             9       0   \n",
       "...            ...   ...           ...     ...   \n",
       "138060 -119.743656   4.0            11       0   \n",
       "140119  -75.244222   4.5             7       1   \n",
       "142167  -90.065566   1.5             6       1   \n",
       "144032  -82.503277   4.0             5       0   \n",
       "147109 -110.843269   4.0             7       0   \n",
       "\n",
       "                                               attributes   categories  \\\n",
       "3655    {'BusinessAcceptsCreditCards': 'True', 'Restau...  Restaurants   \n",
       "5873    {'RestaurantsTakeOut': 'True', 'HasTV': 'False...  Restaurants   \n",
       "6856    {'RestaurantsGoodForGroups': 'False', 'Busines...  Restaurants   \n",
       "9801    {'RestaurantsTakeOut': 'True', 'RestaurantsDel...  Restaurants   \n",
       "11413   {'RestaurantsGoodForGroups': 'True', 'Restaura...  Restaurants   \n",
       "...                                                   ...          ...   \n",
       "138060  {'BusinessParking': '{'garage': False, 'street...  Restaurants   \n",
       "140119  {'RestaurantsGoodForGroups': 'True', 'Restaura...  Restaurants   \n",
       "142167                                               None  Restaurants   \n",
       "144032  {'RestaurantsGoodForGroups': 'True', 'Restaura...  Restaurants   \n",
       "147109  {'RestaurantsGoodForGroups': 'True', 'Restaura...  Restaurants   \n",
       "\n",
       "                                                    hours  \n",
       "3655                                                 None  \n",
       "5873    {'Monday': '10:0-21:0', 'Tuesday': '10:0-21:0'...  \n",
       "6856    {'Monday': '10:30-22:30', 'Tuesday': '10:30-22...  \n",
       "9801                                                 None  \n",
       "11413                                                None  \n",
       "...                                                   ...  \n",
       "138060                                               None  \n",
       "140119                                               None  \n",
       "142167                                               None  \n",
       "144032                                               None  \n",
       "147109                                               None  \n",
       "\n",
       "[114 rows x 14 columns]"
      ]
     },
     "execution_count": 37,
     "metadata": {},
     "output_type": "execute_result"
    }
   ],
   "source": [
    "df_business1[df_business1['categories'] == 'Restaurants'] # Para observar si existen negocios con restaurantes como unica categoria. "
   ]
  },
  {
   "cell_type": "code",
   "execution_count": 38,
   "metadata": {},
   "outputs": [
    {
     "data": {
      "text/plain": [
       "0    Doctors, Traditional Chinese Medicine, Naturop...\n",
       "1    Shipping Centers, Local Services, Notaries, Ma...\n",
       "2    Department Stores, Shopping, Fashion, Home & G...\n",
       "3    Restaurants, Food, Bubble Tea, Coffee & Tea, B...\n",
       "4                            Brewpubs, Breweries, Food\n",
       "Name: categories, dtype: object"
      ]
     },
     "execution_count": 38,
     "metadata": {},
     "output_type": "execute_result"
    }
   ],
   "source": [
    "df_business1['categories'].head()"
   ]
  },
  {
   "cell_type": "code",
   "execution_count": 39,
   "metadata": {},
   "outputs": [],
   "source": [
    "# Función para normalizar la columna \"categories\"\n",
    "def normalize_entry(entry):\n",
    "    if isinstance(entry, str):  \n",
    "        categories = [cat.strip() for cat in entry.split(\", \")]  # Separar por \", \" y limpiar espacios\n",
    "        return pd.DataFrame({\"category\": categories})  # Crear DataFrame con una columna \"category\"\n",
    "    return None  # Retornar None si el valor no es válido\n",
    "\n",
    "expanded_dfs = []\n",
    "\n",
    "# Iterar sobre las filas del DataFrame\n",
    "for idx, row in df_business1.iterrows():\n",
    "    entry = row['categories']\n",
    "\n",
    "    if pd.isna(entry) or entry.strip() == \"\":\n",
    "        continue  # Saltar filas sin datos\n",
    "\n",
    "    normalized_df = normalize_entry(entry)\n",
    "    \n",
    "    if normalized_df is not None and not normalized_df.empty:\n",
    "        normalized_df['business_id'] = row['business_id']  # Mantener relación con el negocio\n",
    "        expanded_dfs.append(normalized_df)\n",
    "\n",
    "# Concatenar los DataFrames expandidos\n",
    "df_categories = pd.concat(expanded_dfs, ignore_index=True) if expanded_dfs else pd.DataFrame()\n",
    "\n",
    "# Reordenar columnas para que 'business_id' esté primero\n",
    "df_categories = df_categories[['business_id', 'category']]"
   ]
  },
  {
   "cell_type": "code",
   "execution_count": 40,
   "metadata": {},
   "outputs": [
    {
     "data": {
      "text/plain": [
       "(668592, 2)"
      ]
     },
     "execution_count": 40,
     "metadata": {},
     "output_type": "execute_result"
    }
   ],
   "source": [
    "df_categories.shape # Para verificar la cantidad de datos resultantes en el nuevo df. "
   ]
  },
  {
   "cell_type": "code",
   "execution_count": 41,
   "metadata": {},
   "outputs": [
    {
     "data": {
      "application/vnd.microsoft.datawrangler.viewer.v0+json": {
       "columns": [
        {
         "name": "index",
         "rawType": "int64",
         "type": "integer"
        },
        {
         "name": "business_id",
         "rawType": "object",
         "type": "string"
        },
        {
         "name": "category",
         "rawType": "object",
         "type": "string"
        }
       ],
       "conversionMethod": "pd.DataFrame",
       "ref": "eedffa46-b3ac-442a-805c-724dc7b19dea",
       "rows": [
        [
         "0",
         "Pns2l4eNsfO8kk83dixA6A",
         "Doctors"
        ],
        [
         "1",
         "Pns2l4eNsfO8kk83dixA6A",
         "Traditional Chinese Medicine"
        ],
        [
         "2",
         "Pns2l4eNsfO8kk83dixA6A",
         "Naturopathic/Holistic"
        ],
        [
         "3",
         "Pns2l4eNsfO8kk83dixA6A",
         "Acupuncture"
        ],
        [
         "4",
         "Pns2l4eNsfO8kk83dixA6A",
         "Health & Medical"
        ]
       ],
       "shape": {
        "columns": 2,
        "rows": 5
       }
      },
      "text/html": [
       "<div>\n",
       "<style scoped>\n",
       "    .dataframe tbody tr th:only-of-type {\n",
       "        vertical-align: middle;\n",
       "    }\n",
       "\n",
       "    .dataframe tbody tr th {\n",
       "        vertical-align: top;\n",
       "    }\n",
       "\n",
       "    .dataframe thead th {\n",
       "        text-align: right;\n",
       "    }\n",
       "</style>\n",
       "<table border=\"1\" class=\"dataframe\">\n",
       "  <thead>\n",
       "    <tr style=\"text-align: right;\">\n",
       "      <th></th>\n",
       "      <th>business_id</th>\n",
       "      <th>category</th>\n",
       "    </tr>\n",
       "  </thead>\n",
       "  <tbody>\n",
       "    <tr>\n",
       "      <th>0</th>\n",
       "      <td>Pns2l4eNsfO8kk83dixA6A</td>\n",
       "      <td>Doctors</td>\n",
       "    </tr>\n",
       "    <tr>\n",
       "      <th>1</th>\n",
       "      <td>Pns2l4eNsfO8kk83dixA6A</td>\n",
       "      <td>Traditional Chinese Medicine</td>\n",
       "    </tr>\n",
       "    <tr>\n",
       "      <th>2</th>\n",
       "      <td>Pns2l4eNsfO8kk83dixA6A</td>\n",
       "      <td>Naturopathic/Holistic</td>\n",
       "    </tr>\n",
       "    <tr>\n",
       "      <th>3</th>\n",
       "      <td>Pns2l4eNsfO8kk83dixA6A</td>\n",
       "      <td>Acupuncture</td>\n",
       "    </tr>\n",
       "    <tr>\n",
       "      <th>4</th>\n",
       "      <td>Pns2l4eNsfO8kk83dixA6A</td>\n",
       "      <td>Health &amp; Medical</td>\n",
       "    </tr>\n",
       "  </tbody>\n",
       "</table>\n",
       "</div>"
      ],
      "text/plain": [
       "              business_id                      category\n",
       "0  Pns2l4eNsfO8kk83dixA6A                       Doctors\n",
       "1  Pns2l4eNsfO8kk83dixA6A  Traditional Chinese Medicine\n",
       "2  Pns2l4eNsfO8kk83dixA6A         Naturopathic/Holistic\n",
       "3  Pns2l4eNsfO8kk83dixA6A                   Acupuncture\n",
       "4  Pns2l4eNsfO8kk83dixA6A              Health & Medical"
      ]
     },
     "execution_count": 41,
     "metadata": {},
     "output_type": "execute_result"
    }
   ],
   "source": [
    "df_categories.head() # Para verificar la salida de la función de normalización. "
   ]
  },
  {
   "cell_type": "markdown",
   "metadata": {},
   "source": [
    "Se requiere eliminar los espacios y reemplazarlos por \"_\" para poder reagrupar las categorías. "
   ]
  },
  {
   "cell_type": "code",
   "execution_count": 42,
   "metadata": {},
   "outputs": [],
   "source": [
    "# Función para normalizar la columna \"categories\"\n",
    "def normalize_entry(entry):\n",
    "    if isinstance(entry, str):  \n",
    "        categories = [cat.strip().replace(\" \", \"_\") for cat in entry.split(\", \")]  # Reemplazar espacios por \"_\"\n",
    "        return pd.DataFrame({\"category\": categories})  # Crear DataFrame con una columna \"category\"\n",
    "    return None  # Retornar None si el valor no es válido\n",
    "\n",
    "expanded_dfs = []\n",
    "\n",
    "# Iterar sobre las filas del DataFrame\n",
    "for idx, row in df_business1.iterrows():\n",
    "    entry = row['categories']\n",
    "\n",
    "    if pd.isna(entry) or entry.strip() == \"\":\n",
    "        continue  # Saltar filas sin datos\n",
    "\n",
    "    normalized_df = normalize_entry(entry)\n",
    "    \n",
    "    if normalized_df is not None and not normalized_df.empty:\n",
    "        normalized_df['business_id'] = row['business_id']  # Mantener relación con el negocio\n",
    "        expanded_dfs.append(normalized_df)\n",
    "\n",
    "# Concatenar los DataFrames expandidos\n",
    "df_categories = pd.concat(expanded_dfs, ignore_index=True) if expanded_dfs else pd.DataFrame()\n",
    "\n",
    "# Reordenar columnas para que 'business_id' esté primero\n",
    "df_categories = df_categories[['business_id', 'category']]"
   ]
  },
  {
   "cell_type": "code",
   "execution_count": 43,
   "metadata": {},
   "outputs": [
    {
     "data": {
      "application/vnd.microsoft.datawrangler.viewer.v0+json": {
       "columns": [
        {
         "name": "index",
         "rawType": "int64",
         "type": "integer"
        },
        {
         "name": "business_id",
         "rawType": "object",
         "type": "string"
        },
        {
         "name": "category",
         "rawType": "object",
         "type": "string"
        }
       ],
       "conversionMethod": "pd.DataFrame",
       "ref": "123531d6-b4d9-4c22-8d4f-aad18ee237eb",
       "rows": [
        [
         "0",
         "Pns2l4eNsfO8kk83dixA6A",
         "Doctors"
        ],
        [
         "1",
         "Pns2l4eNsfO8kk83dixA6A",
         "Traditional_Chinese_Medicine"
        ],
        [
         "2",
         "Pns2l4eNsfO8kk83dixA6A",
         "Naturopathic/Holistic"
        ],
        [
         "3",
         "Pns2l4eNsfO8kk83dixA6A",
         "Acupuncture"
        ],
        [
         "4",
         "Pns2l4eNsfO8kk83dixA6A",
         "Health_&_Medical"
        ]
       ],
       "shape": {
        "columns": 2,
        "rows": 5
       }
      },
      "text/html": [
       "<div>\n",
       "<style scoped>\n",
       "    .dataframe tbody tr th:only-of-type {\n",
       "        vertical-align: middle;\n",
       "    }\n",
       "\n",
       "    .dataframe tbody tr th {\n",
       "        vertical-align: top;\n",
       "    }\n",
       "\n",
       "    .dataframe thead th {\n",
       "        text-align: right;\n",
       "    }\n",
       "</style>\n",
       "<table border=\"1\" class=\"dataframe\">\n",
       "  <thead>\n",
       "    <tr style=\"text-align: right;\">\n",
       "      <th></th>\n",
       "      <th>business_id</th>\n",
       "      <th>category</th>\n",
       "    </tr>\n",
       "  </thead>\n",
       "  <tbody>\n",
       "    <tr>\n",
       "      <th>0</th>\n",
       "      <td>Pns2l4eNsfO8kk83dixA6A</td>\n",
       "      <td>Doctors</td>\n",
       "    </tr>\n",
       "    <tr>\n",
       "      <th>1</th>\n",
       "      <td>Pns2l4eNsfO8kk83dixA6A</td>\n",
       "      <td>Traditional_Chinese_Medicine</td>\n",
       "    </tr>\n",
       "    <tr>\n",
       "      <th>2</th>\n",
       "      <td>Pns2l4eNsfO8kk83dixA6A</td>\n",
       "      <td>Naturopathic/Holistic</td>\n",
       "    </tr>\n",
       "    <tr>\n",
       "      <th>3</th>\n",
       "      <td>Pns2l4eNsfO8kk83dixA6A</td>\n",
       "      <td>Acupuncture</td>\n",
       "    </tr>\n",
       "    <tr>\n",
       "      <th>4</th>\n",
       "      <td>Pns2l4eNsfO8kk83dixA6A</td>\n",
       "      <td>Health_&amp;_Medical</td>\n",
       "    </tr>\n",
       "  </tbody>\n",
       "</table>\n",
       "</div>"
      ],
      "text/plain": [
       "              business_id                      category\n",
       "0  Pns2l4eNsfO8kk83dixA6A                       Doctors\n",
       "1  Pns2l4eNsfO8kk83dixA6A  Traditional_Chinese_Medicine\n",
       "2  Pns2l4eNsfO8kk83dixA6A         Naturopathic/Holistic\n",
       "3  Pns2l4eNsfO8kk83dixA6A                   Acupuncture\n",
       "4  Pns2l4eNsfO8kk83dixA6A              Health_&_Medical"
      ]
     },
     "execution_count": 43,
     "metadata": {},
     "output_type": "execute_result"
    }
   ],
   "source": [
    "df_categories.head() # Para verificar la salida"
   ]
  },
  {
   "cell_type": "code",
   "execution_count": 44,
   "metadata": {},
   "outputs": [
    {
     "data": {
      "application/vnd.microsoft.datawrangler.viewer.v0+json": {
       "columns": [
        {
         "name": "index",
         "rawType": "int64",
         "type": "integer"
        },
        {
         "name": "business_id",
         "rawType": "object",
         "type": "string"
        },
        {
         "name": "category",
         "rawType": "object",
         "type": "string"
        }
       ],
       "conversionMethod": "pd.DataFrame",
       "ref": "529a85f9-89e6-4f01-af02-343f2dbc2bf9",
       "rows": [
        [
         "66",
         "0bPLkL0QhhPO5kt1_EXmNQ",
         "Food"
        ],
        [
         "67",
         "0bPLkL0QhhPO5kt1_EXmNQ",
         "Delis"
        ],
        [
         "68",
         "0bPLkL0QhhPO5kt1_EXmNQ",
         "Italian"
        ],
        [
         "69",
         "0bPLkL0QhhPO5kt1_EXmNQ",
         "Bakeries"
        ],
        [
         "70",
         "0bPLkL0QhhPO5kt1_EXmNQ",
         "Restaurants"
        ]
       ],
       "shape": {
        "columns": 2,
        "rows": 5
       }
      },
      "text/html": [
       "<div>\n",
       "<style scoped>\n",
       "    .dataframe tbody tr th:only-of-type {\n",
       "        vertical-align: middle;\n",
       "    }\n",
       "\n",
       "    .dataframe tbody tr th {\n",
       "        vertical-align: top;\n",
       "    }\n",
       "\n",
       "    .dataframe thead th {\n",
       "        text-align: right;\n",
       "    }\n",
       "</style>\n",
       "<table border=\"1\" class=\"dataframe\">\n",
       "  <thead>\n",
       "    <tr style=\"text-align: right;\">\n",
       "      <th></th>\n",
       "      <th>business_id</th>\n",
       "      <th>category</th>\n",
       "    </tr>\n",
       "  </thead>\n",
       "  <tbody>\n",
       "    <tr>\n",
       "      <th>66</th>\n",
       "      <td>0bPLkL0QhhPO5kt1_EXmNQ</td>\n",
       "      <td>Food</td>\n",
       "    </tr>\n",
       "    <tr>\n",
       "      <th>67</th>\n",
       "      <td>0bPLkL0QhhPO5kt1_EXmNQ</td>\n",
       "      <td>Delis</td>\n",
       "    </tr>\n",
       "    <tr>\n",
       "      <th>68</th>\n",
       "      <td>0bPLkL0QhhPO5kt1_EXmNQ</td>\n",
       "      <td>Italian</td>\n",
       "    </tr>\n",
       "    <tr>\n",
       "      <th>69</th>\n",
       "      <td>0bPLkL0QhhPO5kt1_EXmNQ</td>\n",
       "      <td>Bakeries</td>\n",
       "    </tr>\n",
       "    <tr>\n",
       "      <th>70</th>\n",
       "      <td>0bPLkL0QhhPO5kt1_EXmNQ</td>\n",
       "      <td>Restaurants</td>\n",
       "    </tr>\n",
       "  </tbody>\n",
       "</table>\n",
       "</div>"
      ],
      "text/plain": [
       "               business_id     category\n",
       "66  0bPLkL0QhhPO5kt1_EXmNQ         Food\n",
       "67  0bPLkL0QhhPO5kt1_EXmNQ        Delis\n",
       "68  0bPLkL0QhhPO5kt1_EXmNQ      Italian\n",
       "69  0bPLkL0QhhPO5kt1_EXmNQ     Bakeries\n",
       "70  0bPLkL0QhhPO5kt1_EXmNQ  Restaurants"
      ]
     },
     "execution_count": 44,
     "metadata": {},
     "output_type": "execute_result"
    }
   ],
   "source": [
    "df_categories[df_categories[\"business_id\"] == \"0bPLkL0QhhPO5kt1_EXmNQ\"] # Para verificar la salida por id"
   ]
  },
  {
   "cell_type": "code",
   "execution_count": 45,
   "metadata": {},
   "outputs": [
    {
     "data": {
      "application/vnd.microsoft.datawrangler.viewer.v0+json": {
       "columns": [
        {
         "name": "index",
         "rawType": "int64",
         "type": "integer"
        },
        {
         "name": "business_id",
         "rawType": "object",
         "type": "string"
        },
        {
         "name": "category",
         "rawType": "object",
         "type": "string"
        }
       ],
       "conversionMethod": "pd.DataFrame",
       "ref": "74cc7ee2-82de-4648-b065-71b593e108c3",
       "rows": [
        [
         "41",
         "k0hlBqXX-Bt0vf1op7Jr1w",
         "Italian"
        ],
        [
         "68",
         "0bPLkL0QhhPO5kt1_EXmNQ",
         "Italian"
        ],
        [
         "104",
         "9OG5YkX1g2GReZM0AskizA",
         "Italian"
        ],
        [
         "123",
         "QdN72BWoyFypdGJhhI5r7g",
         "Italian"
        ],
        [
         "189",
         "ljxNT9p0y7YMPx0fcNBGig",
         "Italian"
        ],
        [
         "239",
         "ABxoFuzZy5mqQ8C5FJJajQ",
         "Italian"
        ],
        [
         "277",
         "uI9XODGY_2_ieTE6xJ0myw",
         "Italian"
        ],
        [
         "354",
         "x9K0RfZaT_zlw6DklBDzjw",
         "Italian"
        ],
        [
         "430",
         "RK6-cJ9hj53RzOlCBmpT-g",
         "Italian"
        ],
        [
         "464",
         "1MeIwdbTnZOBFCKOrgaxuw",
         "Italian"
        ],
        [
         "605",
         "FRYkg_JvsWU9xIXZsEZcVA",
         "Italian"
        ],
        [
         "746",
         "Ms5xG8i4p80KSMcF3tt4ug",
         "Italian"
        ],
        [
         "1052",
         "Y6heWJJ9AmEL58fZwgi9YQ",
         "Italian"
        ],
        [
         "1095",
         "uDQgmudYDKiB6n4vwbEeDg",
         "Italian"
        ],
        [
         "1200",
         "YR0nwxBOKk6DiLHNItfsBQ",
         "Italian"
        ],
        [
         "1284",
         "JF7iyI3wA_AKi_iXOKi0Qw",
         "Italian"
        ],
        [
         "1320",
         "rZw9O5lJ36m_mXeRKE4G9A",
         "Italian"
        ],
        [
         "1342",
         "Pr_Mlt9FqdcW7WCFGJmozA",
         "Italian"
        ],
        [
         "1549",
         "1P_mGUY1PyPq7_ZabrzpBw",
         "Italian"
        ],
        [
         "1765",
         "j9Kaj_6tSeXmVMYCgZithg",
         "Italian"
        ],
        [
         "2161",
         "4QFqi8w3rlZTcc5LXKyPJw",
         "Italian"
        ],
        [
         "2224",
         "RsTF2skxLcp6qo9FdnA5PA",
         "Italian"
        ],
        [
         "2595",
         "jGewGnIYcf9LFBcR8lMC5g",
         "Italian"
        ],
        [
         "2663",
         "0sr1EyOc6Td1C-962QW88w",
         "Italian"
        ],
        [
         "2700",
         "xwSWtJcQkzTF6HNm_IMgcg",
         "Italian"
        ],
        [
         "2951",
         "O0YHVrUtxbsEhQ4qaWkVaw",
         "Italian"
        ],
        [
         "3035",
         "rF0xI_3jjlsEKp3N0Z0BuQ",
         "Italian"
        ],
        [
         "3060",
         "qma1sGQv7ArUtzuUTQElRg",
         "Italian"
        ],
        [
         "3070",
         "zjQDk4tZyhEroyqtkgvx0g",
         "Italian"
        ],
        [
         "3253",
         "hDiCHlTXKGUj1Yh4tq223w",
         "Italian"
        ],
        [
         "3254",
         "GInRkBWvuyJCjFVHYdzkPQ",
         "Italian"
        ],
        [
         "3316",
         "PdMXmOWDRHICAx6SLgu1dQ",
         "Italian"
        ],
        [
         "3485",
         "2DsplH_vy4GCcEnVpn0AbA",
         "Italian"
        ],
        [
         "3489",
         "sWCCxY1-9B1FGlSVeQvnHg",
         "Italian"
        ],
        [
         "3715",
         "gI34hM-873fwF1XQ8hOaSg",
         "Italian"
        ],
        [
         "4071",
         "LVteL0Rnh2E_yOFCLJUPhg",
         "Italian"
        ],
        [
         "4196",
         "vo12FJ4dAdP8Jr4ctFYRkg",
         "Italian"
        ],
        [
         "4217",
         "8P7YOM9ThhTvLqXfSWRcRA",
         "Italian"
        ],
        [
         "4344",
         "wUEbysNWCtMSQAio6Ktn6Q",
         "Italian"
        ],
        [
         "4410",
         "4fUok5d5vgdQEb1Bzzg0rA",
         "Italian"
        ],
        [
         "4480",
         "a4BzM4nqUzJRqszzEV1fJQ",
         "Italian"
        ],
        [
         "4488",
         "5cz1XbgalpQ89gsNQwneVQ",
         "Italian"
        ],
        [
         "4608",
         "SSZDGl2J-CEyIzuIbEiYNQ",
         "Italian"
        ],
        [
         "4626",
         "_Oksx3ALgKLRVxeAR8l_qA",
         "Italian"
        ],
        [
         "4866",
         "Y2NFeGtConx1qciSPKcRlA",
         "Italian"
        ],
        [
         "5063",
         "joeRm-_7T0XTkMdKo2nbaA",
         "Italian"
        ],
        [
         "5278",
         "lj-E32x9_FA7GmUrBGBEWg",
         "Italian"
        ],
        [
         "5353",
         "isbeaPln-E0DdffLRsuFhw",
         "Italian"
        ],
        [
         "5505",
         "xPSetcLWfl_3JoENfGf89w",
         "Italian"
        ],
        [
         "5639",
         "QkyEr9j7il9lJqseTbPe5w",
         "Italian"
        ]
       ],
       "shape": {
        "columns": 2,
        "rows": 4573
       }
      },
      "text/html": [
       "<div>\n",
       "<style scoped>\n",
       "    .dataframe tbody tr th:only-of-type {\n",
       "        vertical-align: middle;\n",
       "    }\n",
       "\n",
       "    .dataframe tbody tr th {\n",
       "        vertical-align: top;\n",
       "    }\n",
       "\n",
       "    .dataframe thead th {\n",
       "        text-align: right;\n",
       "    }\n",
       "</style>\n",
       "<table border=\"1\" class=\"dataframe\">\n",
       "  <thead>\n",
       "    <tr style=\"text-align: right;\">\n",
       "      <th></th>\n",
       "      <th>business_id</th>\n",
       "      <th>category</th>\n",
       "    </tr>\n",
       "  </thead>\n",
       "  <tbody>\n",
       "    <tr>\n",
       "      <th>41</th>\n",
       "      <td>k0hlBqXX-Bt0vf1op7Jr1w</td>\n",
       "      <td>Italian</td>\n",
       "    </tr>\n",
       "    <tr>\n",
       "      <th>68</th>\n",
       "      <td>0bPLkL0QhhPO5kt1_EXmNQ</td>\n",
       "      <td>Italian</td>\n",
       "    </tr>\n",
       "    <tr>\n",
       "      <th>104</th>\n",
       "      <td>9OG5YkX1g2GReZM0AskizA</td>\n",
       "      <td>Italian</td>\n",
       "    </tr>\n",
       "    <tr>\n",
       "      <th>123</th>\n",
       "      <td>QdN72BWoyFypdGJhhI5r7g</td>\n",
       "      <td>Italian</td>\n",
       "    </tr>\n",
       "    <tr>\n",
       "      <th>189</th>\n",
       "      <td>ljxNT9p0y7YMPx0fcNBGig</td>\n",
       "      <td>Italian</td>\n",
       "    </tr>\n",
       "    <tr>\n",
       "      <th>...</th>\n",
       "      <td>...</td>\n",
       "      <td>...</td>\n",
       "    </tr>\n",
       "    <tr>\n",
       "      <th>667756</th>\n",
       "      <td>-KNgMklrxgRX2-T6xXeTZA</td>\n",
       "      <td>Italian</td>\n",
       "    </tr>\n",
       "    <tr>\n",
       "      <th>667937</th>\n",
       "      <td>oAsfYTJE3cOJXk7Dmb-1TQ</td>\n",
       "      <td>Italian</td>\n",
       "    </tr>\n",
       "    <tr>\n",
       "      <th>668382</th>\n",
       "      <td>gPr1io7ks0Eo3FDsnDTYfg</td>\n",
       "      <td>Italian</td>\n",
       "    </tr>\n",
       "    <tr>\n",
       "      <th>668418</th>\n",
       "      <td>wVxXRFf10zTTAs11nr4xeA</td>\n",
       "      <td>Italian</td>\n",
       "    </tr>\n",
       "    <tr>\n",
       "      <th>668441</th>\n",
       "      <td>sf_oQ62L8UEnOOLf00nNGA</td>\n",
       "      <td>Italian</td>\n",
       "    </tr>\n",
       "  </tbody>\n",
       "</table>\n",
       "<p>4573 rows × 2 columns</p>\n",
       "</div>"
      ],
      "text/plain": [
       "                   business_id category\n",
       "41      k0hlBqXX-Bt0vf1op7Jr1w  Italian\n",
       "68      0bPLkL0QhhPO5kt1_EXmNQ  Italian\n",
       "104     9OG5YkX1g2GReZM0AskizA  Italian\n",
       "123     QdN72BWoyFypdGJhhI5r7g  Italian\n",
       "189     ljxNT9p0y7YMPx0fcNBGig  Italian\n",
       "...                        ...      ...\n",
       "667756  -KNgMklrxgRX2-T6xXeTZA  Italian\n",
       "667937  oAsfYTJE3cOJXk7Dmb-1TQ  Italian\n",
       "668382  gPr1io7ks0Eo3FDsnDTYfg  Italian\n",
       "668418  wVxXRFf10zTTAs11nr4xeA  Italian\n",
       "668441  sf_oQ62L8UEnOOLf00nNGA  Italian\n",
       "\n",
       "[4573 rows x 2 columns]"
      ]
     },
     "execution_count": 45,
     "metadata": {},
     "output_type": "execute_result"
    }
   ],
   "source": [
    "df_categories[df_categories[\"category\"] == \"Italian\"]"
   ]
  },
  {
   "cell_type": "code",
   "execution_count": 46,
   "metadata": {},
   "outputs": [],
   "source": [
    "# Para contar cuántas veces aparece cada categoría y convertirlo en DataFrame\n",
    "df_category_counts = df_categories[\"category\"].value_counts().reset_index()\n",
    "df_category_counts.columns = [\"category\", \"count\"]"
   ]
  },
  {
   "cell_type": "code",
   "execution_count": 47,
   "metadata": {},
   "outputs": [
    {
     "data": {
      "application/vnd.microsoft.datawrangler.viewer.v0+json": {
       "columns": [
        {
         "name": "index",
         "rawType": "int64",
         "type": "integer"
        },
        {
         "name": "category",
         "rawType": "object",
         "type": "string"
        },
        {
         "name": "count",
         "rawType": "int64",
         "type": "integer"
        }
       ],
       "conversionMethod": "pd.DataFrame",
       "ref": "09d46bf4-f2d4-48ac-bb10-53983b3afb5c",
       "rows": [
        [
         "0",
         "Restaurants",
         "52268"
        ],
        [
         "1",
         "Food",
         "27781"
        ],
        [
         "2",
         "Shopping",
         "24395"
        ],
        [
         "3",
         "Home_Services",
         "14356"
        ],
        [
         "4",
         "Beauty_&_Spas",
         "14292"
        ]
       ],
       "shape": {
        "columns": 2,
        "rows": 5
       }
      },
      "text/html": [
       "<div>\n",
       "<style scoped>\n",
       "    .dataframe tbody tr th:only-of-type {\n",
       "        vertical-align: middle;\n",
       "    }\n",
       "\n",
       "    .dataframe tbody tr th {\n",
       "        vertical-align: top;\n",
       "    }\n",
       "\n",
       "    .dataframe thead th {\n",
       "        text-align: right;\n",
       "    }\n",
       "</style>\n",
       "<table border=\"1\" class=\"dataframe\">\n",
       "  <thead>\n",
       "    <tr style=\"text-align: right;\">\n",
       "      <th></th>\n",
       "      <th>category</th>\n",
       "      <th>count</th>\n",
       "    </tr>\n",
       "  </thead>\n",
       "  <tbody>\n",
       "    <tr>\n",
       "      <th>0</th>\n",
       "      <td>Restaurants</td>\n",
       "      <td>52268</td>\n",
       "    </tr>\n",
       "    <tr>\n",
       "      <th>1</th>\n",
       "      <td>Food</td>\n",
       "      <td>27781</td>\n",
       "    </tr>\n",
       "    <tr>\n",
       "      <th>2</th>\n",
       "      <td>Shopping</td>\n",
       "      <td>24395</td>\n",
       "    </tr>\n",
       "    <tr>\n",
       "      <th>3</th>\n",
       "      <td>Home_Services</td>\n",
       "      <td>14356</td>\n",
       "    </tr>\n",
       "    <tr>\n",
       "      <th>4</th>\n",
       "      <td>Beauty_&amp;_Spas</td>\n",
       "      <td>14292</td>\n",
       "    </tr>\n",
       "  </tbody>\n",
       "</table>\n",
       "</div>"
      ],
      "text/plain": [
       "        category  count\n",
       "0    Restaurants  52268\n",
       "1           Food  27781\n",
       "2       Shopping  24395\n",
       "3  Home_Services  14356\n",
       "4  Beauty_&_Spas  14292"
      ]
     },
     "execution_count": 47,
     "metadata": {},
     "output_type": "execute_result"
    }
   ],
   "source": [
    "df_category_counts.head() #Para verificar la salida de nuevo DataFrame"
   ]
  },
  {
   "cell_type": "code",
   "execution_count": 48,
   "metadata": {},
   "outputs": [
    {
     "data": {
      "text/plain": [
       "(1311, 2)"
      ]
     },
     "execution_count": 48,
     "metadata": {},
     "output_type": "execute_result"
    }
   ],
   "source": [
    "df_category_counts.shape"
   ]
  },
  {
   "cell_type": "code",
   "execution_count": 49,
   "metadata": {},
   "outputs": [
    {
     "data": {
      "text/plain": [
       "(56, 2)"
      ]
     },
     "execution_count": 49,
     "metadata": {},
     "output_type": "execute_result"
    }
   ],
   "source": [
    "df_category_counts[df_category_counts[\"count\"] == 1].shape # Para ver cuantas categorias estan una sola vez. "
   ]
  },
  {
   "cell_type": "markdown",
   "metadata": {},
   "source": [
    "El dataset resultante `df_category_counts` muestra que en `df_business1` hay un total de **1,311 categorías diferentes**. Además, no todas están relacionadas con servicios de hotelería y restaurantes.  \n",
    "\n",
    "Se identificó que **56 categorías** están asociadas únicamente a un negocio, mientras que las **5 categorías más comunes** en el dataset son:  \n",
    "1. **Restaurants**  \n",
    "2. **Food**  \n",
    "3. **Shopping**  \n",
    "4. **Home_Services**  \n",
    "5. **Beauty_&_Spas**  \n"
   ]
  },
  {
   "cell_type": "markdown",
   "metadata": {},
   "source": [
    "#### GRAFICO DE CATEGORIAS\n",
    "\n",
    "Para mostrar las 30 categorias con mayor numero de negocios asociados. "
   ]
  },
  {
   "cell_type": "code",
   "execution_count": 50,
   "metadata": {},
   "outputs": [
    {
     "data": {
      "image/png": "[encoded data removed]",
      "text/plain": [
       "<Figure size 1200x600 with 1 Axes>"
      ]
     },
     "metadata": {},
     "output_type": "display_data"
    }
   ],
   "source": [
    "# Contar cuántas veces aparece cada categoría\n",
    "df_category_counts = df_categories[\"category\"].value_counts().reset_index()\n",
    "df_category_counts.columns = [\"category\", \"count\"]\n",
    "\n",
    "# Tomar las 20 categorías más comunes para mejor visualización\n",
    "top_categories = df_category_counts.head(30)\n",
    "\n",
    "# Graficar\n",
    "plt.figure(figsize=(12, 6))\n",
    "plt.barh(top_categories[\"category\"], top_categories[\"count\"], color=\"skyblue\")\n",
    "plt.xlabel(\"Frecuencia\")\n",
    "plt.ylabel(\"Categoría\")\n",
    "plt.title(\"Top 30 Categorías más frecuentes en df_categories\")\n",
    "plt.gca().invert_yaxis()  # Invertir el eje Y para que la más frecuente esté arriba"
   ]
  },
  {
   "cell_type": "code",
   "execution_count": 51,
   "metadata": {},
   "outputs": [],
   "source": [
    "df_filtrado = df_business1[df_business1['categories'].str.contains('Restaurants', case=False, na=False)]"
   ]
  },
  {
   "cell_type": "code",
   "execution_count": 52,
   "metadata": {},
   "outputs": [
    {
     "data": {
      "text/plain": [
       "(52268, 14)"
      ]
     },
     "execution_count": 52,
     "metadata": {},
     "output_type": "execute_result"
    }
   ],
   "source": [
    "df_filtrado.shape # Confirmo que la cantidad de filas en el dataset original corresponden con la informacion resultante. "
   ]
  },
  {
   "cell_type": "markdown",
   "metadata": {},
   "source": [
    "Es necesario verificar si existe correspondencia entre las **categorías más frecuentes** y las **palabras más repetidas** en la columna `categories` del dataset original `df_business1`.  "
   ]
  },
  {
   "cell_type": "code",
   "execution_count": 53,
   "metadata": {},
   "outputs": [
    {
     "name": "stderr",
     "output_type": "stream",
     "text": [
      "[nltk_data] Downloading package stopwords to\n",
      "[nltk_data]     C:\\Users\\anavi\\AppData\\Roaming\\nltk_data...\n",
      "[nltk_data]   Package stopwords is already up-to-date!\n",
      "C:\\Users\\anavi\\AppData\\Local\\Temp\\ipykernel_12392\\2560366899.py:4: SettingWithCopyWarning: \n",
      "A value is trying to be set on a copy of a slice from a DataFrame.\n",
      "Try using .loc[row_indexer,col_indexer] = value instead\n",
      "\n",
      "See the caveats in the documentation: https://pandas.pydata.org/pandas-docs/stable/user_guide/indexing.html#returning-a-view-versus-a-copy\n",
      "  df_business1['categories'] = df_business1['categories'].fillna('').str.replace(', ', ';').str.replace(' ', '_')\n"
     ]
    }
   ],
   "source": [
    "nltk.download('stopwords')\n",
    "\n",
    "stop_words = set(stopwords.words('english'))\n",
    "df_business1['categories'] = df_business1['categories'].fillna('').str.replace(', ', ';').str.replace(' ', '_')\n",
    "all_words = ';'.join(df_business1['categories']).split(';')\n",
    "filtered_words = [word for word in all_words if word.lower() not in stop_words]\n",
    "word_counts = Counter(filtered_words)"
   ]
  },
  {
   "cell_type": "code",
   "execution_count": 54,
   "metadata": {},
   "outputs": [
    {
     "data": {
      "text/plain": [
       "[('Restaurants', 52268),\n",
       " ('Food', 27781),\n",
       " ('Shopping', 24395),\n",
       " ('Home_Services', 14356),\n",
       " ('Beauty_&_Spas', 14292),\n",
       " ('Nightlife', 12281),\n",
       " ('Health_&_Medical', 11890),\n",
       " ('Local_Services', 11198),\n",
       " ('Bars', 11065),\n",
       " ('Automotive', 10773)]"
      ]
     },
     "execution_count": 54,
     "metadata": {},
     "output_type": "execute_result"
    }
   ],
   "source": [
    "word_counts.most_common(10)"
   ]
  },
  {
   "cell_type": "markdown",
   "metadata": {},
   "source": [
    "#### Análisis de la Distribución de la Cantidad de Categorías  \n",
    "\n",
    "El histograma muestra la distribución de la cantidad de categorías por negocio en `df_business1`.  "
   ]
  },
  {
   "cell_type": "code",
   "execution_count": 55,
   "metadata": {},
   "outputs": [],
   "source": [
    "df_cat_count = df_business1[['business_id', 'categories']] "
   ]
  },
  {
   "cell_type": "code",
   "execution_count": 56,
   "metadata": {},
   "outputs": [
    {
     "data": {
      "application/vnd.microsoft.datawrangler.viewer.v0+json": {
       "columns": [
        {
         "name": "index",
         "rawType": "int64",
         "type": "integer"
        },
        {
         "name": "business_id",
         "rawType": "object",
         "type": "string"
        },
        {
         "name": "categories",
         "rawType": "object",
         "type": "string"
        }
       ],
       "conversionMethod": "pd.DataFrame",
       "ref": "8e340eee-c0fe-425f-b7e4-7d9400ce610e",
       "rows": [
        [
         "0",
         "Pns2l4eNsfO8kk83dixA6A",
         "Doctors;Traditional_Chinese_Medicine;Naturopathic/Holistic;Acupuncture;Health_&_Medical;Nutritionists"
        ],
        [
         "1",
         "mpf3x-BjTdTEA3yCZrAYPw",
         "Shipping_Centers;Local_Services;Notaries;Mailbox_Centers;Printing_Services"
        ],
        [
         "2",
         "tUFrWirKiKi_TAnsVWINQQ",
         "Department_Stores;Shopping;Fashion;Home_&_Garden;Electronics;Furniture_Stores"
        ],
        [
         "3",
         "MTSW4McQd7CbVtyjqoe9mw",
         "Restaurants;Food;Bubble_Tea;Coffee_&_Tea;Bakeries"
        ],
        [
         "4",
         "mWMc6_wTdE0EUBKIGXDVfA",
         "Brewpubs;Breweries;Food"
        ]
       ],
       "shape": {
        "columns": 2,
        "rows": 5
       }
      },
      "text/html": [
       "<div>\n",
       "<style scoped>\n",
       "    .dataframe tbody tr th:only-of-type {\n",
       "        vertical-align: middle;\n",
       "    }\n",
       "\n",
       "    .dataframe tbody tr th {\n",
       "        vertical-align: top;\n",
       "    }\n",
       "\n",
       "    .dataframe thead th {\n",
       "        text-align: right;\n",
       "    }\n",
       "</style>\n",
       "<table border=\"1\" class=\"dataframe\">\n",
       "  <thead>\n",
       "    <tr style=\"text-align: right;\">\n",
       "      <th></th>\n",
       "      <th>business_id</th>\n",
       "      <th>categories</th>\n",
       "    </tr>\n",
       "  </thead>\n",
       "  <tbody>\n",
       "    <tr>\n",
       "      <th>0</th>\n",
       "      <td>Pns2l4eNsfO8kk83dixA6A</td>\n",
       "      <td>Doctors;Traditional_Chinese_Medicine;Naturopat...</td>\n",
       "    </tr>\n",
       "    <tr>\n",
       "      <th>1</th>\n",
       "      <td>mpf3x-BjTdTEA3yCZrAYPw</td>\n",
       "      <td>Shipping_Centers;Local_Services;Notaries;Mailb...</td>\n",
       "    </tr>\n",
       "    <tr>\n",
       "      <th>2</th>\n",
       "      <td>tUFrWirKiKi_TAnsVWINQQ</td>\n",
       "      <td>Department_Stores;Shopping;Fashion;Home_&amp;_Gard...</td>\n",
       "    </tr>\n",
       "    <tr>\n",
       "      <th>3</th>\n",
       "      <td>MTSW4McQd7CbVtyjqoe9mw</td>\n",
       "      <td>Restaurants;Food;Bubble_Tea;Coffee_&amp;_Tea;Bakeries</td>\n",
       "    </tr>\n",
       "    <tr>\n",
       "      <th>4</th>\n",
       "      <td>mWMc6_wTdE0EUBKIGXDVfA</td>\n",
       "      <td>Brewpubs;Breweries;Food</td>\n",
       "    </tr>\n",
       "  </tbody>\n",
       "</table>\n",
       "</div>"
      ],
      "text/plain": [
       "              business_id                                         categories\n",
       "0  Pns2l4eNsfO8kk83dixA6A  Doctors;Traditional_Chinese_Medicine;Naturopat...\n",
       "1  mpf3x-BjTdTEA3yCZrAYPw  Shipping_Centers;Local_Services;Notaries;Mailb...\n",
       "2  tUFrWirKiKi_TAnsVWINQQ  Department_Stores;Shopping;Fashion;Home_&_Gard...\n",
       "3  MTSW4McQd7CbVtyjqoe9mw  Restaurants;Food;Bubble_Tea;Coffee_&_Tea;Bakeries\n",
       "4  mWMc6_wTdE0EUBKIGXDVfA                            Brewpubs;Breweries;Food"
      ]
     },
     "execution_count": 56,
     "metadata": {},
     "output_type": "execute_result"
    }
   ],
   "source": [
    "df_cat_count.head()"
   ]
  },
  {
   "cell_type": "code",
   "execution_count": 57,
   "metadata": {},
   "outputs": [
    {
     "name": "stderr",
     "output_type": "stream",
     "text": [
      "C:\\Users\\anavi\\AppData\\Local\\Temp\\ipykernel_12392\\2966186068.py:2: SettingWithCopyWarning: \n",
      "A value is trying to be set on a copy of a slice from a DataFrame.\n",
      "Try using .loc[row_indexer,col_indexer] = value instead\n",
      "\n",
      "See the caveats in the documentation: https://pandas.pydata.org/pandas-docs/stable/user_guide/indexing.html#returning-a-view-versus-a-copy\n",
      "  df_cat_count['count'] = df_cat_count['categories'].fillna('').apply(lambda x: len(x.split(';')))\n"
     ]
    }
   ],
   "source": [
    "# Quiero contar la cantidad de categorias que tiene asignado cada negocio\n",
    "df_cat_count['count'] = df_cat_count['categories'].fillna('').apply(lambda x: len(x.split(';')))"
   ]
  },
  {
   "cell_type": "code",
   "execution_count": 58,
   "metadata": {},
   "outputs": [
    {
     "data": {
      "image/png": "[encoded data removed]",
      "text/plain": [
       "<Figure size 800x500 with 1 Axes>"
      ]
     },
     "metadata": {},
     "output_type": "display_data"
    }
   ],
   "source": [
    "plt.figure(figsize=(8,5))\n",
    "plt.hist(df_cat_count['count'], bins=20, edgecolor='black')\n",
    "plt.xlabel('Cantidad de Categorías')\n",
    "plt.ylabel('Frecuencia')\n",
    "plt.title('Distribución de la Cantidad de Categorías')\n",
    "plt.show()"
   ]
  },
  {
   "cell_type": "markdown",
   "metadata": {},
   "source": [
    "El histograma muestra que la mayoría de los negocios tienen entre **1 y 5 categorías**, con un pico en **3 categorías**. La distribución tiene una **cola a la derecha**, indicando que algunos negocios tienen más de 10 categorías, pero son poco frecuentes. Esto sugiere que la mayoría de los negocios están categorizados de manera específica, mientras que unos pocos tienen múltiples etiquetas.  "
   ]
  },
  {
   "cell_type": "code",
   "execution_count": 59,
   "metadata": {},
   "outputs": [
    {
     "data": {
      "text/plain": [
       "(150346, 3)"
      ]
     },
     "execution_count": 59,
     "metadata": {},
     "output_type": "execute_result"
    }
   ],
   "source": [
    "df_cat_count.shape"
   ]
  },
  {
   "cell_type": "code",
   "execution_count": 60,
   "metadata": {},
   "outputs": [
    {
     "data": {
      "text/plain": [
       "(148, 3)"
      ]
     },
     "execution_count": 60,
     "metadata": {},
     "output_type": "execute_result"
    }
   ],
   "source": [
    "df_cat_count[df_cat_count[\"count\"] >= 16].shape"
   ]
  },
  {
   "cell_type": "markdown",
   "metadata": {},
   "source": [
    "En el dataset `df_business1`, hay un total de **150,346 negocios**. De estos, **148 negocios** tienen **16 o más categorías**, lo que representa solo **0.098%** del total. Esto indica que la mayoría de los negocios tienen pocas categorías asignadas, mientras que un pequeño grupo posee una cantidad excepcionalmente alta, posiblemente porque ofrecen una amplia variedad de servicios o productos.  "
   ]
  },
  {
   "cell_type": "markdown",
   "metadata": {},
   "source": [
    "## DISTRIBUCION DE NEGOCIOS POR ESTADO"
   ]
  },
  {
   "cell_type": "code",
   "execution_count": 61,
   "metadata": {},
   "outputs": [],
   "source": [
    "df_states = df_business1['state'].value_counts().reset_index()"
   ]
  },
  {
   "cell_type": "code",
   "execution_count": 62,
   "metadata": {},
   "outputs": [
    {
     "data": {
      "application/vnd.microsoft.datawrangler.viewer.v0+json": {
       "columns": [
        {
         "name": "index",
         "rawType": "int64",
         "type": "integer"
        },
        {
         "name": "state",
         "rawType": "object",
         "type": "string"
        },
        {
         "name": "count",
         "rawType": "int64",
         "type": "integer"
        }
       ],
       "conversionMethod": "pd.DataFrame",
       "ref": "89f4c4e7-a5f4-4fcf-8675-152bb5244e2d",
       "rows": [
        [
         "0",
         "PA",
         "34039"
        ],
        [
         "1",
         "FL",
         "26329"
        ],
        [
         "2",
         "TN",
         "12056"
        ],
        [
         "3",
         "IN",
         "11246"
        ],
        [
         "4",
         "MO",
         "10913"
        ],
        [
         "5",
         "LA",
         "9924"
        ],
        [
         "6",
         "AZ",
         "9912"
        ],
        [
         "7",
         "NJ",
         "8536"
        ],
        [
         "8",
         "NV",
         "7715"
        ],
        [
         "9",
         "AB",
         "5573"
        ],
        [
         "10",
         "CA",
         "5203"
        ],
        [
         "11",
         "ID",
         "4467"
        ],
        [
         "12",
         "DE",
         "2265"
        ],
        [
         "13",
         "IL",
         "2144"
        ],
        [
         "14",
         "TX",
         "4"
        ]
       ],
       "shape": {
        "columns": 2,
        "rows": 15
       }
      },
      "text/html": [
       "<div>\n",
       "<style scoped>\n",
       "    .dataframe tbody tr th:only-of-type {\n",
       "        vertical-align: middle;\n",
       "    }\n",
       "\n",
       "    .dataframe tbody tr th {\n",
       "        vertical-align: top;\n",
       "    }\n",
       "\n",
       "    .dataframe thead th {\n",
       "        text-align: right;\n",
       "    }\n",
       "</style>\n",
       "<table border=\"1\" class=\"dataframe\">\n",
       "  <thead>\n",
       "    <tr style=\"text-align: right;\">\n",
       "      <th></th>\n",
       "      <th>state</th>\n",
       "      <th>count</th>\n",
       "    </tr>\n",
       "  </thead>\n",
       "  <tbody>\n",
       "    <tr>\n",
       "      <th>0</th>\n",
       "      <td>PA</td>\n",
       "      <td>34039</td>\n",
       "    </tr>\n",
       "    <tr>\n",
       "      <th>1</th>\n",
       "      <td>FL</td>\n",
       "      <td>26329</td>\n",
       "    </tr>\n",
       "    <tr>\n",
       "      <th>2</th>\n",
       "      <td>TN</td>\n",
       "      <td>12056</td>\n",
       "    </tr>\n",
       "    <tr>\n",
       "      <th>3</th>\n",
       "      <td>IN</td>\n",
       "      <td>11246</td>\n",
       "    </tr>\n",
       "    <tr>\n",
       "      <th>4</th>\n",
       "      <td>MO</td>\n",
       "      <td>10913</td>\n",
       "    </tr>\n",
       "    <tr>\n",
       "      <th>5</th>\n",
       "      <td>LA</td>\n",
       "      <td>9924</td>\n",
       "    </tr>\n",
       "    <tr>\n",
       "      <th>6</th>\n",
       "      <td>AZ</td>\n",
       "      <td>9912</td>\n",
       "    </tr>\n",
       "    <tr>\n",
       "      <th>7</th>\n",
       "      <td>NJ</td>\n",
       "      <td>8536</td>\n",
       "    </tr>\n",
       "    <tr>\n",
       "      <th>8</th>\n",
       "      <td>NV</td>\n",
       "      <td>7715</td>\n",
       "    </tr>\n",
       "    <tr>\n",
       "      <th>9</th>\n",
       "      <td>AB</td>\n",
       "      <td>5573</td>\n",
       "    </tr>\n",
       "    <tr>\n",
       "      <th>10</th>\n",
       "      <td>CA</td>\n",
       "      <td>5203</td>\n",
       "    </tr>\n",
       "    <tr>\n",
       "      <th>11</th>\n",
       "      <td>ID</td>\n",
       "      <td>4467</td>\n",
       "    </tr>\n",
       "    <tr>\n",
       "      <th>12</th>\n",
       "      <td>DE</td>\n",
       "      <td>2265</td>\n",
       "    </tr>\n",
       "    <tr>\n",
       "      <th>13</th>\n",
       "      <td>IL</td>\n",
       "      <td>2144</td>\n",
       "    </tr>\n",
       "    <tr>\n",
       "      <th>14</th>\n",
       "      <td>TX</td>\n",
       "      <td>4</td>\n",
       "    </tr>\n",
       "  </tbody>\n",
       "</table>\n",
       "</div>"
      ],
      "text/plain": [
       "   state  count\n",
       "0     PA  34039\n",
       "1     FL  26329\n",
       "2     TN  12056\n",
       "3     IN  11246\n",
       "4     MO  10913\n",
       "5     LA   9924\n",
       "6     AZ   9912\n",
       "7     NJ   8536\n",
       "8     NV   7715\n",
       "9     AB   5573\n",
       "10    CA   5203\n",
       "11    ID   4467\n",
       "12    DE   2265\n",
       "13    IL   2144\n",
       "14    TX      4"
      ]
     },
     "execution_count": 62,
     "metadata": {},
     "output_type": "execute_result"
    }
   ],
   "source": [
    "df_states.head(15) # Para mostrar los estados con mayor numero de negocios"
   ]
  },
  {
   "cell_type": "code",
   "execution_count": 63,
   "metadata": {},
   "outputs": [],
   "source": [
    "df_businessFL = df_business1[df_business1['state'] == 'FL']"
   ]
  },
  {
   "cell_type": "code",
   "execution_count": 64,
   "metadata": {},
   "outputs": [
    {
     "data": {
      "application/vnd.microsoft.datawrangler.viewer.v0+json": {
       "columns": [
        {
         "name": "index",
         "rawType": "int64",
         "type": "integer"
        },
        {
         "name": "business_id",
         "rawType": "object",
         "type": "string"
        },
        {
         "name": "name",
         "rawType": "object",
         "type": "string"
        },
        {
         "name": "address",
         "rawType": "object",
         "type": "string"
        },
        {
         "name": "city",
         "rawType": "object",
         "type": "string"
        },
        {
         "name": "state",
         "rawType": "object",
         "type": "string"
        },
        {
         "name": "postal_code",
         "rawType": "object",
         "type": "string"
        },
        {
         "name": "latitude",
         "rawType": "float64",
         "type": "float"
        },
        {
         "name": "longitude",
         "rawType": "float64",
         "type": "float"
        },
        {
         "name": "stars",
         "rawType": "object",
         "type": "unknown"
        },
        {
         "name": "review_count",
         "rawType": "int32",
         "type": "integer"
        },
        {
         "name": "is_open",
         "rawType": "object",
         "type": "unknown"
        },
        {
         "name": "attributes",
         "rawType": "object",
         "type": "unknown"
        },
        {
         "name": "categories",
         "rawType": "object",
         "type": "string"
        },
        {
         "name": "hours",
         "rawType": "object",
         "type": "unknown"
        }
       ],
       "conversionMethod": "pd.DataFrame",
       "ref": "51f72e21-9463-4a9c-965d-774a3cccde6b",
       "rows": [
        [
         "144015",
         "aXvUO0KwkD3Hp5WrY52zLw",
         "Brookhaven Market",
         "3510 Edgmont Ave",
         "Brookhaven",
         "VT",
         "19015",
         "39.869814",
         "-75.384818",
         "4.0",
         "8",
         "1",
         "{'BusinessAcceptsCreditCards': 'True', 'RestaurantsReservations': 'False', 'RestaurantsPriceRange2': '3', 'GoodForKids': 'False', 'RestaurantsGoodForGroups': 'False', 'WiFi': \"'no'\", 'RestaurantsAttire': \"'formal'\", 'RestaurantsTakeOut': 'True', 'RestaurantsDelivery': 'False', 'Ambience': \"{'touristy': False, 'hipster': False, 'romantic': False, 'divey': False, 'intimate': False, 'trendy': False, 'upscale': False, 'classy': False, 'casual': False}\", 'OutdoorSeating': 'None'}",
         "Restaurants;Grocery;Food;Delis",
         "{'Monday': '8:0-20:0', 'Tuesday': '8:0-20:0', 'Wednesday': '8:0-20:0', 'Thursday': '8:0-20:0', 'Friday': '8:0-20:0', 'Saturday': '8:0-19:30', 'Sunday': '8:0-18:0'}"
        ]
       ],
       "shape": {
        "columns": 14,
        "rows": 1
       }
      },
      "text/html": [
       "<div>\n",
       "<style scoped>\n",
       "    .dataframe tbody tr th:only-of-type {\n",
       "        vertical-align: middle;\n",
       "    }\n",
       "\n",
       "    .dataframe tbody tr th {\n",
       "        vertical-align: top;\n",
       "    }\n",
       "\n",
       "    .dataframe thead th {\n",
       "        text-align: right;\n",
       "    }\n",
       "</style>\n",
       "<table border=\"1\" class=\"dataframe\">\n",
       "  <thead>\n",
       "    <tr style=\"text-align: right;\">\n",
       "      <th></th>\n",
       "      <th>business_id</th>\n",
       "      <th>name</th>\n",
       "      <th>address</th>\n",
       "      <th>city</th>\n",
       "      <th>state</th>\n",
       "      <th>postal_code</th>\n",
       "      <th>latitude</th>\n",
       "      <th>longitude</th>\n",
       "      <th>stars</th>\n",
       "      <th>review_count</th>\n",
       "      <th>is_open</th>\n",
       "      <th>attributes</th>\n",
       "      <th>categories</th>\n",
       "      <th>hours</th>\n",
       "    </tr>\n",
       "  </thead>\n",
       "  <tbody>\n",
       "    <tr>\n",
       "      <th>144015</th>\n",
       "      <td>aXvUO0KwkD3Hp5WrY52zLw</td>\n",
       "      <td>Brookhaven Market</td>\n",
       "      <td>3510 Edgmont Ave</td>\n",
       "      <td>Brookhaven</td>\n",
       "      <td>VT</td>\n",
       "      <td>19015</td>\n",
       "      <td>39.869814</td>\n",
       "      <td>-75.384818</td>\n",
       "      <td>4.0</td>\n",
       "      <td>8</td>\n",
       "      <td>1</td>\n",
       "      <td>{'BusinessAcceptsCreditCards': 'True', 'Restau...</td>\n",
       "      <td>Restaurants;Grocery;Food;Delis</td>\n",
       "      <td>{'Monday': '8:0-20:0', 'Tuesday': '8:0-20:0', ...</td>\n",
       "    </tr>\n",
       "  </tbody>\n",
       "</table>\n",
       "</div>"
      ],
      "text/plain": [
       "                   business_id               name           address  \\\n",
       "144015  aXvUO0KwkD3Hp5WrY52zLw  Brookhaven Market  3510 Edgmont Ave   \n",
       "\n",
       "              city state postal_code   latitude  longitude stars  \\\n",
       "144015  Brookhaven    VT       19015  39.869814 -75.384818   4.0   \n",
       "\n",
       "        review_count is_open  \\\n",
       "144015             8       1   \n",
       "\n",
       "                                               attributes  \\\n",
       "144015  {'BusinessAcceptsCreditCards': 'True', 'Restau...   \n",
       "\n",
       "                            categories  \\\n",
       "144015  Restaurants;Grocery;Food;Delis   \n",
       "\n",
       "                                                    hours  \n",
       "144015  {'Monday': '8:0-20:0', 'Tuesday': '8:0-20:0', ...  "
      ]
     },
     "execution_count": 64,
     "metadata": {},
     "output_type": "execute_result"
    }
   ],
   "source": [
    "df_business1[df_business1['state'] == 'VT']"
   ]
  },
  {
   "cell_type": "code",
   "execution_count": 65,
   "metadata": {},
   "outputs": [],
   "source": [
    "df_business1.to_csv('Business.csv', index=False, encoding='utf-8')"
   ]
  },
  {
   "cell_type": "markdown",
   "metadata": {},
   "source": [
    "## ETL CATEGORIES"
   ]
  },
  {
   "cell_type": "markdown",
   "metadata": {},
   "source": [
    "Se realizará un filtrado de categorías para conservar únicamente los `id_business` de los negocios que pertenezcan a la categoría de **Hoteles, Restaurantes y Turismo**"
   ]
  },
  {
   "cell_type": "code",
   "execution_count": null,
   "metadata": {},
   "outputs": [],
   "source": [
    "df_cat_etl = df_categories # Creo un ETL espejo para hacer la limpieza"
   ]
  },
  {
   "cell_type": "code",
   "execution_count": null,
   "metadata": {},
   "outputs": [
    {
     "data": {
      "text/plain": [
       "Index(['business_id', 'category'], dtype='object')"
      ]
     },
     "execution_count": 93,
     "metadata": {},
     "output_type": "execute_result"
    }
   ],
   "source": [
    "df_cat_etl.columns #para ver las columnas"
   ]
  },
  {
   "cell_type": "code",
   "execution_count": null,
   "metadata": {},
   "outputs": [],
   "source": [
    "df_category = df_cat_etl #Necesito tener otro espejo para hacer varios cambios"
   ]
  },
  {
   "cell_type": "code",
   "execution_count": null,
   "metadata": {},
   "outputs": [
    {
     "data": {
      "text/plain": [
       "Index(['business_id', 'category'], dtype='object')"
      ]
     },
     "execution_count": 95,
     "metadata": {},
     "output_type": "execute_result"
    }
   ],
   "source": [
    "df_category.columns # para ver las columnas"
   ]
  },
  {
   "cell_type": "markdown",
   "metadata": {},
   "source": [
    "En el segundo espejo creado voy a eliminar la columna `id_business` y posteriormente voy a eliminar todos los duplicados en el `df_category`."
   ]
  },
  {
   "cell_type": "code",
   "execution_count": 96,
   "metadata": {},
   "outputs": [],
   "source": [
    "df_category = df_category.drop(columns=['business_id'], errors='ignore')\n",
    "df_category = df_category.drop_duplicates(subset=['category'])"
   ]
  },
  {
   "cell_type": "code",
   "execution_count": null,
   "metadata": {},
   "outputs": [
    {
     "data": {
      "text/plain": [
       "(1311, 1)"
      ]
     },
     "execution_count": 97,
     "metadata": {},
     "output_type": "execute_result"
    }
   ],
   "source": [
    "df_category.shape # Para confirmar el tamaño"
   ]
  },
  {
   "cell_type": "code",
   "execution_count": null,
   "metadata": {},
   "outputs": [
    {
     "data": {
      "application/vnd.microsoft.datawrangler.viewer.v0+json": {
       "columns": [
        {
         "name": "index",
         "rawType": "int64",
         "type": "integer"
        },
        {
         "name": "category",
         "rawType": "object",
         "type": "string"
        }
       ],
       "conversionMethod": "pd.DataFrame",
       "ref": "485a8ef7-e320-4fb9-a1ab-3b696a48acfd",
       "rows": [
        [
         "214",
         "Chinese"
        ]
       ],
       "shape": {
        "columns": 1,
        "rows": 1
       }
      },
      "text/html": [
       "<div>\n",
       "<style scoped>\n",
       "    .dataframe tbody tr th:only-of-type {\n",
       "        vertical-align: middle;\n",
       "    }\n",
       "\n",
       "    .dataframe tbody tr th {\n",
       "        vertical-align: top;\n",
       "    }\n",
       "\n",
       "    .dataframe thead th {\n",
       "        text-align: right;\n",
       "    }\n",
       "</style>\n",
       "<table border=\"1\" class=\"dataframe\">\n",
       "  <thead>\n",
       "    <tr style=\"text-align: right;\">\n",
       "      <th></th>\n",
       "      <th>category</th>\n",
       "    </tr>\n",
       "  </thead>\n",
       "  <tbody>\n",
       "    <tr>\n",
       "      <th>214</th>\n",
       "      <td>Chinese</td>\n",
       "    </tr>\n",
       "  </tbody>\n",
       "</table>\n",
       "</div>"
      ],
      "text/plain": [
       "    category\n",
       "214  Chinese"
      ]
     },
     "execution_count": 98,
     "metadata": {},
     "output_type": "execute_result"
    }
   ],
   "source": [
    "df_category[df_category['category'] == \"Chinese\"] # Filtro para ver un ejemplo"
   ]
  },
  {
   "cell_type": "code",
   "execution_count": null,
   "metadata": {},
   "outputs": [
    {
     "data": {
      "text/plain": [
       "Index(['category'], dtype='object')"
      ]
     },
     "execution_count": 99,
     "metadata": {},
     "output_type": "execute_result"
    }
   ],
   "source": [
    "df_category.columns # Para ver que columnas tengo. "
   ]
  },
  {
   "cell_type": "markdown",
   "metadata": {},
   "source": [
    "Anteriormente, para evitar conflictos, reemplacé las palabras `'and'` por `'&'` y los espacios por `'_'`. Ahora, volveré a dejarlos como estaban.  "
   ]
  },
  {
   "cell_type": "code",
   "execution_count": null,
   "metadata": {},
   "outputs": [],
   "source": [
    "df_category['category'] = df_category['category'].str.replace('_', ' ').str.replace('&', 'and')"
   ]
  },
  {
   "cell_type": "markdown",
   "metadata": {},
   "source": [
    "Con la siguiente función, busco las categorías que tienen similitud. Dado que es una lista larga (1,311 categorías), selecciono las palabras manualmente.  \n",
    "\n",
    "Luego, utilizo una función `lambda` y creo una nueva columna en formato binario, donde:  \n",
    "- `1` significa que pertenecen a **Hoteles, Restaurantes y Turismo**.  \n",
    "- `0` significa que pertenecen a **otras categorías**.  "
   ]
  },
  {
   "cell_type": "code",
   "execution_count": null,
   "metadata": {},
   "outputs": [
    {
     "name": "stdout",
     "output_type": "stream",
     "text": [
      "                       category  es_hotel_restaurante\n",
      "0                       Doctors                     0\n",
      "1  Traditional Chinese Medicine                     1\n",
      "2         Naturopathic/Holistic                     0\n",
      "3                   Acupuncture                     0\n",
      "4              Health y Medical                     0\n",
      "5                 Nutritionists                     0\n",
      "6              Shipping Centers                     0\n",
      "7                Local Services                     0\n",
      "8                      Notaries                     0\n",
      "9               Mailbox Centers                     0\n"
     ]
    }
   ],
   "source": [
    "# Lista de palabras clave basadas en las que he visto en el dataframe desanidado\n",
    "palabras_clave = [\n",
    "    'hotel', 'lodging', 'accommodation', 'inn', 'motel', 'resort', 'hostel', 'bed', 'breakfast', 'suite', 'vacation', 'rental', 'falafel', 'fish', 'restaurants',\n",
    "    'guesthouse', 'villa', 'chalet', 'apartment', 'spa', 'nightlife', 'beer', 'chese', 'chicken', 'cheese', 'cakes', 'donuts', 'empanadas', 'fondue', 'tacos', 'wraps',\n",
    "    'restaurant', 'food', 'bar', 'cafe', 'bistro', 'diner', 'pub', 'eatery', 'tavern', 'grill', 'cucina', 'cupcake', 'grocery', 'fruit', 'gelato', 'club', 'waffles',\n",
    "    'pizzeria', 'bakery', 'fast', 'buffet', 'steakhouse', 'seafood', 'coffee', 'tea', 'brasserie', 'truck', 'kosher', 'korean', 'kitchen', 'chef', 'tex-mex', 'wine',\n",
    "    'sushi', 'italian', 'mexican', 'chinese', 'bagel', 'burger', 'sandwich', 'yogurt', 'dog', 'pizza', 'salad', 'soup', 'deli', 'brewer', 'asian', 'japanese', 'event'\n",
    "]\n",
    "\n",
    "# Crear una nueva columna binaria\n",
    "df_category['es_hotel_restaurante'] = df_category['category'].apply(\n",
    "    lambda x: 1 if any(word in x.lower() for word in palabras_clave) else 0\n",
    ")\n",
    "\n",
    "# Ver el resultado\n",
    "print(df_category.head(10))"
   ]
  },
  {
   "cell_type": "code",
   "execution_count": 102,
   "metadata": {},
   "outputs": [],
   "source": [
    "# Filtrar solo las filas que pertenecen a hoteles y restaurantes\n",
    "df_hot_rest = df_category[df_category['es_hotel_restaurante'] == 1]\n",
    "df_hot_rest = df_hot_rest.sort_values(by='category')"
   ]
  },
  {
   "cell_type": "code",
   "execution_count": 103,
   "metadata": {},
   "outputs": [
    {
     "data": {
      "application/vnd.microsoft.datawrangler.viewer.v0+json": {
       "columns": [
        {
         "name": "index",
         "rawType": "int64",
         "type": "integer"
        },
        {
         "name": "category",
         "rawType": "object",
         "type": "string"
        },
        {
         "name": "es_hotel_restaurante",
         "rawType": "int64",
         "type": "integer"
        }
       ],
       "conversionMethod": "pd.DataFrame",
       "ref": "d6044a0c-47cb-428a-89a7-53d11b82a070",
       "rows": [
        [
         "975",
         "ATV Rentals/Tours",
         "1"
        ],
        [
         "5220",
         "Amateur Sports Teams",
         "1"
        ],
        [
         "264176",
         "Apartment Agents",
         "1"
        ],
        [
         "872",
         "Apartments",
         "1"
        ],
        [
         "19071",
         "Art Space Rentals",
         "1"
        ],
        [
         "101",
         "Asian Fusion",
         "1"
        ],
        [
         "49202",
         "Audio/Visual Equipment Rental",
         "1"
        ],
        [
         "903",
         "Bagels",
         "1"
        ],
        [
         "3206",
         "Bar Crawl",
         "1"
        ],
        [
         "743",
         "Barbeque",
         "1"
        ],
        [
         "572",
         "Barbers",
         "1"
        ],
        [
         "3031",
         "Barre Classes",
         "1"
        ],
        [
         "42",
         "Bars",
         "1"
        ],
        [
         "9014",
         "Bartenders",
         "1"
        ],
        [
         "26239",
         "Bartending Schools",
         "1"
        ],
        [
         "296746",
         "Beach Bars",
         "1"
        ],
        [
         "9558",
         "Beach Equipment Rentals",
         "1"
        ],
        [
         "182",
         "Beauty y Spas",
         "1"
        ],
        [
         "710",
         "Bed y Breakfast",
         "1"
        ],
        [
         "368",
         "Beer",
         "1"
        ],
        [
         "292",
         "Beer Bar",
         "1"
        ],
        [
         "518",
         "Beer Gardens",
         "1"
        ],
        [
         "170212",
         "Beer Hall",
         "1"
        ],
        [
         "525",
         "Beer Tours",
         "1"
        ],
        [
         "1279",
         "Bike Rentals",
         "1"
        ],
        [
         "56453",
         "Bistros",
         "1"
        ],
        [
         "17905",
         "Bounce House Rentals",
         "1"
        ],
        [
         "17462",
         "Brasseries",
         "1"
        ],
        [
         "61",
         "Breakfast y Brunch",
         "1"
        ],
        [
         "23",
         "Breweries",
         "1"
        ],
        [
         "22",
         "Brewpubs",
         "1"
        ],
        [
         "19",
         "Bubble Tea",
         "1"
        ],
        [
         "1659",
         "Buffets",
         "1"
        ],
        [
         "25",
         "Burgers",
         "1"
        ],
        [
         "24892",
         "Bus Rental",
         "1"
        ],
        [
         "18161",
         "Cabaret",
         "1"
        ],
        [
         "90",
         "Cafes",
         "1"
        ],
        [
         "30194",
         "Cafeteria",
         "1"
        ],
        [
         "83",
         "Car Rental",
         "1"
        ],
        [
         "37864",
         "Champagne Bars",
         "1"
        ],
        [
         "10877",
         "Cheese Shops",
         "1"
        ],
        [
         "360309",
         "Cheese Tasting Classes",
         "1"
        ],
        [
         "2667",
         "Cheesesteaks",
         "1"
        ],
        [
         "846",
         "Chicken Shop",
         "1"
        ],
        [
         "127",
         "Chicken Wings",
         "1"
        ],
        [
         "214",
         "Chinese",
         "1"
        ],
        [
         "65045",
         "Chinese Martial Arts",
         "1"
        ],
        [
         "21911",
         "Cigar Bars",
         "1"
        ],
        [
         "16497",
         "Clothing Rental",
         "1"
        ],
        [
         "26579",
         "Club Crawl",
         "1"
        ]
       ],
       "shape": {
        "columns": 2,
        "rows": 221
       }
      },
      "text/html": [
       "<div>\n",
       "<style scoped>\n",
       "    .dataframe tbody tr th:only-of-type {\n",
       "        vertical-align: middle;\n",
       "    }\n",
       "\n",
       "    .dataframe tbody tr th {\n",
       "        vertical-align: top;\n",
       "    }\n",
       "\n",
       "    .dataframe thead th {\n",
       "        text-align: right;\n",
       "    }\n",
       "</style>\n",
       "<table border=\"1\" class=\"dataframe\">\n",
       "  <thead>\n",
       "    <tr style=\"text-align: right;\">\n",
       "      <th></th>\n",
       "      <th>category</th>\n",
       "      <th>es_hotel_restaurante</th>\n",
       "    </tr>\n",
       "  </thead>\n",
       "  <tbody>\n",
       "    <tr>\n",
       "      <th>975</th>\n",
       "      <td>ATV Rentals/Tours</td>\n",
       "      <td>1</td>\n",
       "    </tr>\n",
       "    <tr>\n",
       "      <th>5220</th>\n",
       "      <td>Amateur Sports Teams</td>\n",
       "      <td>1</td>\n",
       "    </tr>\n",
       "    <tr>\n",
       "      <th>264176</th>\n",
       "      <td>Apartment Agents</td>\n",
       "      <td>1</td>\n",
       "    </tr>\n",
       "    <tr>\n",
       "      <th>872</th>\n",
       "      <td>Apartments</td>\n",
       "      <td>1</td>\n",
       "    </tr>\n",
       "    <tr>\n",
       "      <th>19071</th>\n",
       "      <td>Art Space Rentals</td>\n",
       "      <td>1</td>\n",
       "    </tr>\n",
       "    <tr>\n",
       "      <th>...</th>\n",
       "      <td>...</td>\n",
       "      <td>...</td>\n",
       "    </tr>\n",
       "    <tr>\n",
       "      <th>524</th>\n",
       "      <td>Wine Tours</td>\n",
       "      <td>1</td>\n",
       "    </tr>\n",
       "    <tr>\n",
       "      <th>369</th>\n",
       "      <td>Wine y Spirits</td>\n",
       "      <td>1</td>\n",
       "    </tr>\n",
       "    <tr>\n",
       "      <th>1760</th>\n",
       "      <td>Wineries</td>\n",
       "      <td>1</td>\n",
       "    </tr>\n",
       "    <tr>\n",
       "      <th>362</th>\n",
       "      <td>Wraps</td>\n",
       "      <td>1</td>\n",
       "    </tr>\n",
       "    <tr>\n",
       "      <th>17712</th>\n",
       "      <td>Yelp Events</td>\n",
       "      <td>1</td>\n",
       "    </tr>\n",
       "  </tbody>\n",
       "</table>\n",
       "<p>221 rows × 2 columns</p>\n",
       "</div>"
      ],
      "text/plain": [
       "                    category  es_hotel_restaurante\n",
       "975        ATV Rentals/Tours                     1\n",
       "5220    Amateur Sports Teams                     1\n",
       "264176      Apartment Agents                     1\n",
       "872               Apartments                     1\n",
       "19071      Art Space Rentals                     1\n",
       "...                      ...                   ...\n",
       "524               Wine Tours                     1\n",
       "369           Wine y Spirits                     1\n",
       "1760                Wineries                     1\n",
       "362                    Wraps                     1\n",
       "17712            Yelp Events                     1\n",
       "\n",
       "[221 rows x 2 columns]"
      ]
     },
     "execution_count": 103,
     "metadata": {},
     "output_type": "execute_result"
    }
   ],
   "source": [
    "df_hot_rest"
   ]
  },
  {
   "cell_type": "code",
   "execution_count": null,
   "metadata": {},
   "outputs": [],
   "source": [
    "# Para filtrar las que no pertenecern a hoteles y restaurantes\n",
    "df_hot_rest_no = df_category[df_category['es_hotel_restaurante'] == 0] \n",
    "df_hot_rest_no = df_hot_rest_no.sort_values(by='category')\n"
   ]
  },
  {
   "cell_type": "code",
   "execution_count": 105,
   "metadata": {},
   "outputs": [
    {
     "data": {
      "application/vnd.microsoft.datawrangler.viewer.v0+json": {
       "columns": [
        {
         "name": "index",
         "rawType": "int64",
         "type": "integer"
        },
        {
         "name": "category",
         "rawType": "object",
         "type": "string"
        },
        {
         "name": "es_hotel_restaurante",
         "rawType": "int64",
         "type": "integer"
        }
       ],
       "conversionMethod": "pd.DataFrame",
       "ref": "30d94f09-6716-494e-bb95-4cd8359d0718",
       "rows": [
        [
         "256291",
         "3D Printing",
         "0"
        ],
        [
         "1426",
         "Acai Bowls",
         "0"
        ],
        [
         "36",
         "Accessories",
         "0"
        ],
        [
         "6648",
         "Accountants",
         "0"
        ],
        [
         "5773",
         "Acne Treatment",
         "0"
        ],
        [
         "131",
         "Active Life",
         "0"
        ],
        [
         "3",
         "Acupuncture",
         "0"
        ],
        [
         "42764",
         "Addiction Medicine",
         "0"
        ],
        [
         "90323",
         "Adoption Services",
         "0"
        ],
        [
         "115",
         "Adult",
         "0"
        ],
        [
         "3308",
         "Adult Education",
         "0"
        ],
        [
         "3592",
         "Adult Entertainment",
         "0"
        ],
        [
         "6246",
         "Advertising",
         "0"
        ],
        [
         "6330",
         "Aerial Fitness",
         "0"
        ],
        [
         "7593",
         "Aerial Tours",
         "0"
        ],
        [
         "6168",
         "Aestheticians",
         "0"
        ],
        [
         "29646",
         "Afghan",
         "0"
        ],
        [
         "2682",
         "African",
         "0"
        ],
        [
         "5686",
         "Air Duct Cleaning",
         "0"
        ],
        [
         "203023",
         "Aircraft Dealers",
         "0"
        ],
        [
         "126942",
         "Aircraft Repairs",
         "0"
        ],
        [
         "19529",
         "Airlines",
         "0"
        ],
        [
         "8156",
         "Airport Lounges",
         "0"
        ],
        [
         "669",
         "Airport Shuttles",
         "0"
        ],
        [
         "20236",
         "Airport Terminals",
         "0"
        ],
        [
         "7081",
         "Airports",
         "0"
        ],
        [
         "56855",
         "Airsoft",
         "0"
        ],
        [
         "8543",
         "Allergists",
         "0"
        ],
        [
         "5119",
         "Alternative Medicine",
         "0"
        ],
        [
         "276",
         "American (New)",
         "0"
        ],
        [
         "43",
         "American (Traditional)",
         "0"
        ],
        [
         "2801",
         "Amusement Parks",
         "0"
        ],
        [
         "13083",
         "Anesthesiologists",
         "0"
        ],
        [
         "386142",
         "Animal Assisted Therapy",
         "0"
        ],
        [
         "77645",
         "Animal Physical Therapy",
         "0"
        ],
        [
         "1499",
         "Animal Shelters",
         "0"
        ],
        [
         "418",
         "Antiques",
         "0"
        ],
        [
         "832",
         "Appliances",
         "0"
        ],
        [
         "309",
         "Appliances y Repair",
         "0"
        ],
        [
         "3393",
         "Appraisal Services",
         "0"
        ],
        [
         "12121",
         "Aquarium Services",
         "0"
        ],
        [
         "12126",
         "Aquariums",
         "0"
        ],
        [
         "11078",
         "Arabic",
         "0"
        ],
        [
         "2377",
         "Arcades",
         "0"
        ],
        [
         "8646",
         "Archery",
         "0"
        ],
        [
         "5643",
         "Architects",
         "0"
        ],
        [
         "33708",
         "Architectural Tours",
         "0"
        ],
        [
         "11111",
         "Argentine",
         "0"
        ],
        [
         "21303",
         "Armenian",
         "0"
        ],
        [
         "729",
         "Art Classes",
         "0"
        ]
       ],
       "shape": {
        "columns": 2,
        "rows": 1090
       }
      },
      "text/html": [
       "<div>\n",
       "<style scoped>\n",
       "    .dataframe tbody tr th:only-of-type {\n",
       "        vertical-align: middle;\n",
       "    }\n",
       "\n",
       "    .dataframe tbody tr th {\n",
       "        vertical-align: top;\n",
       "    }\n",
       "\n",
       "    .dataframe thead th {\n",
       "        text-align: right;\n",
       "    }\n",
       "</style>\n",
       "<table border=\"1\" class=\"dataframe\">\n",
       "  <thead>\n",
       "    <tr style=\"text-align: right;\">\n",
       "      <th></th>\n",
       "      <th>category</th>\n",
       "      <th>es_hotel_restaurante</th>\n",
       "    </tr>\n",
       "  </thead>\n",
       "  <tbody>\n",
       "    <tr>\n",
       "      <th>256291</th>\n",
       "      <td>3D Printing</td>\n",
       "      <td>0</td>\n",
       "    </tr>\n",
       "    <tr>\n",
       "      <th>1426</th>\n",
       "      <td>Acai Bowls</td>\n",
       "      <td>0</td>\n",
       "    </tr>\n",
       "    <tr>\n",
       "      <th>36</th>\n",
       "      <td>Accessories</td>\n",
       "      <td>0</td>\n",
       "    </tr>\n",
       "    <tr>\n",
       "      <th>6648</th>\n",
       "      <td>Accountants</td>\n",
       "      <td>0</td>\n",
       "    </tr>\n",
       "    <tr>\n",
       "      <th>5773</th>\n",
       "      <td>Acne Treatment</td>\n",
       "      <td>0</td>\n",
       "    </tr>\n",
       "    <tr>\n",
       "      <th>...</th>\n",
       "      <td>...</td>\n",
       "      <td>...</td>\n",
       "    </tr>\n",
       "    <tr>\n",
       "      <th>4878</th>\n",
       "      <td>Workers Compensation Law</td>\n",
       "      <td>0</td>\n",
       "    </tr>\n",
       "    <tr>\n",
       "      <th>244</th>\n",
       "      <td>Yoga</td>\n",
       "      <td>0</td>\n",
       "    </tr>\n",
       "    <tr>\n",
       "      <th>176071</th>\n",
       "      <td>Ziplining</td>\n",
       "      <td>0</td>\n",
       "    </tr>\n",
       "    <tr>\n",
       "      <th>13828</th>\n",
       "      <td>Zoos</td>\n",
       "      <td>0</td>\n",
       "    </tr>\n",
       "    <tr>\n",
       "      <th>22136</th>\n",
       "      <td>y Probates</td>\n",
       "      <td>0</td>\n",
       "    </tr>\n",
       "  </tbody>\n",
       "</table>\n",
       "<p>1090 rows × 2 columns</p>\n",
       "</div>"
      ],
      "text/plain": [
       "                        category  es_hotel_restaurante\n",
       "256291               3D Printing                     0\n",
       "1426                  Acai Bowls                     0\n",
       "36                   Accessories                     0\n",
       "6648                 Accountants                     0\n",
       "5773              Acne Treatment                     0\n",
       "...                          ...                   ...\n",
       "4878    Workers Compensation Law                     0\n",
       "244                         Yoga                     0\n",
       "176071                 Ziplining                     0\n",
       "13828                       Zoos                     0\n",
       "22136                 y Probates                     0\n",
       "\n",
       "[1090 rows x 2 columns]"
      ]
     },
     "execution_count": 105,
     "metadata": {},
     "output_type": "execute_result"
    }
   ],
   "source": [
    "df_hot_rest_no"
   ]
  },
  {
   "cell_type": "code",
   "execution_count": 106,
   "metadata": {},
   "outputs": [
    {
     "data": {
      "application/vnd.microsoft.datawrangler.viewer.v0+json": {
       "columns": [
        {
         "name": "index",
         "rawType": "int64",
         "type": "integer"
        },
        {
         "name": "category",
         "rawType": "object",
         "type": "string"
        },
        {
         "name": "es_hotel_restaurante",
         "rawType": "int64",
         "type": "integer"
        }
       ],
       "conversionMethod": "pd.DataFrame",
       "ref": "75e2c23b-552e-4daa-aa48-e05f71a375b5",
       "rows": [
        [
         "0",
         "Doctors",
         "0"
        ],
        [
         "1",
         "Traditional Chinese Medicine",
         "1"
        ],
        [
         "2",
         "Naturopathic/Holistic",
         "0"
        ],
        [
         "3",
         "Acupuncture",
         "0"
        ],
        [
         "4",
         "Health y Medical",
         "0"
        ]
       ],
       "shape": {
        "columns": 2,
        "rows": 5
       }
      },
      "text/html": [
       "<div>\n",
       "<style scoped>\n",
       "    .dataframe tbody tr th:only-of-type {\n",
       "        vertical-align: middle;\n",
       "    }\n",
       "\n",
       "    .dataframe tbody tr th {\n",
       "        vertical-align: top;\n",
       "    }\n",
       "\n",
       "    .dataframe thead th {\n",
       "        text-align: right;\n",
       "    }\n",
       "</style>\n",
       "<table border=\"1\" class=\"dataframe\">\n",
       "  <thead>\n",
       "    <tr style=\"text-align: right;\">\n",
       "      <th></th>\n",
       "      <th>category</th>\n",
       "      <th>es_hotel_restaurante</th>\n",
       "    </tr>\n",
       "  </thead>\n",
       "  <tbody>\n",
       "    <tr>\n",
       "      <th>0</th>\n",
       "      <td>Doctors</td>\n",
       "      <td>0</td>\n",
       "    </tr>\n",
       "    <tr>\n",
       "      <th>1</th>\n",
       "      <td>Traditional Chinese Medicine</td>\n",
       "      <td>1</td>\n",
       "    </tr>\n",
       "    <tr>\n",
       "      <th>2</th>\n",
       "      <td>Naturopathic/Holistic</td>\n",
       "      <td>0</td>\n",
       "    </tr>\n",
       "    <tr>\n",
       "      <th>3</th>\n",
       "      <td>Acupuncture</td>\n",
       "      <td>0</td>\n",
       "    </tr>\n",
       "    <tr>\n",
       "      <th>4</th>\n",
       "      <td>Health y Medical</td>\n",
       "      <td>0</td>\n",
       "    </tr>\n",
       "  </tbody>\n",
       "</table>\n",
       "</div>"
      ],
      "text/plain": [
       "                       category  es_hotel_restaurante\n",
       "0                       Doctors                     0\n",
       "1  Traditional Chinese Medicine                     1\n",
       "2         Naturopathic/Holistic                     0\n",
       "3                   Acupuncture                     0\n",
       "4              Health y Medical                     0"
      ]
     },
     "execution_count": 106,
     "metadata": {},
     "output_type": "execute_result"
    }
   ],
   "source": [
    "df_category.head()"
   ]
  },
  {
   "cell_type": "markdown",
   "metadata": {},
   "source": [
    "En el DataFrame `df_cat_etl`, que contiene la columna `business_id`, incluyo la información sobre si pertenecen a la categoría que estoy buscando.  "
   ]
  },
  {
   "cell_type": "code",
   "execution_count": null,
   "metadata": {},
   "outputs": [],
   "source": [
    "df_cat_etl = pd.merge(df_cat_etl, df_category, on='category', how='inner')\n",
    "\n",
    "# Renombramos la columna 'es_hotel_restaurante' a 'HRT Y/N'\n",
    "df_cat_etl.rename(columns={'es_hotel_restaurante': 'subcategory'}, inplace=True)\n"
   ]
  },
  {
   "cell_type": "code",
   "execution_count": null,
   "metadata": {},
   "outputs": [
    {
     "data": {
      "application/vnd.microsoft.datawrangler.viewer.v0+json": {
       "columns": [
        {
         "name": "index",
         "rawType": "int64",
         "type": "integer"
        },
        {
         "name": "business_id",
         "rawType": "object",
         "type": "string"
        },
        {
         "name": "category",
         "rawType": "object",
         "type": "string"
        },
        {
         "name": "subcategory",
         "rawType": "int64",
         "type": "integer"
        }
       ],
       "conversionMethod": "pd.DataFrame",
       "ref": "2441568c-743c-4ae9-8aa4-5e95f65556de",
       "rows": [
        [
         "0",
         "Pns2l4eNsfO8kk83dixA6A",
         "Doctors",
         "0"
        ],
        [
         "1",
         "Pns2l4eNsfO8kk83dixA6A",
         "Naturopathic/Holistic",
         "0"
        ],
        [
         "2",
         "Pns2l4eNsfO8kk83dixA6A",
         "Acupuncture",
         "0"
        ],
        [
         "3",
         "Pns2l4eNsfO8kk83dixA6A",
         "Nutritionists",
         "0"
        ],
        [
         "4",
         "mpf3x-BjTdTEA3yCZrAYPw",
         "Notaries",
         "0"
        ],
        [
         "5",
         "tUFrWirKiKi_TAnsVWINQQ",
         "Shopping",
         "0"
        ],
        [
         "6",
         "tUFrWirKiKi_TAnsVWINQQ",
         "Fashion",
         "0"
        ],
        [
         "7",
         "tUFrWirKiKi_TAnsVWINQQ",
         "Electronics",
         "0"
        ],
        [
         "8",
         "MTSW4McQd7CbVtyjqoe9mw",
         "Restaurants",
         "1"
        ],
        [
         "9",
         "MTSW4McQd7CbVtyjqoe9mw",
         "Food",
         "1"
        ],
        [
         "10",
         "MTSW4McQd7CbVtyjqoe9mw",
         "Bakeries",
         "0"
        ],
        [
         "11",
         "mWMc6_wTdE0EUBKIGXDVfA",
         "Brewpubs",
         "1"
        ],
        [
         "12",
         "mWMc6_wTdE0EUBKIGXDVfA",
         "Breweries",
         "1"
        ],
        [
         "13",
         "mWMc6_wTdE0EUBKIGXDVfA",
         "Food",
         "1"
        ],
        [
         "14",
         "CF33F8-E6oudUQ46HnavjQ",
         "Burgers",
         "1"
        ],
        [
         "15",
         "CF33F8-E6oudUQ46HnavjQ",
         "Sandwiches",
         "1"
        ],
        [
         "16",
         "CF33F8-E6oudUQ46HnavjQ",
         "Food",
         "1"
        ],
        [
         "17",
         "CF33F8-E6oudUQ46HnavjQ",
         "Restaurants",
         "1"
        ],
        [
         "18",
         "n_0UpQx1hsNbnPUSlodU8w",
         "Fashion",
         "0"
        ],
        [
         "19",
         "n_0UpQx1hsNbnPUSlodU8w",
         "Shopping",
         "0"
        ],
        [
         "20",
         "n_0UpQx1hsNbnPUSlodU8w",
         "Accessories",
         "0"
        ],
        [
         "21",
         "qkRM_2X51Yqxk3btlwAQIg",
         "Synagogues",
         "0"
        ],
        [
         "22",
         "k0hlBqXX-Bt0vf1op7Jr1w",
         "Pubs",
         "1"
        ],
        [
         "23",
         "k0hlBqXX-Bt0vf1op7Jr1w",
         "Restaurants",
         "1"
        ],
        [
         "24",
         "k0hlBqXX-Bt0vf1op7Jr1w",
         "Italian",
         "1"
        ],
        [
         "25",
         "k0hlBqXX-Bt0vf1op7Jr1w",
         "Bars",
         "1"
        ],
        [
         "26",
         "k0hlBqXX-Bt0vf1op7Jr1w",
         "Nightlife",
         "1"
        ],
        [
         "27",
         "k0hlBqXX-Bt0vf1op7Jr1w",
         "Greek",
         "0"
        ],
        [
         "28",
         "bBDDEgkFA1Otx9Lfe7BZUQ",
         "Burgers",
         "1"
        ],
        [
         "29",
         "bBDDEgkFA1Otx9Lfe7BZUQ",
         "Restaurants",
         "1"
        ],
        [
         "30",
         "bBDDEgkFA1Otx9Lfe7BZUQ",
         "Food",
         "1"
        ],
        [
         "31",
         "UJsufbvfyfONHeWdvAHKjA",
         "Shopping",
         "0"
        ],
        [
         "32",
         "UJsufbvfyfONHeWdvAHKjA",
         "Fashion",
         "0"
        ],
        [
         "33",
         "eEOYSgkmpB90uNA7lDOMRA",
         "Vietnamese",
         "0"
        ],
        [
         "34",
         "eEOYSgkmpB90uNA7lDOMRA",
         "Food",
         "1"
        ],
        [
         "35",
         "eEOYSgkmpB90uNA7lDOMRA",
         "Restaurants",
         "1"
        ],
        [
         "36",
         "il_Ro8jwPlHresjw9EGmBg",
         "Restaurants",
         "1"
        ],
        [
         "37",
         "il_Ro8jwPlHresjw9EGmBg",
         "Diners",
         "1"
        ],
        [
         "38",
         "jaxMSoInw8Poo3XeMJt8lQ",
         "Dentists",
         "0"
        ],
        [
         "39",
         "0bPLkL0QhhPO5kt1_EXmNQ",
         "Food",
         "1"
        ],
        [
         "40",
         "0bPLkL0QhhPO5kt1_EXmNQ",
         "Delis",
         "1"
        ],
        [
         "41",
         "0bPLkL0QhhPO5kt1_EXmNQ",
         "Italian",
         "1"
        ],
        [
         "42",
         "0bPLkL0QhhPO5kt1_EXmNQ",
         "Bakeries",
         "0"
        ],
        [
         "43",
         "0bPLkL0QhhPO5kt1_EXmNQ",
         "Restaurants",
         "1"
        ],
        [
         "44",
         "MUTTqe8uqyMdBl186RmNeA",
         "Restaurants",
         "1"
        ],
        [
         "45",
         "MUTTqe8uqyMdBl186RmNeA",
         "Japanese",
         "1"
        ],
        [
         "46",
         "rBmpy_Y1UbBx8ggHlyb7hA",
         "Automotive",
         "0"
        ],
        [
         "47",
         "M0XSSHqrASOnhgbWDJIpQA",
         "Shopping",
         "0"
        ],
        [
         "48",
         "8wGISYjYkE2tSqn3cDMu8A",
         "Automotive",
         "0"
        ],
        [
         "49",
         "ROeacJQwBeh05Rqg7F6TCg",
         "Korean",
         "1"
        ]
       ],
       "shape": {
        "columns": 3,
        "rows": 321993
       }
      },
      "text/html": [
       "<div>\n",
       "<style scoped>\n",
       "    .dataframe tbody tr th:only-of-type {\n",
       "        vertical-align: middle;\n",
       "    }\n",
       "\n",
       "    .dataframe tbody tr th {\n",
       "        vertical-align: top;\n",
       "    }\n",
       "\n",
       "    .dataframe thead th {\n",
       "        text-align: right;\n",
       "    }\n",
       "</style>\n",
       "<table border=\"1\" class=\"dataframe\">\n",
       "  <thead>\n",
       "    <tr style=\"text-align: right;\">\n",
       "      <th></th>\n",
       "      <th>business_id</th>\n",
       "      <th>category</th>\n",
       "      <th>subcategory</th>\n",
       "    </tr>\n",
       "  </thead>\n",
       "  <tbody>\n",
       "    <tr>\n",
       "      <th>0</th>\n",
       "      <td>Pns2l4eNsfO8kk83dixA6A</td>\n",
       "      <td>Doctors</td>\n",
       "      <td>0</td>\n",
       "    </tr>\n",
       "    <tr>\n",
       "      <th>1</th>\n",
       "      <td>Pns2l4eNsfO8kk83dixA6A</td>\n",
       "      <td>Naturopathic/Holistic</td>\n",
       "      <td>0</td>\n",
       "    </tr>\n",
       "    <tr>\n",
       "      <th>2</th>\n",
       "      <td>Pns2l4eNsfO8kk83dixA6A</td>\n",
       "      <td>Acupuncture</td>\n",
       "      <td>0</td>\n",
       "    </tr>\n",
       "    <tr>\n",
       "      <th>3</th>\n",
       "      <td>Pns2l4eNsfO8kk83dixA6A</td>\n",
       "      <td>Nutritionists</td>\n",
       "      <td>0</td>\n",
       "    </tr>\n",
       "    <tr>\n",
       "      <th>4</th>\n",
       "      <td>mpf3x-BjTdTEA3yCZrAYPw</td>\n",
       "      <td>Notaries</td>\n",
       "      <td>0</td>\n",
       "    </tr>\n",
       "    <tr>\n",
       "      <th>...</th>\n",
       "      <td>...</td>\n",
       "      <td>...</td>\n",
       "      <td>...</td>\n",
       "    </tr>\n",
       "    <tr>\n",
       "      <th>321988</th>\n",
       "      <td>_QAMST-NrQobXduilWEqSw</td>\n",
       "      <td>Fashion</td>\n",
       "      <td>0</td>\n",
       "    </tr>\n",
       "    <tr>\n",
       "      <th>321989</th>\n",
       "      <td>mtGm22y5c2UHNXDFAjaPNw</td>\n",
       "      <td>Shopping</td>\n",
       "      <td>0</td>\n",
       "    </tr>\n",
       "    <tr>\n",
       "      <th>321990</th>\n",
       "      <td>mtGm22y5c2UHNXDFAjaPNw</td>\n",
       "      <td>Bikes</td>\n",
       "      <td>0</td>\n",
       "    </tr>\n",
       "    <tr>\n",
       "      <th>321991</th>\n",
       "      <td>jV_XOycEzSlTx-65W906pg</td>\n",
       "      <td>Piercing</td>\n",
       "      <td>0</td>\n",
       "    </tr>\n",
       "    <tr>\n",
       "      <th>321992</th>\n",
       "      <td>jV_XOycEzSlTx-65W906pg</td>\n",
       "      <td>Tattoo</td>\n",
       "      <td>0</td>\n",
       "    </tr>\n",
       "  </tbody>\n",
       "</table>\n",
       "<p>321993 rows × 3 columns</p>\n",
       "</div>"
      ],
      "text/plain": [
       "                   business_id               category  subcategory\n",
       "0       Pns2l4eNsfO8kk83dixA6A                Doctors            0\n",
       "1       Pns2l4eNsfO8kk83dixA6A  Naturopathic/Holistic            0\n",
       "2       Pns2l4eNsfO8kk83dixA6A            Acupuncture            0\n",
       "3       Pns2l4eNsfO8kk83dixA6A          Nutritionists            0\n",
       "4       mpf3x-BjTdTEA3yCZrAYPw               Notaries            0\n",
       "...                        ...                    ...          ...\n",
       "321988  _QAMST-NrQobXduilWEqSw                Fashion            0\n",
       "321989  mtGm22y5c2UHNXDFAjaPNw               Shopping            0\n",
       "321990  mtGm22y5c2UHNXDFAjaPNw                  Bikes            0\n",
       "321991  jV_XOycEzSlTx-65W906pg               Piercing            0\n",
       "321992  jV_XOycEzSlTx-65W906pg                 Tattoo            0\n",
       "\n",
       "[321993 rows x 3 columns]"
      ]
     },
     "execution_count": 108,
     "metadata": {},
     "output_type": "execute_result"
    }
   ],
   "source": [
    "df_cat_etl #Para visualizar el resultado."
   ]
  },
  {
   "cell_type": "code",
   "execution_count": null,
   "metadata": {},
   "outputs": [],
   "source": [
    "# Cambio los nombres en subcategoria para que sea más entendible\n",
    "df_cat_etl['subcategory'] = df_cat_etl['subcategory'].replace({  \n",
    "    1: 'Hotels, restaurants and tourism',  \n",
    "    0: 'Other categories'  \n",
    "})"
   ]
  },
  {
   "cell_type": "code",
   "execution_count": null,
   "metadata": {},
   "outputs": [],
   "source": [
    "# Filtro solo la categoria que vamos a estudiar.\n",
    "df_filtered = df_cat_etl[df_cat_etl['subcategory'] == 'Hotels, restaurants and tourism']"
   ]
  },
  {
   "cell_type": "code",
   "execution_count": 111,
   "metadata": {},
   "outputs": [
    {
     "data": {
      "application/vnd.microsoft.datawrangler.viewer.v0+json": {
       "columns": [
        {
         "name": "index",
         "rawType": "int64",
         "type": "integer"
        },
        {
         "name": "business_id",
         "rawType": "object",
         "type": "string"
        },
        {
         "name": "category",
         "rawType": "object",
         "type": "string"
        },
        {
         "name": "subcategory",
         "rawType": "object",
         "type": "string"
        }
       ],
       "conversionMethod": "pd.DataFrame",
       "ref": "84637c16-3f3d-4a4f-8288-d3549312ae83",
       "rows": [
        [
         "8",
         "MTSW4McQd7CbVtyjqoe9mw",
         "Restaurants",
         "Hotels, restaurants and tourism"
        ],
        [
         "9",
         "MTSW4McQd7CbVtyjqoe9mw",
         "Food",
         "Hotels, restaurants and tourism"
        ],
        [
         "11",
         "mWMc6_wTdE0EUBKIGXDVfA",
         "Brewpubs",
         "Hotels, restaurants and tourism"
        ],
        [
         "12",
         "mWMc6_wTdE0EUBKIGXDVfA",
         "Breweries",
         "Hotels, restaurants and tourism"
        ],
        [
         "13",
         "mWMc6_wTdE0EUBKIGXDVfA",
         "Food",
         "Hotels, restaurants and tourism"
        ],
        [
         "14",
         "CF33F8-E6oudUQ46HnavjQ",
         "Burgers",
         "Hotels, restaurants and tourism"
        ],
        [
         "15",
         "CF33F8-E6oudUQ46HnavjQ",
         "Sandwiches",
         "Hotels, restaurants and tourism"
        ],
        [
         "16",
         "CF33F8-E6oudUQ46HnavjQ",
         "Food",
         "Hotels, restaurants and tourism"
        ],
        [
         "17",
         "CF33F8-E6oudUQ46HnavjQ",
         "Restaurants",
         "Hotels, restaurants and tourism"
        ],
        [
         "22",
         "k0hlBqXX-Bt0vf1op7Jr1w",
         "Pubs",
         "Hotels, restaurants and tourism"
        ],
        [
         "23",
         "k0hlBqXX-Bt0vf1op7Jr1w",
         "Restaurants",
         "Hotels, restaurants and tourism"
        ],
        [
         "24",
         "k0hlBqXX-Bt0vf1op7Jr1w",
         "Italian",
         "Hotels, restaurants and tourism"
        ],
        [
         "25",
         "k0hlBqXX-Bt0vf1op7Jr1w",
         "Bars",
         "Hotels, restaurants and tourism"
        ],
        [
         "26",
         "k0hlBqXX-Bt0vf1op7Jr1w",
         "Nightlife",
         "Hotels, restaurants and tourism"
        ],
        [
         "28",
         "bBDDEgkFA1Otx9Lfe7BZUQ",
         "Burgers",
         "Hotels, restaurants and tourism"
        ],
        [
         "29",
         "bBDDEgkFA1Otx9Lfe7BZUQ",
         "Restaurants",
         "Hotels, restaurants and tourism"
        ],
        [
         "30",
         "bBDDEgkFA1Otx9Lfe7BZUQ",
         "Food",
         "Hotels, restaurants and tourism"
        ],
        [
         "34",
         "eEOYSgkmpB90uNA7lDOMRA",
         "Food",
         "Hotels, restaurants and tourism"
        ],
        [
         "35",
         "eEOYSgkmpB90uNA7lDOMRA",
         "Restaurants",
         "Hotels, restaurants and tourism"
        ],
        [
         "36",
         "il_Ro8jwPlHresjw9EGmBg",
         "Restaurants",
         "Hotels, restaurants and tourism"
        ],
        [
         "37",
         "il_Ro8jwPlHresjw9EGmBg",
         "Diners",
         "Hotels, restaurants and tourism"
        ],
        [
         "39",
         "0bPLkL0QhhPO5kt1_EXmNQ",
         "Food",
         "Hotels, restaurants and tourism"
        ],
        [
         "40",
         "0bPLkL0QhhPO5kt1_EXmNQ",
         "Delis",
         "Hotels, restaurants and tourism"
        ],
        [
         "41",
         "0bPLkL0QhhPO5kt1_EXmNQ",
         "Italian",
         "Hotels, restaurants and tourism"
        ],
        [
         "43",
         "0bPLkL0QhhPO5kt1_EXmNQ",
         "Restaurants",
         "Hotels, restaurants and tourism"
        ],
        [
         "44",
         "MUTTqe8uqyMdBl186RmNeA",
         "Restaurants",
         "Hotels, restaurants and tourism"
        ],
        [
         "45",
         "MUTTqe8uqyMdBl186RmNeA",
         "Japanese",
         "Hotels, restaurants and tourism"
        ],
        [
         "49",
         "ROeacJQwBeh05Rqg7F6TCg",
         "Korean",
         "Hotels, restaurants and tourism"
        ],
        [
         "50",
         "ROeacJQwBeh05Rqg7F6TCg",
         "Restaurants",
         "Hotels, restaurants and tourism"
        ],
        [
         "51",
         "WKMJwqnfZKsAae75RMP6jA",
         "Food",
         "Hotels, restaurants and tourism"
        ],
        [
         "52",
         "WKMJwqnfZKsAae75RMP6jA",
         "Cafes",
         "Hotels, restaurants and tourism"
        ],
        [
         "53",
         "WKMJwqnfZKsAae75RMP6jA",
         "Bars",
         "Hotels, restaurants and tourism"
        ],
        [
         "54",
         "WKMJwqnfZKsAae75RMP6jA",
         "Restaurants",
         "Hotels, restaurants and tourism"
        ],
        [
         "55",
         "WKMJwqnfZKsAae75RMP6jA",
         "Nightlife",
         "Hotels, restaurants and tourism"
        ],
        [
         "60",
         "kfNv-JZpuN6TVNSO6hHdkw",
         "Steakhouses",
         "Hotels, restaurants and tourism"
        ],
        [
         "61",
         "kfNv-JZpuN6TVNSO6hHdkw",
         "Restaurants",
         "Hotels, restaurants and tourism"
        ],
        [
         "62",
         "9OG5YkX1g2GReZM0AskizA",
         "Restaurants",
         "Hotels, restaurants and tourism"
        ],
        [
         "63",
         "9OG5YkX1g2GReZM0AskizA",
         "Italian",
         "Hotels, restaurants and tourism"
        ],
        [
         "64",
         "4iRzR7OaS-QaSXuvYxEGKA",
         "Restaurants",
         "Hotels, restaurants and tourism"
        ],
        [
         "71",
         "tMkwHmWFUEXrC9ZduonpTg",
         "Restaurants",
         "Hotels, restaurants and tourism"
        ],
        [
         "72",
         "tMkwHmWFUEXrC9ZduonpTg",
         "Japanese",
         "Hotels, restaurants and tourism"
        ],
        [
         "73",
         "tMkwHmWFUEXrC9ZduonpTg",
         "Seafood",
         "Hotels, restaurants and tourism"
        ],
        [
         "74",
         "QdN72BWoyFypdGJhhI5r7g",
         "Bars",
         "Hotels, restaurants and tourism"
        ],
        [
         "75",
         "QdN72BWoyFypdGJhhI5r7g",
         "Italian",
         "Hotels, restaurants and tourism"
        ],
        [
         "76",
         "QdN72BWoyFypdGJhhI5r7g",
         "Nightlife",
         "Hotels, restaurants and tourism"
        ],
        [
         "77",
         "QdN72BWoyFypdGJhhI5r7g",
         "Restaurants",
         "Hotels, restaurants and tourism"
        ],
        [
         "78",
         "sqSqqLy0sN8n2IZrAbzidQ",
         "Pizza",
         "Hotels, restaurants and tourism"
        ],
        [
         "79",
         "sqSqqLy0sN8n2IZrAbzidQ",
         "Sandwiches",
         "Hotels, restaurants and tourism"
        ],
        [
         "80",
         "sqSqqLy0sN8n2IZrAbzidQ",
         "Restaurants",
         "Hotels, restaurants and tourism"
        ],
        [
         "81",
         "Mjboz24M9NlBeiOJKLEd_Q",
         "Pizza",
         "Hotels, restaurants and tourism"
        ]
       ],
       "shape": {
        "columns": 3,
        "rows": 179835
       }
      },
      "text/html": [
       "<div>\n",
       "<style scoped>\n",
       "    .dataframe tbody tr th:only-of-type {\n",
       "        vertical-align: middle;\n",
       "    }\n",
       "\n",
       "    .dataframe tbody tr th {\n",
       "        vertical-align: top;\n",
       "    }\n",
       "\n",
       "    .dataframe thead th {\n",
       "        text-align: right;\n",
       "    }\n",
       "</style>\n",
       "<table border=\"1\" class=\"dataframe\">\n",
       "  <thead>\n",
       "    <tr style=\"text-align: right;\">\n",
       "      <th></th>\n",
       "      <th>business_id</th>\n",
       "      <th>category</th>\n",
       "      <th>subcategory</th>\n",
       "    </tr>\n",
       "  </thead>\n",
       "  <tbody>\n",
       "    <tr>\n",
       "      <th>8</th>\n",
       "      <td>MTSW4McQd7CbVtyjqoe9mw</td>\n",
       "      <td>Restaurants</td>\n",
       "      <td>Hotels, restaurants and tourism</td>\n",
       "    </tr>\n",
       "    <tr>\n",
       "      <th>9</th>\n",
       "      <td>MTSW4McQd7CbVtyjqoe9mw</td>\n",
       "      <td>Food</td>\n",
       "      <td>Hotels, restaurants and tourism</td>\n",
       "    </tr>\n",
       "    <tr>\n",
       "      <th>11</th>\n",
       "      <td>mWMc6_wTdE0EUBKIGXDVfA</td>\n",
       "      <td>Brewpubs</td>\n",
       "      <td>Hotels, restaurants and tourism</td>\n",
       "    </tr>\n",
       "    <tr>\n",
       "      <th>12</th>\n",
       "      <td>mWMc6_wTdE0EUBKIGXDVfA</td>\n",
       "      <td>Breweries</td>\n",
       "      <td>Hotels, restaurants and tourism</td>\n",
       "    </tr>\n",
       "    <tr>\n",
       "      <th>13</th>\n",
       "      <td>mWMc6_wTdE0EUBKIGXDVfA</td>\n",
       "      <td>Food</td>\n",
       "      <td>Hotels, restaurants and tourism</td>\n",
       "    </tr>\n",
       "    <tr>\n",
       "      <th>...</th>\n",
       "      <td>...</td>\n",
       "      <td>...</td>\n",
       "      <td>...</td>\n",
       "    </tr>\n",
       "    <tr>\n",
       "      <th>321970</th>\n",
       "      <td>WnT9NIzQgLlILjPT0kEcsQ</td>\n",
       "      <td>Restaurants</td>\n",
       "      <td>Hotels, restaurants and tourism</td>\n",
       "    </tr>\n",
       "    <tr>\n",
       "      <th>321971</th>\n",
       "      <td>WnT9NIzQgLlILjPT0kEcsQ</td>\n",
       "      <td>Mexican</td>\n",
       "      <td>Hotels, restaurants and tourism</td>\n",
       "    </tr>\n",
       "    <tr>\n",
       "      <th>321978</th>\n",
       "      <td>2O2K6SXPWv56amqxCECd4w</td>\n",
       "      <td>Restaurants</td>\n",
       "      <td>Hotels, restaurants and tourism</td>\n",
       "    </tr>\n",
       "    <tr>\n",
       "      <th>321979</th>\n",
       "      <td>2O2K6SXPWv56amqxCECd4w</td>\n",
       "      <td>Food</td>\n",
       "      <td>Hotels, restaurants and tourism</td>\n",
       "    </tr>\n",
       "    <tr>\n",
       "      <th>321981</th>\n",
       "      <td>hn9Toz3s-Ei3uZPt7esExA</td>\n",
       "      <td>Restaurants</td>\n",
       "      <td>Hotels, restaurants and tourism</td>\n",
       "    </tr>\n",
       "  </tbody>\n",
       "</table>\n",
       "<p>179835 rows × 3 columns</p>\n",
       "</div>"
      ],
      "text/plain": [
       "                   business_id     category                      subcategory\n",
       "8       MTSW4McQd7CbVtyjqoe9mw  Restaurants  Hotels, restaurants and tourism\n",
       "9       MTSW4McQd7CbVtyjqoe9mw         Food  Hotels, restaurants and tourism\n",
       "11      mWMc6_wTdE0EUBKIGXDVfA     Brewpubs  Hotels, restaurants and tourism\n",
       "12      mWMc6_wTdE0EUBKIGXDVfA    Breweries  Hotels, restaurants and tourism\n",
       "13      mWMc6_wTdE0EUBKIGXDVfA         Food  Hotels, restaurants and tourism\n",
       "...                        ...          ...                              ...\n",
       "321970  WnT9NIzQgLlILjPT0kEcsQ  Restaurants  Hotels, restaurants and tourism\n",
       "321971  WnT9NIzQgLlILjPT0kEcsQ      Mexican  Hotels, restaurants and tourism\n",
       "321978  2O2K6SXPWv56amqxCECd4w  Restaurants  Hotels, restaurants and tourism\n",
       "321979  2O2K6SXPWv56amqxCECd4w         Food  Hotels, restaurants and tourism\n",
       "321981  hn9Toz3s-Ei3uZPt7esExA  Restaurants  Hotels, restaurants and tourism\n",
       "\n",
       "[179835 rows x 3 columns]"
      ]
     },
     "execution_count": 111,
     "metadata": {},
     "output_type": "execute_result"
    }
   ],
   "source": [
    "df_filtered"
   ]
  },
  {
   "cell_type": "code",
   "execution_count": null,
   "metadata": {},
   "outputs": [],
   "source": [
    "df_cat_etl.to_csv('etl_business.csv', index=False, encoding='utf-8') # Exporto la base limpia a excel, incluyendo ambas categorias. "
   ]
  }
 ],
 "metadata": {
  "kernelspec": {
   "display_name": "Python 3",
   "language": "python",
   "name": "python3"
  },
  "language_info": {
   "codemirror_mode": {
    "name": "ipython",
    "version": 3
   },
   "file_extension": ".py",
   "mimetype": "text/x-python",
   "name": "python",
   "nbconvert_exporter": "python",
   "pygments_lexer": "ipython3",
   "version": "3.11.9"
  }
 },
 "nbformat": 4,
 "nbformat_minor": 2
}
