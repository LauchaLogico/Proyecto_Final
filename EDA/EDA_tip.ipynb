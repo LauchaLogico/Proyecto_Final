{
 "cells": [
  {
   "cell_type": "code",
   "execution_count": 2,
   "id": "e745be6b-8200-4bcc-8185-b927ee98d2be",
   "metadata": {},
   "outputs": [],
   "source": [
    "import pandas as pd\n",
    "import matplotlib.pyplot as plt\n",
    "import seaborn as sns"
   ]
  },
  {
   "cell_type": "markdown",
   "id": "c8a94b8d-712a-41ab-97e1-673fc893df8f",
   "metadata": {},
   "source": [
    "Pasemos ahora al análisis del archivo tip.json. Al igual que antes cargamos el archivo y vemos las columnas que tienen para luego hacer el análisis EDA del mismo. "
   ]
  },
  {
   "cell_type": "code",
   "execution_count": 3,
   "id": "c0e90125-6ddc-463a-9db7-4c584898ca9f",
   "metadata": {},
   "outputs": [],
   "source": [
    "df_tip = pd.read_json(r'C:\\GitHub\\Bases\\Grupal_Henry\\Yelp\\Yelp-20250213T170414Z-003\\Yelp\\tip.json', lines=True)"
   ]
  },
  {
   "cell_type": "code",
   "execution_count": 4,
   "id": "98c26454-c735-47c7-8ec8-4a4e41565887",
   "metadata": {
    "editable": true,
    "slideshow": {
     "slide_type": ""
    },
    "tags": []
   },
   "outputs": [
    {
     "data": {
      "application/vnd.microsoft.datawrangler.viewer.v0+json": {
       "columns": [
        {
         "name": "index",
         "rawType": "int64",
         "type": "integer"
        },
        {
         "name": "user_id",
         "rawType": "object",
         "type": "string"
        },
        {
         "name": "business_id",
         "rawType": "object",
         "type": "string"
        },
        {
         "name": "text",
         "rawType": "object",
         "type": "string"
        },
        {
         "name": "date",
         "rawType": "datetime64[ns]",
         "type": "datetime"
        },
        {
         "name": "compliment_count",
         "rawType": "int64",
         "type": "integer"
        }
       ],
       "conversionMethod": "pd.DataFrame",
       "ref": "c351fea8-e5c4-4c7e-bec3-ef0943913af7",
       "rows": [
        [
         "0",
         "AGNUgVwnZUey3gcPCJ76iw",
         "3uLgwr0qeCNMjKenHJwPGQ",
         "Avengers time with the ladies.",
         "2012-05-18 02:17:21",
         "0"
        ],
        [
         "1",
         "NBN4MgHP9D3cw--SnauTkA",
         "QoezRbYQncpRqyrLH6Iqjg",
         "They have lots of good deserts and tasty cuban sandwiches",
         "2013-02-05 18:35:10",
         "0"
        ],
        [
         "2",
         "-copOvldyKh1qr-vzkDEvw",
         "MYoRNLb5chwjQe3c_k37Gg",
         "It's open even when you think it isn't",
         "2013-08-18 00:56:08",
         "0"
        ],
        [
         "3",
         "FjMQVZjSqY8syIO-53KFKw",
         "hV-bABTK-glh5wj31ps_Jw",
         "Very decent fried chicken",
         "2017-06-27 23:05:38",
         "0"
        ],
        [
         "4",
         "ld0AperBXk1h6UbqmM80zw",
         "_uN0OudeJ3Zl_tf6nxg5ww",
         "Appetizers.. platter special for lunch",
         "2012-10-06 19:43:09",
         "0"
        ]
       ],
       "shape": {
        "columns": 5,
        "rows": 5
       }
      },
      "text/html": [
       "<div>\n",
       "<style scoped>\n",
       "    .dataframe tbody tr th:only-of-type {\n",
       "        vertical-align: middle;\n",
       "    }\n",
       "\n",
       "    .dataframe tbody tr th {\n",
       "        vertical-align: top;\n",
       "    }\n",
       "\n",
       "    .dataframe thead th {\n",
       "        text-align: right;\n",
       "    }\n",
       "</style>\n",
       "<table border=\"1\" class=\"dataframe\">\n",
       "  <thead>\n",
       "    <tr style=\"text-align: right;\">\n",
       "      <th></th>\n",
       "      <th>user_id</th>\n",
       "      <th>business_id</th>\n",
       "      <th>text</th>\n",
       "      <th>date</th>\n",
       "      <th>compliment_count</th>\n",
       "    </tr>\n",
       "  </thead>\n",
       "  <tbody>\n",
       "    <tr>\n",
       "      <th>0</th>\n",
       "      <td>AGNUgVwnZUey3gcPCJ76iw</td>\n",
       "      <td>3uLgwr0qeCNMjKenHJwPGQ</td>\n",
       "      <td>Avengers time with the ladies.</td>\n",
       "      <td>2012-05-18 02:17:21</td>\n",
       "      <td>0</td>\n",
       "    </tr>\n",
       "    <tr>\n",
       "      <th>1</th>\n",
       "      <td>NBN4MgHP9D3cw--SnauTkA</td>\n",
       "      <td>QoezRbYQncpRqyrLH6Iqjg</td>\n",
       "      <td>They have lots of good deserts and tasty cuban...</td>\n",
       "      <td>2013-02-05 18:35:10</td>\n",
       "      <td>0</td>\n",
       "    </tr>\n",
       "    <tr>\n",
       "      <th>2</th>\n",
       "      <td>-copOvldyKh1qr-vzkDEvw</td>\n",
       "      <td>MYoRNLb5chwjQe3c_k37Gg</td>\n",
       "      <td>It's open even when you think it isn't</td>\n",
       "      <td>2013-08-18 00:56:08</td>\n",
       "      <td>0</td>\n",
       "    </tr>\n",
       "    <tr>\n",
       "      <th>3</th>\n",
       "      <td>FjMQVZjSqY8syIO-53KFKw</td>\n",
       "      <td>hV-bABTK-glh5wj31ps_Jw</td>\n",
       "      <td>Very decent fried chicken</td>\n",
       "      <td>2017-06-27 23:05:38</td>\n",
       "      <td>0</td>\n",
       "    </tr>\n",
       "    <tr>\n",
       "      <th>4</th>\n",
       "      <td>ld0AperBXk1h6UbqmM80zw</td>\n",
       "      <td>_uN0OudeJ3Zl_tf6nxg5ww</td>\n",
       "      <td>Appetizers.. platter special for lunch</td>\n",
       "      <td>2012-10-06 19:43:09</td>\n",
       "      <td>0</td>\n",
       "    </tr>\n",
       "  </tbody>\n",
       "</table>\n",
       "</div>"
      ],
      "text/plain": [
       "                  user_id             business_id  \\\n",
       "0  AGNUgVwnZUey3gcPCJ76iw  3uLgwr0qeCNMjKenHJwPGQ   \n",
       "1  NBN4MgHP9D3cw--SnauTkA  QoezRbYQncpRqyrLH6Iqjg   \n",
       "2  -copOvldyKh1qr-vzkDEvw  MYoRNLb5chwjQe3c_k37Gg   \n",
       "3  FjMQVZjSqY8syIO-53KFKw  hV-bABTK-glh5wj31ps_Jw   \n",
       "4  ld0AperBXk1h6UbqmM80zw  _uN0OudeJ3Zl_tf6nxg5ww   \n",
       "\n",
       "                                                text                date  \\\n",
       "0                     Avengers time with the ladies. 2012-05-18 02:17:21   \n",
       "1  They have lots of good deserts and tasty cuban... 2013-02-05 18:35:10   \n",
       "2             It's open even when you think it isn't 2013-08-18 00:56:08   \n",
       "3                          Very decent fried chicken 2017-06-27 23:05:38   \n",
       "4             Appetizers.. platter special for lunch 2012-10-06 19:43:09   \n",
       "\n",
       "   compliment_count  \n",
       "0                 0  \n",
       "1                 0  \n",
       "2                 0  \n",
       "3                 0  \n",
       "4                 0  "
      ]
     },
     "execution_count": 4,
     "metadata": {},
     "output_type": "execute_result"
    }
   ],
   "source": [
    "df_tip.head()"
   ]
  },
  {
   "cell_type": "code",
   "execution_count": 11,
   "id": "fdb5a771",
   "metadata": {},
   "outputs": [
    {
     "name": "stdout",
     "output_type": "stream",
     "text": [
      "<class 'pandas.core.frame.DataFrame'>\n",
      "RangeIndex: 908915 entries, 0 to 908914\n",
      "Data columns (total 5 columns):\n",
      " #   Column            Non-Null Count   Dtype         \n",
      "---  ------            --------------   -----         \n",
      " 0   user_id           908915 non-null  object        \n",
      " 1   business_id       908915 non-null  object        \n",
      " 2   text              908915 non-null  object        \n",
      " 3   date              908915 non-null  datetime64[ns]\n",
      " 4   compliment_count  908915 non-null  int64         \n",
      "dtypes: datetime64[ns](1), int64(1), object(3)\n",
      "memory usage: 34.7+ MB\n"
     ]
    }
   ],
   "source": [
    "df_tip.info()"
   ]
  },
  {
   "cell_type": "code",
   "execution_count": 5,
   "id": "447ff1ac-ef42-453b-9d6e-4501974945fc",
   "metadata": {},
   "outputs": [
    {
     "data": {
      "text/plain": [
       "(908915, 5)"
      ]
     },
     "execution_count": 5,
     "metadata": {},
     "output_type": "execute_result"
    }
   ],
   "source": [
    "df_tip.shape"
   ]
  },
  {
   "cell_type": "markdown",
   "id": "2c399fdf-36cb-45c5-9908-2f079e8358e4",
   "metadata": {
    "editable": true,
    "slideshow": {
     "slide_type": ""
    },
    "tags": []
   },
   "source": [
    "A diferencia del anterior este archivo cuenta con una columna de reseñas de los establecimientos por lo que será utilizado para un análisis de emociones para la API de recomendación. También hacer una recopilación de las reseñas positivas y negativas de cada comercio, y un análisis de los horarios en las cuales fueron hechas estas reseñas. Además, cuenta con una columna con la identificación del comercio que fue reseñado y del usuario que hizo la reseña. Vemos que cuenta con 908915 reseñas en total.\n",
    "Comenzando a hacer un pre análisis de los datos veamos cuentas reseña tiene cada comercio y cuantas reseñas hizo cada usuario. Para esto vamos a usar la funcion value_counts() que cuenta la frecuencia de cada valor único. Y la funcion reset_index() que convierte ese datos en una nueva columna. "
   ]
  },
  {
   "cell_type": "code",
   "execution_count": 6,
   "id": "65105e27-9ea9-4f8d-b614-dfaf069644df",
   "metadata": {},
   "outputs": [
    {
     "data": {
      "application/vnd.microsoft.datawrangler.viewer.v0+json": {
       "columns": [
        {
         "name": "index",
         "rawType": "int64",
         "type": "integer"
        },
        {
         "name": "user_id",
         "rawType": "object",
         "type": "string"
        },
        {
         "name": "count",
         "rawType": "int64",
         "type": "integer"
        }
       ],
       "conversionMethod": "pd.DataFrame",
       "ref": "4bb35f37-b55e-4cfb-9f2f-1ed40b9bc13a",
       "rows": [
        [
         "0",
         "fCvMnJU1Z-XhAjKg99wK3Q",
         "4071"
        ],
        [
         "1",
         "5Y5KbsI5buMcNh2hTFaRpA",
         "1385"
        ],
        [
         "2",
         "lMY8NBPyzlPbbu-KBYfD9A",
         "1373"
        ],
        [
         "3",
         "Rr4cLb6Go91FT134o6RsKg",
         "1230"
        ],
        [
         "4",
         "qjfMBIZpQT9DDtw_BWCopQ",
         "1230"
        ],
        [
         "5",
         "-G7Zkl1wIWBBmD0KRy_sCw",
         "1035"
        ],
        [
         "6",
         "sraTrYU-7q_bQ0TxQrLJvQ",
         "902"
        ],
        [
         "7",
         "I2XpWCHAom1JRyHXZQrnfg",
         "821"
        ],
        [
         "8",
         "xWmYN57XXZbg0LOK8WbbFQ",
         "813"
        ],
        [
         "9",
         "zYFGMy1_thjMnvQLX6JNBw",
         "782"
        ],
        [
         "10",
         "N9hqTPQu2bmI8c2Pj8F1ww",
         "767"
        ],
        [
         "11",
         "LkXNQQaIc5yrKu9Ap87RrA",
         "745"
        ],
        [
         "12",
         "bJ5FtCtZX3ZZacz2_2PJjA",
         "725"
        ],
        [
         "13",
         "AHRrG3T1gJpHvtpZ-K0G_g",
         "694"
        ],
        [
         "14",
         "DwaaafwryFbW7C4E1gU1AA",
         "688"
        ],
        [
         "15",
         "AaJ9d4OrFmgc4S_U2QiSZg",
         "679"
        ],
        [
         "16",
         "kKPbWlBjpSL3Qzvtn_AaPw",
         "655"
        ],
        [
         "17",
         "njcXFGqIuSp-_joP42MhxA",
         "638"
        ],
        [
         "18",
         "PT2kDWAaJ7Hubcgun5-nAA",
         "628"
        ],
        [
         "19",
         "__QLyY_W06q10ZfBQg7Dcg",
         "612"
        ],
        [
         "20",
         "VL12EhEdT4OWqGq0nIqkzw",
         "605"
        ],
        [
         "21",
         "KDewJBJknfWvQyHHFNbfdg",
         "604"
        ],
        [
         "22",
         "X1nvKXUJ5Lp3W9Oe-_JrMQ",
         "585"
        ],
        [
         "23",
         "lAW03ccfMEuRZiDqvVgc0w",
         "577"
        ],
        [
         "24",
         "trf3Qcz8qvCDKXiTgjUcEg",
         "576"
        ],
        [
         "25",
         "3YhG4h4Ok654iVfqdmkuRg",
         "524"
        ],
        [
         "26",
         "juigu8XxwzLAeikeBzULbg",
         "516"
        ],
        [
         "27",
         "iPkdNziqnhNukjnmsrSzmg",
         "513"
        ],
        [
         "28",
         "sLgekUp1uedWpnDsztvkVw",
         "511"
        ],
        [
         "29",
         "dqucQwA-CHWhUczwqIxKKg",
         "510"
        ],
        [
         "30",
         "Ase_kJIYuT6yOsqqVPuWUA",
         "500"
        ],
        [
         "31",
         "3QnoTcrxuafMCoTzW_AH7A",
         "493"
        ],
        [
         "32",
         "6jjHo9Lilv3kTy87pm2ycw",
         "470"
        ],
        [
         "33",
         "oHjUPJHEOGJsrPqu3B_MnA",
         "465"
        ],
        [
         "34",
         "_5swqa5xUdLar-Q-bBZSDA",
         "464"
        ],
        [
         "35",
         "8M4_nA8e9VacrirvCwrl8Q",
         "458"
        ],
        [
         "36",
         "e67fm29pOiQUcPSltCAHVA",
         "451"
        ],
        [
         "37",
         "M5HoGdy-mNOV7EHhxB9P9A",
         "440"
        ],
        [
         "38",
         "4DyMRBKrokax6d8LCI3GAw",
         "438"
        ],
        [
         "39",
         "bYENop4BuQepBjM1-BI3fA",
         "436"
        ],
        [
         "40",
         "tQ6HM9ldSsYbuPugPUr-gw",
         "425"
        ],
        [
         "41",
         "TUR21jv1-_GCwmeO3ouOBg",
         "422"
        ],
        [
         "42",
         "pV-zk27LoaY3sQiSr9kImg",
         "420"
        ],
        [
         "43",
         "1bjo-xG3tKF5rQjRx5zW4Q",
         "419"
        ],
        [
         "44",
         "0t-O5--DOfS55A620fO_GA",
         "418"
        ],
        [
         "45",
         "CfX4sTIFFNaRchNswqhVfg",
         "415"
        ],
        [
         "46",
         "CADhesj7J_-U9PKVpPGq4g",
         "411"
        ],
        [
         "47",
         "8wYt2OfdHwpe2eaP2Z3Qsw",
         "411"
        ],
        [
         "48",
         "ikWD8meznb14w9yNie3bwQ",
         "409"
        ],
        [
         "49",
         "lRNxYoD-bq4XVJTvmc_esw",
         "404"
        ]
       ],
       "shape": {
        "columns": 2,
        "rows": 301758
       }
      },
      "text/html": [
       "<div>\n",
       "<style scoped>\n",
       "    .dataframe tbody tr th:only-of-type {\n",
       "        vertical-align: middle;\n",
       "    }\n",
       "\n",
       "    .dataframe tbody tr th {\n",
       "        vertical-align: top;\n",
       "    }\n",
       "\n",
       "    .dataframe thead th {\n",
       "        text-align: right;\n",
       "    }\n",
       "</style>\n",
       "<table border=\"1\" class=\"dataframe\">\n",
       "  <thead>\n",
       "    <tr style=\"text-align: right;\">\n",
       "      <th></th>\n",
       "      <th>user_id</th>\n",
       "      <th>count</th>\n",
       "    </tr>\n",
       "  </thead>\n",
       "  <tbody>\n",
       "    <tr>\n",
       "      <th>0</th>\n",
       "      <td>fCvMnJU1Z-XhAjKg99wK3Q</td>\n",
       "      <td>4071</td>\n",
       "    </tr>\n",
       "    <tr>\n",
       "      <th>1</th>\n",
       "      <td>5Y5KbsI5buMcNh2hTFaRpA</td>\n",
       "      <td>1385</td>\n",
       "    </tr>\n",
       "    <tr>\n",
       "      <th>2</th>\n",
       "      <td>lMY8NBPyzlPbbu-KBYfD9A</td>\n",
       "      <td>1373</td>\n",
       "    </tr>\n",
       "    <tr>\n",
       "      <th>3</th>\n",
       "      <td>Rr4cLb6Go91FT134o6RsKg</td>\n",
       "      <td>1230</td>\n",
       "    </tr>\n",
       "    <tr>\n",
       "      <th>4</th>\n",
       "      <td>qjfMBIZpQT9DDtw_BWCopQ</td>\n",
       "      <td>1230</td>\n",
       "    </tr>\n",
       "    <tr>\n",
       "      <th>...</th>\n",
       "      <td>...</td>\n",
       "      <td>...</td>\n",
       "    </tr>\n",
       "    <tr>\n",
       "      <th>301753</th>\n",
       "      <td>M-q6aVScljiJ09vdIzDxWA</td>\n",
       "      <td>1</td>\n",
       "    </tr>\n",
       "    <tr>\n",
       "      <th>301754</th>\n",
       "      <td>X01tGj-AFQFr634yFAXF8w</td>\n",
       "      <td>1</td>\n",
       "    </tr>\n",
       "    <tr>\n",
       "      <th>301755</th>\n",
       "      <td>SyQjE8WDUItQM_Q_axaoXg</td>\n",
       "      <td>1</td>\n",
       "    </tr>\n",
       "    <tr>\n",
       "      <th>301756</th>\n",
       "      <td>gQ6w_mMSsLotwSm1LQjMfQ</td>\n",
       "      <td>1</td>\n",
       "    </tr>\n",
       "    <tr>\n",
       "      <th>301757</th>\n",
       "      <td>v48Spe6WEpqehsF2xQADpg</td>\n",
       "      <td>1</td>\n",
       "    </tr>\n",
       "  </tbody>\n",
       "</table>\n",
       "<p>301758 rows × 2 columns</p>\n",
       "</div>"
      ],
      "text/plain": [
       "                       user_id  count\n",
       "0       fCvMnJU1Z-XhAjKg99wK3Q   4071\n",
       "1       5Y5KbsI5buMcNh2hTFaRpA   1385\n",
       "2       lMY8NBPyzlPbbu-KBYfD9A   1373\n",
       "3       Rr4cLb6Go91FT134o6RsKg   1230\n",
       "4       qjfMBIZpQT9DDtw_BWCopQ   1230\n",
       "...                        ...    ...\n",
       "301753  M-q6aVScljiJ09vdIzDxWA      1\n",
       "301754  X01tGj-AFQFr634yFAXF8w      1\n",
       "301755  SyQjE8WDUItQM_Q_axaoXg      1\n",
       "301756  gQ6w_mMSsLotwSm1LQjMfQ      1\n",
       "301757  v48Spe6WEpqehsF2xQADpg      1\n",
       "\n",
       "[301758 rows x 2 columns]"
      ]
     },
     "execution_count": 6,
     "metadata": {},
     "output_type": "execute_result"
    }
   ],
   "source": [
    "df_tip[\"user_id\"].value_counts().reset_index()"
   ]
  },
  {
   "cell_type": "code",
   "execution_count": 7,
   "id": "7afa4f6c-2499-41dd-b23c-290c35df081c",
   "metadata": {
    "editable": true,
    "slideshow": {
     "slide_type": ""
    },
    "tags": []
   },
   "outputs": [
    {
     "data": {
      "application/vnd.microsoft.datawrangler.viewer.v0+json": {
       "columns": [
        {
         "name": "index",
         "rawType": "int64",
         "type": "integer"
        },
        {
         "name": "business_id",
         "rawType": "object",
         "type": "string"
        },
        {
         "name": "count",
         "rawType": "int64",
         "type": "integer"
        }
       ],
       "conversionMethod": "pd.DataFrame",
       "ref": "bac8ef00-88e6-4847-9b65-7a1a3663cf48",
       "rows": [
        [
         "0",
         "FEXhWNCMkv22qG04E83Qjg",
         "2571"
        ],
        [
         "1",
         "-QI8Qi8XWH3D8y8ethnajA",
         "1011"
        ],
        [
         "2",
         "_ab50qdWOk0DdB6XOrBitw",
         "932"
        ],
        [
         "3",
         "ytynqOUb3hjKeJfRj5Tshw",
         "827"
        ],
        [
         "4",
         "Eb1XmmLWyt_way5NNZ7-Pw",
         "826"
        ],
        [
         "5",
         "c_4c5rJECZSfNgFj7frwHQ",
         "750"
        ],
        [
         "6",
         "ac1AeYqs8Z4_e2X5M3if2A",
         "613"
        ],
        [
         "7",
         "GBTPC53ZrG1ZBY3DT8Mbcw",
         "608"
        ],
        [
         "8",
         "iSRTaT9WngzB8JJ2YKJUig",
         "606"
        ],
        [
         "9",
         "GXFMD0Z4jEVZBCsbPf4CTQ",
         "579"
        ],
        [
         "10",
         "I_3LMZ_1m2mzR0oLIOePIg",
         "577"
        ],
        [
         "11",
         "8O35ji_yOMVJmZ6bl96yhQ",
         "561"
        ],
        [
         "12",
         "QHWYlmVbLC3K6eglWoHVvA",
         "551"
        ],
        [
         "13",
         "oBNrLz4EDhiscSlbOl8uAw",
         "541"
        ],
        [
         "14",
         "gTC8IQ_i8zXytWSly3Ttvg",
         "532"
        ],
        [
         "15",
         "yPSejq3_erxo9zdVYTBnZA",
         "526"
        ],
        [
         "16",
         "4i4kmYm9wgSNyF1b6gKphg",
         "521"
        ],
        [
         "17",
         "VQcCL9PiNL_wkGf-uF3fjg",
         "512"
        ],
        [
         "18",
         "RQAF6a0akMiot5lZZnMNNw",
         "460"
        ],
        [
         "19",
         "VaO-VW3e1kARkU9bP1E7Fw",
         "441"
        ],
        [
         "20",
         "6a4gLLFSgr-Q6CZXDLzBGQ",
         "439"
        ],
        [
         "21",
         "6Ty-KKWq6hLZYW8DWEHYvg",
         "426"
        ],
        [
         "22",
         "QTbahs-GVuWYL5yfdjH34A",
         "424"
        ],
        [
         "23",
         "wz8ZPfySQczcPgSyd33-HQ",
         "414"
        ],
        [
         "24",
         "_C7QiQQc47AOEv4PE3Kong",
         "406"
        ],
        [
         "25",
         "PP3BBaVxZLcJU54uP_wL6Q",
         "400"
        ],
        [
         "26",
         "EagkHaaC-kUozD3MPzbRIw",
         "389"
        ],
        [
         "27",
         "J0joPXxmN-_9Lzafspqdbw",
         "387"
        ],
        [
         "28",
         "DcBLYSvOuWcNReolRVr12A",
         "384"
        ],
        [
         "29",
         "AGlh4ZDv6jnoiYfz7At9mw",
         "382"
        ],
        [
         "30",
         "1b5mnK8bMnnju_cvU65GqQ",
         "380"
        ],
        [
         "31",
         "VVH6k9-ycttH3TV_lk5WfQ",
         "375"
        ],
        [
         "32",
         "qclZoDz3sjT7v5xOSj5P2Q",
         "366"
        ],
        [
         "33",
         "TcNZXteosegb1RO4O5hREw",
         "362"
        ],
        [
         "34",
         "VAeEXLbEcI9Emt9KGYq9aA",
         "360"
        ],
        [
         "35",
         "RqW9S4WG9UYZHKhHRHXJZg",
         "359"
        ],
        [
         "36",
         "fCDMLD21ypv1XZ_EyafCkQ",
         "357"
        ],
        [
         "37",
         "XnQ84ylyAZwh-XfHGGNBbQ",
         "353"
        ],
        [
         "38",
         "DXDoh8MNrqjtXsZnkuk4hA",
         "353"
        ],
        [
         "39",
         "W72rYffSVg0pIaOpRgNniw",
         "348"
        ],
        [
         "40",
         "vN6v8m4DO45Z4pp8yxxF_w",
         "346"
        ],
        [
         "41",
         "qb28j-FNX1_6xm7u372TZA",
         "338"
        ],
        [
         "42",
         "U3grYFIeu6RgAAQgdriHww",
         "335"
        ],
        [
         "43",
         "Y2Pfil51rNvTd_lFHwzb_g",
         "335"
        ],
        [
         "44",
         "sTPueJEwcRDj7ZJmG7okYA",
         "334"
        ],
        [
         "45",
         "TW--ofc3fcj2LM1Y-UK5rQ",
         "334"
        ],
        [
         "46",
         "9PZxjhTIU7OgPIzuGi89Ew",
         "333"
        ],
        [
         "47",
         "RLlOK2fL6xU1sfIPiP2QBw",
         "329"
        ],
        [
         "48",
         "nRKndeZLQ3eDL10UMwS2rQ",
         "327"
        ],
        [
         "49",
         "PY9GRfzr4nTZeINf346QOw",
         "324"
        ]
       ],
       "shape": {
        "columns": 2,
        "rows": 106193
       }
      },
      "text/html": [
       "<div>\n",
       "<style scoped>\n",
       "    .dataframe tbody tr th:only-of-type {\n",
       "        vertical-align: middle;\n",
       "    }\n",
       "\n",
       "    .dataframe tbody tr th {\n",
       "        vertical-align: top;\n",
       "    }\n",
       "\n",
       "    .dataframe thead th {\n",
       "        text-align: right;\n",
       "    }\n",
       "</style>\n",
       "<table border=\"1\" class=\"dataframe\">\n",
       "  <thead>\n",
       "    <tr style=\"text-align: right;\">\n",
       "      <th></th>\n",
       "      <th>business_id</th>\n",
       "      <th>count</th>\n",
       "    </tr>\n",
       "  </thead>\n",
       "  <tbody>\n",
       "    <tr>\n",
       "      <th>0</th>\n",
       "      <td>FEXhWNCMkv22qG04E83Qjg</td>\n",
       "      <td>2571</td>\n",
       "    </tr>\n",
       "    <tr>\n",
       "      <th>1</th>\n",
       "      <td>-QI8Qi8XWH3D8y8ethnajA</td>\n",
       "      <td>1011</td>\n",
       "    </tr>\n",
       "    <tr>\n",
       "      <th>2</th>\n",
       "      <td>_ab50qdWOk0DdB6XOrBitw</td>\n",
       "      <td>932</td>\n",
       "    </tr>\n",
       "    <tr>\n",
       "      <th>3</th>\n",
       "      <td>ytynqOUb3hjKeJfRj5Tshw</td>\n",
       "      <td>827</td>\n",
       "    </tr>\n",
       "    <tr>\n",
       "      <th>4</th>\n",
       "      <td>Eb1XmmLWyt_way5NNZ7-Pw</td>\n",
       "      <td>826</td>\n",
       "    </tr>\n",
       "    <tr>\n",
       "      <th>...</th>\n",
       "      <td>...</td>\n",
       "      <td>...</td>\n",
       "    </tr>\n",
       "    <tr>\n",
       "      <th>106188</th>\n",
       "      <td>JnQd5ZdfFhIDDq1CTcSaaA</td>\n",
       "      <td>1</td>\n",
       "    </tr>\n",
       "    <tr>\n",
       "      <th>106189</th>\n",
       "      <td>xRaddmd73rkdLxUx7Grtcg</td>\n",
       "      <td>1</td>\n",
       "    </tr>\n",
       "    <tr>\n",
       "      <th>106190</th>\n",
       "      <td>JjRSWWCp8Yd2gnqIMY0DiA</td>\n",
       "      <td>1</td>\n",
       "    </tr>\n",
       "    <tr>\n",
       "      <th>106191</th>\n",
       "      <td>4D2NVjVRANfHaROxuqlkDA</td>\n",
       "      <td>1</td>\n",
       "    </tr>\n",
       "    <tr>\n",
       "      <th>106192</th>\n",
       "      <td>QqDz0hQ7iPpHJAd9JOTudQ</td>\n",
       "      <td>1</td>\n",
       "    </tr>\n",
       "  </tbody>\n",
       "</table>\n",
       "<p>106193 rows × 2 columns</p>\n",
       "</div>"
      ],
      "text/plain": [
       "                   business_id  count\n",
       "0       FEXhWNCMkv22qG04E83Qjg   2571\n",
       "1       -QI8Qi8XWH3D8y8ethnajA   1011\n",
       "2       _ab50qdWOk0DdB6XOrBitw    932\n",
       "3       ytynqOUb3hjKeJfRj5Tshw    827\n",
       "4       Eb1XmmLWyt_way5NNZ7-Pw    826\n",
       "...                        ...    ...\n",
       "106188  JnQd5ZdfFhIDDq1CTcSaaA      1\n",
       "106189  xRaddmd73rkdLxUx7Grtcg      1\n",
       "106190  JjRSWWCp8Yd2gnqIMY0DiA      1\n",
       "106191  4D2NVjVRANfHaROxuqlkDA      1\n",
       "106192  QqDz0hQ7iPpHJAd9JOTudQ      1\n",
       "\n",
       "[106193 rows x 2 columns]"
      ]
     },
     "execution_count": 7,
     "metadata": {},
     "output_type": "execute_result"
    }
   ],
   "source": [
    "df_tip[\"business_id\"].value_counts().reset_index()"
   ]
  },
  {
   "cell_type": "markdown",
   "id": "c0d4901e-c31b-4f2a-b51f-39fe8f833925",
   "metadata": {},
   "source": [
    "Observamos que hay reseñas de 301758 usuarios realizadas a 106193 comercios distintos. Este dato nos puede servir para determinar los usuarios que más reseñas hacen, junto con el dato de “compliment_count” podemos ver la popularidad del usuario. Además podemos determinar cuales son los comercios más reseñados y tratar de encontrar una justificación. \n",
    "Siguiendo con el EDA tradicional, hacemos un gráfico de frecuencias de las variables numéricas, vemos los tipos de datos y si tiene nulos, duplicados y datos faltantes. "
   ]
  },
  {
   "cell_type": "code",
   "execution_count": 8,
   "id": "70a126f4-1a00-43db-bf9d-144aea9e9a74",
   "metadata": {
    "editable": true,
    "slideshow": {
     "slide_type": ""
    },
    "tags": []
   },
   "outputs": [
    {
     "data": {
      "image/png": "[encoded data removed]",
      "text/plain": [
       "<Figure size 800x400 with 1 Axes>"
      ]
     },
     "metadata": {},
     "output_type": "display_data"
    }
   ],
   "source": [
    "        plt.figure(figsize=(8, 4))\n",
    "        sns.histplot(df_tip[\"compliment_count\"], kde=True)\n",
    "        plt.title(f'Distribución de compliment_count')\n",
    "        plt.show()"
   ]
  },
  {
   "cell_type": "code",
   "execution_count": 9,
   "id": "8fcefe78-df78-47dc-9fa7-7ffdfb9adde3",
   "metadata": {},
   "outputs": [
    {
     "name": "stdout",
     "output_type": "stream",
     "text": [
      "\n",
      "Resumen estadístico:\n",
      " count    908915.000000\n",
      "mean          0.012525\n",
      "std           0.120763\n",
      "min           0.000000\n",
      "25%           0.000000\n",
      "50%           0.000000\n",
      "75%           0.000000\n",
      "max           6.000000\n",
      "Name: compliment_count, dtype: float64\n"
     ]
    }
   ],
   "source": [
    "print(\"\\nResumen estadístico:\\n\", df_tip[\"compliment_count\"].describe(include='all'))"
   ]
  },
  {
   "cell_type": "markdown",
   "id": "b2b35aab-f39c-418b-a014-8fe5b998a3ef",
   "metadata": {},
   "source": [
    "Las estadisticas de la columna de \"cumpliment_count\" nos dice que  la mayot parte de las reseñas tiene 0 impresiones. Vemos que el cuartil 75 es 0 por lo que, por lo menos, el 75% de las reseñas tiene ese valor "
   ]
  },
  {
   "cell_type": "code",
   "execution_count": 10,
   "id": "6aedf907-db38-467c-aa5f-fa34e8c13e2f",
   "metadata": {},
   "outputs": [
    {
     "name": "stdout",
     "output_type": "stream",
     "text": [
      "\n",
      "1. Tipos de datos:\n",
      "user_id                     object\n",
      "business_id                 object\n",
      "text                        object\n",
      "date                datetime64[ns]\n",
      "compliment_count             int64\n",
      "dtype: object\n",
      "\n",
      "2. Valores faltantes:\n",
      "user_id             0\n",
      "business_id         0\n",
      "text                0\n",
      "date                0\n",
      "compliment_count    0\n",
      "dtype: int64\n",
      "\n",
      "3. Valores nulos:\n",
      "user_id             0\n",
      "business_id         0\n",
      "text                0\n",
      "date                0\n",
      "compliment_count    0\n",
      "dtype: int64\n",
      "\n",
      "4. Duplicados:\n",
      "Número de filas duplicadas: 67\n"
     ]
    }
   ],
   "source": [
    " # 1. Tipos de datos\n",
    "print(\"\\n1. Tipos de datos:\")\n",
    "print(df_tip.dtypes)\n",
    "    \n",
    "    # 2. Valores faltantes\n",
    "print(\"\\n2. Valores faltantes:\")\n",
    "print(df_tip.isnull().sum())\n",
    "    \n",
    "    # 3. Valores nulos\n",
    "print(\"\\n3. Valores nulos:\")\n",
    "print(df_tip.isna().sum())\n",
    "    \n",
    "    # 4. Duplicados\n",
    "print(\"\\n4. Duplicados:\")\n",
    "print(f\"Número de filas duplicadas: {df_tip.duplicated().sum()}\")\n",
    "    "
   ]
  },
  {
   "cell_type": "markdown",
   "id": "47bf9293-3f6f-4b10-9e1d-f4f64a3b56d7",
   "metadata": {},
   "source": [
    "borrar los duplicados"
   ]
  },
  {
   "cell_type": "markdown",
   "id": "e37ea874-0fa5-4222-92bd-aae9706f0177",
   "metadata": {},
   "source": [
    "Observamos que solo existen 67 filas duplicadas por lo que serán eliminadas del dataset para su uso "
   ]
  }
 ],
 "metadata": {
  "kernelspec": {
   "display_name": "Python 3",
   "language": "python",
   "name": "python3"
  },
  "language_info": {
   "codemirror_mode": {
    "name": "ipython",
    "version": 3
   },
   "file_extension": ".py",
   "mimetype": "text/x-python",
   "name": "python",
   "nbconvert_exporter": "python",
   "pygments_lexer": "ipython3",
   "version": "3.11.9"
  }
 },
 "nbformat": 4,
 "nbformat_minor": 5
}
