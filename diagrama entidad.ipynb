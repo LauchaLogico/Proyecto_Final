{
 "cells": [
  {
   "cell_type": "code",
   "execution_count": 1,
   "metadata": {},
   "outputs": [],
   "source": [
    "import pandas as pd"
   ]
  },
  {
   "cell_type": "code",
   "execution_count": 2,
   "metadata": {},
   "outputs": [],
   "source": [
    "df_checkin = pd.read_csv(r'C:\\GitHub\\Bases\\Grupal_Henry\\ETL\\etl_checkin.csv', encoding='utf-8')"
   ]
  },
  {
   "cell_type": "code",
   "execution_count": 3,
   "metadata": {},
   "outputs": [
    {
     "data": {
      "application/vnd.microsoft.datawrangler.viewer.v0+json": {
       "columns": [
        {
         "name": "index",
         "rawType": "int64",
         "type": "integer"
        },
        {
         "name": "business_id",
         "rawType": "object",
         "type": "string"
        },
        {
         "name": "date",
         "rawType": "object",
         "type": "string"
        },
        {
         "name": "year",
         "rawType": "int64",
         "type": "integer"
        },
        {
         "name": "month",
         "rawType": "int64",
         "type": "integer"
        },
        {
         "name": "subcategory",
         "rawType": "object",
         "type": "string"
        }
       ],
       "conversionMethod": "pd.DataFrame",
<<<<<<< HEAD
<<<<<<< HEAD
       "ref": "6243c624-0185-4649-9bd1-ac92d9f58d14",
=======
       "ref": "e438db33-26bd-438a-b89b-2bd0dc1b4c67",
>>>>>>> 75880be813dd9c7dd37c071b50ddc8b6a4de3e39
=======
       "ref": "e438db33-26bd-438a-b89b-2bd0dc1b4c67",
>>>>>>> 75880be813dd9c7dd37c071b50ddc8b6a4de3e39
       "rows": [
        [
         "0",
         "FEXhWNCMkv22qG04E83Qjg",
         "2010-01-16 07:39:02",
         "2010",
         "1",
         "Hotels, restaurants and tourism"
        ],
        [
         "1",
         "FEXhWNCMkv22qG04E83Qjg",
         "2010-01-16 07:39:02",
         "2010",
         "1",
         "Hotels, restaurants and tourism"
        ],
        [
         "2",
         "FEXhWNCMkv22qG04E83Qjg",
         "2010-01-16 07:39:02",
         "2010",
         "1",
         "Hotels, restaurants and tourism"
        ],
        [
         "3",
         "FEXhWNCMkv22qG04E83Qjg",
         "2010-01-16 07:39:02",
         "2010",
         "1",
         "Hotels, restaurants and tourism"
        ],
        [
         "4",
         "FEXhWNCMkv22qG04E83Qjg",
         "2010-01-17 14:04:18",
         "2010",
         "1",
         "Hotels, restaurants and tourism"
        ]
       ],
       "shape": {
        "columns": 5,
        "rows": 5
       }
      },
      "text/html": [
       "<div>\n",
       "<style scoped>\n",
       "    .dataframe tbody tr th:only-of-type {\n",
       "        vertical-align: middle;\n",
       "    }\n",
       "\n",
       "    .dataframe tbody tr th {\n",
       "        vertical-align: top;\n",
       "    }\n",
       "\n",
       "    .dataframe thead th {\n",
       "        text-align: right;\n",
       "    }\n",
       "</style>\n",
       "<table border=\"1\" class=\"dataframe\">\n",
       "  <thead>\n",
       "    <tr style=\"text-align: right;\">\n",
       "      <th></th>\n",
       "      <th>business_id</th>\n",
       "      <th>date</th>\n",
       "      <th>year</th>\n",
       "      <th>month</th>\n",
       "      <th>subcategory</th>\n",
       "    </tr>\n",
       "  </thead>\n",
       "  <tbody>\n",
       "    <tr>\n",
       "      <th>0</th>\n",
       "      <td>FEXhWNCMkv22qG04E83Qjg</td>\n",
       "      <td>2010-01-16 07:39:02</td>\n",
       "      <td>2010</td>\n",
       "      <td>1</td>\n",
       "      <td>Hotels, restaurants and tourism</td>\n",
       "    </tr>\n",
       "    <tr>\n",
       "      <th>1</th>\n",
       "      <td>FEXhWNCMkv22qG04E83Qjg</td>\n",
       "      <td>2010-01-16 07:39:02</td>\n",
       "      <td>2010</td>\n",
       "      <td>1</td>\n",
       "      <td>Hotels, restaurants and tourism</td>\n",
       "    </tr>\n",
       "    <tr>\n",
       "      <th>2</th>\n",
       "      <td>FEXhWNCMkv22qG04E83Qjg</td>\n",
       "      <td>2010-01-16 07:39:02</td>\n",
       "      <td>2010</td>\n",
       "      <td>1</td>\n",
       "      <td>Hotels, restaurants and tourism</td>\n",
       "    </tr>\n",
       "    <tr>\n",
       "      <th>3</th>\n",
       "      <td>FEXhWNCMkv22qG04E83Qjg</td>\n",
       "      <td>2010-01-16 07:39:02</td>\n",
       "      <td>2010</td>\n",
       "      <td>1</td>\n",
       "      <td>Hotels, restaurants and tourism</td>\n",
       "    </tr>\n",
       "    <tr>\n",
       "      <th>4</th>\n",
       "      <td>FEXhWNCMkv22qG04E83Qjg</td>\n",
       "      <td>2010-01-17 14:04:18</td>\n",
       "      <td>2010</td>\n",
       "      <td>1</td>\n",
       "      <td>Hotels, restaurants and tourism</td>\n",
       "    </tr>\n",
       "  </tbody>\n",
       "</table>\n",
       "</div>"
      ],
      "text/plain": [
       "              business_id                 date  year  month  \\\n",
       "0  FEXhWNCMkv22qG04E83Qjg  2010-01-16 07:39:02  2010      1   \n",
       "1  FEXhWNCMkv22qG04E83Qjg  2010-01-16 07:39:02  2010      1   \n",
       "2  FEXhWNCMkv22qG04E83Qjg  2010-01-16 07:39:02  2010      1   \n",
       "3  FEXhWNCMkv22qG04E83Qjg  2010-01-16 07:39:02  2010      1   \n",
       "4  FEXhWNCMkv22qG04E83Qjg  2010-01-17 14:04:18  2010      1   \n",
       "\n",
       "                       subcategory  \n",
       "0  Hotels, restaurants and tourism  \n",
       "1  Hotels, restaurants and tourism  \n",
       "2  Hotels, restaurants and tourism  \n",
       "3  Hotels, restaurants and tourism  \n",
       "4  Hotels, restaurants and tourism  "
      ]
     },
     "execution_count": 3,
     "metadata": {},
     "output_type": "execute_result"
    }
   ],
   "source": [
    "df_checkin.head()"
   ]
  },
  {
   "cell_type": "code",
   "execution_count": 4,
   "metadata": {},
   "outputs": [
    {
     "name": "stdout",
     "output_type": "stream",
     "text": [
      "<class 'pandas.core.frame.DataFrame'>\n",
      "RangeIndex: 31873593 entries, 0 to 31873592\n",
      "Data columns (total 5 columns):\n",
      " #   Column       Dtype \n",
      "---  ------       ----- \n",
      " 0   business_id  object\n",
      " 1   date         object\n",
      " 2   year         int64 \n",
      " 3   month        int64 \n",
      " 4   subcategory  object\n",
      "dtypes: int64(2), object(3)\n",
      "memory usage: 1.2+ GB\n"
     ]
    }
   ],
   "source": [
    "df_checkin.info()"
   ]
  },
  {
   "cell_type": "code",
<<<<<<< HEAD
<<<<<<< HEAD
   "execution_count": 5,
=======
   "execution_count": 6,
>>>>>>> 75880be813dd9c7dd37c071b50ddc8b6a4de3e39
=======
   "execution_count": 6,
>>>>>>> 75880be813dd9c7dd37c071b50ddc8b6a4de3e39
   "metadata": {},
   "outputs": [],
   "source": [
    "df_business = pd.read_csv(r'ELT\\etl_business.csv', encoding='utf-8')"
   ]
  },
  {
   "cell_type": "code",
<<<<<<< HEAD
<<<<<<< HEAD
   "execution_count": 6,
=======
   "execution_count": 7,
>>>>>>> 75880be813dd9c7dd37c071b50ddc8b6a4de3e39
=======
   "execution_count": 7,
>>>>>>> 75880be813dd9c7dd37c071b50ddc8b6a4de3e39
   "metadata": {},
   "outputs": [
    {
     "data": {
      "application/vnd.microsoft.datawrangler.viewer.v0+json": {
       "columns": [
        {
         "name": "index",
         "rawType": "int64",
         "type": "integer"
        },
        {
         "name": "business_id",
         "rawType": "object",
         "type": "string"
        },
        {
         "name": "category",
         "rawType": "object",
         "type": "string"
        },
        {
         "name": "subcategory",
         "rawType": "object",
         "type": "string"
        }
       ],
       "conversionMethod": "pd.DataFrame",
<<<<<<< HEAD
<<<<<<< HEAD
       "ref": "e4c5ea63-b909-447e-b72f-c54f6a5325fa",
=======
       "ref": "0d425d96-9884-4039-9447-248099777d39",
>>>>>>> 75880be813dd9c7dd37c071b50ddc8b6a4de3e39
=======
       "ref": "0d425d96-9884-4039-9447-248099777d39",
>>>>>>> 75880be813dd9c7dd37c071b50ddc8b6a4de3e39
       "rows": [
        [
         "0",
         "MTSW4McQd7CbVtyjqoe9mw",
         "Restaurants",
         "Hotels, restaurants and tourism"
        ],
        [
         "1",
         "MTSW4McQd7CbVtyjqoe9mw",
         "Food",
         "Hotels, restaurants and tourism"
        ],
        [
         "2",
         "mWMc6_wTdE0EUBKIGXDVfA",
         "Brewpubs",
         "Hotels, restaurants and tourism"
        ],
        [
         "3",
         "mWMc6_wTdE0EUBKIGXDVfA",
         "Breweries",
         "Hotels, restaurants and tourism"
        ],
        [
         "4",
         "mWMc6_wTdE0EUBKIGXDVfA",
         "Food",
         "Hotels, restaurants and tourism"
        ]
       ],
       "shape": {
        "columns": 3,
        "rows": 5
       }
      },
      "text/html": [
       "<div>\n",
       "<style scoped>\n",
       "    .dataframe tbody tr th:only-of-type {\n",
       "        vertical-align: middle;\n",
       "    }\n",
       "\n",
       "    .dataframe tbody tr th {\n",
       "        vertical-align: top;\n",
       "    }\n",
       "\n",
       "    .dataframe thead th {\n",
       "        text-align: right;\n",
       "    }\n",
       "</style>\n",
       "<table border=\"1\" class=\"dataframe\">\n",
       "  <thead>\n",
       "    <tr style=\"text-align: right;\">\n",
       "      <th></th>\n",
       "      <th>business_id</th>\n",
       "      <th>category</th>\n",
       "      <th>subcategory</th>\n",
       "    </tr>\n",
       "  </thead>\n",
       "  <tbody>\n",
       "    <tr>\n",
       "      <th>0</th>\n",
       "      <td>MTSW4McQd7CbVtyjqoe9mw</td>\n",
       "      <td>Restaurants</td>\n",
       "      <td>Hotels, restaurants and tourism</td>\n",
       "    </tr>\n",
       "    <tr>\n",
       "      <th>1</th>\n",
       "      <td>MTSW4McQd7CbVtyjqoe9mw</td>\n",
       "      <td>Food</td>\n",
       "      <td>Hotels, restaurants and tourism</td>\n",
       "    </tr>\n",
       "    <tr>\n",
       "      <th>2</th>\n",
       "      <td>mWMc6_wTdE0EUBKIGXDVfA</td>\n",
       "      <td>Brewpubs</td>\n",
       "      <td>Hotels, restaurants and tourism</td>\n",
       "    </tr>\n",
       "    <tr>\n",
       "      <th>3</th>\n",
       "      <td>mWMc6_wTdE0EUBKIGXDVfA</td>\n",
       "      <td>Breweries</td>\n",
       "      <td>Hotels, restaurants and tourism</td>\n",
       "    </tr>\n",
       "    <tr>\n",
       "      <th>4</th>\n",
       "      <td>mWMc6_wTdE0EUBKIGXDVfA</td>\n",
       "      <td>Food</td>\n",
       "      <td>Hotels, restaurants and tourism</td>\n",
       "    </tr>\n",
       "  </tbody>\n",
       "</table>\n",
       "</div>"
      ],
      "text/plain": [
       "              business_id     category                      subcategory\n",
       "0  MTSW4McQd7CbVtyjqoe9mw  Restaurants  Hotels, restaurants and tourism\n",
       "1  MTSW4McQd7CbVtyjqoe9mw         Food  Hotels, restaurants and tourism\n",
       "2  mWMc6_wTdE0EUBKIGXDVfA     Brewpubs  Hotels, restaurants and tourism\n",
       "3  mWMc6_wTdE0EUBKIGXDVfA    Breweries  Hotels, restaurants and tourism\n",
       "4  mWMc6_wTdE0EUBKIGXDVfA         Food  Hotels, restaurants and tourism"
      ]
     },
<<<<<<< HEAD
<<<<<<< HEAD
     "execution_count": 6,
=======
     "execution_count": 7,
>>>>>>> 75880be813dd9c7dd37c071b50ddc8b6a4de3e39
=======
     "execution_count": 7,
>>>>>>> 75880be813dd9c7dd37c071b50ddc8b6a4de3e39
     "metadata": {},
     "output_type": "execute_result"
    }
   ],
   "source": [
    "df_business.head()"
   ]
  },
  {
   "cell_type": "code",
<<<<<<< HEAD
<<<<<<< HEAD
   "execution_count": 7,
=======
   "execution_count": 8,
>>>>>>> 75880be813dd9c7dd37c071b50ddc8b6a4de3e39
=======
   "execution_count": 8,
>>>>>>> 75880be813dd9c7dd37c071b50ddc8b6a4de3e39
   "metadata": {},
   "outputs": [
    {
     "name": "stdout",
     "output_type": "stream",
     "text": [
      "<class 'pandas.core.frame.DataFrame'>\n",
      "RangeIndex: 179835 entries, 0 to 179834\n",
      "Data columns (total 3 columns):\n",
      " #   Column       Non-Null Count   Dtype \n",
      "---  ------       --------------   ----- \n",
      " 0   business_id  179835 non-null  object\n",
      " 1   category     179835 non-null  object\n",
      " 2   subcategory  179835 non-null  object\n",
      "dtypes: object(3)\n",
      "memory usage: 4.1+ MB\n"
     ]
    }
   ],
   "source": [
    "df_business.info()"
   ]
  },
  {
   "cell_type": "code",
<<<<<<< HEAD
<<<<<<< HEAD
   "execution_count": 24,
=======
   "execution_count": 9,
>>>>>>> 75880be813dd9c7dd37c071b50ddc8b6a4de3e39
=======
   "execution_count": 9,
>>>>>>> 75880be813dd9c7dd37c071b50ddc8b6a4de3e39
   "metadata": {},
   "outputs": [],
   "source": [
    "df_categories = pd.read_csv(r'ELT\\etl_categories.csv', encoding='utf-8')"
   ]
  },
  {
   "cell_type": "code",
<<<<<<< HEAD
<<<<<<< HEAD
   "execution_count": 9,
=======
   "execution_count": 14,
>>>>>>> 75880be813dd9c7dd37c071b50ddc8b6a4de3e39
=======
   "execution_count": 14,
>>>>>>> 75880be813dd9c7dd37c071b50ddc8b6a4de3e39
   "metadata": {},
   "outputs": [
    {
     "data": {
      "application/vnd.microsoft.datawrangler.viewer.v0+json": {
       "columns": [
        {
         "name": "index",
         "rawType": "int64",
         "type": "integer"
        },
        {
         "name": "business_id",
         "rawType": "object",
         "type": "string"
        },
        {
         "name": "category",
         "rawType": "object",
         "type": "string"
        },
        {
         "name": "subcategory",
         "rawType": "object",
         "type": "string"
        }
       ],
       "conversionMethod": "pd.DataFrame",
<<<<<<< HEAD
<<<<<<< HEAD
       "ref": "2fa82c96-8f96-4826-b156-8b1ca9757d30",
=======
       "ref": "2c39227a-fc22-4d32-9e1e-3b3889270255",
>>>>>>> 75880be813dd9c7dd37c071b50ddc8b6a4de3e39
=======
       "ref": "2c39227a-fc22-4d32-9e1e-3b3889270255",
>>>>>>> 75880be813dd9c7dd37c071b50ddc8b6a4de3e39
       "rows": [
        [
         "0",
         "Pns2l4eNsfO8kk83dixA6A",
         "Doctors",
         "Other categories"
        ],
        [
         "1",
         "Pns2l4eNsfO8kk83dixA6A",
         "Naturopathic/Holistic",
         "Other categories"
        ],
        [
         "2",
         "Pns2l4eNsfO8kk83dixA6A",
         "Acupuncture",
         "Other categories"
        ],
        [
         "3",
         "Pns2l4eNsfO8kk83dixA6A",
         "Nutritionists",
         "Other categories"
        ],
        [
         "4",
         "mpf3x-BjTdTEA3yCZrAYPw",
         "Notaries",
         "Other categories"
        ]
       ],
       "shape": {
        "columns": 3,
        "rows": 5
       }
      },
      "text/html": [
       "<div>\n",
       "<style scoped>\n",
       "    .dataframe tbody tr th:only-of-type {\n",
       "        vertical-align: middle;\n",
       "    }\n",
       "\n",
       "    .dataframe tbody tr th {\n",
       "        vertical-align: top;\n",
       "    }\n",
       "\n",
       "    .dataframe thead th {\n",
       "        text-align: right;\n",
       "    }\n",
       "</style>\n",
       "<table border=\"1\" class=\"dataframe\">\n",
       "  <thead>\n",
       "    <tr style=\"text-align: right;\">\n",
       "      <th></th>\n",
       "      <th>business_id</th>\n",
       "      <th>category</th>\n",
       "      <th>subcategory</th>\n",
       "    </tr>\n",
       "  </thead>\n",
       "  <tbody>\n",
       "    <tr>\n",
       "      <th>0</th>\n",
       "      <td>Pns2l4eNsfO8kk83dixA6A</td>\n",
       "      <td>Doctors</td>\n",
       "      <td>Other categories</td>\n",
       "    </tr>\n",
       "    <tr>\n",
       "      <th>1</th>\n",
       "      <td>Pns2l4eNsfO8kk83dixA6A</td>\n",
       "      <td>Naturopathic/Holistic</td>\n",
       "      <td>Other categories</td>\n",
       "    </tr>\n",
       "    <tr>\n",
       "      <th>2</th>\n",
       "      <td>Pns2l4eNsfO8kk83dixA6A</td>\n",
       "      <td>Acupuncture</td>\n",
       "      <td>Other categories</td>\n",
       "    </tr>\n",
       "    <tr>\n",
       "      <th>3</th>\n",
       "      <td>Pns2l4eNsfO8kk83dixA6A</td>\n",
       "      <td>Nutritionists</td>\n",
       "      <td>Other categories</td>\n",
       "    </tr>\n",
       "    <tr>\n",
       "      <th>4</th>\n",
       "      <td>mpf3x-BjTdTEA3yCZrAYPw</td>\n",
       "      <td>Notaries</td>\n",
       "      <td>Other categories</td>\n",
       "    </tr>\n",
       "  </tbody>\n",
       "</table>\n",
       "</div>"
      ],
      "text/plain": [
       "              business_id               category       subcategory\n",
       "0  Pns2l4eNsfO8kk83dixA6A                Doctors  Other categories\n",
       "1  Pns2l4eNsfO8kk83dixA6A  Naturopathic/Holistic  Other categories\n",
       "2  Pns2l4eNsfO8kk83dixA6A            Acupuncture  Other categories\n",
       "3  Pns2l4eNsfO8kk83dixA6A          Nutritionists  Other categories\n",
       "4  mpf3x-BjTdTEA3yCZrAYPw               Notaries  Other categories"
      ]
     },
<<<<<<< HEAD
<<<<<<< HEAD
     "execution_count": 9,
=======
     "execution_count": 14,
>>>>>>> 75880be813dd9c7dd37c071b50ddc8b6a4de3e39
=======
     "execution_count": 14,
>>>>>>> 75880be813dd9c7dd37c071b50ddc8b6a4de3e39
     "metadata": {},
     "output_type": "execute_result"
    }
   ],
   "source": [
    "df_categories.head()"
   ]
  },
  {
   "cell_type": "code",
<<<<<<< HEAD
<<<<<<< HEAD
   "execution_count": 10,
=======
   "execution_count": 15,
>>>>>>> 75880be813dd9c7dd37c071b50ddc8b6a4de3e39
=======
   "execution_count": 15,
>>>>>>> 75880be813dd9c7dd37c071b50ddc8b6a4de3e39
   "metadata": {},
   "outputs": [
    {
     "name": "stdout",
     "output_type": "stream",
     "text": [
      "<class 'pandas.core.frame.DataFrame'>\n",
      "RangeIndex: 321993 entries, 0 to 321992\n",
      "Data columns (total 3 columns):\n",
      " #   Column       Non-Null Count   Dtype \n",
      "---  ------       --------------   ----- \n",
      " 0   business_id  321993 non-null  object\n",
      " 1   category     321993 non-null  object\n",
      " 2   subcategory  321993 non-null  object\n",
      "dtypes: object(3)\n",
      "memory usage: 7.4+ MB\n"
     ]
    }
   ],
   "source": [
    "df_categories.info()"
   ]
  },
  {
   "cell_type": "code",
<<<<<<< HEAD
<<<<<<< HEAD
   "execution_count": null,
=======
   "execution_count": 12,
>>>>>>> 75880be813dd9c7dd37c071b50ddc8b6a4de3e39
=======
   "execution_count": 12,
>>>>>>> 75880be813dd9c7dd37c071b50ddc8b6a4de3e39
   "metadata": {},
   "outputs": [],
   "source": [
    "df_user = pd.read_parquet(r'C:\\GitHub\\Bases\\Grupal_Henry\\Yelp\\user-001.parquet')"
   ]
  },
  {
   "cell_type": "code",
<<<<<<< HEAD
<<<<<<< HEAD
   "execution_count": 12,
=======
   "execution_count": 13,
>>>>>>> 75880be813dd9c7dd37c071b50ddc8b6a4de3e39
=======
   "execution_count": 13,
>>>>>>> 75880be813dd9c7dd37c071b50ddc8b6a4de3e39
   "metadata": {},
   "outputs": [
    {
     "name": "stdout",
     "output_type": "stream",
     "text": [
      "<class 'pandas.core.frame.DataFrame'>\n",
      "RangeIndex: 2105597 entries, 0 to 2105596\n",
      "Data columns (total 22 columns):\n",
      " #   Column              Dtype  \n",
      "---  ------              -----  \n",
      " 0   user_id             object \n",
      " 1   name                object \n",
      " 2   review_count        int64  \n",
      " 3   yelping_since       object \n",
      " 4   useful              int64  \n",
      " 5   funny               int64  \n",
      " 6   cool                int64  \n",
      " 7   elite               object \n",
      " 8   friends             object \n",
      " 9   fans                int64  \n",
      " 10  average_stars       float64\n",
      " 11  compliment_hot      int64  \n",
      " 12  compliment_more     int64  \n",
      " 13  compliment_profile  int64  \n",
      " 14  compliment_cute     int64  \n",
      " 15  compliment_list     int64  \n",
      " 16  compliment_note     int64  \n",
      " 17  compliment_plain    int64  \n",
      " 18  compliment_cool     int64  \n",
      " 19  compliment_funny    int64  \n",
      " 20  compliment_writer   int64  \n",
      " 21  compliment_photos   int64  \n",
      "dtypes: float64(1), int64(16), object(5)\n",
      "memory usage: 353.4+ MB\n"
     ]
    }
   ],
   "source": [
    "df_user.info()"
   ]
  },
  {
   "cell_type": "code",
<<<<<<< HEAD
<<<<<<< HEAD
   "execution_count": 19,
   "metadata": {},
   "outputs": [],
   "source": [
    "df_review = pd.read_csv(r'C:\\GitHub\\Bases\\Grupal_Henry\\ETL\\etl_review.csv', encoding='utf-8')"
   ]
  },
  {
   "cell_type": "code",
   "execution_count": 20,
   "metadata": {},
   "outputs": [
    {
     "name": "stdout",
     "output_type": "stream",
     "text": [
      "<class 'pandas.core.frame.DataFrame'>\n",
      "RangeIndex: 6986504 entries, 0 to 6986503\n",
      "Data columns (total 6 columns):\n",
      " #   Column       Dtype  \n",
      "---  ------       -----  \n",
      " 0   user_id      object \n",
      " 1   business_id  object \n",
      " 2   stars        float64\n",
      " 3   text         object \n",
      " 4   año          int64  \n",
      " 5   mes          int64  \n",
      "dtypes: float64(1), int64(2), object(3)\n",
      "memory usage: 319.8+ MB\n"
     ]
    }
   ],
   "source": [
    "df_review.info()"
   ]
  },
  {
   "cell_type": "code",
   "execution_count": 23,
   "metadata": {},
   "outputs": [
    {
     "data": {
      "application/vnd.microsoft.datawrangler.viewer.v0+json": {
       "columns": [
        {
         "name": "index",
         "rawType": "int64",
         "type": "integer"
        },
        {
         "name": "user_id",
         "rawType": "object",
         "type": "string"
        },
        {
         "name": "business_id",
         "rawType": "object",
         "type": "string"
        },
        {
         "name": "stars",
         "rawType": "float64",
         "type": "float"
        },
        {
         "name": "text",
         "rawType": "object",
         "type": "string"
        },
        {
         "name": "año",
         "rawType": "int64",
         "type": "integer"
        },
        {
         "name": "mes",
         "rawType": "int64",
         "type": "integer"
        }
       ],
       "conversionMethod": "pd.DataFrame",
       "ref": "d889f77f-d01e-4880-b082-b3a838671d8c",
       "rows": [
        [
         "0",
         "mh_-eMZ6K5RLWhZyISBhwA",
         "XQfwVwDr-v0ZS3_CbbE5Xw",
         "3.0",
         "If you decide to eat here, just be aware it is going to take about 2 hours from beginning to end. We have tried it multiple times, because I want to like it! I have been to it's other locations in NJ and never had a bad experience. \n\nThe food is good, but it takes a very long time to come out. The waitstaff is very young, but usually pleasant. We have just had too many experiences where we spent way too long waiting. We usually opt for another diner or restaurant on the weekends, in order to be done quicker.",
         "2018",
         "7"
        ],
        [
         "1",
         "OyoGAe7OKpv6SyGZT5g77Q",
         "7ATYjTIgM3jUlt4UM3IypQ",
         "5.0",
         "I've taken a lot of spin classes over the years, and nothing compares to the classes at Body Cycle. From the nice, clean space and amazing bikes, to the welcoming and motivating instructors, every class is a top notch work out.\n\nFor anyone who struggles to fit workouts in, the online scheduling system makes it easy to plan ahead (and there's no need to line up way in advanced like many gyms make you do).\n\nThere is no way I can write this review without giving Russell, the owner of Body Cycle, a shout out. Russell's passion for fitness and cycling is so evident, as is his desire for all of his clients to succeed. He is always dropping in to classes to check in/provide encouragement, and is open to ideas and recommendations from anyone. Russell always wears a smile on his face, even when he's kicking your butt in class!",
         "2012",
         "1"
        ],
        [
         "2",
         "8g_iMtfSiwikVnbP2etR0A",
         "YjUWPpI6HXG530lwP-fb2A",
         "3.0",
         "Family diner. Had the buffet. Eclectic assortment: a large chicken leg, fried jalape√±o, tamale, two rolled grape leaves, fresh melon. All good. Lots of Mexican choices there. Also has a menu with breakfast served all day long. Friendly, attentive staff. Good place for a casual relaxed meal with no expectations. Next to the Clarion Hotel.",
         "2014",
         "2"
        ],
        [
         "3",
         "_7bHUi9Uuf5__HHc_Q8guQ",
         "kxX2SOes4o-D3ZQBkiMRfA",
         "5.0",
         "Wow!  Yummy, different,  delicious.   Our favorite is the lamb curry and korma.  With 10 different kinds of naan!!!  Don't let the outside deter you (because we almost changed our minds)...go in and try something new!   You'll be glad you did!",
         "2015",
         "1"
        ],
        [
         "4",
         "bcjbaE6dDog4jkNY91ncLQ",
         "e4Vwtrqf-wpJfwesgvdgxQ",
         "4.0",
         "Cute interior and owner (?) gave us tour of upcoming patio/rooftop area which will be great on beautiful days like today. Cheese curds were very good and very filling. Really like that sandwiches come w salad, esp after eating too many curds! Had the onion, gruyere, tomato sandwich. Wasn't too much cheese which I liked. Needed something else...pepper jelly maybe. Would like to see more menu options added such as salads w fun cheeses. Lots of beer and wine as well as limited cocktails. Next time I will try one of the draft wines.",
         "2017",
         "1"
        ]
       ],
       "shape": {
        "columns": 6,
        "rows": 5
       }
      },
      "text/html": [
       "<div>\n",
       "<style scoped>\n",
       "    .dataframe tbody tr th:only-of-type {\n",
       "        vertical-align: middle;\n",
       "    }\n",
       "\n",
       "    .dataframe tbody tr th {\n",
       "        vertical-align: top;\n",
       "    }\n",
       "\n",
       "    .dataframe thead th {\n",
       "        text-align: right;\n",
       "    }\n",
       "</style>\n",
       "<table border=\"1\" class=\"dataframe\">\n",
       "  <thead>\n",
       "    <tr style=\"text-align: right;\">\n",
       "      <th></th>\n",
       "      <th>user_id</th>\n",
       "      <th>business_id</th>\n",
       "      <th>stars</th>\n",
       "      <th>text</th>\n",
       "      <th>año</th>\n",
       "      <th>mes</th>\n",
       "    </tr>\n",
       "  </thead>\n",
       "  <tbody>\n",
       "    <tr>\n",
       "      <th>0</th>\n",
       "      <td>mh_-eMZ6K5RLWhZyISBhwA</td>\n",
       "      <td>XQfwVwDr-v0ZS3_CbbE5Xw</td>\n",
       "      <td>3.0</td>\n",
       "      <td>If you decide to eat here, just be aware it is...</td>\n",
       "      <td>2018</td>\n",
       "      <td>7</td>\n",
       "    </tr>\n",
       "    <tr>\n",
       "      <th>1</th>\n",
       "      <td>OyoGAe7OKpv6SyGZT5g77Q</td>\n",
       "      <td>7ATYjTIgM3jUlt4UM3IypQ</td>\n",
       "      <td>5.0</td>\n",
       "      <td>I've taken a lot of spin classes over the year...</td>\n",
       "      <td>2012</td>\n",
       "      <td>1</td>\n",
       "    </tr>\n",
       "    <tr>\n",
       "      <th>2</th>\n",
       "      <td>8g_iMtfSiwikVnbP2etR0A</td>\n",
       "      <td>YjUWPpI6HXG530lwP-fb2A</td>\n",
       "      <td>3.0</td>\n",
       "      <td>Family diner. Had the buffet. Eclectic assortm...</td>\n",
       "      <td>2014</td>\n",
       "      <td>2</td>\n",
       "    </tr>\n",
       "    <tr>\n",
       "      <th>3</th>\n",
       "      <td>_7bHUi9Uuf5__HHc_Q8guQ</td>\n",
       "      <td>kxX2SOes4o-D3ZQBkiMRfA</td>\n",
       "      <td>5.0</td>\n",
       "      <td>Wow!  Yummy, different,  delicious.   Our favo...</td>\n",
       "      <td>2015</td>\n",
       "      <td>1</td>\n",
       "    </tr>\n",
       "    <tr>\n",
       "      <th>4</th>\n",
       "      <td>bcjbaE6dDog4jkNY91ncLQ</td>\n",
       "      <td>e4Vwtrqf-wpJfwesgvdgxQ</td>\n",
       "      <td>4.0</td>\n",
       "      <td>Cute interior and owner (?) gave us tour of up...</td>\n",
       "      <td>2017</td>\n",
       "      <td>1</td>\n",
       "    </tr>\n",
       "  </tbody>\n",
       "</table>\n",
       "</div>"
      ],
      "text/plain": [
       "                  user_id             business_id  stars  \\\n",
       "0  mh_-eMZ6K5RLWhZyISBhwA  XQfwVwDr-v0ZS3_CbbE5Xw    3.0   \n",
       "1  OyoGAe7OKpv6SyGZT5g77Q  7ATYjTIgM3jUlt4UM3IypQ    5.0   \n",
       "2  8g_iMtfSiwikVnbP2etR0A  YjUWPpI6HXG530lwP-fb2A    3.0   \n",
       "3  _7bHUi9Uuf5__HHc_Q8guQ  kxX2SOes4o-D3ZQBkiMRfA    5.0   \n",
       "4  bcjbaE6dDog4jkNY91ncLQ  e4Vwtrqf-wpJfwesgvdgxQ    4.0   \n",
       "\n",
       "                                                text   año  mes  \n",
       "0  If you decide to eat here, just be aware it is...  2018    7  \n",
       "1  I've taken a lot of spin classes over the year...  2012    1  \n",
       "2  Family diner. Had the buffet. Eclectic assortm...  2014    2  \n",
       "3  Wow!  Yummy, different,  delicious.   Our favo...  2015    1  \n",
       "4  Cute interior and owner (?) gave us tour of up...  2017    1  "
      ]
     },
     "execution_count": 23,
     "metadata": {},
     "output_type": "execute_result"
    }
   ],
   "source": [
    "df_review.head()"
   ]
  },
  {
   "cell_type": "code",
   "execution_count": 13,
=======
   "execution_count": 4,
>>>>>>> 75880be813dd9c7dd37c071b50ddc8b6a4de3e39
=======
   "execution_count": 4,
>>>>>>> 75880be813dd9c7dd37c071b50ddc8b6a4de3e39
   "metadata": {},
   "outputs": [],
   "source": [
    "from graphviz import Digraph"
   ]
  },
  {
   "cell_type": "code",
<<<<<<< HEAD
<<<<<<< HEAD
   "execution_count": 21,
   "metadata": {},
   "outputs": [
    {
     "data": {
      "text/plain": [
       "'DER_Yelp.png'"
      ]
     },
     "execution_count": 21,
     "metadata": {},
     "output_type": "execute_result"
=======
=======
>>>>>>> 75880be813dd9c7dd37c071b50ddc8b6a4de3e39
   "execution_count": 5,
   "metadata": {},
   "outputs": [
    {
     "ename": "ExecutableNotFound",
     "evalue": "failed to execute WindowsPath('dot'), make sure the Graphviz executables are on your systems' PATH",
     "output_type": "error",
     "traceback": [
      "\u001b[1;31m---------------------------------------------------------------------------\u001b[0m",
      "\u001b[1;31mFileNotFoundError\u001b[0m                         Traceback (most recent call last)",
      "File \u001b[1;32m~\\AppData\\Local\\Packages\\PythonSoftwareFoundation.Python.3.11_qbz5n2kfra8p0\\LocalCache\\local-packages\\Python311\\site-packages\\graphviz\\backend\\execute.py:78\u001b[0m, in \u001b[0;36mrun_check\u001b[1;34m(cmd, input_lines, encoding, quiet, **kwargs)\u001b[0m\n\u001b[0;32m     77\u001b[0m     \u001b[38;5;28;01melse\u001b[39;00m:\n\u001b[1;32m---> 78\u001b[0m         proc \u001b[38;5;241m=\u001b[39m \u001b[43msubprocess\u001b[49m\u001b[38;5;241;43m.\u001b[39;49m\u001b[43mrun\u001b[49m\u001b[43m(\u001b[49m\u001b[43mcmd\u001b[49m\u001b[43m,\u001b[49m\u001b[43m \u001b[49m\u001b[38;5;241;43m*\u001b[39;49m\u001b[38;5;241;43m*\u001b[39;49m\u001b[43mkwargs\u001b[49m\u001b[43m)\u001b[49m\n\u001b[0;32m     79\u001b[0m \u001b[38;5;28;01mexcept\u001b[39;00m \u001b[38;5;167;01mOSError\u001b[39;00m \u001b[38;5;28;01mas\u001b[39;00m e:\n",
      "File \u001b[1;32mC:\\Program Files\\WindowsApps\\PythonSoftwareFoundation.Python.3.11_3.11.2544.0_x64__qbz5n2kfra8p0\\Lib\\subprocess.py:548\u001b[0m, in \u001b[0;36mrun\u001b[1;34m(input, capture_output, timeout, check, *popenargs, **kwargs)\u001b[0m\n\u001b[0;32m    546\u001b[0m     kwargs[\u001b[38;5;124m'\u001b[39m\u001b[38;5;124mstderr\u001b[39m\u001b[38;5;124m'\u001b[39m] \u001b[38;5;241m=\u001b[39m PIPE\n\u001b[1;32m--> 548\u001b[0m \u001b[38;5;28;01mwith\u001b[39;00m \u001b[43mPopen\u001b[49m\u001b[43m(\u001b[49m\u001b[38;5;241;43m*\u001b[39;49m\u001b[43mpopenargs\u001b[49m\u001b[43m,\u001b[49m\u001b[43m \u001b[49m\u001b[38;5;241;43m*\u001b[39;49m\u001b[38;5;241;43m*\u001b[39;49m\u001b[43mkwargs\u001b[49m\u001b[43m)\u001b[49m \u001b[38;5;28;01mas\u001b[39;00m process:\n\u001b[0;32m    549\u001b[0m     \u001b[38;5;28;01mtry\u001b[39;00m:\n",
      "File \u001b[1;32mC:\\Program Files\\WindowsApps\\PythonSoftwareFoundation.Python.3.11_3.11.2544.0_x64__qbz5n2kfra8p0\\Lib\\subprocess.py:1026\u001b[0m, in \u001b[0;36mPopen.__init__\u001b[1;34m(self, args, bufsize, executable, stdin, stdout, stderr, preexec_fn, close_fds, shell, cwd, env, universal_newlines, startupinfo, creationflags, restore_signals, start_new_session, pass_fds, user, group, extra_groups, encoding, errors, text, umask, pipesize, process_group)\u001b[0m\n\u001b[0;32m   1023\u001b[0m             \u001b[38;5;28mself\u001b[39m\u001b[38;5;241m.\u001b[39mstderr \u001b[38;5;241m=\u001b[39m io\u001b[38;5;241m.\u001b[39mTextIOWrapper(\u001b[38;5;28mself\u001b[39m\u001b[38;5;241m.\u001b[39mstderr,\n\u001b[0;32m   1024\u001b[0m                     encoding\u001b[38;5;241m=\u001b[39mencoding, errors\u001b[38;5;241m=\u001b[39merrors)\n\u001b[1;32m-> 1026\u001b[0m     \u001b[38;5;28;43mself\u001b[39;49m\u001b[38;5;241;43m.\u001b[39;49m\u001b[43m_execute_child\u001b[49m\u001b[43m(\u001b[49m\u001b[43margs\u001b[49m\u001b[43m,\u001b[49m\u001b[43m \u001b[49m\u001b[43mexecutable\u001b[49m\u001b[43m,\u001b[49m\u001b[43m \u001b[49m\u001b[43mpreexec_fn\u001b[49m\u001b[43m,\u001b[49m\u001b[43m \u001b[49m\u001b[43mclose_fds\u001b[49m\u001b[43m,\u001b[49m\n\u001b[0;32m   1027\u001b[0m \u001b[43m                        \u001b[49m\u001b[43mpass_fds\u001b[49m\u001b[43m,\u001b[49m\u001b[43m \u001b[49m\u001b[43mcwd\u001b[49m\u001b[43m,\u001b[49m\u001b[43m \u001b[49m\u001b[43menv\u001b[49m\u001b[43m,\u001b[49m\n\u001b[0;32m   1028\u001b[0m \u001b[43m                        \u001b[49m\u001b[43mstartupinfo\u001b[49m\u001b[43m,\u001b[49m\u001b[43m \u001b[49m\u001b[43mcreationflags\u001b[49m\u001b[43m,\u001b[49m\u001b[43m \u001b[49m\u001b[43mshell\u001b[49m\u001b[43m,\u001b[49m\n\u001b[0;32m   1029\u001b[0m \u001b[43m                        \u001b[49m\u001b[43mp2cread\u001b[49m\u001b[43m,\u001b[49m\u001b[43m \u001b[49m\u001b[43mp2cwrite\u001b[49m\u001b[43m,\u001b[49m\n\u001b[0;32m   1030\u001b[0m \u001b[43m                        \u001b[49m\u001b[43mc2pread\u001b[49m\u001b[43m,\u001b[49m\u001b[43m \u001b[49m\u001b[43mc2pwrite\u001b[49m\u001b[43m,\u001b[49m\n\u001b[0;32m   1031\u001b[0m \u001b[43m                        \u001b[49m\u001b[43merrread\u001b[49m\u001b[43m,\u001b[49m\u001b[43m \u001b[49m\u001b[43merrwrite\u001b[49m\u001b[43m,\u001b[49m\n\u001b[0;32m   1032\u001b[0m \u001b[43m                        \u001b[49m\u001b[43mrestore_signals\u001b[49m\u001b[43m,\u001b[49m\n\u001b[0;32m   1033\u001b[0m \u001b[43m                        \u001b[49m\u001b[43mgid\u001b[49m\u001b[43m,\u001b[49m\u001b[43m \u001b[49m\u001b[43mgids\u001b[49m\u001b[43m,\u001b[49m\u001b[43m \u001b[49m\u001b[43muid\u001b[49m\u001b[43m,\u001b[49m\u001b[43m \u001b[49m\u001b[43mumask\u001b[49m\u001b[43m,\u001b[49m\n\u001b[0;32m   1034\u001b[0m \u001b[43m                        \u001b[49m\u001b[43mstart_new_session\u001b[49m\u001b[43m,\u001b[49m\u001b[43m \u001b[49m\u001b[43mprocess_group\u001b[49m\u001b[43m)\u001b[49m\n\u001b[0;32m   1035\u001b[0m \u001b[38;5;28;01mexcept\u001b[39;00m:\n\u001b[0;32m   1036\u001b[0m     \u001b[38;5;66;03m# Cleanup if the child failed starting.\u001b[39;00m\n",
      "File \u001b[1;32mC:\\Program Files\\WindowsApps\\PythonSoftwareFoundation.Python.3.11_3.11.2544.0_x64__qbz5n2kfra8p0\\Lib\\subprocess.py:1538\u001b[0m, in \u001b[0;36mPopen._execute_child\u001b[1;34m(self, args, executable, preexec_fn, close_fds, pass_fds, cwd, env, startupinfo, creationflags, shell, p2cread, p2cwrite, c2pread, c2pwrite, errread, errwrite, unused_restore_signals, unused_gid, unused_gids, unused_uid, unused_umask, unused_start_new_session, unused_process_group)\u001b[0m\n\u001b[0;32m   1537\u001b[0m \u001b[38;5;28;01mtry\u001b[39;00m:\n\u001b[1;32m-> 1538\u001b[0m     hp, ht, pid, tid \u001b[38;5;241m=\u001b[39m \u001b[43m_winapi\u001b[49m\u001b[38;5;241;43m.\u001b[39;49m\u001b[43mCreateProcess\u001b[49m\u001b[43m(\u001b[49m\u001b[43mexecutable\u001b[49m\u001b[43m,\u001b[49m\u001b[43m \u001b[49m\u001b[43margs\u001b[49m\u001b[43m,\u001b[49m\n\u001b[0;32m   1539\u001b[0m \u001b[43m                             \u001b[49m\u001b[38;5;66;43;03m# no special security\u001b[39;49;00m\n\u001b[0;32m   1540\u001b[0m \u001b[43m                             \u001b[49m\u001b[38;5;28;43;01mNone\u001b[39;49;00m\u001b[43m,\u001b[49m\u001b[43m \u001b[49m\u001b[38;5;28;43;01mNone\u001b[39;49;00m\u001b[43m,\u001b[49m\n\u001b[0;32m   1541\u001b[0m \u001b[43m                             \u001b[49m\u001b[38;5;28;43mint\u001b[39;49m\u001b[43m(\u001b[49m\u001b[38;5;129;43;01mnot\u001b[39;49;00m\u001b[43m \u001b[49m\u001b[43mclose_fds\u001b[49m\u001b[43m)\u001b[49m\u001b[43m,\u001b[49m\n\u001b[0;32m   1542\u001b[0m \u001b[43m                             \u001b[49m\u001b[43mcreationflags\u001b[49m\u001b[43m,\u001b[49m\n\u001b[0;32m   1543\u001b[0m \u001b[43m                             \u001b[49m\u001b[43menv\u001b[49m\u001b[43m,\u001b[49m\n\u001b[0;32m   1544\u001b[0m \u001b[43m                             \u001b[49m\u001b[43mcwd\u001b[49m\u001b[43m,\u001b[49m\n\u001b[0;32m   1545\u001b[0m \u001b[43m                             \u001b[49m\u001b[43mstartupinfo\u001b[49m\u001b[43m)\u001b[49m\n\u001b[0;32m   1546\u001b[0m \u001b[38;5;28;01mfinally\u001b[39;00m:\n\u001b[0;32m   1547\u001b[0m     \u001b[38;5;66;03m# Child is launched. Close the parent's copy of those pipe\u001b[39;00m\n\u001b[0;32m   1548\u001b[0m     \u001b[38;5;66;03m# handles that only the child should have open.  You need\u001b[39;00m\n\u001b[1;32m   (...)\u001b[0m\n\u001b[0;32m   1551\u001b[0m     \u001b[38;5;66;03m# pipe will not close when the child process exits and the\u001b[39;00m\n\u001b[0;32m   1552\u001b[0m     \u001b[38;5;66;03m# ReadFile will hang.\u001b[39;00m\n",
      "\u001b[1;31mFileNotFoundError\u001b[0m: [WinError 2] El sistema no puede encontrar el archivo especificado",
      "\nThe above exception was the direct cause of the following exception:\n",
      "\u001b[1;31mExecutableNotFound\u001b[0m                        Traceback (most recent call last)",
      "Cell \u001b[1;32mIn[5], line 13\u001b[0m\n\u001b[0;32m     10\u001b[0m dot\u001b[38;5;241m.\u001b[39medge(\u001b[38;5;124m'\u001b[39m\u001b[38;5;124mCategories\u001b[39m\u001b[38;5;124m'\u001b[39m, \u001b[38;5;124m'\u001b[39m\u001b[38;5;124mBusiness\u001b[39m\u001b[38;5;124m'\u001b[39m, label\u001b[38;5;241m=\u001b[39m\u001b[38;5;124m'\u001b[39m\u001b[38;5;124mbelongs to\u001b[39m\u001b[38;5;124m'\u001b[39m)\n\u001b[0;32m     11\u001b[0m dot\u001b[38;5;241m.\u001b[39medge(\u001b[38;5;124m'\u001b[39m\u001b[38;5;124mCheckin\u001b[39m\u001b[38;5;124m'\u001b[39m, \u001b[38;5;124m'\u001b[39m\u001b[38;5;124mBusiness\u001b[39m\u001b[38;5;124m'\u001b[39m, label\u001b[38;5;241m=\u001b[39m\u001b[38;5;124m'\u001b[39m\u001b[38;5;124mrecords visit\u001b[39m\u001b[38;5;124m'\u001b[39m)\n\u001b[1;32m---> 13\u001b[0m \u001b[43mdot\u001b[49m\u001b[38;5;241;43m.\u001b[39;49m\u001b[43mrender\u001b[49m\u001b[43m(\u001b[49m\u001b[38;5;124;43m'\u001b[39;49m\u001b[38;5;124;43mDER_Yelp\u001b[39;49m\u001b[38;5;124;43m'\u001b[39;49m\u001b[43m,\u001b[49m\u001b[43m \u001b[49m\u001b[38;5;28;43mformat\u001b[39;49m\u001b[38;5;241;43m=\u001b[39;49m\u001b[38;5;124;43m'\u001b[39;49m\u001b[38;5;124;43mpng\u001b[39;49m\u001b[38;5;124;43m'\u001b[39;49m\u001b[43m,\u001b[49m\u001b[43m \u001b[49m\u001b[43mcleanup\u001b[49m\u001b[38;5;241;43m=\u001b[39;49m\u001b[38;5;28;43;01mFalse\u001b[39;49;00m\u001b[43m)\u001b[49m  \u001b[38;5;66;03m# Guarda como PNG\u001b[39;00m\n\u001b[0;32m     15\u001b[0m dot\n",
      "File \u001b[1;32m~\\AppData\\Local\\Packages\\PythonSoftwareFoundation.Python.3.11_qbz5n2kfra8p0\\LocalCache\\local-packages\\Python311\\site-packages\\graphviz\\_tools.py:171\u001b[0m, in \u001b[0;36mdeprecate_positional_args.<locals>.decorator.<locals>.wrapper\u001b[1;34m(*args, **kwargs)\u001b[0m\n\u001b[0;32m    162\u001b[0m     wanted \u001b[38;5;241m=\u001b[39m \u001b[38;5;124m'\u001b[39m\u001b[38;5;124m, \u001b[39m\u001b[38;5;124m'\u001b[39m\u001b[38;5;241m.\u001b[39mjoin(\u001b[38;5;124mf\u001b[39m\u001b[38;5;124m'\u001b[39m\u001b[38;5;132;01m{\u001b[39;00mname\u001b[38;5;132;01m}\u001b[39;00m\u001b[38;5;124m=\u001b[39m\u001b[38;5;132;01m{\u001b[39;00mvalue\u001b[38;5;132;01m!r}\u001b[39;00m\u001b[38;5;124m'\u001b[39m\n\u001b[0;32m    163\u001b[0m                        \u001b[38;5;28;01mfor\u001b[39;00m name, value \u001b[38;5;129;01min\u001b[39;00m deprecated\u001b[38;5;241m.\u001b[39mitems())\n\u001b[0;32m    164\u001b[0m     warnings\u001b[38;5;241m.\u001b[39mwarn(\u001b[38;5;124mf\u001b[39m\u001b[38;5;124m'\u001b[39m\u001b[38;5;124mThe signature of \u001b[39m\u001b[38;5;132;01m{\u001b[39;00mfunc\u001b[38;5;241m.\u001b[39m\u001b[38;5;18m__name__\u001b[39m\u001b[38;5;132;01m}\u001b[39;00m\u001b[38;5;124m will be reduced\u001b[39m\u001b[38;5;124m'\u001b[39m\n\u001b[0;32m    165\u001b[0m                   \u001b[38;5;124mf\u001b[39m\u001b[38;5;124m'\u001b[39m\u001b[38;5;124m to \u001b[39m\u001b[38;5;132;01m{\u001b[39;00msupported_number\u001b[38;5;132;01m}\u001b[39;00m\u001b[38;5;124m positional args\u001b[39m\u001b[38;5;124m'\u001b[39m\n\u001b[0;32m    166\u001b[0m                   \u001b[38;5;124mf\u001b[39m\u001b[38;5;124m'\u001b[39m\u001b[38;5;124m \u001b[39m\u001b[38;5;132;01m{\u001b[39;00m\u001b[38;5;28mlist\u001b[39m(supported)\u001b[38;5;132;01m}\u001b[39;00m\u001b[38;5;124m: pass \u001b[39m\u001b[38;5;132;01m{\u001b[39;00mwanted\u001b[38;5;132;01m}\u001b[39;00m\u001b[38;5;124m'\u001b[39m\n\u001b[0;32m    167\u001b[0m                   \u001b[38;5;124m'\u001b[39m\u001b[38;5;124m as keyword arg(s)\u001b[39m\u001b[38;5;124m'\u001b[39m,\n\u001b[0;32m    168\u001b[0m                   stacklevel\u001b[38;5;241m=\u001b[39mstacklevel,\n\u001b[0;32m    169\u001b[0m                   category\u001b[38;5;241m=\u001b[39mcategory)\n\u001b[1;32m--> 171\u001b[0m \u001b[38;5;28;01mreturn\u001b[39;00m \u001b[43mfunc\u001b[49m\u001b[43m(\u001b[49m\u001b[38;5;241;43m*\u001b[39;49m\u001b[43margs\u001b[49m\u001b[43m,\u001b[49m\u001b[43m \u001b[49m\u001b[38;5;241;43m*\u001b[39;49m\u001b[38;5;241;43m*\u001b[39;49m\u001b[43mkwargs\u001b[49m\u001b[43m)\u001b[49m\n",
      "File \u001b[1;32m~\\AppData\\Local\\Packages\\PythonSoftwareFoundation.Python.3.11_qbz5n2kfra8p0\\LocalCache\\local-packages\\Python311\\site-packages\\graphviz\\rendering.py:122\u001b[0m, in \u001b[0;36mRender.render\u001b[1;34m(self, filename, directory, view, cleanup, format, renderer, formatter, neato_no_op, quiet, quiet_view, outfile, engine, raise_if_result_exists, overwrite_source)\u001b[0m\n\u001b[0;32m    118\u001b[0m filepath \u001b[38;5;241m=\u001b[39m \u001b[38;5;28mself\u001b[39m\u001b[38;5;241m.\u001b[39msave(filename, directory\u001b[38;5;241m=\u001b[39mdirectory, skip_existing\u001b[38;5;241m=\u001b[39m\u001b[38;5;28;01mNone\u001b[39;00m)\n\u001b[0;32m    120\u001b[0m args\u001b[38;5;241m.\u001b[39mappend(filepath)\n\u001b[1;32m--> 122\u001b[0m rendered \u001b[38;5;241m=\u001b[39m \u001b[38;5;28;43mself\u001b[39;49m\u001b[38;5;241;43m.\u001b[39;49m\u001b[43m_render\u001b[49m\u001b[43m(\u001b[49m\u001b[38;5;241;43m*\u001b[39;49m\u001b[43margs\u001b[49m\u001b[43m,\u001b[49m\u001b[43m \u001b[49m\u001b[38;5;241;43m*\u001b[39;49m\u001b[38;5;241;43m*\u001b[39;49m\u001b[43mkwargs\u001b[49m\u001b[43m)\u001b[49m\n\u001b[0;32m    124\u001b[0m \u001b[38;5;28;01mif\u001b[39;00m cleanup:\n\u001b[0;32m    125\u001b[0m     log\u001b[38;5;241m.\u001b[39mdebug(\u001b[38;5;124m'\u001b[39m\u001b[38;5;124mdelete \u001b[39m\u001b[38;5;132;01m%r\u001b[39;00m\u001b[38;5;124m'\u001b[39m, filepath)\n",
      "File \u001b[1;32m~\\AppData\\Local\\Packages\\PythonSoftwareFoundation.Python.3.11_qbz5n2kfra8p0\\LocalCache\\local-packages\\Python311\\site-packages\\graphviz\\_tools.py:171\u001b[0m, in \u001b[0;36mdeprecate_positional_args.<locals>.decorator.<locals>.wrapper\u001b[1;34m(*args, **kwargs)\u001b[0m\n\u001b[0;32m    162\u001b[0m     wanted \u001b[38;5;241m=\u001b[39m \u001b[38;5;124m'\u001b[39m\u001b[38;5;124m, \u001b[39m\u001b[38;5;124m'\u001b[39m\u001b[38;5;241m.\u001b[39mjoin(\u001b[38;5;124mf\u001b[39m\u001b[38;5;124m'\u001b[39m\u001b[38;5;132;01m{\u001b[39;00mname\u001b[38;5;132;01m}\u001b[39;00m\u001b[38;5;124m=\u001b[39m\u001b[38;5;132;01m{\u001b[39;00mvalue\u001b[38;5;132;01m!r}\u001b[39;00m\u001b[38;5;124m'\u001b[39m\n\u001b[0;32m    163\u001b[0m                        \u001b[38;5;28;01mfor\u001b[39;00m name, value \u001b[38;5;129;01min\u001b[39;00m deprecated\u001b[38;5;241m.\u001b[39mitems())\n\u001b[0;32m    164\u001b[0m     warnings\u001b[38;5;241m.\u001b[39mwarn(\u001b[38;5;124mf\u001b[39m\u001b[38;5;124m'\u001b[39m\u001b[38;5;124mThe signature of \u001b[39m\u001b[38;5;132;01m{\u001b[39;00mfunc\u001b[38;5;241m.\u001b[39m\u001b[38;5;18m__name__\u001b[39m\u001b[38;5;132;01m}\u001b[39;00m\u001b[38;5;124m will be reduced\u001b[39m\u001b[38;5;124m'\u001b[39m\n\u001b[0;32m    165\u001b[0m                   \u001b[38;5;124mf\u001b[39m\u001b[38;5;124m'\u001b[39m\u001b[38;5;124m to \u001b[39m\u001b[38;5;132;01m{\u001b[39;00msupported_number\u001b[38;5;132;01m}\u001b[39;00m\u001b[38;5;124m positional args\u001b[39m\u001b[38;5;124m'\u001b[39m\n\u001b[0;32m    166\u001b[0m                   \u001b[38;5;124mf\u001b[39m\u001b[38;5;124m'\u001b[39m\u001b[38;5;124m \u001b[39m\u001b[38;5;132;01m{\u001b[39;00m\u001b[38;5;28mlist\u001b[39m(supported)\u001b[38;5;132;01m}\u001b[39;00m\u001b[38;5;124m: pass \u001b[39m\u001b[38;5;132;01m{\u001b[39;00mwanted\u001b[38;5;132;01m}\u001b[39;00m\u001b[38;5;124m'\u001b[39m\n\u001b[0;32m    167\u001b[0m                   \u001b[38;5;124m'\u001b[39m\u001b[38;5;124m as keyword arg(s)\u001b[39m\u001b[38;5;124m'\u001b[39m,\n\u001b[0;32m    168\u001b[0m                   stacklevel\u001b[38;5;241m=\u001b[39mstacklevel,\n\u001b[0;32m    169\u001b[0m                   category\u001b[38;5;241m=\u001b[39mcategory)\n\u001b[1;32m--> 171\u001b[0m \u001b[38;5;28;01mreturn\u001b[39;00m \u001b[43mfunc\u001b[49m\u001b[43m(\u001b[49m\u001b[38;5;241;43m*\u001b[39;49m\u001b[43margs\u001b[49m\u001b[43m,\u001b[49m\u001b[43m \u001b[49m\u001b[38;5;241;43m*\u001b[39;49m\u001b[38;5;241;43m*\u001b[39;49m\u001b[43mkwargs\u001b[49m\u001b[43m)\u001b[49m\n",
      "File \u001b[1;32m~\\AppData\\Local\\Packages\\PythonSoftwareFoundation.Python.3.11_qbz5n2kfra8p0\\LocalCache\\local-packages\\Python311\\site-packages\\graphviz\\backend\\rendering.py:326\u001b[0m, in \u001b[0;36mrender\u001b[1;34m(engine, format, filepath, renderer, formatter, neato_no_op, quiet, outfile, raise_if_result_exists, overwrite_filepath)\u001b[0m\n\u001b[0;32m    322\u001b[0m cmd \u001b[38;5;241m+\u001b[39m\u001b[38;5;241m=\u001b[39m args\n\u001b[0;32m    324\u001b[0m \u001b[38;5;28;01massert\u001b[39;00m filepath \u001b[38;5;129;01mis\u001b[39;00m \u001b[38;5;129;01mnot\u001b[39;00m \u001b[38;5;28;01mNone\u001b[39;00m, \u001b[38;5;124m'\u001b[39m\u001b[38;5;124mwork around pytype false alarm\u001b[39m\u001b[38;5;124m'\u001b[39m\n\u001b[1;32m--> 326\u001b[0m \u001b[43mexecute\u001b[49m\u001b[38;5;241;43m.\u001b[39;49m\u001b[43mrun_check\u001b[49m\u001b[43m(\u001b[49m\u001b[43mcmd\u001b[49m\u001b[43m,\u001b[49m\n\u001b[0;32m    327\u001b[0m \u001b[43m                  \u001b[49m\u001b[43mcwd\u001b[49m\u001b[38;5;241;43m=\u001b[39;49m\u001b[43mfilepath\u001b[49m\u001b[38;5;241;43m.\u001b[39;49m\u001b[43mparent\u001b[49m\u001b[43m \u001b[49m\u001b[38;5;28;43;01mif\u001b[39;49;00m\u001b[43m \u001b[49m\u001b[43mfilepath\u001b[49m\u001b[38;5;241;43m.\u001b[39;49m\u001b[43mparent\u001b[49m\u001b[38;5;241;43m.\u001b[39;49m\u001b[43mparts\u001b[49m\u001b[43m \u001b[49m\u001b[38;5;28;43;01melse\u001b[39;49;00m\u001b[43m \u001b[49m\u001b[38;5;28;43;01mNone\u001b[39;49;00m\u001b[43m,\u001b[49m\n\u001b[0;32m    328\u001b[0m \u001b[43m                  \u001b[49m\u001b[43mquiet\u001b[49m\u001b[38;5;241;43m=\u001b[39;49m\u001b[43mquiet\u001b[49m\u001b[43m,\u001b[49m\n\u001b[0;32m    329\u001b[0m \u001b[43m                  \u001b[49m\u001b[43mcapture_output\u001b[49m\u001b[38;5;241;43m=\u001b[39;49m\u001b[38;5;28;43;01mTrue\u001b[39;49;00m\u001b[43m)\u001b[49m\n\u001b[0;32m    331\u001b[0m \u001b[38;5;28;01mreturn\u001b[39;00m os\u001b[38;5;241m.\u001b[39mfspath(outfile)\n",
      "File \u001b[1;32m~\\AppData\\Local\\Packages\\PythonSoftwareFoundation.Python.3.11_qbz5n2kfra8p0\\LocalCache\\local-packages\\Python311\\site-packages\\graphviz\\backend\\execute.py:81\u001b[0m, in \u001b[0;36mrun_check\u001b[1;34m(cmd, input_lines, encoding, quiet, **kwargs)\u001b[0m\n\u001b[0;32m     79\u001b[0m \u001b[38;5;28;01mexcept\u001b[39;00m \u001b[38;5;167;01mOSError\u001b[39;00m \u001b[38;5;28;01mas\u001b[39;00m e:\n\u001b[0;32m     80\u001b[0m     \u001b[38;5;28;01mif\u001b[39;00m e\u001b[38;5;241m.\u001b[39merrno \u001b[38;5;241m==\u001b[39m errno\u001b[38;5;241m.\u001b[39mENOENT:\n\u001b[1;32m---> 81\u001b[0m         \u001b[38;5;28;01mraise\u001b[39;00m ExecutableNotFound(cmd) \u001b[38;5;28;01mfrom\u001b[39;00m \u001b[38;5;21;01me\u001b[39;00m\n\u001b[0;32m     82\u001b[0m     \u001b[38;5;28;01mraise\u001b[39;00m\n\u001b[0;32m     84\u001b[0m \u001b[38;5;28;01mif\u001b[39;00m \u001b[38;5;129;01mnot\u001b[39;00m quiet \u001b[38;5;129;01mand\u001b[39;00m proc\u001b[38;5;241m.\u001b[39mstderr:\n",
      "\u001b[1;31mExecutableNotFound\u001b[0m: failed to execute WindowsPath('dot'), make sure the Graphviz executables are on your systems' PATH"
     ]
<<<<<<< HEAD
>>>>>>> 75880be813dd9c7dd37c071b50ddc8b6a4de3e39
=======
>>>>>>> 75880be813dd9c7dd37c071b50ddc8b6a4de3e39
    }
   ],
   "source": [
    "dot = Digraph('DER_Yelp')\n",
    "\n",
<<<<<<< HEAD
<<<<<<< HEAD
    "# Definición de entidades\n",
    "dot.node('Users', 'Users\\n(user_id, name, review_count, ...)', shape='box')\n",
    "dot.node('Business', 'Business\\n(business_id, name, address, city, state, stars, review_count)', shape='box')\n",
    "dot.node('Categories', 'Categories\\n(business_id, category, subcategory)', shape='box')\n",
    "dot.node('Checkin', 'Checkin\\n(business_id, date, year, month)', shape='box')\n",
    "dot.node('Reviews', 'Reviews\\n(review_id, user_id, business_id, stars, text, date)', shape='box')\n",
    "dot.node('Tips', 'Tips\\n(user_id, business_id, text, date, likes)', shape='box')\n",
    "\n",
    "# Definición de relaciones\n",
    "dot.edge('Users', 'Reviews', label='writes')\n",
    "dot.edge('Users', 'Tips', label='gives')\n",
    "dot.edge('Reviews', 'Business', label='reviews')\n",
    "dot.edge('Tips', 'Business', label='tips about')\n",
    "dot.edge('Categories', 'Business', label='belongs to')\n",
    "dot.edge('Checkin', 'Business', label='records visit')\n",
    "\n",
    "# Guardar el diagrama como PNG\n",
    "dot.render('DER_Yelp', format='png', cleanup=False)"
   ]
  },
  {
   "cell_type": "code",
   "execution_count": 22,
   "metadata": {},
   "outputs": [
    {
     "data": {
      "image/svg+xml": [
       "<?xml version=\"1.0\" encoding=\"UTF-8\" standalone=\"no\"?>\n",
       "<!DOCTYPE svg PUBLIC \"-//W3C//DTD SVG 1.1//EN\"\n",
       " \"http://www.w3.org/Graphics/SVG/1.1/DTD/svg11.dtd\">\n",
       "<!-- Generated by graphviz version 12.2.1 (20241206.2353)\n",
       " -->\n",
       "<!-- Title: DER_Yelp Pages: 1 -->\n",
       "<svg width=\"979pt\" height=\"236pt\"\n",
       " viewBox=\"0.00 0.00 978.75 236.00\" xmlns=\"http://www.w3.org/2000/svg\" xmlns:xlink=\"http://www.w3.org/1999/xlink\">\n",
       "<g id=\"graph0\" class=\"graph\" transform=\"scale(1 1) rotate(0) translate(4 232)\">\n",
       "<title>DER_Yelp</title>\n",
       "<polygon fill=\"white\" stroke=\"none\" points=\"-4,4 -4,-232 974.75,-232 974.75,4 -4,4\"/>\n",
       "<!-- Users -->\n",
       "<g id=\"node1\" class=\"node\">\n",
       "<title>Users</title>\n",
       "<polygon fill=\"none\" stroke=\"black\" points=\"380.38,-228 178.38,-228 178.38,-187 380.38,-187 380.38,-228\"/>\n",
       "<text text-anchor=\"middle\" x=\"279.38\" y=\"-210.7\" font-family=\"Times New Roman,serif\" font-size=\"14.00\">Users</text>\n",
       "<text text-anchor=\"middle\" x=\"279.38\" y=\"-194.2\" font-family=\"Times New Roman,serif\" font-size=\"14.00\">(user_id, name, review_count, ...)</text>\n",
       "</g>\n",
       "<!-- Reviews -->\n",
       "<g id=\"node5\" class=\"node\">\n",
       "<title>Reviews</title>\n",
       "<polygon fill=\"none\" stroke=\"black\" points=\"286.75,-134.5 0,-134.5 0,-93.5 286.75,-93.5 286.75,-134.5\"/>\n",
       "<text text-anchor=\"middle\" x=\"143.38\" y=\"-117.2\" font-family=\"Times New Roman,serif\" font-size=\"14.00\">Reviews</text>\n",
       "<text text-anchor=\"middle\" x=\"143.38\" y=\"-100.7\" font-family=\"Times New Roman,serif\" font-size=\"14.00\">(review_id, user_id, business_id, stars, text, date)</text>\n",
       "</g>\n",
       "<!-- Users&#45;&gt;Reviews -->\n",
       "<g id=\"edge1\" class=\"edge\">\n",
       "<title>Users&#45;&gt;Reviews</title>\n",
       "<path fill=\"none\" stroke=\"black\" d=\"M249.87,-186.65C230.08,-173.34 203.82,-155.67 182.33,-141.21\"/>\n",
       "<polygon fill=\"black\" stroke=\"black\" points=\"184.33,-138.34 174.08,-135.66 180.43,-144.15 184.33,-138.34\"/>\n",
       "<text text-anchor=\"middle\" x=\"240.06\" y=\"-155.7\" font-family=\"Times New Roman,serif\" font-size=\"14.00\">writes</text>\n",
       "</g>\n",
       "<!-- Tips -->\n",
       "<g id=\"node6\" class=\"node\">\n",
       "<title>Tips</title>\n",
       "<polygon fill=\"none\" stroke=\"black\" points=\"530.38,-134.5 304.38,-134.5 304.38,-93.5 530.38,-93.5 530.38,-134.5\"/>\n",
       "<text text-anchor=\"middle\" x=\"417.38\" y=\"-117.2\" font-family=\"Times New Roman,serif\" font-size=\"14.00\">Tips</text>\n",
       "<text text-anchor=\"middle\" x=\"417.38\" y=\"-100.7\" font-family=\"Times New Roman,serif\" font-size=\"14.00\">(user_id, business_id, text, date, likes)</text>\n",
       "</g>\n",
       "<!-- Users&#45;&gt;Tips -->\n",
       "<g id=\"edge2\" class=\"edge\">\n",
       "<title>Users&#45;&gt;Tips</title>\n",
       "<path fill=\"none\" stroke=\"black\" d=\"M309.32,-186.65C329.48,-173.28 356.28,-155.51 378.14,-141.01\"/>\n",
       "<polygon fill=\"black\" stroke=\"black\" points=\"379.83,-144.09 386.23,-135.65 375.96,-138.26 379.83,-144.09\"/>\n",
       "<text text-anchor=\"middle\" x=\"374.99\" y=\"-155.7\" font-family=\"Times New Roman,serif\" font-size=\"14.00\">gives</text>\n",
       "</g>\n",
       "<!-- Business -->\n",
       "<g id=\"node2\" class=\"node\">\n",
       "<title>Business</title>\n",
       "<polygon fill=\"none\" stroke=\"black\" points=\"709.38,-41 363.38,-41 363.38,0 709.38,0 709.38,-41\"/>\n",
       "<text text-anchor=\"middle\" x=\"536.38\" y=\"-23.7\" font-family=\"Times New Roman,serif\" font-size=\"14.00\">Business</text>\n",
       "<text text-anchor=\"middle\" x=\"536.38\" y=\"-7.2\" font-family=\"Times New Roman,serif\" font-size=\"14.00\">(business_id, name, address, city, state, stars, review_count)</text>\n",
       "</g>\n",
       "<!-- Categories -->\n",
       "<g id=\"node3\" class=\"node\">\n",
       "<title>Categories</title>\n",
       "<polygon fill=\"none\" stroke=\"black\" points=\"762.38,-134.5 548.38,-134.5 548.38,-93.5 762.38,-93.5 762.38,-134.5\"/>\n",
       "<text text-anchor=\"middle\" x=\"655.38\" y=\"-117.2\" font-family=\"Times New Roman,serif\" font-size=\"14.00\">Categories</text>\n",
       "<text text-anchor=\"middle\" x=\"655.38\" y=\"-100.7\" font-family=\"Times New Roman,serif\" font-size=\"14.00\">(business_id, category, subcategory)</text>\n",
       "</g>\n",
       "<!-- Categories&#45;&gt;Business -->\n",
       "<g id=\"edge5\" class=\"edge\">\n",
       "<title>Categories&#45;&gt;Business</title>\n",
       "<path fill=\"none\" stroke=\"black\" d=\"M629.55,-93.15C612.48,-80.02 589.89,-62.64 571.22,-48.29\"/>\n",
       "<polygon fill=\"black\" stroke=\"black\" points=\"573.41,-45.56 563.35,-42.24 569.14,-51.11 573.41,-45.56\"/>\n",
       "<text text-anchor=\"middle\" x=\"634.66\" y=\"-62.2\" font-family=\"Times New Roman,serif\" font-size=\"14.00\">belongs to</text>\n",
       "</g>\n",
       "<!-- Checkin -->\n",
       "<g id=\"node4\" class=\"node\">\n",
       "<title>Checkin</title>\n",
       "<polygon fill=\"none\" stroke=\"black\" points=\"970.75,-134.5 780,-134.5 780,-93.5 970.75,-93.5 970.75,-134.5\"/>\n",
       "<text text-anchor=\"middle\" x=\"875.38\" y=\"-117.2\" font-family=\"Times New Roman,serif\" font-size=\"14.00\">Checkin</text>\n",
       "<text text-anchor=\"middle\" x=\"875.38\" y=\"-100.7\" font-family=\"Times New Roman,serif\" font-size=\"14.00\">(business_id, date, year, month)</text>\n",
       "</g>\n",
       "<!-- Checkin&#45;&gt;Business -->\n",
       "<g id=\"edge6\" class=\"edge\">\n",
       "<title>Checkin&#45;&gt;Business</title>\n",
       "<path fill=\"none\" stroke=\"black\" d=\"M801.4,-93.03C748.25,-78.69 676.5,-59.32 621.05,-44.36\"/>\n",
       "<polygon fill=\"black\" stroke=\"black\" points=\"622.22,-41.05 611.65,-41.82 620.4,-47.8 622.22,-41.05\"/>\n",
       "<text text-anchor=\"middle\" x=\"769.61\" y=\"-62.2\" font-family=\"Times New Roman,serif\" font-size=\"14.00\">records visit</text>\n",
       "</g>\n",
       "<!-- Reviews&#45;&gt;Business -->\n",
       "<g id=\"edge3\" class=\"edge\">\n",
       "<title>Reviews&#45;&gt;Business</title>\n",
       "<path fill=\"none\" stroke=\"black\" d=\"M229.13,-93.03C291.26,-78.57 375.32,-59 439.81,-43.98\"/>\n",
       "<polygon fill=\"black\" stroke=\"black\" points=\"440.38,-47.44 449.32,-41.77 438.79,-40.63 440.38,-47.44\"/>\n",
       "<text text-anchor=\"middle\" x=\"396.08\" y=\"-62.2\" font-family=\"Times New Roman,serif\" font-size=\"14.00\">reviews</text>\n",
       "</g>\n",
       "<!-- Tips&#45;&gt;Business -->\n",
       "<g id=\"edge4\" class=\"edge\">\n",
       "<title>Tips&#45;&gt;Business</title>\n",
       "<path fill=\"none\" stroke=\"black\" d=\"M443.2,-93.15C460.27,-80.02 482.86,-62.64 501.53,-48.29\"/>\n",
       "<polygon fill=\"black\" stroke=\"black\" points=\"503.61,-51.11 509.4,-42.24 499.34,-45.56 503.61,-51.11\"/>\n",
       "<text text-anchor=\"middle\" x=\"514.16\" y=\"-62.2\" font-family=\"Times New Roman,serif\" font-size=\"14.00\">tips about</text>\n",
       "</g>\n",
       "</g>\n",
       "</svg>\n"
      ],
      "text/plain": [
       "<graphviz.graphs.Digraph at 0x22334b5fb10>"
      ]
     },
     "execution_count": 22,
     "metadata": {},
     "output_type": "execute_result"
    }
   ],
   "source": [
=======
=======
>>>>>>> 75880be813dd9c7dd37c071b50ddc8b6a4de3e39
    "dot.node('Users', 'Users\\n(user_id, name, review_count, ...)', shape='box')\n",
    "dot.node('Business', 'Business\\n(business_id)', shape='box')\n",
    "dot.node('Categories', 'Categories\\n(business_id, category, subcategory)', shape='box')\n",
    "dot.node('Checkin', 'Checkin\\n(business_id, date, year, month)', shape='box')\n",
    "\n",
    "# Relaciones\n",
    "\n",
    "dot.edge('Categories', 'Business', label='belongs to')\n",
    "dot.edge('Checkin', 'Business', label='records visit')\n",
    "\n",
    "dot.render('DER_Yelp', format='png', cleanup=False)  # Guarda como PNG\n",
    "\n",
<<<<<<< HEAD
>>>>>>> 75880be813dd9c7dd37c071b50ddc8b6a4de3e39
=======
>>>>>>> 75880be813dd9c7dd37c071b50ddc8b6a4de3e39
    "dot"
   ]
  }
 ],
 "metadata": {
  "kernelspec": {
   "display_name": "Python 3",
   "language": "python",
   "name": "python3"
  },
  "language_info": {
   "codemirror_mode": {
    "name": "ipython",
    "version": 3
   },
   "file_extension": ".py",
   "mimetype": "text/x-python",
   "name": "python",
   "nbconvert_exporter": "python",
   "pygments_lexer": "ipython3",
   "version": "3.11.9"
  }
 },
 "nbformat": 4,
 "nbformat_minor": 2
}
